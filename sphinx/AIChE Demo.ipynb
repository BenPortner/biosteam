{
 "cells": [
  {
   "cell_type": "markdown",
   "metadata": {},
   "source": [
    "# Tutorial"
   ]
  },
  {
   "cell_type": "markdown",
   "metadata": {},
   "source": [
    "### Process modeing in BioSTEAM is simple and transparent."
   ]
  },
  {
   "cell_type": "markdown",
   "metadata": {},
   "source": [
    "To get started, the first step is to specify the working species for all streams:"
   ]
  },
  {
   "cell_type": "code",
   "execution_count": 1,
   "metadata": {},
   "outputs": [],
   "source": [
    "from biosteam import Species, Stream\n",
    "Stream.species = Species('Ethanol', 'Water') "
   ]
  },
  {
   "cell_type": "markdown",
   "metadata": {},
   "source": [
    "Create a stream passing an ID, flow rates, phase, temperature and pressure:"
   ]
  },
  {
   "cell_type": "code",
   "execution_count": 2,
   "metadata": {},
   "outputs": [
    {
     "name": "stdout",
     "output_type": "stream",
     "text": [
      "Stream: s1\n",
      " phase: 'l', T: 300.00 K, P: 101325 Pa\n",
      " mol (kmol/hr): Ethanol   1\n",
      "                Water     2\n"
     ]
    }
   ],
   "source": [
    "s1 = Stream(ID='s1', flow=[1, 2], T=300, P=101325)\n",
    "s1.show()"
   ]
  },
  {
   "cell_type": "markdown",
   "metadata": {},
   "source": [
    "Preformulated unit classes require an ID, IDs for output streams, and any key word arguments specific to the Unit:"
   ]
  },
  {
   "cell_type": "code",
   "execution_count": 3,
   "metadata": {},
   "outputs": [],
   "source": [
    "from biosteam.Units import Flash\n",
    "F1 = Flash('F1', ['vapor', 'liquid'], V=0.5, P=101325)"
   ]
  },
  {
   "cell_type": "markdown",
   "metadata": {},
   "source": [
    "Set the input streams, and check connections as a Graphviz diagram:"
   ]
  },
  {
   "cell_type": "code",
   "execution_count": 4,
   "metadata": {},
   "outputs": [
    {
     "data": {
      "image/svg+xml": [
       "<svg height=\"173pt\" viewBox=\"0.00 0.00 338.00 173.00\" width=\"338pt\" xmlns=\"http://www.w3.org/2000/svg\" xmlns:xlink=\"http://www.w3.org/1999/xlink\">\n",
       "<g class=\"graph\" id=\"graph0\" transform=\"scale(1 1) rotate(0) translate(4 169)\">\n",
       "<title>unit</title>\n",
       "<polygon fill=\"white\" points=\"-4,4 -4,-169 334,-169 334,4 -4,4\" stroke=\"none\"/>\n",
       "<!-- F1\n",
       "Flash&#45;&gt;vapor -->\n",
       "<g class=\"edge\" id=\"edge2\"><title>F1\n",
       "Flash:n-&gt;vapor:w</title>\n",
       "<path d=\"M161,-123.5C161,-175.597 224.403,-143.5 276.5,-143.5\" fill=\"none\" stroke=\"black\"/>\n",
       "</g>\n",
       "<!-- F1\n",
       "Flash&#45;&gt;liquid -->\n",
       "<g class=\"edge\" id=\"edge3\"><title>F1\n",
       "Flash:s-&gt;liquid:w</title>\n",
       "<path d=\"M161,-41.5C161,10.5972 224.403,-21.5 276.5,-21.5\" fill=\"none\" stroke=\"black\"/>\n",
       "</g>\n",
       "<!-- s1&#45;&gt;F1\n",
       "Flash -->\n",
       "<g class=\"edge\" id=\"edge1\"><title>s1:e-&gt;F1\n",
       "Flash:c</title>\n",
       "<path d=\"M46.5,-82.5C72.806,-82.5 102.542,-82.5 124.976,-82.5\" fill=\"none\" stroke=\"black\"/>\n",
       "</g>\n",
       "<!-- F1\n",
       "Flash -->\n",
       "<g class=\"node\" id=\"node1\"><title>F1\n",
       "Flash</title>\n",
       "<defs>\n",
       "<linearGradient gradientUnits=\"userSpaceOnUse\" id=\"l_0\" x1=\"125\" x2=\"197\" y1=\"-82.5\" y2=\"-82.5\">\n",
       "<stop offset=\"0\" style=\"stop-color:white;stop-opacity:1.;\"/>\n",
       "<stop offset=\"1\" style=\"stop-color:#cdcdcd;stop-opacity:1.;\"/>\n",
       "</linearGradient>\n",
       "</defs>\n",
       "<polygon fill=\"url(#l_0)\" points=\"197,-122 125,-122 125,-43 197,-43 197,-122\" stroke=\"black\"/>\n",
       "<text font-family=\"Times New Roman,serif\" font-size=\"14.00\" text-anchor=\"middle\" x=\"161\" y=\"-86.3\">F1</text>\n",
       "<text font-family=\"Times New Roman,serif\" font-size=\"14.00\" text-anchor=\"middle\" x=\"161\" y=\"-71.3\">Flash</text>\n",
       "</g>\n",
       "<!-- s1 -->\n",
       "<g class=\"node\" id=\"node2\"><title>s1</title>\n",
       "<polygon fill=\"#79dae8\" points=\"28.5,-98 3.5,-98 3.5,-67 28.5,-67 28.5,-61 46.5,-82.5 28.5,-104 28.5,-98\" stroke=\"black\"/>\n",
       "<text font-family=\"Times New Roman,serif\" font-size=\"14.00\" text-anchor=\"middle\" x=\"25\" y=\"-78.8\">s1</text>\n",
       "</g>\n",
       "<!-- vapor -->\n",
       "<g class=\"node\" id=\"node3\"><title>vapor</title>\n",
       "<polygon fill=\"#79dae8\" points=\"307.5,-159 276.5,-159 276.5,-128 307.5,-128 307.5,-122 325.5,-143.5 307.5,-165 307.5,-159\" stroke=\"black\"/>\n",
       "<text font-family=\"Times New Roman,serif\" font-size=\"14.00\" text-anchor=\"middle\" x=\"301\" y=\"-139.8\">vapor</text>\n",
       "</g>\n",
       "<!-- liquid -->\n",
       "<g class=\"node\" id=\"node4\"><title>liquid</title>\n",
       "<polygon fill=\"#79dae8\" points=\"306.5,-37 277.5,-37 277.5,-6 306.5,-6 306.5,-0 324.5,-21.5 306.5,-43 306.5,-37\" stroke=\"black\"/>\n",
       "<text font-family=\"Times New Roman,serif\" font-size=\"14.00\" text-anchor=\"middle\" x=\"301\" y=\"-17.8\">liquid</text>\n",
       "</g>\n",
       "</g>\n",
       "</svg>"
      ],
      "text/plain": [
       "<IPython.core.display.SVG object>"
      ]
     },
     "metadata": {},
     "output_type": "display_data"
    }
   ],
   "source": [
    "F1.ins = s1\n",
    "F1.diagram"
   ]
  },
  {
   "cell_type": "markdown",
   "metadata": {},
   "source": [
    "Run the unit and see the results:"
   ]
  },
  {
   "cell_type": "code",
   "execution_count": 5,
   "metadata": {},
   "outputs": [
    {
     "name": "stdout",
     "output_type": "stream",
     "text": [
      "Flash: F1\n",
      "\u001b[37m\u001b[2mins...\u001b[0m\n",
      "[0] s1\n",
      " phase: 'l', T: 300.00 K, P: 101325 Pa\n",
      " mol (kmol/hr): Ethanol   1\n",
      "                Water     2\n",
      "\u001b[37m\u001b[2mouts...\u001b[0m\n",
      "[0] vapor\n",
      " phase: 'g', T: 357.20 K, P: 101325 Pa\n",
      " mol (kmol/hr): Ethanol   0.761\n",
      "                Water     0.739\n",
      "[1] liquid\n",
      " phase: 'l', T: 357.20 K, P: 101325 Pa\n",
      " mol (kmol/hr): Ethanol   0.239\n",
      "                Water     1.26\n"
     ]
    }
   ],
   "source": [
    "F1.run()\n",
    "F1.show()"
   ]
  }
 ],
 "metadata": {
  "kernelspec": {
   "display_name": "Python 3",
   "language": "python",
   "name": "python3"
  },
  "language_info": {
   "codemirror_mode": {
    "name": "ipython",
    "version": 3
   },
   "file_extension": ".py",
   "mimetype": "text/x-python",
   "name": "python",
   "nbconvert_exporter": "python",
   "pygments_lexer": "ipython3",
   "version": "3.6.5"
  }
 },
 "nbformat": 4,
 "nbformat_minor": 2
}
