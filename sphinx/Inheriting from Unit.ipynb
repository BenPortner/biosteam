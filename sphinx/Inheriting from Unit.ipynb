{
 "cells": [
  {
   "cell_type": "markdown",
   "metadata": {},
   "source": [
    "# Inheriting from Unit"
   ]
  },
  {
   "cell_type": "markdown",
   "metadata": {},
   "source": [
    "### Create a Boiler class which boils off a stream according to given vapor fraction:"
   ]
  },
  {
   "cell_type": "code",
   "execution_count": 1,
   "metadata": {},
   "outputs": [],
   "source": [
    "import biosteam as bs\n",
    "class Boiler(bs.Unit):\n",
    "    \"\"\"Create a Boiler object that partially boils feed.\n",
    "    \n",
    "    **Parameters**\n",
    "    \n",
    "        **V:** Vapor fraction\n",
    "        \n",
    "        **P:** Operating pressure (Pascal)\n",
    "    \n",
    "    **ins:**\n",
    "    \n",
    "        [0] feed\n",
    "        \n",
    "    **outs:**\n",
    "    \n",
    "        [0] vapor product\n",
    "        \n",
    "        [1] liquid product\n",
    "    \n",
    "    \"\"\"\n",
    "    \n",
    "    # [dict] Key word arguments for the __init__ method\n",
    "    #        The __init__ method will store these in a new dictionary \n",
    "    #        as an instance attribue `_kwargs` (same name)\n",
    "    _kwargs = {'V': None,\n",
    "               'P': 101325}\n",
    "    \n",
    "    # [int] Expected number of input streams\n",
    "    _N_ins = 1  \n",
    "    \n",
    "    # [int] Expected number of output streams\n",
    "    _N_outs = 2\n",
    "    \n",
    "    # [int] Number of heat utilities.\n",
    "    #       these will be created with the unit and stored in `_heat_utilities` list\n",
    "    _N_heat_utilities = 1\n",
    "    \n",
    "    # [bool] If True, a PowerUtility object is created for every instance.\n",
    "    _has_power_utility = False \n",
    "    \n",
    "    # [dict] Units for _results 'Design' items\n",
    "    _units = {'Area': 'm^2'}\n",
    "    \n",
    "    # [dict] Values should be array-like with lower and upper bounds for results dictionary.\n",
    "    _bounds = {'Area': (9.29, 743.224)}\n",
    "    \n",
    "    # [Bool] If True, `outs` will become proxy streams linked to ins.\n",
    "    #        Only use this if `outs` streams will have same specifications\n",
    "    #        (mol, T, P, and phase) as `ins` streams.\n",
    "    _has_proxystream = False\n",
    "    \n",
    "    # The _init method is called at the end of the __init__ function\n",
    "    # to initialize any additional objects related to the unit\n",
    "    def _init(self):\n",
    "        gas, liq = self.outs\n",
    "        \n",
    "        # Initialize top stream as a gas\n",
    "        gas.phase = 'g'\n",
    "        \n",
    "        # Initialize bottom stream as a liquid\n",
    "        liq.phase = 'l'\n",
    "        \n",
    "        # Initialize MixedStream object to perform vapor-liquid equilibrium later\n",
    "        self._mixedstream = bs.MixedStream('*')\n",
    "        # NOTE: Use '*' as ID to denote hidden object and prevent it from appearing in `find`\n",
    "        \n",
    "    # The _setup method is called before simulation\n",
    "    # to cache any values before simulation and check kwargs\n",
    "    def _setup(self):\n",
    "        V = self._kwargs['V'] # Key word arguments from __init__ are stored here\n",
    "        if V < 0 or V > 1:\n",
    "            raise ValueError(f'Vapor fraction must be between 0 and 1, not {V}')\n",
    "  \n",
    "    # The _run method is called during Unit simulation and/or System convergece\n",
    "    # and should only perform the necessary calculations for heat and mass balance\n",
    "    def _run(self):\n",
    "        feed = self.ins[0]\n",
    "        gas, liq = self.outs\n",
    "        ms = self._mixedstream\n",
    "        ms.liquid_mol = feed.mol\n",
    "        ms.VLE(**self._kwargs)\n",
    "        gas.mol = ms.vapor_mol\n",
    "        liq.mol = ms.liquid_mol\n",
    "        ms.vapor_mol = 0 # Resent vapor flow to prevent accumulation in multiple simulations\n",
    "        gas.T = liq.T = ms.T\n",
    "        gas.P = liq.P = ms.P\n",
    "        \n",
    "    # The _cost method is called after _run and/or System convergence \n",
    "    # and should only find design and cost requirements for the unit.\n",
    "    def _cost(self):\n",
    "        # Design and cost requirements are stored in the _results 'Design' and 'Cost' dictionaries\n",
    "        Design = self._results['Design']\n",
    "        Cost = self._results['Cost']\n",
    "        \n",
    "        # Calculate heat utility requirement (please read docs for HeatUtility objects)\n",
    "        T_operation = self._mixedstream.T\n",
    "        hu = self._heat_utilities[0] \n",
    "        duty = sum(i.H for i in self.outs) - self.ins[0].H\n",
    "        if duty < 0:\n",
    "            raise RuntimeError(f'{repr(self)} is cooling.')\n",
    "        hu(duty, T_operation)\n",
    "        \n",
    "        # Temperature of utility at entrance\n",
    "        T_utility = hu._fresh.T \n",
    "        \n",
    "        # Temeperature gradient\n",
    "        dT = T_utility - T_operation\n",
    "        \n",
    "        # Heat transfer coefficient kJ/(hr*m2*K)\n",
    "        U = 8176.699 \n",
    "        \n",
    "        # Area requirement (m^2)\n",
    "        Design['Area'] = A = duty/(U*dT)\n",
    "        \n",
    "        # Will return a warning if area too big or small.\n",
    "        self._checkbounds('Area', A) \n",
    "        \n",
    "        # Long-tube vertical boiler cost correlation from \n",
    "        # \"Product process and design\". Warren et. al. (2016) Table 22.32, pg 592\n",
    "        Cost['Boiler'] = self.CEPCI*3.086*A**0.55\n",
    "    "
   ]
  },
  {
   "cell_type": "markdown",
   "metadata": {},
   "source": [
    "### Test Boiler with a stream of water:"
   ]
  },
  {
   "cell_type": "code",
   "execution_count": 2,
   "metadata": {},
   "outputs": [
    {
     "data": {
      "image/png": "[encoded data removed]",
      "text/plain": [
       "<IPython.core.display.Image object>"
      ]
     },
     "metadata": {},
     "output_type": "display_data"
    },
    {
     "name": "stdout",
     "output_type": "stream",
     "text": [
      "Boiler: B1\n",
      "\u001b[37m\u001b[22mins...\u001b[0m\n",
      "[0] water\n",
      "    phase: 'l', T: 298.15 K, P: 101325 Pa\n",
      "    flow (kmol/hr): Water  300\n",
      "\u001b[37m\u001b[22mouts...\u001b[0m\n",
      "[0] gas\n",
      "    phase: 'g', T: 298.15 K, P: 101325 Pa\n",
      "    flow: 0\n",
      "[1] liq\n",
      "    phase: 'l', T: 298.15 K, P: 101325 Pa\n",
      "    flow: 0\n"
     ]
    }
   ],
   "source": [
    "bs.Stream.species = bs.Species('Water')\n",
    "water = bs.Stream('water', Water=300)\n",
    "B1 = Boiler('B1', ins=water, outs=('gas', 'liq'), V=0.5)\n",
    "B1.diagram()\n",
    "B1.show()"
   ]
  },
  {
   "cell_type": "code",
   "execution_count": 3,
   "metadata": {},
   "outputs": [
    {
     "name": "stdout",
     "output_type": "stream",
     "text": [
      "Boiler: B1\n",
      "\u001b[37m\u001b[22mins...\u001b[0m\n",
      "[0] water\n",
      "    phase: 'l', T: 298.15 K, P: 101325 Pa\n",
      "    flow (kmol/hr): Water  300\n",
      "\u001b[37m\u001b[22mouts...\u001b[0m\n",
      "[0] gas\n",
      "    phase: 'g', T: 373.16 K, P: 101325 Pa\n",
      "    flow (kmol/hr): Water  150\n",
      "[1] liq\n",
      "    phase: 'l', T: 373.16 K, P: 101325 Pa\n",
      "    flow (kmol/hr): Water  150\n"
     ]
    }
   ],
   "source": [
    "B1.simulate()\n",
    "B1.show()"
   ]
  },
  {
   "cell_type": "code",
   "execution_count": 4,
   "metadata": {},
   "outputs": [
    {
     "data": {
      "text/html": [
       "<div>\n",
       "<style scoped>\n",
       "    .dataframe tbody tr th:only-of-type {\n",
       "        vertical-align: middle;\n",
       "    }\n",
       "\n",
       "    .dataframe tbody tr th {\n",
       "        vertical-align: top;\n",
       "    }\n",
       "\n",
       "    .dataframe thead th {\n",
       "        text-align: right;\n",
       "    }\n",
       "</style>\n",
       "<table border=\"1\" class=\"dataframe\">\n",
       "  <thead>\n",
       "    <tr style=\"text-align: right;\">\n",
       "      <th></th>\n",
       "      <th>Boiler</th>\n",
       "      <th>Units</th>\n",
       "      <th>B1</th>\n",
       "    </tr>\n",
       "  </thead>\n",
       "  <tbody>\n",
       "    <tr>\n",
       "      <th rowspan=\"3\" valign=\"top\">Low pressure steam</th>\n",
       "      <th>Duty</th>\n",
       "      <td>kJ/hr</td>\n",
       "      <td>8.69e+06</td>\n",
       "    </tr>\n",
       "    <tr>\n",
       "      <th>Flow</th>\n",
       "      <td>kg/hr</td>\n",
       "      <td>222</td>\n",
       "    </tr>\n",
       "    <tr>\n",
       "      <th>Cost</th>\n",
       "      <td>USD/hr</td>\n",
       "      <td>52.7</td>\n",
       "    </tr>\n",
       "    <tr>\n",
       "      <th>Design</th>\n",
       "      <th>Area</th>\n",
       "      <td>m^2</td>\n",
       "      <td>24.9</td>\n",
       "    </tr>\n",
       "    <tr>\n",
       "      <th>Cost</th>\n",
       "      <th>Boiler</th>\n",
       "      <td>USD</td>\n",
       "      <td>1.03e+04</td>\n",
       "    </tr>\n",
       "    <tr>\n",
       "      <th>Purchase cost</th>\n",
       "      <th></th>\n",
       "      <td>USD</td>\n",
       "      <td>1.03e+04</td>\n",
       "    </tr>\n",
       "    <tr>\n",
       "      <th>Utility cost</th>\n",
       "      <th></th>\n",
       "      <td>USD/hr</td>\n",
       "      <td>52.7</td>\n",
       "    </tr>\n",
       "  </tbody>\n",
       "</table>\n",
       "</div>"
      ],
      "text/plain": [
       "Boiler                      Units       B1\n",
       "Low pressure steam Duty     kJ/hr 8.69e+06\n",
       "                   Flow     kg/hr      222\n",
       "                   Cost    USD/hr     52.7\n",
       "Design             Area       m^2     24.9\n",
       "Cost               Boiler     USD 1.03e+04\n",
       "Purchase cost                 USD 1.03e+04\n",
       "Utility cost               USD/hr     52.7"
      ]
     },
     "execution_count": 4,
     "metadata": {},
     "output_type": "execute_result"
    }
   ],
   "source": [
    "B1.results()"
   ]
  },
  {
   "cell_type": "markdown",
   "metadata": {},
   "source": [
    "Note that key word arguments from `_kwargs` are automatically added to `__init__` method uppon class creation:"
   ]
  },
  {
   "cell_type": "code",
   "execution_count": 5,
   "metadata": {},
   "outputs": [
    {
     "data": {
      "text/plain": [
       "<Signature (self, ID='', outs=(), ins=None, V=None, P=None)>"
      ]
     },
     "execution_count": 5,
     "metadata": {},
     "output_type": "execute_result"
    }
   ],
   "source": [
    "from inspect import signature\n",
    "signature(Boiler.__init__)"
   ]
  }
 ],
 "metadata": {
  "kernelspec": {
   "display_name": "Python 3",
   "language": "python",
   "name": "python3"
  },
  "language_info": {
   "codemirror_mode": {
    "name": "ipython",
    "version": 3
   },
   "file_extension": ".py",
   "mimetype": "text/x-python",
   "name": "python",
   "nbconvert_exporter": "python",
   "pygments_lexer": "ipython3",
   "version": "3.6.5"
  }
 },
 "nbformat": 4,
 "nbformat_minor": 2
}
