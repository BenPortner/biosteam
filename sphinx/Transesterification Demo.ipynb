{
 "cells": [
  {
   "cell_type": "markdown",
   "metadata": {},
   "source": [
    "# Transesterification"
   ]
  },
  {
   "cell_type": "markdown",
   "metadata": {},
   "source": [
    "### Transesterification reactor based on USDA biodiesel model. Purchase price based on Apostolakou et. al. \"Techno-economic analysis of a biodiesel production process from vegetable oils\". Fuel Processing Technology (2009) "
   ]
  },
  {
   "cell_type": "code",
   "execution_count": 1,
   "metadata": {},
   "outputs": [
    {
     "data": {
      "image/svg+xml": [
       "<svg height=\"181pt\" viewBox=\"0.00 0.00 353.00 180.50\" width=\"353pt\" xmlns=\"http://www.w3.org/2000/svg\" xmlns:xlink=\"http://www.w3.org/1999/xlink\">\n",
       "<g class=\"graph\" id=\"graph0\" transform=\"scale(1 1) rotate(0) translate(4 176.5)\">\n",
       "<title>unit</title>\n",
       "<polygon fill=\"white\" points=\"-4,4 -4,-176.5 349,-176.5 349,4 -4,4\" stroke=\"none\"/>\n",
       "<!-- R1\n",
       "Transesterification&#45;&gt;d1 -->\n",
       "<g class=\"edge\" id=\"edge3\"><title>R1\n",
       "Transesterification:c-&gt;d1:w</title>\n",
       "<path d=\"M243.669,-86.4773C262.172,-86.4773 282.69,-86.4773 301.5,-86.4773\" fill=\"none\" stroke=\"black\"/>\n",
       "</g>\n",
       "<!-- lipid&#45;&gt;R1\n",
       "Transesterification -->\n",
       "<g class=\"edge\" id=\"edge1\"><title>lipid:e-&gt;R1\n",
       "Transesterification:c</title>\n",
       "<path d=\"M56,-150.477C94.5165,-150.477 133.251,-126.712 157.635,-108.145\" fill=\"none\" stroke=\"black\"/>\n",
       "</g>\n",
       "<!-- methanol&#45;&gt;R1\n",
       "Transesterification -->\n",
       "<g class=\"edge\" id=\"edge2\"><title>methanol:e-&gt;R1\n",
       "Transesterification:c</title>\n",
       "<path d=\"M66.5,-22.4773C102.5,-22.4773 137.886,-46.2429 160.038,-64.8098\" fill=\"none\" stroke=\"black\"/>\n",
       "</g>\n",
       "<!-- R1\n",
       "Transesterification -->\n",
       "<g class=\"node\" id=\"node1\"><title>R1\n",
       "Transesterification</title>\n",
       "<defs>\n",
       "<linearGradient gradientUnits=\"userSpaceOnUse\" id=\"l_0\" x1=\"124.5\" x2=\"243.5\" y1=\"-86.4773\" y2=\"-86.4773\">\n",
       "<stop offset=\"0\" style=\"stop-color:white;stop-opacity:1.;\"/>\n",
       "<stop offset=\"1\" style=\"stop-color:#cdcdcd;stop-opacity:1.;\"/>\n",
       "</linearGradient>\n",
       "</defs>\n",
       "<polygon fill=\"url(#l_0)\" points=\"243.5,-107.977 124.5,-107.977 124.5,-64.9773 243.5,-64.9773 243.5,-107.977\" stroke=\"black\"/>\n",
       "<text font-family=\"Times New Roman,serif\" font-size=\"14.00\" text-anchor=\"middle\" x=\"184\" y=\"-90.2773\">R1</text>\n",
       "<text font-family=\"Times New Roman,serif\" font-size=\"14.00\" text-anchor=\"middle\" x=\"184\" y=\"-75.2773\">Transesterification</text>\n",
       "</g>\n",
       "<!-- lipid -->\n",
       "<g class=\"node\" id=\"node2\"><title>lipid</title>\n",
       "<polygon fill=\"#79dae8\" points=\"36.5,-165.977 11.5,-165.977 11.5,-134.977 36.5,-134.977 36.5,-128.977 54.5,-150.477 36.5,-171.977 36.5,-165.977\" stroke=\"black\"/>\n",
       "<text font-family=\"Times New Roman,serif\" font-size=\"14.00\" text-anchor=\"middle\" x=\"33\" y=\"-146.777\">lipid</text>\n",
       "</g>\n",
       "<!-- methanol -->\n",
       "<g class=\"node\" id=\"node3\"><title>methanol</title>\n",
       "<polygon fill=\"#79dae8\" points=\"48.5,-37.9773 -0.5,-37.9773 -0.5,-6.97727 48.5,-6.97727 48.5,-0.977273 66.5,-22.4773 48.5,-43.9773 48.5,-37.9773\" stroke=\"black\"/>\n",
       "<text font-family=\"Times New Roman,serif\" font-size=\"14.00\" text-anchor=\"middle\" x=\"33\" y=\"-18.7773\">methanol</text>\n",
       "</g>\n",
       "<!-- d1 -->\n",
       "<g class=\"node\" id=\"node4\"><title>d1</title>\n",
       "<polygon fill=\"#79dae8\" points=\"326.5,-101.977 301.5,-101.977 301.5,-70.9773 326.5,-70.9773 326.5,-64.9773 344.5,-86.4773 326.5,-107.977 326.5,-101.977\" stroke=\"black\"/>\n",
       "<text font-family=\"Times New Roman,serif\" font-size=\"14.00\" text-anchor=\"middle\" x=\"323\" y=\"-82.7773\">d1</text>\n",
       "</g>\n",
       "</g>\n",
       "</svg>"
      ],
      "text/plain": [
       "<IPython.core.display.SVG object>"
      ]
     },
     "metadata": {},
     "output_type": "display_data"
    },
    {
     "name": "stdout",
     "output_type": "stream",
     "text": [
      "Transesterification: R1\n",
      "\u001b[37m\u001b[22mins...\u001b[0m\n",
      "[0] lipid\n",
      "    phase: 'l', T: 25 degC, P: 1 atm\n",
      "    flow: Lipid  1\n",
      "          net    10 kmol/hr \n",
      "[1] methanol\n",
      "    phase: 'l', T: 25 degC, P: 1 atm\n",
      "    flow: Methanol  0.89\n",
      "          NaOCH3    0.11\n",
      "          net       60 kmol/hr \n",
      "\u001b[37m\u001b[22mouts...\u001b[0m\n",
      "[0] d1\n",
      "    phase: 'l', T: 60 degC, P: 1 atm\n",
      "    flow: Lipid      0.0106\n",
      "          Methanol   0.539\n",
      "          Glycerol   0.0951\n",
      "          Biodiesel  0.285\n",
      "          NaOH       0.0698\n",
      "          net        94.6 kmol/hr \n",
      "\n",
      "results...\n",
      "{'Operation': {},\n",
      " 'Design':\n",
      "   {'Volume': 16.7\u001b[37m\u001b[22m (m^3)\u001b[0m},\n",
      " 'Cost':\n",
      "   {'Reactor Cost': 7.05e+04\u001b[37m\u001b[22m (USD)\u001b[0m}}\n",
      "\n",
      "heat utilities...\n",
      "HeatUtility: Cooling Water at T=305 K\n",
      " Duty:-3.29e+06 kJ/hr\n",
      " Flow: 4.05e+04 kg/hr\n",
      " Cost: 9.62e+03 USD/year\n"
     ]
    }
   ],
   "source": [
    "from biosteam import Stream, Units\n",
    "from Biodiesel_species import biodiesel_species\n",
    "\n",
    "# Set up stream\n",
    "Stream.species = biodiesel_species\n",
    "lipid = Stream('lipid', flow=10, species='Lipid')\n",
    "methanol = Stream('methanol')\n",
    "\n",
    "# Set up reactor\n",
    "R1 = Units.Transesterification('R1', efficiency=0.90, r=6, T=273.15+60, catalyst_molfrac=0.11)\n",
    "R1.ins =(lipid, methanol)\n",
    "\n",
    "# Run all methods\n",
    "R1.run()\n",
    "R1.operation()\n",
    "R1.design()\n",
    "R1.cost()\n",
    "\n",
    "# See all results\n",
    "R1.diagram\n",
    "R1.show(T='degC', P='atm', in_fractions= True)\n",
    "print('\\nresults...\\n' + str(R1.results))\n",
    "print('\\nheat utilities...')\n",
    "for hu in R1.heat_utilities:\n",
    "    hu.show(Cost='USD/year')"
   ]
  },
  {
   "cell_type": "code",
   "execution_count": null,
   "metadata": {},
   "outputs": [],
   "source": []
  }
 ],
 "metadata": {
  "kernelspec": {
   "display_name": "Python 3",
   "language": "python",
   "name": "python3"
  },
  "language_info": {
   "codemirror_mode": {
    "name": "ipython",
    "version": 3
   },
   "file_extension": ".py",
   "mimetype": "text/x-python",
   "name": "python",
   "nbconvert_exporter": "python",
   "pygments_lexer": "ipython3",
   "version": "3.6.5"
  }
 },
 "nbformat": 4,
 "nbformat_minor": 2
}
