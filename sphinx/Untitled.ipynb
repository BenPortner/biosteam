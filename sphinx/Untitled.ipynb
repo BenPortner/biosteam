{
 "cells": [
  {
   "cell_type": "markdown",
   "metadata": {},
   "source": [
    "# find"
   ]
  },
  {
   "cell_type": "markdown",
   "metadata": {},
   "source": [
    "### `find` is a MainFlowsheet object that allows the user to find any Unit, Stream or System object. These are automatically registered upon creation.  When `find` is called, it simply looks up the item and returns it. "
   ]
  },
  {
   "cell_type": "markdown",
   "metadata": {},
   "source": [
    "`find` defaults to the 'Default' flowsheet:"
   ]
  },
  {
   "cell_type": "code",
   "execution_count": 1,
   "metadata": {},
   "outputs": [
    {
     "data": {
      "text/plain": [
       "<MainFlowsheet: Default>"
      ]
     },
     "execution_count": 1,
     "metadata": {},
     "output_type": "execute_result"
    }
   ],
   "source": [
    "from biosteam import find\n",
    "find"
   ]
  },
  {
   "cell_type": "markdown",
   "metadata": {},
   "source": [
    "find any Stream, Unit, or System object:"
   ]
  },
  {
   "cell_type": "code",
   "execution_count": 2,
   "metadata": {},
   "outputs": [
    {
     "name": "stdout",
     "output_type": "stream",
     "text": [
      "Mixer: M0\n",
      "\u001b[37m\u001b[22mins...\u001b[0m\n",
      "[0] Missing Stream\n",
      "[1] Missing Stream\n",
      "\u001b[37m\u001b[22mouts...\u001b[0m\n",
      "[0] d1\n",
      "    phase: 'l', T: 298.15 K, P: 101325 Pa\n",
      "    flow: 0\n"
     ]
    }
   ],
   "source": [
    "from biosteam import Mixer, Stream\n",
    "unit = Mixer('M0')\n",
    "M0 = find('M0')\n",
    "M0.show()"
   ]
  },
  {
   "cell_type": "markdown",
   "metadata": {},
   "source": [
    "`find` is a MainFlowsheet object. New Flowsheet objects may be created "
   ]
  },
  {
   "cell_type": "code",
   "execution_count": 3,
   "metadata": {},
   "outputs": [
    {
     "data": {
      "text/plain": [
       "<MainFlowsheet: Lipidcane>"
      ]
     },
     "execution_count": 3,
     "metadata": {},
     "output_type": "execute_result"
    }
   ],
   "source": [
    "import lipidcane # You must pip install lipidcane first\n",
    "find"
   ]
  }
 ],
 "metadata": {
  "kernelspec": {
   "display_name": "Python 3",
   "language": "python",
   "name": "python3"
  },
  "language_info": {
   "codemirror_mode": {
    "name": "ipython",
    "version": 3
   },
   "file_extension": ".py",
   "mimetype": "text/x-python",
   "name": "python",
   "nbconvert_exporter": "python",
   "pygments_lexer": "ipython3",
   "version": "3.6.5"
  }
 },
 "nbformat": 4,
 "nbformat_minor": 2
}
