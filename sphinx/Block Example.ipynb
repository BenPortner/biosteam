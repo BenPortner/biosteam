{
 "cells": [
  {
   "cell_type": "markdown",
   "metadata": {},
   "source": [
    "## Block"
   ]
  },
  {
   "cell_type": "code",
   "execution_count": null,
   "metadata": {},
   "outputs": [],
   "source": []
  },
  {
   "cell_type": "code",
   "execution_count": null,
   "metadata": {},
   "outputs": [],
   "source": [
    "Create a block object passing a Unit object, and simulate the block:\n",
    "        \n",
    "    .. code-block:: python\n",
    "    \n",
    "       >>> P1 = Unit('P1')\n",
    "       >>> block = Block(P1)\n",
    "       >>> block.show()\n",
    "       [Block: Unit-P1]\n",
    "       >>> block.simulate()\n",
    "    \n",
    "    .. Note::\n",
    "    \n",
    "       Because no system was passed, the block would simulate just the unit.\n",
    "       \n",
    "    Create a block object passing both a Unit object and a System object:\n",
    "        \n",
    "    .. code-block:: python\n",
    "    \n",
    "       >>> P0 = Unit('P0', outs=Stream())\n",
    "       >>> P1 = Unit('P1', ins=P0-0)\n",
    "       >>> P2 = Unit('P2', ins=P1-0)\n",
    "       >>> system = System('', network=(P0, P1, P2))\n",
    "       >>> block = Block(P1, system)\n",
    "       >>> block.show()\n",
    "       [Block: Unit-P1 and downstream]\n",
    "       >>> block.system.show()\n",
    "       System: Unit-P1 and downstream\n",
    "        network: (P1, P2)\n",
    "    \n",
    "    .. Note::\n",
    "    \n",
    "       The block would simulate Unit-P1 and downstream.\n",
    "    \n",
    "    \n",
    "    Calling a block object with a setter will return a block function equivalent to:\n",
    "        \n",
    "    .. code-block:: python\n",
    "    \n",
    "       >>> def blockfunc(args):\n",
    "       ...     setter(args)\n",
    "       ...     self.simulate() # self is the Block object\n",
    "       \n",
    "    For example:\n",
    "        \n",
    "    .. code-block:: python\n",
    "    \n",
    "       >>> # setter functions is hypothetical\n",
    "       >>> def setter(args): pass\n",
    "       >>> blockfunc = Block(P1, None)(setter)\n",
    "       >>> blockfunc\n",
    "       <function [Block P1] setter(args)>\n",
    "    \n",
    "    .. Note::\n",
    "        \n",
    "       The function name and signature matches the setter function."
   ]
  },
  {
   "cell_type": "code",
   "execution_count": null,
   "metadata": {},
   "outputs": [],
   "source": []
  }
 ],
 "metadata": {
  "kernelspec": {
   "display_name": "Python 3",
   "language": "python",
   "name": "python3"
  },
  "language_info": {
   "codemirror_mode": {
    "name": "ipython",
    "version": 3
   },
   "file_extension": ".py",
   "mimetype": "text/x-python",
   "name": "python",
   "nbconvert_exporter": "python",
   "pygments_lexer": "ipython3",
   "version": "3.6.5"
  }
 },
 "nbformat": 4,
 "nbformat_minor": 2
}
