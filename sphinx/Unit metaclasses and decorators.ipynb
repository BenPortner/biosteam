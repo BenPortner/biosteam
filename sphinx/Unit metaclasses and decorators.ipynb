{
 "cells": [
  {
   "cell_type": "markdown",
   "metadata": {},
   "source": [
    "# Unit metaclasses and decorators"
   ]
  },
  {
   "cell_type": "markdown",
   "metadata": {},
   "source": [
    "Unit metaclasses and decorators extend the behavior of Unit subclasses."
   ]
  },
  {
   "cell_type": "markdown",
   "metadata": {},
   "source": [
    "### mixer metaclass"
   ]
  },
  {
   "cell_type": "markdown",
   "metadata": {},
   "source": [
    "Unit subclasses that implement the mixer metaclass behave like mixers regarding mass and energy balances:"
   ]
  },
  {
   "cell_type": "code",
   "execution_count": 1,
   "metadata": {},
   "outputs": [
    {
     "name": "stdout",
     "output_type": "stream",
     "text": [
      "MixerUnit: U1\n",
      "ins...\n",
      "[0] d1\n",
      "    phase: 'l', T: 320 K, P: 101325 Pa\n",
      "    flow (kmol/hr): Water    200\n",
      "                    Ethanol  100\n",
      "[1] d2\n",
      "    phase: 'l', T: 300 K, P: 101325 Pa\n",
      "    flow (kmol/hr): Water    100\n",
      "                    Ethanol  100\n",
      "outs...\n",
      "[0] d3\n",
      "    phase: 'l', T: 311.8 K, P: 101325 Pa\n",
      "    flow (kmol/hr): Water    300\n",
      "                    Ethanol  200\n"
     ]
    }
   ],
   "source": [
    "import biosteam as bst\n",
    "import biosteam.units.metaclasses as meta\n",
    "\n",
    "# Set up Stream.species\n",
    "bst.Stream.species = bst.Species('Water', 'Ethanol')\n",
    "\n",
    "# Make Unit subclass\n",
    "class MixerUnit(bst.Unit, metaclass=meta.mixer): pass\n",
    "\n",
    "s1 = bst.Stream(Water=200, Ethanol=100, T=320)\n",
    "s2 = bst.Stream(Water=100, Ethanol=100, T=300)\n",
    "unit = MixerUnit(ins=(s1,s2))\n",
    "unit.simulate()\n",
    "unit.show()"
   ]
  },
  {
   "cell_type": "markdown",
   "metadata": {},
   "source": [
    "### splitter metaclass"
   ]
  },
  {
   "cell_type": "markdown",
   "metadata": {},
   "source": [
    "Unit subclasses that implement the splitter metaclass behave like splitters regarding mass and energy balances."
   ]
  },
  {
   "cell_type": "code",
   "execution_count": 2,
   "metadata": {},
   "outputs": [
    {
     "name": "stdout",
     "output_type": "stream",
     "text": [
      "SplitterUnit: U2\n",
      "ins...\n",
      "[0] d4\n",
      "    phase: 'l', T: 320 K, P: 101325 Pa\n",
      "    flow (kmol/hr): Water    200\n",
      "                    Ethanol  100\n",
      "outs...\n",
      "[0] d5\n",
      "    phase: 'l', T: 320 K, P: 101325 Pa\n",
      "    flow (kmol/hr): Water    100\n",
      "                    Ethanol  20\n",
      "[1] d6\n",
      "    phase: 'l', T: 320 K, P: 101325 Pa\n",
      "    flow (kmol/hr): Water    100\n",
      "                    Ethanol  80\n"
     ]
    }
   ],
   "source": [
    "class SplitterUnit(bst.Unit, metaclass=meta.splitter): pass\n",
    "s1 = bst.Stream(Water=200, Ethanol=100, T=320)\n",
    "unit = SplitterUnit(ins=s1, split=(0.5, 0.2), order=('Water', 'Ethanol'))\n",
    "unit.simulate()\n",
    "unit.show()"
   ]
  },
  {
   "cell_type": "markdown",
   "metadata": {},
   "source": [
    "### static metaclass"
   ]
  },
  {
   "cell_type": "markdown",
   "metadata": {},
   "source": [
    "Unit subclasses that implement the static metaclass expect only one input stream (the feed) and only one output stream (the product). The static metaclass makes the feed and product share material flow rate data. Also, the product's `T`, `P`, and `phase` will be equal to the feed's upon simulation if no `_run` method is implemented:"
   ]
  },
  {
   "cell_type": "code",
   "execution_count": 3,
   "metadata": {},
   "outputs": [
    {
     "name": "stdout",
     "output_type": "stream",
     "text": [
      "StaticUnit: U3\n",
      "ins...\n",
      "[0] d7\n",
      "    phase: 'l', T: 298.15 K, P: 101325 Pa\n",
      "    flow (kmol/hr): Water  1e+03\n",
      "outs...\n",
      "[0] d8\n",
      "    phase: 'l', T: 298.15 K, P: 101325 Pa\n",
      "    flow (kmol/hr): Water  1e+03\n"
     ]
    }
   ],
   "source": [
    "class StaticUnit(bst.Unit, metaclass=meta.static): pass\n",
    "feed = bst.Stream(Water=1000)\n",
    "unit = StaticUnit(ins=feed)\n",
    "unit.simulate()\n",
    "unit.show()"
   ]
  },
  {
   "cell_type": "markdown",
   "metadata": {},
   "source": [
    "Because material data is shared, the following is True:"
   ]
  },
  {
   "cell_type": "code",
   "execution_count": 4,
   "metadata": {},
   "outputs": [
    {
     "data": {
      "text/plain": [
       "True"
      ]
     },
     "execution_count": 4,
     "metadata": {},
     "output_type": "execute_result"
    }
   ],
   "source": [
    "product = unit.outs[0]\n",
    "(feed.mol is product.mol and\n",
    " feed.mass is product.mass and\n",
    " feed.vol is product.vol)"
   ]
  },
  {
   "cell_type": "markdown",
   "metadata": {},
   "source": [
    "### cost decorator"
   ]
  },
  {
   "cell_type": "markdown",
   "metadata": {},
   "source": [
    "The cost decorator adds a free on board purchase cost based on the exponential scale up equation:\n",
    "\n",
    "$$New\\ cost = N \\cdot cost \\bigg(\\frac{CE_{new}}{CE}\\bigg) \\bigg(\\frac{S_{new}}{N \\cdot S}\\bigg)^{n}$$\n",
    "    \n",
    "$$Electricity\\ rate = kW \\bigg(\\frac{S_{new}}{S}\\bigg)$$\n",
    "\n",
    "$$N = ceil \\bigg( \\frac{S_{new}}{ub} \\bigg)$$\n",
    "\n",
    "$N\\text{: Number of units}$\n",
    "\n",
    "$ub\\text{: Upper bound of size}$\n",
    "\n",
    "$CE\\text{: New Chemical Engineering Plant Cost Index}$\n",
    "\n",
    "$CE\\text{: Chemical Engineering Plant Cost Index}$\n",
    "\n",
    "$S_{new}\\text{: New size value}$\n",
    "\n",
    "$S\\text{: Original size value}$\n",
    "\n",
    "$cost\\text{: Free on board purchase cost at size S}$\n",
    "\n",
    "$kW\\text{: Electricity rate in kW at size S}$\n",
    "\n",
    "$n\\text{: Exponential factor}$\n"
   ]
  },
  {
   "cell_type": "markdown",
   "metadata": {},
   "source": [
    "Create a Shredder Unit subclass for sugar cane with the following exponential scale up factors [[1]](#References):\n",
    "\n",
    "* Chemical Engineering Plant Cost Index: 567.3\n",
    "* Size: 500,000 kg/hr flow rate\n",
    "* Purchase cost: 2,500,000\n",
    "* Electricity rate: 3,000 kW\n",
    "* Exponential factor: 0.6\n",
    "\n",
    "Additionally, include a bare module factor of 1.39 as an approximation for this example [[2]](#References)."
   ]
  },
  {
   "cell_type": "code",
   "execution_count": 1,
   "metadata": {},
   "outputs": [
    {
     "ename": "NameError",
     "evalue": "name 'bst' is not defined",
     "output_type": "error",
     "traceback": [
      "\u001b[1;31m---------------------------------------------------------------------------\u001b[0m",
      "\u001b[1;31mNameError\u001b[0m                                 Traceback (most recent call last)",
      "\u001b[1;32m<ipython-input-1-256d888f495b>\u001b[0m in \u001b[0;36m<module>\u001b[1;34m()\u001b[0m\n\u001b[0;32m      1\u001b[0m \u001b[1;32mfrom\u001b[0m \u001b[0mbiosteam\u001b[0m\u001b[1;33m.\u001b[0m\u001b[0munits\u001b[0m\u001b[1;33m.\u001b[0m\u001b[0mdecorators\u001b[0m \u001b[1;32mimport\u001b[0m \u001b[0mcost\u001b[0m\u001b[1;33m\u001b[0m\u001b[0m\n\u001b[1;32m----> 2\u001b[1;33m \u001b[0mbst\u001b[0m\u001b[1;33m.\u001b[0m\u001b[0mCE\u001b[0m \u001b[1;33m=\u001b[0m \u001b[1;36m603.1\u001b[0m \u001b[1;31m# For year 2018\u001b[0m\u001b[1;33m\u001b[0m\u001b[0m\n\u001b[0m\u001b[0;32m      3\u001b[0m \u001b[1;33m\u001b[0m\u001b[0m\n\u001b[0;32m      4\u001b[0m \u001b[1;31m# basis will be the total flow rate in kg/hr\u001b[0m\u001b[1;33m\u001b[0m\u001b[1;33m\u001b[0m\u001b[0m\n\u001b[0;32m      5\u001b[0m @cost('Flow rate', units='kg/hr', cost=2.5e6,\n",
      "\u001b[1;31mNameError\u001b[0m: name 'bst' is not defined"
     ]
    }
   ],
   "source": [
    "from biosteam.units.decorators import cost\n",
    "bst.CE = 603.1 # For year 2018\n",
    "\n",
    "# basis will be the total flow rate in kg/hr\n",
    "@cost('Flow rate', units='kg/hr', cost=2.5e6,\n",
    "      CE=567.3, n=0.6, S=500e3, kW=3000, BM=1.39)\n",
    "class Shredder(bst.Unit, metaclass=meta.static): pass\n",
    "\n",
    "### Test a Shreadder object ###\n",
    "\n",
    "# Set up Stream.species\n",
    "species = bst.Species()\n",
    "species.SugarCane = bst.compounds.Substance('SugarCane')\n",
    "bst.Stream.species = species\n",
    "\n",
    "# Display flow rate in kg/hr\n",
    "bst.Stream.display_units.flow = 'kg/hr'\n",
    "\n",
    "feed = bst.Stream(SugarCane=1e6, units='kg/hr')\n",
    "shredder = Shredder(ins=feed)\n",
    "shredder.simulate()\n",
    "\n",
    "shredder.show()\n",
    "shredder.results()"
   ]
  },
  {
   "cell_type": "markdown",
   "metadata": {},
   "source": [
    "Cost data is stored as CostItem objects in the \"cost_items\" dictionary:"
   ]
  },
  {
   "cell_type": "code",
   "execution_count": 6,
   "metadata": {},
   "outputs": [
    {
     "data": {
      "text/plain": [
       "{'Shredder': <CostItem: Flow rate (kg/hr)>}"
      ]
     },
     "execution_count": 6,
     "metadata": {},
     "output_type": "execute_result"
    }
   ],
   "source": [
    "Shredder.cost_items"
   ]
  },
  {
   "cell_type": "code",
   "execution_count": 7,
   "metadata": {},
   "outputs": [
    {
     "name": "stdout",
     "output_type": "stream",
     "text": [
      "CostItem: Flow rate (kg/hr)\n",
      " S     5e+05\n",
      " ub    0\n",
      " CE    567\n",
      " cost  2.5e+06\n",
      " n     0.6\n",
      " kW    3e+03\n",
      " BM    1\n"
     ]
    }
   ],
   "source": [
    "Shredder.cost_items['Shredder']"
   ]
  },
  {
   "cell_type": "markdown",
   "metadata": {},
   "source": [
    "Any option can be changed:"
   ]
  },
  {
   "cell_type": "code",
   "execution_count": 8,
   "metadata": {},
   "outputs": [
    {
     "data": {
      "text/html": [
       "<div>\n",
       "<style scoped>\n",
       "    .dataframe tbody tr th:only-of-type {\n",
       "        vertical-align: middle;\n",
       "    }\n",
       "\n",
       "    .dataframe tbody tr th {\n",
       "        vertical-align: top;\n",
       "    }\n",
       "\n",
       "    .dataframe thead th {\n",
       "        text-align: right;\n",
       "    }\n",
       "</style>\n",
       "<table border=\"1\" class=\"dataframe\">\n",
       "  <thead>\n",
       "    <tr style=\"text-align: right;\">\n",
       "      <th></th>\n",
       "      <th>Shredder</th>\n",
       "      <th>Units</th>\n",
       "      <th>U4</th>\n",
       "    </tr>\n",
       "  </thead>\n",
       "  <tbody>\n",
       "    <tr>\n",
       "      <th rowspan=\"2\" valign=\"top\">Power</th>\n",
       "      <th>Rate</th>\n",
       "      <td>kW</td>\n",
       "      <td>6e+03</td>\n",
       "    </tr>\n",
       "    <tr>\n",
       "      <th>Cost</th>\n",
       "      <td>USD/hr</td>\n",
       "      <td>469</td>\n",
       "    </tr>\n",
       "    <tr>\n",
       "      <th>Design</th>\n",
       "      <th>Flow rate</th>\n",
       "      <td>kg/hr</td>\n",
       "      <td>1e+06</td>\n",
       "    </tr>\n",
       "    <tr>\n",
       "      <th>Cost</th>\n",
       "      <th>Shredder</th>\n",
       "      <td>USD</td>\n",
       "      <td>4.83e+06</td>\n",
       "    </tr>\n",
       "    <tr>\n",
       "      <th>Purchase cost</th>\n",
       "      <th></th>\n",
       "      <td>USD</td>\n",
       "      <td>4.83e+06</td>\n",
       "    </tr>\n",
       "    <tr>\n",
       "      <th>Utility cost</th>\n",
       "      <th></th>\n",
       "      <td>USD/hr</td>\n",
       "      <td>469</td>\n",
       "    </tr>\n",
       "  </tbody>\n",
       "</table>\n",
       "</div>"
      ],
      "text/plain": [
       "Shredder                  Units       U4\n",
       "Power         Rate           kW    6e+03\n",
       "              Cost       USD/hr      469\n",
       "Design        Flow rate   kg/hr    1e+06\n",
       "Cost          Shredder      USD 4.83e+06\n",
       "Purchase cost               USD 4.83e+06\n",
       "Utility cost             USD/hr      469"
      ]
     },
     "execution_count": 8,
     "metadata": {},
     "output_type": "execute_result"
    }
   ],
   "source": [
    "Shredder.cost_items['Shredder'].cost = 3e6 # Change base cost\n",
    "# This also works:\n",
    "# Shredder.cost_items['Shredder']['cost'] = 3e6\n",
    "shredder.simulate()\n",
    "shredder.results()"
   ]
  },
  {
   "cell_type": "code",
   "execution_count": 9,
   "metadata": {},
   "outputs": [
    {
     "data": {
      "text/html": [
       "<div>\n",
       "<style scoped>\n",
       "    .dataframe tbody tr th:only-of-type {\n",
       "        vertical-align: middle;\n",
       "    }\n",
       "\n",
       "    .dataframe tbody tr th {\n",
       "        vertical-align: top;\n",
       "    }\n",
       "\n",
       "    .dataframe thead th {\n",
       "        text-align: right;\n",
       "    }\n",
       "</style>\n",
       "<table border=\"1\" class=\"dataframe\">\n",
       "  <thead>\n",
       "    <tr style=\"text-align: right;\">\n",
       "      <th></th>\n",
       "      <th>Shredder</th>\n",
       "      <th>Units</th>\n",
       "      <th>U4</th>\n",
       "    </tr>\n",
       "  </thead>\n",
       "  <tbody>\n",
       "    <tr>\n",
       "      <th rowspan=\"2\" valign=\"top\">Power</th>\n",
       "      <th>Rate</th>\n",
       "      <td>kW</td>\n",
       "      <td>6e+03</td>\n",
       "    </tr>\n",
       "    <tr>\n",
       "      <th>Cost</th>\n",
       "      <td>USD/hr</td>\n",
       "      <td>469</td>\n",
       "    </tr>\n",
       "    <tr>\n",
       "      <th rowspan=\"2\" valign=\"top\">Design</th>\n",
       "      <th>Flow rate</th>\n",
       "      <td>kg/hr</td>\n",
       "      <td>1e+06</td>\n",
       "    </tr>\n",
       "    <tr>\n",
       "      <th>#Shredder</th>\n",
       "      <td></td>\n",
       "      <td>2</td>\n",
       "    </tr>\n",
       "    <tr>\n",
       "      <th>Cost</th>\n",
       "      <th>Shredder</th>\n",
       "      <td>USD</td>\n",
       "      <td>6.38e+06</td>\n",
       "    </tr>\n",
       "    <tr>\n",
       "      <th>Purchase cost</th>\n",
       "      <th></th>\n",
       "      <td>USD</td>\n",
       "      <td>6.38e+06</td>\n",
       "    </tr>\n",
       "    <tr>\n",
       "      <th>Utility cost</th>\n",
       "      <th></th>\n",
       "      <td>USD/hr</td>\n",
       "      <td>469</td>\n",
       "    </tr>\n",
       "  </tbody>\n",
       "</table>\n",
       "</div>"
      ],
      "text/plain": [
       "Shredder                  Units       U4\n",
       "Power         Rate           kW    6e+03\n",
       "              Cost       USD/hr      469\n",
       "Design        Flow rate   kg/hr    1e+06\n",
       "              #Shredder                2\n",
       "Cost          Shredder      USD 6.38e+06\n",
       "Purchase cost               USD 6.38e+06\n",
       "Utility cost             USD/hr      469"
      ]
     },
     "execution_count": 9,
     "metadata": {},
     "output_type": "execute_result"
    }
   ],
   "source": [
    "Shredder.cost_items['Shredder'].ub = 6e5 # Change size upper bound\n",
    "shredder.simulate()\n",
    "shredder.results()"
   ]
  },
  {
   "cell_type": "markdown",
   "metadata": {},
   "source": [
    "Note: It is also possible to decorate a Unit subclass multiple times to add multiple cost items."
   ]
  },
  {
   "cell_type": "markdown",
   "metadata": {},
   "source": [
    "### References\n",
    "\n",
    "<a id='References'></a>\n",
    "\n",
    "1. Huang, H., Long, S., & Singh, V. (2016) \"Techno-economic analysis of biodiesel and ethanol co-production from lipid-producing sugarcane\" Biofuels, Bioproducts and Biorefining, 10(3), 299–315. https://doi.org/10.1002/bbb.1640\n",
    "\n",
    "2. Seider, W. D., Lewin,  D. R., Seader, J. D., Widagdo, S., Gani, R., & Ng, M. K. (2017). Product and Process Design Principles. Wiley. Cost Accounting and Capital Cost Estimation (Chapter 16)\n",
    "\n"
   ]
  }
 ],
 "metadata": {
  "kernelspec": {
   "display_name": "Python 3",
   "language": "python",
   "name": "python3"
  },
  "language_info": {
   "codemirror_mode": {
    "name": "ipython",
    "version": 3
   },
   "file_extension": ".py",
   "mimetype": "text/x-python",
   "name": "python",
   "nbconvert_exporter": "python",
   "pygments_lexer": "ipython3",
   "version": "3.6.5"
  }
 },
 "nbformat": 4,
 "nbformat_minor": 2
}
