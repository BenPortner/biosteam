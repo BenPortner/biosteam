{
 "cells": [
  {
   "cell_type": "markdown",
   "metadata": {},
   "source": [
    "# MolecularSieve"
   ]
  },
  {
   "cell_type": "markdown",
   "metadata": {},
   "source": [
    "### The MolecularSieve class is based on bioethanol plant molecular sieves. Cost based on scaling factor from NREL report."
   ]
  },
  {
   "cell_type": "code",
   "execution_count": 1,
   "metadata": {},
   "outputs": [
    {
     "data": {
      "image/svg+xml": [
       "<svg height=\"173pt\" viewBox=\"0.00 0.00 338.00 173.00\" width=\"338pt\" xmlns=\"http://www.w3.org/2000/svg\" xmlns:xlink=\"http://www.w3.org/1999/xlink\">\n",
       "<g class=\"graph\" id=\"graph0\" transform=\"scale(1 1) rotate(0) translate(4 169)\">\n",
       "<title>unit</title>\n",
       "<polygon fill=\"white\" points=\"-4,4 -4,-169 334,-169 334,4 -4,4\" stroke=\"none\"/>\n",
       "<!-- MS1\n",
       "Molecular sieve&#45;&gt;d2 -->\n",
       "<g class=\"edge\" id=\"edge2\"><title>MS1\n",
       "Molecular sieve:c-&gt;d2:w</title>\n",
       "<path d=\"M191.16,-104.178C214.138,-121.711 249.861,-143.5 285.5,-143.5\" fill=\"none\" stroke=\"black\"/>\n",
       "</g>\n",
       "<!-- MS1\n",
       "Molecular sieve&#45;&gt;d3 -->\n",
       "<g class=\"edge\" id=\"edge3\"><title>MS1\n",
       "Molecular sieve:c-&gt;d3:w</title>\n",
       "<path d=\"M191.16,-60.8219C214.138,-43.2888 249.861,-21.5 285.5,-21.5\" fill=\"none\" stroke=\"black\"/>\n",
       "</g>\n",
       "<!-- d1&#45;&gt;MS1\n",
       "Molecular sieve -->\n",
       "<g class=\"edge\" id=\"edge1\"><title>d1:e-&gt;MS1\n",
       "Molecular sieve:c</title>\n",
       "<path d=\"M44.5,-82.5C66.9063,-82.5 91.6757,-82.5 112.826,-82.5\" fill=\"none\" stroke=\"black\"/>\n",
       "</g>\n",
       "<!-- MS1\n",
       "Molecular sieve -->\n",
       "<g class=\"node\" id=\"node1\"><title>MS1\n",
       "Molecular sieve</title>\n",
       "<defs>\n",
       "<linearGradient gradientUnits=\"userSpaceOnUse\" id=\"l_0\" x1=\"113\" x2=\"217\" y1=\"-82.5\" y2=\"-82.5\">\n",
       "<stop offset=\"0\" style=\"stop-color:white;stop-opacity:1.;\"/>\n",
       "<stop offset=\"1\" style=\"stop-color:#cdcdcd;stop-opacity:1.;\"/>\n",
       "</linearGradient>\n",
       "</defs>\n",
       "<polygon fill=\"url(#l_0)\" points=\"217,-104 113,-104 113,-61 217,-61 217,-104\" stroke=\"black\"/>\n",
       "<text font-family=\"Times New Roman,serif\" font-size=\"14.00\" text-anchor=\"middle\" x=\"165\" y=\"-86.3\">MS1</text>\n",
       "<text font-family=\"Times New Roman,serif\" font-size=\"14.00\" text-anchor=\"middle\" x=\"165\" y=\"-71.3\">Molecular sieve</text>\n",
       "</g>\n",
       "<!-- d1 -->\n",
       "<g class=\"node\" id=\"node2\"><title>d1</title>\n",
       "<polygon fill=\"#79dae8\" points=\"26.5,-98 1.5,-98 1.5,-67 26.5,-67 26.5,-61 44.5,-82.5 26.5,-104 26.5,-98\" stroke=\"black\"/>\n",
       "<text font-family=\"Times New Roman,serif\" font-size=\"14.00\" text-anchor=\"middle\" x=\"23\" y=\"-78.8\">d1</text>\n",
       "</g>\n",
       "<!-- d2 -->\n",
       "<g class=\"node\" id=\"node3\"><title>d2</title>\n",
       "<polygon fill=\"#79dae8\" points=\"310.5,-159 285.5,-159 285.5,-128 310.5,-128 310.5,-122 328.5,-143.5 310.5,-165 310.5,-159\" stroke=\"black\"/>\n",
       "<text font-family=\"Times New Roman,serif\" font-size=\"14.00\" text-anchor=\"middle\" x=\"307\" y=\"-139.8\">d2</text>\n",
       "</g>\n",
       "<!-- d3 -->\n",
       "<g class=\"node\" id=\"node4\"><title>d3</title>\n",
       "<polygon fill=\"#79dae8\" points=\"310.5,-37 285.5,-37 285.5,-6 310.5,-6 310.5,-0 328.5,-21.5 310.5,-43 310.5,-37\" stroke=\"black\"/>\n",
       "<text font-family=\"Times New Roman,serif\" font-size=\"14.00\" text-anchor=\"middle\" x=\"307\" y=\"-17.8\">d3</text>\n",
       "</g>\n",
       "</g>\n",
       "</svg>"
      ],
      "text/plain": [
       "<IPython.core.display.SVG object>"
      ]
     },
     "metadata": {},
     "output_type": "display_data"
    },
    {
     "name": "stdout",
     "output_type": "stream",
     "text": [
      "MolecularSieve: MS1\n",
      "\u001b[37m\u001b[22mins...\u001b[0m\n",
      "[0] d1\n",
      "    phase: 'g', T: 78.28 degC, P: 1 atm\n",
      "    flow (kmol/hr): Water    75.7\n",
      "                    Ethanol  286\n",
      "\u001b[37m\u001b[22mouts...\u001b[0m\n",
      "[0] d2\n",
      "    phase: 'g', T: 78.28 degC, P: 1 atm\n",
      "    flow (kmol/hr): Water    12.1\n",
      "                    Ethanol  265\n",
      "[1] d3\n",
      "    phase: 'g', T: 78.28 degC, P: 1 atm\n",
      "    flow (kmol/hr): Water    63.6\n",
      "                    Ethanol  21.4\n"
     ]
    }
   ],
   "source": [
    "from biosteam import Species, Stream, MolecularSieve\n",
    "\n",
    "# Set up stream\n",
    "Stream.species = Species('Water', 'Ethanol')\n",
    "feed = Stream(flow=(75.7, 286), phase='g')\n",
    "feed.T = feed.bubble_point()[0]\n",
    "\n",
    "# Set up column\n",
    "MS1 = MolecularSieve('MS1', ins=feed, split=(0.160, 0.925))\n",
    "\n",
    "# Run all methods\n",
    "MS1.simulate()\n",
    "\n",
    "# See all results\n",
    "MS1.diagram()\n",
    "MS1.show(T='degC', P='atm', in_fractions= True)"
   ]
  },
  {
   "cell_type": "code",
   "execution_count": 2,
   "metadata": {},
   "outputs": [
    {
     "data": {
      "text/html": [
       "<div>\n",
       "<style scoped>\n",
       "    .dataframe tbody tr th:only-of-type {\n",
       "        vertical-align: middle;\n",
       "    }\n",
       "\n",
       "    .dataframe tbody tr th {\n",
       "        vertical-align: top;\n",
       "    }\n",
       "\n",
       "    .dataframe thead th {\n",
       "        text-align: right;\n",
       "    }\n",
       "</style>\n",
       "<table border=\"1\" class=\"dataframe\">\n",
       "  <thead>\n",
       "    <tr style=\"text-align: right;\">\n",
       "      <th></th>\n",
       "      <th>Molecular sieve</th>\n",
       "      <th>Units</th>\n",
       "      <th>MS1</th>\n",
       "    </tr>\n",
       "  </thead>\n",
       "  <tbody>\n",
       "    <tr>\n",
       "      <th rowspan=\"3\" valign=\"top\">Cost</th>\n",
       "      <th>Molecular Sieve Cost</th>\n",
       "      <td>USD</td>\n",
       "      <td>2165605.394090733</td>\n",
       "    </tr>\n",
       "    <tr>\n",
       "      <th>Pressure Filter Pressing</th>\n",
       "      <td>USD</td>\n",
       "      <td>62611.88990220036</td>\n",
       "    </tr>\n",
       "    <tr>\n",
       "      <th>Pressure Filter Drying (2)</th>\n",
       "      <td>USD</td>\n",
       "      <td>674409.9843189134</td>\n",
       "    </tr>\n",
       "    <tr>\n",
       "      <th rowspan=\"2\" valign=\"top\">Summary</th>\n",
       "      <th>Purchase cost</th>\n",
       "      <td>USD</td>\n",
       "      <td>2902627.268311847</td>\n",
       "    </tr>\n",
       "    <tr>\n",
       "      <th>Utility cost</th>\n",
       "      <td>USD/hr</td>\n",
       "      <td>57.93378802794426</td>\n",
       "    </tr>\n",
       "  </tbody>\n",
       "</table>\n",
       "</div>"
      ],
      "text/plain": [
       "Molecular sieve                      Units                MS1\n",
       "Cost    Molecular Sieve Cost           USD  2165605.394090733\n",
       "        Pressure Filter Pressing       USD  62611.88990220036\n",
       "        Pressure Filter Drying (2)     USD  674409.9843189134\n",
       "Summary Purchase cost                  USD  2902627.268311847\n",
       "        Utility cost                USD/hr  57.93378802794426"
      ]
     },
     "execution_count": 2,
     "metadata": {},
     "output_type": "execute_result"
    }
   ],
   "source": [
    "MS1.results()"
   ]
  },
  {
   "cell_type": "code",
   "execution_count": 3,
   "metadata": {},
   "outputs": [
    {
     "name": "stdout",
     "output_type": "stream",
     "text": [
      "PowerUtility: power=741 kW, cost=5.08e+05 USD/yr\n"
     ]
    }
   ],
   "source": [
    "MS1.power_utility.show(cost='USD/yr')"
   ]
  }
 ],
 "metadata": {
  "kernelspec": {
   "display_name": "Python 3",
   "language": "python",
   "name": "python3"
  },
  "language_info": {
   "codemirror_mode": {
    "name": "ipython",
    "version": 3
   },
   "file_extension": ".py",
   "mimetype": "text/x-python",
   "name": "python",
   "nbconvert_exporter": "python",
   "pygments_lexer": "ipython3",
   "version": "3.6.5"
  }
 },
 "nbformat": 4,
 "nbformat_minor": 2
}
