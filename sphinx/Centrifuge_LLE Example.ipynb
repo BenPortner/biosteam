{
 "cells": [
  {
   "cell_type": "markdown",
   "metadata": {},
   "source": [
    "# Centrifuge_LLE"
   ]
  },
  {
   "cell_type": "code",
   "execution_count": 1,
   "metadata": {},
   "outputs": [
    {
     "data": {
      "image/svg+xml": [
       "<svg height=\"173pt\" viewBox=\"0.00 0.00 338.00 173.00\" width=\"338pt\" xmlns=\"http://www.w3.org/2000/svg\" xmlns:xlink=\"http://www.w3.org/1999/xlink\">\n",
       "<g class=\"graph\" id=\"graph0\" transform=\"scale(1 1) rotate(0) translate(4 169)\">\n",
       "<title>unit</title>\n",
       "<polygon fill=\"white\" points=\"-4,4 -4,-169 334,-169 334,4 -4,4\" stroke=\"none\"/>\n",
       "<!-- C1\n",
       "Centrifuge\n",
       "LLE&#45;&gt;light -->\n",
       "<g class=\"edge\" id=\"edge2\"><title>C1\n",
       "Centrifuge\n",
       "LLE:c-&gt;light:w</title>\n",
       "<path d=\"M192.723,-109.078C214.892,-125.516 246.372,-143.5 278,-143.5\" fill=\"none\" stroke=\"black\"/>\n",
       "</g>\n",
       "<!-- C1\n",
       "Centrifuge\n",
       "LLE&#45;&gt;heavy -->\n",
       "<g class=\"edge\" id=\"edge3\"><title>C1\n",
       "Centrifuge\n",
       "LLE:c-&gt;heavy:w</title>\n",
       "<path d=\"M192.27,-55.922C214.127,-39.4837 245.192,-21.5 276.5,-21.5\" fill=\"none\" stroke=\"black\"/>\n",
       "</g>\n",
       "<!-- d62&#45;&gt;C1\n",
       "Centrifuge\n",
       "LLE -->\n",
       "<g class=\"edge\" id=\"edge1\"><title>d62:e-&gt;C1\n",
       "Centrifuge\n",
       "LLE:c</title>\n",
       "<path d=\"M46.5,-82.5C72.4119,-82.5 101.651,-82.5 123.963,-82.5\" fill=\"none\" stroke=\"black\"/>\n",
       "</g>\n",
       "<!-- C1\n",
       "Centrifuge\n",
       "LLE -->\n",
       "<g class=\"node\" id=\"node1\"><title>C1\n",
       "Centrifuge\n",
       "LLE</title>\n",
       "<defs>\n",
       "<linearGradient gradientUnits=\"userSpaceOnUse\" id=\"l_0\" x1=\"124\" x2=\"198\" y1=\"-82.5\" y2=\"-82.5\">\n",
       "<stop offset=\"0\" style=\"stop-color:white;stop-opacity:1.;\"/>\n",
       "<stop offset=\"1\" style=\"stop-color:#cdcdcd;stop-opacity:1.;\"/>\n",
       "</linearGradient>\n",
       "</defs>\n",
       "<polygon fill=\"url(#l_0)\" points=\"198,-109 124,-109 124,-56 198,-56 198,-109\" stroke=\"black\"/>\n",
       "<text font-family=\"Times New Roman,serif\" font-size=\"14.00\" text-anchor=\"middle\" x=\"161\" y=\"-93.8\">C1</text>\n",
       "<text font-family=\"Times New Roman,serif\" font-size=\"14.00\" text-anchor=\"middle\" x=\"161\" y=\"-78.8\">Centrifuge</text>\n",
       "<text font-family=\"Times New Roman,serif\" font-size=\"14.00\" text-anchor=\"middle\" x=\"161\" y=\"-63.8\">LLE</text>\n",
       "</g>\n",
       "<!-- d62 -->\n",
       "<g class=\"node\" id=\"node2\"><title>d62</title>\n",
       "<polygon fill=\"#79dae8\" points=\"28.5,-98 3.5,-98 3.5,-67 28.5,-67 28.5,-61 46.5,-82.5 28.5,-104 28.5,-98\" stroke=\"black\"/>\n",
       "<text font-family=\"Times New Roman,serif\" font-size=\"14.00\" text-anchor=\"middle\" x=\"25\" y=\"-78.8\">d62</text>\n",
       "</g>\n",
       "<!-- light -->\n",
       "<g class=\"node\" id=\"node3\"><title>light</title>\n",
       "<polygon fill=\"#79dae8\" points=\"304.5,-159 279.5,-159 279.5,-128 304.5,-128 304.5,-122 322.5,-143.5 304.5,-165 304.5,-159\" stroke=\"black\"/>\n",
       "<text font-family=\"Times New Roman,serif\" font-size=\"14.00\" text-anchor=\"middle\" x=\"301\" y=\"-139.8\">light</text>\n",
       "</g>\n",
       "<!-- heavy -->\n",
       "<g class=\"node\" id=\"node4\"><title>heavy</title>\n",
       "<polygon fill=\"#79dae8\" points=\"307.5,-37 276.5,-37 276.5,-6 307.5,-6 307.5,-0 325.5,-21.5 307.5,-43 307.5,-37\" stroke=\"black\"/>\n",
       "<text font-family=\"Times New Roman,serif\" font-size=\"14.00\" text-anchor=\"middle\" x=\"301\" y=\"-17.8\">heavy</text>\n",
       "</g>\n",
       "</g>\n",
       "</svg>"
      ],
      "text/plain": [
       "<IPython.core.display.SVG object>"
      ]
     },
     "metadata": {},
     "output_type": "display_data"
    },
    {
     "name": "stdout",
     "output_type": "stream",
     "text": [
      "Centrifuge_LLE: C1\n",
      "\u001b[37m\u001b[22mins...\u001b[0m\n",
      "[0] d62\n",
      "    phase: 'l', T: 60 degC, P: 1 atm\n",
      "    flow (kmol/hr): Lipid      1\n",
      "                    Methanol   51\n",
      "                    Glycerol   9\n",
      "                    Biodiesel  27\n",
      "\u001b[37m\u001b[22mouts...\u001b[0m\n",
      "[0] light\n",
      "    phase: 'l', T: 60 degC, P: 1 atm\n",
      "    flow (kmol/hr): Lipid      1\n",
      "                    Methanol   17\n",
      "                    Glycerol   0.45\n",
      "                    Biodiesel  27\n",
      "[1] heavy\n",
      "    phase: 'L', T: 60 degC, P: 1 atm\n",
      "    flow (kmol/hr): Lipid      1.11e-16\n",
      "                    Methanol   34\n",
      "                    Glycerol   8.55\n",
      "                    Biodiesel  0.00972\n"
     ]
    }
   ],
   "source": [
    "from biosteam import Stream, Centrifuge_LLE\n",
    "from lipidcane import biodiesel_species\n",
    "\n",
    "# Set up stream\n",
    "Stream.species = biodiesel_species\n",
    "feed = Stream(Lipid=1, Methanol=51, Glycerol= 9, Biodiesel=27, T=333.15)\n",
    "\n",
    "# Set up centrifuge\n",
    "C1 = Centrifuge_LLE('C1',\n",
    "                    ins = feed,\n",
    "                    outs = ('light', 'heavy'),\n",
    "                    specie_IDs=('Lipid', 'Methanol', 'Biodiesel'),\n",
    "                    split=(1, 0.5, 1),\n",
    "                    solvents=('Glycerol',),\n",
    "                    solvent_split=(0.05,))\n",
    "\n",
    "# Run all methods\n",
    "C1.simulate()\n",
    "\n",
    "# See all results\n",
    "C1.diagram()\n",
    "C1.show(T='degC', P='atm', in_fractions= True)"
   ]
  },
  {
   "cell_type": "code",
   "execution_count": 2,
   "metadata": {},
   "outputs": [
    {
     "name": "stdout",
     "output_type": "stream",
     "text": [
      "Centrifuge_LLE    Units       C1\n",
      "Design:                         \n",
      "  Flow rate      m^3/hr       13\n",
      "Cost:                           \n",
      "  Vessel cost       USD 1.32e+05\n",
      "Summary:                        \n",
      "  Utility cost   USD/hr        0\n",
      "  Purchase cost     USD 1.32e+05\n"
     ]
    }
   ],
   "source": [
    "print(C1.results.table())"
   ]
  }
 ],
 "metadata": {
  "kernelspec": {
   "display_name": "Python 3",
   "language": "python",
   "name": "python3"
  },
  "language_info": {
   "codemirror_mode": {
    "name": "ipython",
    "version": 3
   },
   "file_extension": ".py",
   "mimetype": "text/x-python",
   "name": "python",
   "nbconvert_exporter": "python",
   "pygments_lexer": "ipython3",
   "version": "3.6.4"
  }
 },
 "nbformat": 4,
 "nbformat_minor": 2
}
