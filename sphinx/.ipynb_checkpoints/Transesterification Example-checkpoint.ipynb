{
 "cells": [
  {
   "cell_type": "markdown",
   "metadata": {},
   "source": [
    "# Transesterification"
   ]
  },
  {
   "cell_type": "markdown",
   "metadata": {},
   "source": [
    "### Transesterification reactor based on USDA biodiesel model. Purchase price based on Apostolakou et. al. \"Techno-economic analysis of a biodiesel production process from vegetable oils\". Fuel Processing Technology (2009) "
   ]
  },
  {
   "cell_type": "code",
   "execution_count": 1,
   "metadata": {},
   "outputs": [
    {
     "data": {
      "image/svg+xml": [
       "<svg height=\"173pt\" viewBox=\"0.00 0.00 338.00 173.00\" width=\"338pt\" xmlns=\"http://www.w3.org/2000/svg\" xmlns:xlink=\"http://www.w3.org/1999/xlink\">\n",
       "<g class=\"graph\" id=\"graph0\" transform=\"scale(1 1) rotate(0) translate(4 169)\">\n",
       "<title>unit</title>\n",
       "<polygon fill=\"white\" points=\"-4,4 -4,-169 334,-169 334,4 -4,4\" stroke=\"none\"/>\n",
       "<!-- R1\n",
       "Reactor&#45;&gt;product -->\n",
       "<g class=\"edge\" id=\"edge3\"><title>R1\n",
       "Reactor:c-&gt;product:w</title>\n",
       "<path d=\"M198.871,-82.5C218.167,-82.5 243.818,-82.5 266.5,-82.5\" fill=\"none\" stroke=\"black\"/>\n",
       "</g>\n",
       "<!-- lipid&#45;&gt;R1\n",
       "Reactor -->\n",
       "<g class=\"edge\" id=\"edge1\"><title>lipid:e-&gt;R1\n",
       "Reactor:c</title>\n",
       "<path d=\"M59,-143.5C91.9471,-143.5 124.089,-121.711 144.62,-104.178\" fill=\"none\" stroke=\"black\"/>\n",
       "</g>\n",
       "<!-- methanol&#45;&gt;R1\n",
       "Reactor -->\n",
       "<g class=\"edge\" id=\"edge2\"><title>methanol:e-&gt;R1\n",
       "Reactor:c</title>\n",
       "<path d=\"M69.5,-21.5C100.049,-21.5 128.909,-43.2888 147.187,-60.8219\" fill=\"none\" stroke=\"black\"/>\n",
       "</g>\n",
       "<!-- R1\n",
       "Reactor -->\n",
       "<g class=\"node\" id=\"node1\"><title>R1\n",
       "Reactor</title>\n",
       "<defs>\n",
       "<linearGradient gradientUnits=\"userSpaceOnUse\" id=\"l_0\" x1=\"137.5\" x2=\"198.5\" y1=\"-82.5\" y2=\"-82.5\">\n",
       "<stop offset=\"0\" style=\"stop-color:white;stop-opacity:1.;\"/>\n",
       "<stop offset=\"1\" style=\"stop-color:#cdcdcd;stop-opacity:1.;\"/>\n",
       "</linearGradient>\n",
       "</defs>\n",
       "<polygon fill=\"url(#l_0)\" points=\"198.5,-104 137.5,-104 137.5,-61 198.5,-61 198.5,-104\" stroke=\"black\"/>\n",
       "<text font-family=\"Times New Roman,serif\" font-size=\"14.00\" text-anchor=\"middle\" x=\"168\" y=\"-86.3\">R1</text>\n",
       "<text font-family=\"Times New Roman,serif\" font-size=\"14.00\" text-anchor=\"middle\" x=\"168\" y=\"-71.3\">Reactor</text>\n",
       "</g>\n",
       "<!-- lipid -->\n",
       "<g class=\"node\" id=\"node2\"><title>lipid</title>\n",
       "<polygon fill=\"#79dae8\" points=\"39.5,-159 14.5,-159 14.5,-128 39.5,-128 39.5,-122 57.5,-143.5 39.5,-165 39.5,-159\" stroke=\"black\"/>\n",
       "<text font-family=\"Times New Roman,serif\" font-size=\"14.00\" text-anchor=\"middle\" x=\"36\" y=\"-139.8\">lipid</text>\n",
       "</g>\n",
       "<!-- methanol -->\n",
       "<g class=\"node\" id=\"node3\"><title>methanol</title>\n",
       "<polygon fill=\"#79dae8\" points=\"51.5,-37 2.5,-37 2.5,-6 51.5,-6 51.5,-0 69.5,-21.5 51.5,-43 51.5,-37\" stroke=\"black\"/>\n",
       "<text font-family=\"Times New Roman,serif\" font-size=\"14.00\" text-anchor=\"middle\" x=\"36\" y=\"-17.8\">methanol</text>\n",
       "</g>\n",
       "<!-- product -->\n",
       "<g class=\"node\" id=\"node4\"><title>product</title>\n",
       "<polygon fill=\"#79dae8\" points=\"309.5,-98 266.5,-98 266.5,-67 309.5,-67 309.5,-61 327.5,-82.5 309.5,-104 309.5,-98\" stroke=\"black\"/>\n",
       "<text font-family=\"Times New Roman,serif\" font-size=\"14.00\" text-anchor=\"middle\" x=\"297\" y=\"-78.8\">product</text>\n",
       "</g>\n",
       "</g>\n",
       "</svg>"
      ],
      "text/plain": [
       "<IPython.core.display.SVG object>"
      ]
     },
     "metadata": {},
     "output_type": "display_data"
    },
    {
     "name": "stdout",
     "output_type": "stream",
     "text": [
      "Transesterification: R1\n",
      "\u001b[37m\u001b[22mins...\u001b[0m\n",
      "[0] lipid\n",
      "    phase: 'l', T: 25 degC, P: 1 atm\n",
      "    flow: Lipid  1\n",
      "          net    10 kmol/hr \n",
      "[1] methanol\n",
      "    phase: 'l', T: 25 degC, P: 1 atm\n",
      "    flow: Methanol  0.89\n",
      "          NaOCH3    0.11\n",
      "          net       60 kmol/hr \n",
      "\u001b[37m\u001b[22mouts...\u001b[0m\n",
      "[0] product\n",
      "    phase: 'l', T: 60 degC, P: 1 atm\n",
      "    flow: Lipid      0.0106\n",
      "          Methanol   0.539\n",
      "          Glycerol   0.0951\n",
      "          Biodiesel  0.285\n",
      "          NaOH       0.0698\n",
      "          net        94.6 kmol/hr \n"
     ]
    }
   ],
   "source": [
    "from biosteam import Stream, Transesterification\n",
    "from lipidcane import biodiesel_species\n",
    "\n",
    "# Set up stream\n",
    "Stream.species = biodiesel_species\n",
    "lipid = Stream('lipid', Lipid=10)\n",
    "methanol = Stream('methanol')\n",
    "\n",
    "# Set up reactor\n",
    "R1 = Transesterification('R1',\n",
    "                         ins = (lipid, methanol),\n",
    "                         outs = Stream('product'),\n",
    "                         efficiency=0.90,\n",
    "                         r=6, # Methanol ratio\n",
    "                         T=273.15+60, \n",
    "                         catalyst_molfrac=0.11)\n",
    "\n",
    "# Run all methods\n",
    "R1.simulate()\n",
    "\n",
    "# See all results\n",
    "R1.diagram()\n",
    "R1.show(T='degC', P='atm', fraction=True)"
   ]
  },
  {
   "cell_type": "code",
   "execution_count": 2,
   "metadata": {},
   "outputs": [
    {
     "data": {
      "text/html": [
       "<div>\n",
       "<style scoped>\n",
       "    .dataframe tbody tr th:only-of-type {\n",
       "        vertical-align: middle;\n",
       "    }\n",
       "\n",
       "    .dataframe tbody tr th {\n",
       "        vertical-align: top;\n",
       "    }\n",
       "\n",
       "    .dataframe thead th {\n",
       "        text-align: right;\n",
       "    }\n",
       "</style>\n",
       "<table border=\"1\" class=\"dataframe\">\n",
       "  <thead>\n",
       "    <tr style=\"text-align: right;\">\n",
       "      <th>Transesterification</th>\n",
       "      <th>Units</th>\n",
       "      <th>R1</th>\n",
       "    </tr>\n",
       "  </thead>\n",
       "  <tbody>\n",
       "    <tr>\n",
       "      <th>Design:</th>\n",
       "      <td></td>\n",
       "      <td></td>\n",
       "    </tr>\n",
       "    <tr>\n",
       "      <th>Volume</th>\n",
       "      <td>m^3</td>\n",
       "      <td>16.2</td>\n",
       "    </tr>\n",
       "    <tr>\n",
       "      <th>Cost:</th>\n",
       "      <td></td>\n",
       "      <td></td>\n",
       "    </tr>\n",
       "    <tr>\n",
       "      <th>Reactor</th>\n",
       "      <td>USD</td>\n",
       "      <td>7.5e+04</td>\n",
       "    </tr>\n",
       "    <tr>\n",
       "      <th>Summary:</th>\n",
       "      <td></td>\n",
       "      <td></td>\n",
       "    </tr>\n",
       "    <tr>\n",
       "      <th>Purchase cost</th>\n",
       "      <td>USD</td>\n",
       "      <td>7.5e+04</td>\n",
       "    </tr>\n",
       "    <tr>\n",
       "      <th>Utility cost</th>\n",
       "      <td>USD/hr</td>\n",
       "      <td>1.69</td>\n",
       "    </tr>\n",
       "  </tbody>\n",
       "</table>\n",
       "</div>"
      ],
      "text/plain": [
       "Transesterification   Units      R1\n",
       "Design:                            \n",
       "Volume                  m^3    16.2\n",
       "Cost:                              \n",
       "Reactor                 USD 7.5e+04\n",
       "Summary:                           \n",
       "Purchase cost           USD 7.5e+04\n",
       "Utility cost         USD/hr    1.69"
      ]
     },
     "execution_count": 2,
     "metadata": {},
     "output_type": "execute_result"
    }
   ],
   "source": [
    "R1.results()"
   ]
  },
  {
   "cell_type": "code",
   "execution_count": 3,
   "metadata": {},
   "outputs": [
    {
     "name": "stdout",
     "output_type": "stream",
     "text": [
      "HeatUtility: Cooling water\n",
      " duty:-3.23e+06 kJ/hr\n",
      " flow: 2.21e+03 kmol/hr\n",
      " cost: 969 USD/year\n"
     ]
    }
   ],
   "source": [
    "for hu in R1.heat_utilities:\n",
    "    hu.show(cost='USD/year')"
   ]
  }
 ],
 "metadata": {
  "kernelspec": {
   "display_name": "Python 3",
   "language": "python",
   "name": "python3"
  },
  "language_info": {
   "codemirror_mode": {
    "name": "ipython",
    "version": 3
   },
   "file_extension": ".py",
   "mimetype": "text/x-python",
   "name": "python",
   "nbconvert_exporter": "python",
   "pygments_lexer": "ipython3",
   "version": "3.6.5"
  }
 },
 "nbformat": 4,
 "nbformat_minor": 2
}
