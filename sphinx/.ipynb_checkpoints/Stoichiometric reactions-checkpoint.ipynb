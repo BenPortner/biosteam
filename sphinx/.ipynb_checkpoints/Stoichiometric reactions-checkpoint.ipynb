{
 "cells": [
  {
   "cell_type": "markdown",
   "metadata": {},
   "source": [
    "# Stoichiometric reactions"
   ]
  },
  {
   "cell_type": "markdown",
   "metadata": {},
   "source": [
    "This exaple model the\n",
    "fpretreatment hydrolysis reactions and assumed conversions from Humbird et. al. as shown in the follwing table [[1]](#References):\n",
    "\n",
    "|Reaction|Reactant|% Converted|\n",
    "|---|---|---|\n",
    "|(Glucan)n + n H2O→ n Glucose|Glucan|9.9|\n",
    "|(Glucan)n + n H2O → n Glucose Oligomera|Glucan|0.3|\n",
    "|(Glucan)n → n HMF + 2n H2O|Glucan|0.3|\n",
    "|Sucrose → HMF + Glucose + 2 H2O|Sucrose|100.0|\n",
    "|(Xylan)n + n H2O→ n Xylose|Xylan|90.0|\n",
    "|(Xylan)n + m H2O → m Xylose Oligomer|Xylan|2.4|\n",
    "|(Xylan)n → n Furfural + 2n H2O|Xylan|5.0|\n",
    "|Acetate → Acetic Acid|Acetate|100.0|\n",
    "|(Lignin)n → n Soluble Lignin|Lignin|5.0|"
   ]
  },
  {
   "cell_type": "markdown",
   "metadata": {},
   "source": [
    "First set the species for Stream.species:"
   ]
  },
  {
   "cell_type": "code",
   "execution_count": 3,
   "metadata": {},
   "outputs": [
    {
     "ename": "AttributeError",
     "evalue": "'Species' object has no attribute 'extend'",
     "output_type": "error",
     "traceback": [
      "\u001b[1;31m---------------------------------------------------------------------------\u001b[0m",
      "\u001b[1;31mAttributeError\u001b[0m                            Traceback (most recent call last)",
      "\u001b[1;32m<ipython-input-3-31f7f0a0fbc1>\u001b[0m in \u001b[0;36m<module>\u001b[1;34m()\u001b[0m\n\u001b[0;32m      6\u001b[0m \u001b[1;33m\u001b[0m\u001b[0m\n\u001b[0;32m      7\u001b[0m \u001b[1;31m# Create species that will remain in liquid phase\u001b[0m\u001b[1;33m\u001b[0m\u001b[1;33m\u001b[0m\u001b[0m\n\u001b[1;32m----> 8\u001b[1;33m sp.extend(bst.Species('Glycose', 'Xylose', 'Sucrose',\n\u001b[0m\u001b[0;32m      9\u001b[0m                       cls=cp.Liquid))\n\u001b[0;32m     10\u001b[0m \u001b[1;33m\u001b[0m\u001b[0m\n",
      "\u001b[1;31mAttributeError\u001b[0m: 'Species' object has no attribute 'extend'"
     ]
    }
   ],
   "source": [
    "import biosteam as bst\n",
    "import biosteam.compounds as cp\n",
    "\n",
    "# Create species as defined in data back\n",
    "sp = bst.Species('H2O', 'AceticAcid', 'Furfural') \n",
    "\n",
    "# Create species that will remain in liquid phase\n",
    "sp.extend(bst.Species('Glycose', 'Xylose', 'Sucrose',\n",
    "                      cls=cp.Liquid))\n",
    "\n",
    "# Create new species with properties compied from water\n",
    "sp.extend(bst.Species('Lignin', 'Glucan', 'Xylan',\n",
    "                      'GlucoseOligomer','XyloseOligomer',\n",
    "                      'Acetate', 'SolubleLignin',\n",
    "                      cls=cp.Substance))\n",
    "\n",
    "# Fix structural carbohydrates properties\n",
    "\n",
    "# Assume heat capacity of lignin, cellulose, and hemicellulose\n",
    "# and all components at 350 K are about the same [2,2].\n",
    "Cp = 1.364 # (J/g/K)\n",
    "\n",
    "# Heat of combustions of lignocellulosic material are\n",
    "# based on wood as an approximiation [4]. Also, assume\n",
    "# structural carbohydrates have the same heat of combustion\n",
    "# as cellulose.\n",
    "Hc_n_sugars = 17000 # (J/g)\n",
    "def set_Cp_Hc(cmp, Cp, Hc): cmp.Cp = Cp; cmp.Hc = Hc\n",
    "\n",
    "sp.Lignin.Hc = cp.Substance(Cp=Cp, Hc=21e3)\n",
    "sp.Glucan = cp.Substance(Cp)\n",
    "\n",
    "# Fix sugar properties\n",
    "\n",
    "\n"
   ]
  },
  {
   "cell_type": "markdown",
   "metadata": {},
   "source": [
    "### References\n",
    "\n",
    "<a id='References'></a>\n",
    "\n",
    "1. Humbird, D., Davis, R., Tao, L., Kinchin, C., Hsu, D., Aden, A., Dudgeon, D. (2011). Process Design and Economics for Biochemical Conversion of Lignocellulosic Biomass to Ethanol: Dilute-Acid Pretreatment and Enzymatic Hydrolysis of Corn Stover (No. NREL/TP-5100-47764, 1013269). https://doi.org/10.2172/1013269\n",
    "\n",
    "2. Hatakeyama, T., Nakamura, K., & Hatakeyama, H. (1982). Studies on heat capacity of cellulose and lignin by differential scanning calorimetry. Polymer, 23(12), 1801–1804. https://doi.org/10.1016/0032-3861(82)90125-2\n",
    "\n",
    "3. Thybring, E. E. (2014). Explaining the heat capacity of wood constituents by molecular vibrations. Journal of Materials Science, 49(3), 1317–1327. https://doi.org/10.1007/s10853-013-7815-6\n",
    "\n",
    "4. Murphy W. K., and K. R. Masters. (1978). Gross heat of combustion of northern red oak (Quercus rubra) chemical components. Wood Sci. 10:139-141."
   ]
  },
  {
   "cell_type": "code",
   "execution_count": null,
   "metadata": {},
   "outputs": [],
   "source": []
  }
 ],
 "metadata": {
  "kernelspec": {
   "display_name": "Python 3",
   "language": "python",
   "name": "python3"
  },
  "language_info": {
   "codemirror_mode": {
    "name": "ipython",
    "version": 3
   },
   "file_extension": ".py",
   "mimetype": "text/x-python",
   "name": "python",
   "nbconvert_exporter": "python",
   "pygments_lexer": "ipython3",
   "version": "3.6.5"
  }
 },
 "nbformat": 4,
 "nbformat_minor": 2
}
