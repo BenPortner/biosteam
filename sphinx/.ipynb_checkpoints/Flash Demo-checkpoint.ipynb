{
 "cells": [
  {
   "cell_type": "markdown",
   "metadata": {},
   "source": [
    "# Flash Drum"
   ]
  },
  {
   "cell_type": "markdown",
   "metadata": {},
   "source": [
    "### Flash drum simulation based on vapor-liquid equilibrium using Dortmund modified UNIFAC activity coefficients and modified Raoult's law. Design procedure based on heuristics by Wayne D. Monnery & William Y. Svrcek. The purchace price based on classical Guthrie's correlation."
   ]
  },
  {
   "cell_type": "code",
   "execution_count": 1,
   "metadata": {},
   "outputs": [
    {
     "data": {
      "image/svg+xml": [
       "<svg height=\"173pt\" viewBox=\"0.00 0.00 338.00 173.00\" width=\"338pt\" xmlns=\"http://www.w3.org/2000/svg\" xmlns:xlink=\"http://www.w3.org/1999/xlink\">\n",
       "<g class=\"graph\" id=\"graph0\" transform=\"scale(1 1) rotate(0) translate(4 169)\">\n",
       "<title>unit</title>\n",
       "<polygon fill=\"white\" points=\"-4,4 -4,-169 334,-169 334,4 -4,4\" stroke=\"none\"/>\n",
       "<!-- F1\n",
       "Flash&#45;&gt;Default -->\n",
       "<g class=\"edge\" id=\"edge2\"><title>F1\n",
       "Flash:n-&gt;Default:w</title>\n",
       "<path d=\"M155,-123.5C155,-174.065 216.435,-143.5 267,-143.5\" fill=\"none\" stroke=\"black\"/>\n",
       "</g>\n",
       "<!-- F1\n",
       "Flash&#45;&gt;glycerin -->\n",
       "<g class=\"edge\" id=\"edge3\"><title>F1\n",
       "Flash:s-&gt;glycerin:w</title>\n",
       "<path d=\"M155,-41.5C155,8.62774 215.872,-21.5 266,-21.5\" fill=\"none\" stroke=\"black\"/>\n",
       "</g>\n",
       "<!-- d1&#45;&gt;F1\n",
       "Flash -->\n",
       "<g class=\"edge\" id=\"edge1\"><title>d1:e-&gt;F1\n",
       "Flash:c</title>\n",
       "<path d=\"M45.5,-82.5C69.9878,-82.5 97.5845,-82.5 118.818,-82.5\" fill=\"none\" stroke=\"black\"/>\n",
       "</g>\n",
       "<!-- F1\n",
       "Flash -->\n",
       "<g class=\"node\" id=\"node1\"><title>F1\n",
       "Flash</title>\n",
       "<defs>\n",
       "<linearGradient gradientUnits=\"userSpaceOnUse\" id=\"l_0\" x1=\"119\" x2=\"191\" y1=\"-82.5\" y2=\"-82.5\">\n",
       "<stop offset=\"0\" style=\"stop-color:white;stop-opacity:1.;\"/>\n",
       "<stop offset=\"1\" style=\"stop-color:#cdcdcd;stop-opacity:1.;\"/>\n",
       "</linearGradient>\n",
       "</defs>\n",
       "<polygon fill=\"url(#l_0)\" points=\"191,-122 119,-122 119,-43 191,-43 191,-122\" stroke=\"black\"/>\n",
       "<text font-family=\"Times New Roman,serif\" font-size=\"14.00\" text-anchor=\"middle\" x=\"155\" y=\"-86.3\">F1</text>\n",
       "<text font-family=\"Times New Roman,serif\" font-size=\"14.00\" text-anchor=\"middle\" x=\"155\" y=\"-71.3\">Flash</text>\n",
       "</g>\n",
       "<!-- d1 -->\n",
       "<g class=\"node\" id=\"node2\"><title>d1</title>\n",
       "<polygon fill=\"#79dae8\" points=\"27.5,-98 2.5,-98 2.5,-67 27.5,-67 27.5,-61 45.5,-82.5 27.5,-104 27.5,-98\" stroke=\"black\"/>\n",
       "<text font-family=\"Times New Roman,serif\" font-size=\"14.00\" text-anchor=\"middle\" x=\"24\" y=\"-78.8\">d1</text>\n",
       "</g>\n",
       "<!-- Default -->\n",
       "<g class=\"node\" id=\"node3\"><title>Default</title>\n",
       "<polygon fill=\"#79dae8\" points=\"306,-159 268,-159 268,-128 306,-128 306,-122 324,-143.5 306,-165 306,-159\" stroke=\"black\"/>\n",
       "<text font-family=\"Times New Roman,serif\" font-size=\"14.00\" text-anchor=\"middle\" x=\"296\" y=\"-139.8\">Default</text>\n",
       "</g>\n",
       "<!-- glycerin -->\n",
       "<g class=\"node\" id=\"node4\"><title>glycerin</title>\n",
       "<polygon fill=\"#79dae8\" points=\"308,-37 266,-37 266,-6 308,-6 308,-0 326,-21.5 308,-43 308,-37\" stroke=\"black\"/>\n",
       "<text font-family=\"Times New Roman,serif\" font-size=\"14.00\" text-anchor=\"middle\" x=\"296\" y=\"-17.8\">glycerin</text>\n",
       "</g>\n",
       "</g>\n",
       "</svg>"
      ],
      "text/plain": [
       "<IPython.core.display.SVG object>"
      ]
     },
     "metadata": {},
     "output_type": "display_data"
    },
    {
     "name": "stdout",
     "output_type": "stream",
     "text": [
      "Flash: F1\n",
      "\u001b[37m\u001b[22mins...\u001b[0m\n",
      "[0] d1\n",
      "    phase: 'l', T: 100.79 degC, P: 1 atm\n",
      "    flow: Methanol   0.00083\n",
      "          Glycerol   0.171\n",
      "          Biodiesel  2.28e-05\n",
      "          Water      0.828\n",
      "          net        57.8 kmol/hr \n",
      "\u001b[37m\u001b[22mouts...\u001b[0m\n",
      "[0] Default\n",
      "    phase: 'g', T: 101.85 degC, P: 1 atm\n",
      "    flow: Methanol  0.00136\n",
      "          Glycerol  0.000167\n",
      "          Water     0.998\n",
      "          net       35.4 kmol/hr \n",
      "[1] glycerin\n",
      "    phase: 'l', T: 101.85 degC, P: 1 atm\n",
      "    flow: Glycerol   0.44\n",
      "          Biodiesel  5.88e-05\n",
      "          Water      0.56\n",
      "          net        22.5 kmol/hr \n",
      "\n",
      "results...\n",
      "{'Operation': {},\n",
      " 'Design':\n",
      "   {'Vessel Length': 8.5\u001b[37m\u001b[22m (ft)\u001b[0m,\n",
      "   'Vessel Diameter': 1.5\u001b[37m\u001b[22m (ft)\u001b[0m,\n",
      "   'Weight': 448\u001b[37m\u001b[22m (lb)\u001b[0m,\n",
      "   'Wall Thickness': 0.25\u001b[37m\u001b[22m (in)\u001b[0m},\n",
      " 'Cost':\n",
      "   {'Vessel Cost': 4.34e+03\u001b[37m\u001b[22m (USD)\u001b[0m}}\n",
      "\n",
      "heat utilities...\n",
      "HeatUtility: Low Pressure Steam at T=411 K\n",
      " Duty: 1.45e+06 kJ/hr\n",
      " Flow: 665 kg/hr\n",
      " Cost: 7.7e+04 USD/year\n"
     ]
    }
   ],
   "source": [
    "from biosteam import Stream, Units\n",
    "from Biodiesel_species import biodiesel_species\n",
    "\n",
    "# Set up stream\n",
    "Stream.species = biodiesel_species\n",
    "stream = Stream(species=('Methanol', 'Glycerol', 'Biodiesel', 'Water'),\n",
    "                flow=(0.048, 9.89, 0.00132, 47.9))\n",
    "stream.T = stream.bubble_point()[0]\n",
    "\n",
    "# Set up flash drum\n",
    "F1 = Units.Flash('F1', ('Default', 'glycerin'),\n",
    "                 specie_IDs=('Water', 'Glycerol'),\n",
    "                 P=101325,\n",
    "                 x=(0.56, 0.44),\n",
    "                 HNK=('Biodiesel',),\n",
    "                 LNK=('Methanol',))\n",
    "F1.ins = stream\n",
    "\n",
    "# Run all methods\n",
    "F1.run()\n",
    "F1.operation()\n",
    "F1.design()\n",
    "F1.cost()\n",
    "\n",
    "# See all results\n",
    "F1.diagram\n",
    "F1.show(T='degC', P='atm', in_fractions= True)\n",
    "print('\\nresults...\\n' + str(F1.results))\n",
    "print('\\nheat utilities...')\n",
    "for hu in F1.heat_utilities:\n",
    "    hu.show(Cost='USD/year')"
   ]
  },
  {
   "cell_type": "code",
   "execution_count": null,
   "metadata": {},
   "outputs": [],
   "source": []
  }
 ],
 "metadata": {
  "kernelspec": {
   "display_name": "Python 3",
   "language": "python",
   "name": "python3"
  },
  "language_info": {
   "codemirror_mode": {
    "name": "ipython",
    "version": 3
   },
   "file_extension": ".py",
   "mimetype": "text/x-python",
   "name": "python",
   "nbconvert_exporter": "python",
   "pygments_lexer": "ipython3",
   "version": "3.6.4"
  }
 },
 "nbformat": 4,
 "nbformat_minor": 2
}
