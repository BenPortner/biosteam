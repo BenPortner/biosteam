{
 "cells": [
  {
   "cell_type": "markdown",
   "metadata": {},
   "source": [
    "# Distillation Example"
   ]
  },
  {
   "cell_type": "markdown",
   "metadata": {},
   "source": [
    "### Binary distillation assuming 100% separation on non-keys"
   ]
  },
  {
   "cell_type": "code",
   "execution_count": 1,
   "metadata": {},
   "outputs": [
    {
     "name": "stderr",
     "output_type": "stream",
     "text": [
      "C:\\Users\\Guest Group\\Dropbox\\Cortes-Pena-Guest_Shared\\Code\\biosteam\\biosteam\\units\\distillation.py:1028: DesignWarning: @Distillation D1: Diameter (2.998 ft) is out of bounds (3 to 24 ft).\n",
      "  Design['Diameter'] = Di = max((R_diameter, S_diameter))\n"
     ]
    },
    {
     "data": {
      "image/svg+xml": [
       "<svg height=\"173pt\" viewBox=\"0.00 0.00 338.00 173.00\" width=\"338pt\" xmlns=\"http://www.w3.org/2000/svg\" xmlns:xlink=\"http://www.w3.org/1999/xlink\">\n",
       "<g class=\"graph\" id=\"graph0\" transform=\"scale(1 1) rotate(0) translate(4 169)\">\n",
       "<title>unit</title>\n",
       "<polygon fill=\"white\" points=\"-4,4 -4,-169 334,-169 334,4 -4,4\" stroke=\"none\"/>\n",
       "<!-- D1\n",
       "Distillation&#45;&gt;d1 -->\n",
       "<g class=\"edge\" id=\"edge2\"><title>D1\n",
       "Distillation:n-&gt;d1:w</title>\n",
       "<path d=\"M165,-126.5C165,-179.266 229.734,-143.5 282.5,-143.5\" fill=\"none\" stroke=\"black\"/>\n",
       "</g>\n",
       "<!-- D1\n",
       "Distillation&#45;&gt;d2 -->\n",
       "<g class=\"edge\" id=\"edge3\"><title>D1\n",
       "Distillation:s-&gt;d2:w</title>\n",
       "<path d=\"M165,-38.5C165,14.266 229.734,-21.5 282.5,-21.5\" fill=\"none\" stroke=\"black\"/>\n",
       "</g>\n",
       "<!-- feed&#45;&gt;D1\n",
       "Distillation -->\n",
       "<g class=\"edge\" id=\"edge1\"><title>feed:e-&gt;D1\n",
       "Distillation:c</title>\n",
       "<path d=\"M47.5,-82.5C74.1979,-82.5 104.337,-82.5 127.271,-82.5\" fill=\"none\" stroke=\"black\"/>\n",
       "</g>\n",
       "<!-- D1\n",
       "Distillation -->\n",
       "<g class=\"node\" id=\"node1\"><title>D1\n",
       "Distillation</title>\n",
       "<defs>\n",
       "<linearGradient gradientUnits=\"userSpaceOnUse\" id=\"l_0\" x1=\"127.5\" x2=\"202.5\" y1=\"-82.5\" y2=\"-82.5\">\n",
       "<stop offset=\"0\" style=\"stop-color:white;stop-opacity:1.;\"/>\n",
       "<stop offset=\"1\" style=\"stop-color:#cdcdcd;stop-opacity:1.;\"/>\n",
       "</linearGradient>\n",
       "</defs>\n",
       "<polygon fill=\"url(#l_0)\" points=\"202.5,-125.5 127.5,-125.5 127.5,-39.5 202.5,-39.5 202.5,-125.5\" stroke=\"black\"/>\n",
       "<text font-family=\"Times New Roman,serif\" font-size=\"14.00\" text-anchor=\"middle\" x=\"165\" y=\"-86.3\">D1</text>\n",
       "<text font-family=\"Times New Roman,serif\" font-size=\"14.00\" text-anchor=\"middle\" x=\"165\" y=\"-71.3\">Distillation</text>\n",
       "</g>\n",
       "<!-- feed -->\n",
       "<g class=\"node\" id=\"node2\"><title>feed</title>\n",
       "<polygon fill=\"#79dae8\" points=\"29.5,-98 4.5,-98 4.5,-67 29.5,-67 29.5,-61 47.5,-82.5 29.5,-104 29.5,-98\" stroke=\"black\"/>\n",
       "<text font-family=\"Times New Roman,serif\" font-size=\"14.00\" text-anchor=\"middle\" x=\"26\" y=\"-78.8\">feed</text>\n",
       "</g>\n",
       "<!-- d1 -->\n",
       "<g class=\"node\" id=\"node3\"><title>d1</title>\n",
       "<polygon fill=\"#79dae8\" points=\"307.5,-159 282.5,-159 282.5,-128 307.5,-128 307.5,-122 325.5,-143.5 307.5,-165 307.5,-159\" stroke=\"black\"/>\n",
       "<text font-family=\"Times New Roman,serif\" font-size=\"14.00\" text-anchor=\"middle\" x=\"304\" y=\"-139.8\">d1</text>\n",
       "</g>\n",
       "<!-- d2 -->\n",
       "<g class=\"node\" id=\"node4\"><title>d2</title>\n",
       "<polygon fill=\"#79dae8\" points=\"307.5,-37 282.5,-37 282.5,-6 307.5,-6 307.5,-0 325.5,-21.5 307.5,-43 307.5,-37\" stroke=\"black\"/>\n",
       "<text font-family=\"Times New Roman,serif\" font-size=\"14.00\" text-anchor=\"middle\" x=\"304\" y=\"-17.8\">d2</text>\n",
       "</g>\n",
       "</g>\n",
       "</svg>"
      ],
      "text/plain": [
       "<IPython.core.display.SVG object>"
      ]
     },
     "metadata": {},
     "output_type": "display_data"
    },
    {
     "name": "stdout",
     "output_type": "stream",
     "text": [
      "Distillation: D1\n",
      "\u001b[37m\u001b[22mins...\u001b[0m\n",
      "[0] feed\n",
      "    phase: 'l', T: 77.82 degC, P: 1 atm\n",
      "    flow (kmol/hr): Water     60\n",
      "                    Methanol  70\n",
      "                    Glycerol  25\n",
      "\u001b[37m\u001b[22mouts...\u001b[0m\n",
      "[0] d1\n",
      "    phase: 'g', T: 64.91 degC, P: 1 atm\n",
      "    flow (kmol/hr): Water     0.701\n",
      "                    Methanol  69.4\n",
      "[1] d2\n",
      "    phase: 'l', T: 100.15 degC, P: 1 atm\n",
      "    flow (kmol/hr): Water     59.3\n",
      "                    Methanol  0.599\n",
      "                    Glycerol  25\n"
     ]
    }
   ],
   "source": [
    "from biosteam import Species, Stream, Distillation\n",
    "\n",
    "# Set up stream\n",
    "Stream.species = Species('Water', 'Methanol', 'Glycerol')\n",
    "feed = Stream('feed', flow=(60, 70, 25))\n",
    "feed.T = feed.bubble_point()[0] # For better operation\n",
    "\n",
    "# Set up column\n",
    "D1 = Distillation('D1', ins=feed,\n",
    "                  LHK=('Methanol', 'Water'),\n",
    "                  y_top=0.99, x_bot=0.01, k=1.1)\n",
    "D1.simulate()\n",
    "\n",
    "# See all results\n",
    "D1.diagram\n",
    "D1.show(T='degC', P='atm', in_fractions= True)"
   ]
  },
  {
   "cell_type": "code",
   "execution_count": 2,
   "metadata": {},
   "outputs": [
    {
     "name": "stdout",
     "output_type": "stream",
     "text": [
      "Distillation               Units        D1\n",
      "Operation:                                \n",
      "  Theoretical feed stage       #         6\n",
      "  Theoretical stages           #        27\n",
      "  Minimum reflux           Ratio     0.693\n",
      "  Reflux                   Ratio     0.762\n",
      "  T_condenser                  K       338\n",
      "  T_boiler                     K       373\n",
      "  Cooling                  kJ/hr -2.02e+06\n",
      "  Heating                  kJ/hr  4.65e+06\n",
      "Design:                                   \n",
      "  Rectifier stages             #        19\n",
      "  Stripper stages              #        42\n",
      "  Actual stages                #        61\n",
      "  Height                      ft       101\n",
      "  Diameter                    ft         3\n",
      "  Wall thickness              in      1.12\n",
      "  Weight                      lb  4.62e+04\n",
      "Cost:                                     \n",
      "  Trays                      USD  4.38e+04\n",
      "  Tower                      USD  2.37e+05\n",
      "  Condenser                  USD   1.9e+04\n",
      "  Boiler                     USD  1.87e+04\n",
      "Summary:                                  \n",
      "  Utility cost            USD/hr      28.9\n",
      "  Purchase cost              USD  3.18e+05\n"
     ]
    }
   ],
   "source": [
    "print(D1.results.table())"
   ]
  },
  {
   "cell_type": "code",
   "execution_count": 3,
   "metadata": {},
   "outputs": [
    {
     "name": "stdout",
     "output_type": "stream",
     "text": [
      "HeatUtility: Cooling water\n",
      " Duty:-2.02e+06 kJ/hr\n",
      " Flow: 2.49e+04 kg/hr\n",
      " Cost: 5.91e+03 USD/yr\n",
      "HeatUtility: Low pressure steam\n",
      " Duty: 4.65e+06 kJ/hr\n",
      " Flow: 2.14e+03 kg/hr\n",
      " Cost: 2.47e+05 USD/yr\n"
     ]
    }
   ],
   "source": [
    "D1.heat_utilities[0].results.units['Cost'] = 'USD/yr'\n",
    "for hu in D1.heat_utilities:\n",
    "    hu.show()"
   ]
  },
  {
   "cell_type": "code",
   "execution_count": null,
   "metadata": {},
   "outputs": [],
   "source": []
  }
 ],
 "metadata": {
  "kernelspec": {
   "display_name": "Python 3",
   "language": "python",
   "name": "python3"
  },
  "language_info": {
   "codemirror_mode": {
    "name": "ipython",
    "version": 3
   },
   "file_extension": ".py",
   "mimetype": "text/x-python",
   "name": "python",
   "nbconvert_exporter": "python",
   "pygments_lexer": "ipython3",
   "version": "3.6.4"
  }
 },
 "nbformat": 4,
 "nbformat_minor": 2
}
