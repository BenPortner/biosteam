{
 "cells": [
  {
   "cell_type": "markdown",
   "metadata": {},
   "source": [
    "# Fermentation Example"
   ]
  },
  {
   "cell_type": "markdown",
   "metadata": {},
   "source": [
    "**Simulate a Fermentation object which models batch fermentation for the production of 1st generation ethanol using yeast.**"
   ]
  },
  {
   "cell_type": "code",
   "execution_count": 1,
   "metadata": {},
   "outputs": [
    {
     "data": {
      "image/svg+xml": [
       "<svg height=\"173pt\" viewBox=\"0.00 0.00 338.00 173.00\" width=\"338pt\" xmlns=\"http://www.w3.org/2000/svg\" xmlns:xlink=\"http://www.w3.org/1999/xlink\">\n",
       "<g class=\"graph\" id=\"graph0\" transform=\"scale(1 1) rotate(0) translate(4 169)\">\n",
       "<title>unit</title>\n",
       "<polygon fill=\"white\" points=\"-4,4 -4,-169 334,-169 334,4 -4,4\" stroke=\"none\"/>\n",
       "<!-- F1\n",
       "Fermentation&#45;&gt;CO2 -->\n",
       "<g class=\"edge\" id=\"edge2\"><title>F1\n",
       "Fermentation:c-&gt;CO2:w</title>\n",
       "<path d=\"M180.799,-104.178C203.459,-121.711 238.716,-143.5 274,-143.5\" fill=\"none\" stroke=\"black\"/>\n",
       "</g>\n",
       "<!-- F1\n",
       "Fermentation&#45;&gt;product -->\n",
       "<g class=\"edge\" id=\"edge3\"><title>F1\n",
       "Fermentation:c-&gt;product:w</title>\n",
       "<path d=\"M178.987,-60.8219C200.051,-43.2888 232.973,-21.5 266.5,-21.5\" fill=\"none\" stroke=\"black\"/>\n",
       "</g>\n",
       "<!-- feed&#45;&gt;F1\n",
       "Fermentation -->\n",
       "<g class=\"edge\" id=\"edge1\"><title>feed:e-&gt;F1\n",
       "Fermentation:c</title>\n",
       "<path d=\"M44.5,-82.5C66.1719,-82.5 90.2564,-82.5 110.307,-82.5\" fill=\"none\" stroke=\"black\"/>\n",
       "</g>\n",
       "<!-- F1\n",
       "Fermentation -->\n",
       "<g class=\"node\" id=\"node1\"><title>F1\n",
       "Fermentation</title>\n",
       "<defs>\n",
       "<linearGradient gradientUnits=\"userSpaceOnUse\" id=\"l_0\" x1=\"110.5\" x2=\"199.5\" y1=\"-82.5\" y2=\"-82.5\">\n",
       "<stop offset=\"0\" style=\"stop-color:white;stop-opacity:1.;\"/>\n",
       "<stop offset=\"1\" style=\"stop-color:#cdcdcd;stop-opacity:1.;\"/>\n",
       "</linearGradient>\n",
       "</defs>\n",
       "<polygon fill=\"url(#l_0)\" points=\"199.5,-104 110.5,-104 110.5,-61 199.5,-61 199.5,-104\" stroke=\"black\"/>\n",
       "<text font-family=\"Times New Roman,serif\" font-size=\"14.00\" text-anchor=\"middle\" x=\"155\" y=\"-86.3\">F1</text>\n",
       "<text font-family=\"Times New Roman,serif\" font-size=\"14.00\" text-anchor=\"middle\" x=\"155\" y=\"-71.3\">Fermentation</text>\n",
       "</g>\n",
       "<!-- feed -->\n",
       "<g class=\"node\" id=\"node2\"><title>feed</title>\n",
       "<polygon fill=\"#79dae8\" points=\"26.5,-98 1.5,-98 1.5,-67 26.5,-67 26.5,-61 44.5,-82.5 26.5,-104 26.5,-98\" stroke=\"black\"/>\n",
       "<text font-family=\"Times New Roman,serif\" font-size=\"14.00\" text-anchor=\"middle\" x=\"23\" y=\"-78.8\">feed</text>\n",
       "</g>\n",
       "<!-- CO2 -->\n",
       "<g class=\"node\" id=\"node3\"><title>CO2</title>\n",
       "<polygon fill=\"#79dae8\" points=\"301,-159 275,-159 275,-128 301,-128 301,-122 319,-143.5 301,-165 301,-159\" stroke=\"black\"/>\n",
       "<text font-family=\"Times New Roman,serif\" font-size=\"14.00\" text-anchor=\"middle\" x=\"297\" y=\"-139.8\">CO2</text>\n",
       "</g>\n",
       "<!-- product -->\n",
       "<g class=\"node\" id=\"node4\"><title>product</title>\n",
       "<polygon fill=\"#79dae8\" points=\"309.5,-37 266.5,-37 266.5,-6 309.5,-6 309.5,-0 327.5,-21.5 309.5,-43 309.5,-37\" stroke=\"black\"/>\n",
       "<text font-family=\"Times New Roman,serif\" font-size=\"14.00\" text-anchor=\"middle\" x=\"297\" y=\"-17.8\">product</text>\n",
       "</g>\n",
       "</g>\n",
       "</svg>"
      ],
      "text/plain": [
       "<IPython.core.display.SVG object>"
      ]
     },
     "metadata": {},
     "output_type": "display_data"
    },
    {
     "name": "stdout",
     "output_type": "stream",
     "text": [
      "Fermentation: F1\n",
      "\u001b[37m\u001b[22mins...\u001b[0m\n",
      "[0] feed\n",
      "    phase: 'l', T: 305.15 K, P: 101325 Pa\n",
      "    flow (kmol/hr): Water     6.66e+03\n",
      "                    Glucose   10.5\n",
      "                    Sucrose   62.5\n",
      "                    DryYeast  1.03e+04\n",
      "\u001b[37m\u001b[22mouts...\u001b[0m\n",
      "[0] CO2\n",
      "    phase: 'l', T: 305.15 K, P: 101325 Pa\n",
      "    flow (kmol/hr): Ethanol   271\n",
      "                    Water     6.6e+03\n",
      "                    Glucose   0.0744\n",
      "                    DryYeast  1.03e+04\n",
      "[1] product\n",
      "    phase: 'g', T: 305.15 K, P: 101325 Pa\n",
      "    flow (kmol/hr): CO2  271\n"
     ]
    }
   ],
   "source": [
    "from lipidcane import ethanol_species # Predefined species\n",
    "from biosteam import Species, Stream, Fermentation\n",
    "Stream.species = ethanol_species\n",
    "\n",
    "# Simulate Fermentor\n",
    "feed = Stream('feed',\n",
    "              Water=1.20e+05,\n",
    "              Glucose=1.89e+03,\n",
    "              Sucrose=2.14e+04,\n",
    "              DryYeast=1.03e+04,\n",
    "              units='kg/hr',\n",
    "              T=32+273.15)\n",
    "F1 = Fermentation('F1', ins=feed, outs=('CO2', 'product'), tau=6.665)\n",
    "F1.simulate()\n",
    "\n",
    "# Show results\n",
    "F1.diagram\n",
    "F1.show()"
   ]
  },
  {
   "cell_type": "code",
   "execution_count": 2,
   "metadata": {},
   "outputs": [
    {
     "name": "stdout",
     "output_type": "stream",
     "text": [
      "Fermentation           Units       F1\n",
      "Operation:                           \n",
      "  Efficiency                    0.999\n",
      "Design:                              \n",
      "  Number of reactors       #        6\n",
      "  Reactor volume          m3      704\n",
      "  Cycle time              hr       23\n",
      "  Loading time            hr     4.34\n",
      "  Total dead time         hr     3.06\n",
      "Cost:                                \n",
      "  Reactors               USD 2.01e+06\n",
      "  Coolers                USD 1.48e+05\n",
      "  Agitators              USD 1.25e+05\n",
      "Summary:                             \n",
      "  Utility cost        USD/hr     76.7\n",
      "  Purchase cost          USD 2.28e+06\n"
     ]
    }
   ],
   "source": [
    "print(F1.results.table())"
   ]
  },
  {
   "cell_type": "code",
   "execution_count": 3,
   "metadata": {},
   "outputs": [
    {
     "name": "stdout",
     "output_type": "stream",
     "text": [
      "HeatUtility: Chilled water\n",
      " Duty:-1.44e+07 kJ/hr\n",
      " Flow: 2.9e+04 kg/hr\n",
      " Cost: 72.1 USD/hr\n"
     ]
    }
   ],
   "source": [
    "for hu in F1.heat_utilities:\n",
    "    hu.show()"
   ]
  }
 ],
 "metadata": {
  "kernelspec": {
   "display_name": "Python 3",
   "language": "python",
   "name": "python3"
  },
  "language_info": {
   "codemirror_mode": {
    "name": "ipython",
    "version": 3
   },
   "file_extension": ".py",
   "mimetype": "text/x-python",
   "name": "python",
   "nbconvert_exporter": "python",
   "pygments_lexer": "ipython3",
   "version": "3.6.4"
  }
 },
 "nbformat": 4,
 "nbformat_minor": 2
}
