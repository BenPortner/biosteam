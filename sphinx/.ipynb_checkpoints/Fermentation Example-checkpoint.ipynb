{
 "cells": [
  {
   "cell_type": "markdown",
   "metadata": {},
   "source": [
    "# Fermentation"
   ]
  },
  {
   "cell_type": "markdown",
   "metadata": {},
   "source": [
    "**Simulate a Fermentation object which models batch fermentation for the production of 1st generation ethanol using yeast.**"
   ]
  },
  {
   "cell_type": "code",
   "execution_count": 1,
   "metadata": {},
   "outputs": [
    {
     "data": {
      "image/png": "[encoded data removed]",
      "text/plain": [
       "<IPython.core.display.Image object>"
      ]
     },
     "metadata": {},
     "output_type": "display_data"
    },
    {
     "name": "stdout",
     "output_type": "stream",
     "text": [
      "Fermentation: F1\n",
      "ins...\n",
      "[0] feed\n",
      "    phase: 'l', T: 305.15 K, P: 101325 Pa\n",
      "    flow (kmol/hr): Water     6.66e+03\n",
      "                    Glucose   10.5\n",
      "                    Sucrose   62.5\n",
      "                    DryYeast  1.03e+04\n",
      "outs...\n",
      "[0] CO2\n",
      "    phase: 'l', T: 305.15 K, P: 101325 Pa\n",
      "    flow (kmol/hr): Ethanol   244\n",
      "                    Water     6.6e+03\n",
      "                    Glucose   13.6\n",
      "                    DryYeast  1.03e+04\n",
      "[1] product\n",
      "    phase: 'g', T: 305.15 K, P: 101325 Pa\n",
      "    flow (kmol/hr): CO2  244\n"
     ]
    }
   ],
   "source": [
    "from lipidcane import ethanol_species # Predefined species\n",
    "from biosteam import Species, Stream\n",
    "from biosteam.units import Fermentation\n",
    "Stream.species = ethanol_species\n",
    "\n",
    "# Simulate Fermentor\n",
    "feed = Stream('feed',\n",
    "              Water=1.20e+05,\n",
    "              Glucose=1.89e+03,\n",
    "              Sucrose=2.14e+04,\n",
    "              DryYeast=1.03e+04,\n",
    "              units='kg/hr',\n",
    "              T=32+273.15)\n",
    "F1 = Fermentation('F1', ins=feed, outs=('CO2', 'product'), tau=8, efficiency=0.90, N=8)\n",
    "F1.simulate()\n",
    "\n",
    "# Show results\n",
    "F1.diagram()\n",
    "F1.show()"
   ]
  },
  {
   "cell_type": "code",
   "execution_count": 2,
   "metadata": {},
   "outputs": [
    {
     "data": {
      "text/html": [
       "<div>\n",
       "<style scoped>\n",
       "    .dataframe tbody tr th:only-of-type {\n",
       "        vertical-align: middle;\n",
       "    }\n",
       "\n",
       "    .dataframe tbody tr th {\n",
       "        vertical-align: top;\n",
       "    }\n",
       "\n",
       "    .dataframe thead th {\n",
       "        text-align: right;\n",
       "    }\n",
       "</style>\n",
       "<table border=\"1\" class=\"dataframe\">\n",
       "  <thead>\n",
       "    <tr style=\"text-align: right;\">\n",
       "      <th></th>\n",
       "      <th>Fermentation</th>\n",
       "      <th>Units</th>\n",
       "      <th>F1</th>\n",
       "    </tr>\n",
       "  </thead>\n",
       "  <tbody>\n",
       "    <tr>\n",
       "      <th rowspan=\"2\" valign=\"top\">Power</th>\n",
       "      <th>Rate</th>\n",
       "      <td>kW</td>\n",
       "      <td>24.6</td>\n",
       "    </tr>\n",
       "    <tr>\n",
       "      <th>Cost</th>\n",
       "      <td>USD/hr</td>\n",
       "      <td>1.6</td>\n",
       "    </tr>\n",
       "    <tr>\n",
       "      <th rowspan=\"3\" valign=\"top\">Chilled water</th>\n",
       "      <th>Duty</th>\n",
       "      <td>kJ/hr</td>\n",
       "      <td>-1.35e+07</td>\n",
       "    </tr>\n",
       "    <tr>\n",
       "      <th>Flow</th>\n",
       "      <td>kmol/hr</td>\n",
       "      <td>9.06e+03</td>\n",
       "    </tr>\n",
       "    <tr>\n",
       "      <th>Cost</th>\n",
       "      <td>USD/hr</td>\n",
       "      <td>67.6</td>\n",
       "    </tr>\n",
       "    <tr>\n",
       "      <th rowspan=\"5\" valign=\"top\">Design</th>\n",
       "      <th>Efficiency</th>\n",
       "      <td></td>\n",
       "      <td>0.9</td>\n",
       "    </tr>\n",
       "    <tr>\n",
       "      <th>Number of reactors</th>\n",
       "      <td></td>\n",
       "      <td>8</td>\n",
       "    </tr>\n",
       "    <tr>\n",
       "      <th>Volume</th>\n",
       "      <td>m3</td>\n",
       "      <td>521</td>\n",
       "    </tr>\n",
       "    <tr>\n",
       "      <th>Cycle time</th>\n",
       "      <td>hr</td>\n",
       "      <td>22.9</td>\n",
       "    </tr>\n",
       "    <tr>\n",
       "      <th>Loading time</th>\n",
       "      <td>hr</td>\n",
       "      <td>2.86</td>\n",
       "    </tr>\n",
       "    <tr>\n",
       "      <th rowspan=\"3\" valign=\"top\">Cost</th>\n",
       "      <th>Reactors</th>\n",
       "      <td>USD</td>\n",
       "      <td>2.23e+06</td>\n",
       "    </tr>\n",
       "    <tr>\n",
       "      <th>Agitator</th>\n",
       "      <td>USD</td>\n",
       "      <td>1.39e+05</td>\n",
       "    </tr>\n",
       "    <tr>\n",
       "      <th>Coolers</th>\n",
       "      <td>USD</td>\n",
       "      <td>2.2e+05</td>\n",
       "    </tr>\n",
       "    <tr>\n",
       "      <th>Purchase cost</th>\n",
       "      <th></th>\n",
       "      <td>USD</td>\n",
       "      <td>2.59e+06</td>\n",
       "    </tr>\n",
       "    <tr>\n",
       "      <th>Utility cost</th>\n",
       "      <th></th>\n",
       "      <td>USD/hr</td>\n",
       "      <td>69.2</td>\n",
       "    </tr>\n",
       "  </tbody>\n",
       "</table>\n",
       "</div>"
      ],
      "text/plain": [
       "Fermentation                        Units        F1\n",
       "Power         Rate                     kW      24.6\n",
       "              Cost                 USD/hr       1.6\n",
       "Chilled water Duty                  kJ/hr -1.35e+07\n",
       "              Flow                kmol/hr  9.06e+03\n",
       "              Cost                 USD/hr      67.6\n",
       "Design        Efficiency                        0.9\n",
       "              Number of reactors                  8\n",
       "              Volume                   m3       521\n",
       "              Cycle time               hr      22.9\n",
       "              Loading time             hr      2.86\n",
       "Cost          Reactors                USD  2.23e+06\n",
       "              Agitator                USD  1.39e+05\n",
       "              Coolers                 USD   2.2e+05\n",
       "Purchase cost                         USD  2.59e+06\n",
       "Utility cost                       USD/hr      69.2"
      ]
     },
     "execution_count": 2,
     "metadata": {},
     "output_type": "execute_result"
    }
   ],
   "source": [
    "F1.results()"
   ]
  }
 ],
 "metadata": {
  "kernelspec": {
   "display_name": "Python 3",
   "language": "python",
   "name": "python3"
  },
  "language_info": {
   "codemirror_mode": {
    "name": "ipython",
    "version": 3
   },
   "file_extension": ".py",
   "mimetype": "text/x-python",
   "name": "python",
   "nbconvert_exporter": "python",
   "pygments_lexer": "ipython3",
   "version": "3.6.5"
  }
 },
 "nbformat": 4,
 "nbformat_minor": 2
}
