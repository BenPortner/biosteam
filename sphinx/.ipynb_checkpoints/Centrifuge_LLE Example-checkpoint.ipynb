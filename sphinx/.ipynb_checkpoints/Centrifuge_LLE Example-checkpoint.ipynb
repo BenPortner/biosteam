{
 "cells": [
  {
   "cell_type": "markdown",
   "metadata": {},
   "source": [
    "# Centrifuge_LLE"
   ]
  },
  {
   "cell_type": "code",
   "execution_count": 1,
   "metadata": {},
   "outputs": [
    {
     "data": {
      "image/svg+xml": [
       "<svg height=\"173pt\" viewBox=\"0.00 0.00 338.00 173.00\" width=\"338pt\" xmlns=\"http://www.w3.org/2000/svg\" xmlns:xlink=\"http://www.w3.org/1999/xlink\">\n",
       "<g class=\"graph\" id=\"graph0\" transform=\"scale(1 1) rotate(0) translate(4 169)\">\n",
       "<title>unit</title>\n",
       "<polygon fill=\"white\" points=\"-4,4 -4,-169 334,-169 334,4 -4,4\" stroke=\"none\"/>\n",
       "<!-- C1\n",
       "Liquids centrifuge&#45;&gt;light -->\n",
       "<g class=\"edge\" id=\"edge2\"><title>C1\n",
       "Liquids centrifuge:c-&gt;light:w</title>\n",
       "<path d=\"M188.04,-104.178C210.911,-121.711 246.48,-143.5 282,-143.5\" fill=\"none\" stroke=\"black\"/>\n",
       "</g>\n",
       "<!-- C1\n",
       "Liquids centrifuge&#45;&gt;heavy -->\n",
       "<g class=\"edge\" id=\"edge3\"><title>C1\n",
       "Liquids centrifuge:c-&gt;heavy:w</title>\n",
       "<path d=\"M187.679,-60.8219C210.232,-43.2888 245.334,-21.5 280.5,-21.5\" fill=\"none\" stroke=\"black\"/>\n",
       "</g>\n",
       "<!-- d105&#45;&gt;C1\n",
       "Liquids centrifuge -->\n",
       "<g class=\"edge\" id=\"edge1\"><title>d105:e-&gt;C1\n",
       "Liquids centrifuge:c</title>\n",
       "<path d=\"M44,-82.5C63.2969,-82.5 84.384,-82.5 103.275,-82.5\" fill=\"none\" stroke=\"black\"/>\n",
       "</g>\n",
       "<!-- C1\n",
       "Liquids centrifuge -->\n",
       "<g class=\"node\" id=\"node1\"><title>C1\n",
       "Liquids centrifuge</title>\n",
       "<defs>\n",
       "<linearGradient gradientUnits=\"userSpaceOnUse\" id=\"l_0\" x1=\"103.5\" x2=\"220.5\" y1=\"-82.5\" y2=\"-82.5\">\n",
       "<stop offset=\"0\" style=\"stop-color:white;stop-opacity:1.;\"/>\n",
       "<stop offset=\"1\" style=\"stop-color:#cdcdcd;stop-opacity:1.;\"/>\n",
       "</linearGradient>\n",
       "</defs>\n",
       "<polygon fill=\"url(#l_0)\" points=\"220.5,-104 103.5,-104 103.5,-61 220.5,-61 220.5,-104\" stroke=\"black\"/>\n",
       "<text font-family=\"Times New Roman,serif\" font-size=\"14.00\" text-anchor=\"middle\" x=\"162\" y=\"-86.3\">C1</text>\n",
       "<text font-family=\"Times New Roman,serif\" font-size=\"14.00\" text-anchor=\"middle\" x=\"162\" y=\"-71.3\">Liquids centrifuge</text>\n",
       "</g>\n",
       "<!-- d105 -->\n",
       "<g class=\"node\" id=\"node2\"><title>d105</title>\n",
       "<polygon fill=\"#79dae8\" points=\"26,-98 0,-98 0,-67 26,-67 26,-61 44,-82.5 26,-104 26,-98\" stroke=\"black\"/>\n",
       "<text font-family=\"Times New Roman,serif\" font-size=\"14.00\" text-anchor=\"middle\" x=\"22\" y=\"-78.8\">d105</text>\n",
       "</g>\n",
       "<!-- light -->\n",
       "<g class=\"node\" id=\"node3\"><title>light</title>\n",
       "<polygon fill=\"#79dae8\" points=\"308.5,-159 283.5,-159 283.5,-128 308.5,-128 308.5,-122 326.5,-143.5 308.5,-165 308.5,-159\" stroke=\"black\"/>\n",
       "<text font-family=\"Times New Roman,serif\" font-size=\"14.00\" text-anchor=\"middle\" x=\"305\" y=\"-139.8\">light</text>\n",
       "</g>\n",
       "<!-- heavy -->\n",
       "<g class=\"node\" id=\"node4\"><title>heavy</title>\n",
       "<polygon fill=\"#79dae8\" points=\"311.5,-37 280.5,-37 280.5,-6 311.5,-6 311.5,-0 329.5,-21.5 311.5,-43 311.5,-37\" stroke=\"black\"/>\n",
       "<text font-family=\"Times New Roman,serif\" font-size=\"14.00\" text-anchor=\"middle\" x=\"305\" y=\"-17.8\">heavy</text>\n",
       "</g>\n",
       "</g>\n",
       "</svg>"
      ],
      "text/plain": [
       "<IPython.core.display.SVG object>"
      ]
     },
     "metadata": {},
     "output_type": "display_data"
    },
    {
     "name": "stdout",
     "output_type": "stream",
     "text": [
      "Centrifuge_LLE: C1\n",
      "\u001b[37m\u001b[22mins...\u001b[0m\n",
      "[0] d105\n",
      "    phase: 'l', T: 60 degC, P: 1 atm\n",
      "    flow (kmol/hr): Lipid      1\n",
      "                    Methanol   51\n",
      "                    Glycerol   9\n",
      "                    Biodiesel  27\n",
      "\u001b[37m\u001b[22mouts...\u001b[0m\n",
      "[0] light\n",
      "    phase: 'l', T: 60 degC, P: 1 atm\n",
      "    flow (kmol/hr): Lipid      1\n",
      "                    Methanol   17\n",
      "                    Glycerol   0.45\n",
      "                    Biodiesel  27\n",
      "[1] heavy\n",
      "    phase: 'l', T: 60 degC, P: 1 atm\n",
      "    flow (kmol/hr): Lipid      1.11e-16\n",
      "                    Methanol   34\n",
      "                    Glycerol   8.55\n",
      "                    Biodiesel  0.00972\n"
     ]
    }
   ],
   "source": [
    "from biosteam import Stream, Centrifuge_LLE\n",
    "from lipidcane import biodiesel_species\n",
    "\n",
    "# Set up stream\n",
    "Stream.species = biodiesel_species\n",
    "feed = Stream(Lipid=1, Methanol=51, Glycerol= 9, Biodiesel=27, T=333.15)\n",
    "\n",
    "# Set up centrifuge\n",
    "C1 = Centrifuge_LLE('C1',\n",
    "                    ins = feed,\n",
    "                    outs = ('light', 'heavy'),\n",
    "                    species_IDs=('Lipid', 'Methanol', 'Biodiesel'),\n",
    "                    split=(1, 0.5, 1),\n",
    "                    solvents=('Glycerol',),\n",
    "                    solvent_split=(0.05,))\n",
    "\n",
    "# Run all methods\n",
    "C1.simulate()\n",
    "\n",
    "# See all results\n",
    "C1.diagram()\n",
    "C1.show(T='degC', P='atm', in_fractions= True)"
   ]
  },
  {
   "cell_type": "code",
   "execution_count": 2,
   "metadata": {},
   "outputs": [
    {
     "data": {
      "text/html": [
       "<div>\n",
       "<style scoped>\n",
       "    .dataframe tbody tr th:only-of-type {\n",
       "        vertical-align: middle;\n",
       "    }\n",
       "\n",
       "    .dataframe tbody tr th {\n",
       "        vertical-align: top;\n",
       "    }\n",
       "\n",
       "    .dataframe thead th {\n",
       "        text-align: right;\n",
       "    }\n",
       "</style>\n",
       "<table border=\"1\" class=\"dataframe\">\n",
       "  <thead>\n",
       "    <tr style=\"text-align: right;\">\n",
       "      <th></th>\n",
       "      <th>Liquids centrifuge</th>\n",
       "      <th>Units</th>\n",
       "      <th>C1</th>\n",
       "    </tr>\n",
       "  </thead>\n",
       "  <tbody>\n",
       "    <tr>\n",
       "      <th rowspan=\"2\" valign=\"top\">Power</th>\n",
       "      <th>Rate</th>\n",
       "      <td>kW</td>\n",
       "      <td>1.27e+03</td>\n",
       "    </tr>\n",
       "    <tr>\n",
       "      <th>Cost</th>\n",
       "      <td>kW</td>\n",
       "      <td>82.3</td>\n",
       "    </tr>\n",
       "    <tr>\n",
       "      <th>Design</th>\n",
       "      <th>Flow rate</th>\n",
       "      <td>m^3/hr</td>\n",
       "      <td>346</td>\n",
       "    </tr>\n",
       "    <tr>\n",
       "      <th>Cost</th>\n",
       "      <th>Centrifuge</th>\n",
       "      <td>USD</td>\n",
       "      <td>8.7e+05</td>\n",
       "    </tr>\n",
       "    <tr>\n",
       "      <th>Purchase cost</th>\n",
       "      <th></th>\n",
       "      <td>USD</td>\n",
       "      <td>8.7e+05</td>\n",
       "    </tr>\n",
       "    <tr>\n",
       "      <th>Utility cost</th>\n",
       "      <th></th>\n",
       "      <td>USD/hr</td>\n",
       "      <td>82.3</td>\n",
       "    </tr>\n",
       "  </tbody>\n",
       "</table>\n",
       "</div>"
      ],
      "text/plain": [
       "Liquids centrifuge         Units       C1\n",
       "Power         Rate            kW 1.27e+03\n",
       "              Cost            kW     82.3\n",
       "Design        Flow rate   m^3/hr      346\n",
       "Cost          Centrifuge     USD  8.7e+05\n",
       "Purchase cost                USD  8.7e+05\n",
       "Utility cost              USD/hr     82.3"
      ]
     },
     "execution_count": 2,
     "metadata": {},
     "output_type": "execute_result"
    }
   ],
   "source": [
    "C1.results()"
   ]
  }
 ],
 "metadata": {
  "kernelspec": {
   "display_name": "Python 3",
   "language": "python",
   "name": "python3"
  },
  "language_info": {
   "codemirror_mode": {
    "name": "ipython",
    "version": 3
   },
   "file_extension": ".py",
   "mimetype": "text/x-python",
   "name": "python",
   "nbconvert_exporter": "python",
   "pygments_lexer": "ipython3",
   "version": "3.6.5"
  }
 },
 "nbformat": 4,
 "nbformat_minor": 2
}
