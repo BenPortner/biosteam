{
 "cells": [
  {
   "cell_type": "markdown",
   "metadata": {},
   "source": [
    "# Transesterification"
   ]
  },
  {
   "cell_type": "markdown",
   "metadata": {},
   "source": [
    "### Transesterification reactor based on USDA biodiesel model. Purchase price based on Apostolakou et. al. \"Techno-economic analysis of a biodiesel production process from vegetable oils\". Fuel Processing Technology (2009) "
   ]
  },
  {
   "cell_type": "code",
   "execution_count": 1,
   "metadata": {},
   "outputs": [
    {
     "data": {
      "image/svg+xml": [
       "<svg height=\"173pt\" viewBox=\"0.00 0.00 338.00 173.00\" width=\"338pt\" xmlns=\"http://www.w3.org/2000/svg\" xmlns:xlink=\"http://www.w3.org/1999/xlink\">\n",
       "<g class=\"graph\" id=\"graph0\" transform=\"scale(1 1) rotate(0) translate(4 169)\">\n",
       "<title>unit</title>\n",
       "<polygon fill=\"white\" points=\"-4,4 -4,-169 334,-169 334,4 -4,4\" stroke=\"none\"/>\n",
       "<!-- R1\n",
       "Reactor&#45;&gt;d1 -->\n",
       "<g class=\"edge\" id=\"edge3\"><title>R1\n",
       "Reactor:c-&gt;d1:w</title>\n",
       "<path d=\"M209.893,-82.5C230.564,-82.5 258.703,-82.5 283.5,-82.5\" fill=\"none\" stroke=\"black\"/>\n",
       "</g>\n",
       "<!-- lipid&#45;&gt;R1\n",
       "Reactor -->\n",
       "<g class=\"edge\" id=\"edge1\"><title>lipid:e-&gt;R1\n",
       "Reactor:c</title>\n",
       "<path d=\"M62,-143.5C96.8131,-143.5 131.448,-121.711 153.683,-104.178\" fill=\"none\" stroke=\"black\"/>\n",
       "</g>\n",
       "<!-- methanol&#45;&gt;R1\n",
       "Reactor -->\n",
       "<g class=\"edge\" id=\"edge2\"><title>methanol:e-&gt;R1\n",
       "Reactor:c</title>\n",
       "<path d=\"M72.5,-21.5C104.871,-21.5 136.232,-43.2888 156.228,-60.8219\" fill=\"none\" stroke=\"black\"/>\n",
       "</g>\n",
       "<!-- R1\n",
       "Reactor -->\n",
       "<g class=\"node\" id=\"node1\"><title>R1\n",
       "Reactor</title>\n",
       "<defs>\n",
       "<linearGradient gradientUnits=\"userSpaceOnUse\" id=\"l_0\" x1=\"148.5\" x2=\"209.5\" y1=\"-82.5\" y2=\"-82.5\">\n",
       "<stop offset=\"0\" style=\"stop-color:white;stop-opacity:1.;\"/>\n",
       "<stop offset=\"1\" style=\"stop-color:#cdcdcd;stop-opacity:1.;\"/>\n",
       "</linearGradient>\n",
       "</defs>\n",
       "<polygon fill=\"url(#l_0)\" points=\"209.5,-104 148.5,-104 148.5,-61 209.5,-61 209.5,-104\" stroke=\"black\"/>\n",
       "<text font-family=\"Times New Roman,serif\" font-size=\"14.00\" text-anchor=\"middle\" x=\"179\" y=\"-86.3\">R1</text>\n",
       "<text font-family=\"Times New Roman,serif\" font-size=\"14.00\" text-anchor=\"middle\" x=\"179\" y=\"-71.3\">Reactor</text>\n",
       "</g>\n",
       "<!-- lipid -->\n",
       "<g class=\"node\" id=\"node2\"><title>lipid</title>\n",
       "<polygon fill=\"#79dae8\" points=\"42.5,-159 17.5,-159 17.5,-128 42.5,-128 42.5,-122 60.5,-143.5 42.5,-165 42.5,-159\" stroke=\"black\"/>\n",
       "<text font-family=\"Times New Roman,serif\" font-size=\"14.00\" text-anchor=\"middle\" x=\"39\" y=\"-139.8\">lipid</text>\n",
       "</g>\n",
       "<!-- methanol -->\n",
       "<g class=\"node\" id=\"node3\"><title>methanol</title>\n",
       "<polygon fill=\"#79dae8\" points=\"54.5,-37 5.5,-37 5.5,-6 54.5,-6 54.5,-0 72.5,-21.5 54.5,-43 54.5,-37\" stroke=\"black\"/>\n",
       "<text font-family=\"Times New Roman,serif\" font-size=\"14.00\" text-anchor=\"middle\" x=\"39\" y=\"-17.8\">methanol</text>\n",
       "</g>\n",
       "<!-- d1 -->\n",
       "<g class=\"node\" id=\"node4\"><title>d1</title>\n",
       "<polygon fill=\"#79dae8\" points=\"308.5,-98 283.5,-98 283.5,-67 308.5,-67 308.5,-61 326.5,-82.5 308.5,-104 308.5,-98\" stroke=\"black\"/>\n",
       "<text font-family=\"Times New Roman,serif\" font-size=\"14.00\" text-anchor=\"middle\" x=\"305\" y=\"-78.8\">d1</text>\n",
       "</g>\n",
       "</g>\n",
       "</svg>"
      ],
      "text/plain": [
       "<IPython.core.display.SVG object>"
      ]
     },
     "metadata": {},
     "output_type": "display_data"
    },
    {
     "name": "stdout",
     "output_type": "stream",
     "text": [
      "Transesterification: R1\n",
      "\u001b[37m\u001b[2mins...\u001b[0m\n",
      "[0] lipid\n",
      "    phase: 'l', T: 25 degC, P: 1 atm\n",
      "    flow: Lipid  1\n",
      "          net    10 kmol/hr \n",
      "[1] methanol\n",
      "    phase: 'l', T: 25 degC, P: 1 atm\n",
      "    flow: Methanol  0.89\n",
      "          NaOCH3    0.11\n",
      "          net       60 kmol/hr \n",
      "\u001b[37m\u001b[2mouts...\u001b[0m\n",
      "[0] d1\n",
      "    phase: 'l', T: 60 degC, P: 1 atm\n",
      "    flow: Lipid      0.0106\n",
      "          Methanol   0.539\n",
      "          Glycerol   0.0951\n",
      "          Biodiesel  0.285\n",
      "          NaOH       0.0698\n",
      "          net        94.6 kmol/hr \n",
      "\n",
      "results...\n",
      "{'Operation': {},\n",
      " 'Design':\n",
      "   {'Volume': 16.7 (m^3)},\n",
      " 'Cost':\n",
      "   {'Reactor Cost': 7.05e+04 (USD)}}\n",
      "\n",
      "heat utilities...\n",
      "HeatUtility: Cooling Water at T=305 K\n",
      " Duty:-3.29e+06 kJ/hr\n",
      " Flow: 4.05e+04 kg/hr\n",
      " Cost: 9.62e+03 USD/year\n"
     ]
    }
   ],
   "source": [
    "from biosteam import Stream, Units\n",
    "from Biodiesel_species import biodiesel_species\n",
    "\n",
    "# Set up stream\n",
    "Stream.species = biodiesel_species\n",
    "lipid = Stream('lipid', flow=10, species='Lipid')\n",
    "methanol = Stream('methanol')\n",
    "\n",
    "# Set up reactor\n",
    "R1 = Units.Transesterification('R1', efficiency=0.90, r=6, T=273.15+60, catalyst_molfrac=0.11)\n",
    "R1.ins =(lipid, methanol)\n",
    "\n",
    "# Run all methods\n",
    "R1.run()\n",
    "R1.operation()\n",
    "R1.design()\n",
    "R1.cost()\n",
    "\n",
    "# See all results\n",
    "R1.diagram\n",
    "R1.show(T='degC', P='atm', in_fractions= True)\n",
    "print('\\nresults...\\n' + str(R1.results))\n",
    "print('\\nheat utilities...')\n",
    "for hu in R1.heat_utilities:\n",
    "    hu.show(Cost='USD/year')"
   ]
  },
  {
   "cell_type": "code",
   "execution_count": null,
   "metadata": {},
   "outputs": [],
   "source": []
  }
 ],
 "metadata": {
  "kernelspec": {
   "display_name": "Python 3",
   "language": "python",
   "name": "python3"
  },
  "language_info": {
   "codemirror_mode": {
    "name": "ipython",
    "version": 3
   },
   "file_extension": ".py",
   "mimetype": "text/x-python",
   "name": "python",
   "nbconvert_exporter": "python",
   "pygments_lexer": "ipython3",
   "version": "3.6.5"
  }
 },
 "nbformat": 4,
 "nbformat_minor": 2
}
