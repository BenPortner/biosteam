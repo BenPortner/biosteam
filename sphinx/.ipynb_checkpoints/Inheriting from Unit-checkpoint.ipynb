{
 "cells": [
  {
   "cell_type": "markdown",
   "metadata": {},
   "source": [
    "# Inheriting from Unit"
   ]
  },
  {
   "cell_type": "markdown",
   "metadata": {},
   "source": [
    "### Abstract attributes and methods"
   ]
  },
  {
   "cell_type": "markdown",
   "metadata": {},
   "source": [
    "![](UML_Unit.png \"Unit UML Diagram\")"
   ]
  },
  {
   "cell_type": "markdown",
   "metadata": {},
   "source": [
    "**A Unit subclass has class attributes that dictate how an instance is initialized:**\n",
    "\n",
    "* `_kwargs`: [dict] Key word arguments to extend the `__init__` signature.\n",
    "    \n",
    "* `_N_ins`: [int] Expected number of input streams\n",
    "    \n",
    "* `_N_outs`: [int] Expected number of output streams\n",
    "    \n",
    "* `_N_heat_utilities`: [int] Number of heat utility objects in the `_heat_utilities` list.\n",
    "    \n",
    "* `_has_power_utility`: [bool] If True, a PowerUtility object is created for every instance.\n",
    "\n",
    "* `_units`: [dict] Units of measure for `_results` 'Design' items\n",
    "    \n",
    "* `_bounds`: [dict] Items should be array-like with lower and upper bounds for items in `_results`.\n",
    "\n",
    "**Abstract methods are used to initialize components, setup values for simulation, run heat and mass balances, find design requirements and cost the unit:**\n",
    "\n",
    "* `_init()`: Called at the end of the `__init__` function to initialize objects related to the unit\n",
    "\n",
    "* `_setup()`: Called before System convergence to cache any values and check `_kwargs`.\n",
    "\n",
    "* `_run()`: Called during System convergece to specify `outs` streams.\n",
    "\n",
    "* `_design()`: Called after System convergence to find design requirements. \n",
    "\n",
    "* `_cost()`: Called after `_design` to find cost requirements.\n",
    "\n",
    "**These abstract methods will rely on the following instance attributes:**\n",
    "\n",
    "* `_ins`: Ins[Stream] Input streams.\n",
    "\n",
    "* `_outs`: Outs[Stream] Output streams.\n",
    "\n",
    "* `_kwargs`: [dict] Key word arguments passed from the `__init__` method.\n",
    "\n",
    "* `_power_utility`: [PowerUtility] Can find electricity rate requirement.\n",
    "\n",
    "* `_heat_utilities`: list[HeatUtility] Can find cooling and heating requirements.\n",
    "\n",
    "* `_results`: dict[dict] Contains \"Design\" requirements and itemized purchase \"Cost\" dictionaries."
   ]
  },
  {
   "cell_type": "markdown",
   "metadata": {},
   "source": [
    "### Subclass example"
   ]
  },
  {
   "cell_type": "markdown",
   "metadata": {},
   "source": [
    "The following example depicts inheritance from Unit by creating a new Boiler class:"
   ]
  },
  {
   "cell_type": "code",
   "execution_count": 1,
   "metadata": {},
   "outputs": [],
   "source": [
    "import biosteam as bs\n",
    "from math import ceil\n",
    "\n",
    "class Boiler(bs.Unit):\n",
    "    \"\"\"Create a Boiler object that partially boils feed.\n",
    "    \n",
    "    **Parameters**\n",
    "    \n",
    "        **V:** Vapor fraction\n",
    "        \n",
    "        **P:** Operating pressure (Pascal)\n",
    "    \n",
    "    **ins:**\n",
    "    \n",
    "        [0] feed\n",
    "        \n",
    "    **outs:**\n",
    "    \n",
    "        [0] vapor product\n",
    "        \n",
    "        [1] liquid product\n",
    "    \n",
    "    \"\"\"\n",
    "    _kwargs = {'V': None,\n",
    "               'P': 101325}\n",
    "    _N_ins = 1  \n",
    "    _N_outs = 2\n",
    "    _N_heat_utilities = 1\n",
    "    _has_power_utility = False \n",
    "    _units = {'Area': 'm^2'}\n",
    "    \n",
    "    def _init(self):\n",
    "        gas, liq = self.outs\n",
    "        \n",
    "        # Initialize top stream as a gas\n",
    "        gas.phase = 'g'\n",
    "        \n",
    "        # Initialize bottom stream as a liquid\n",
    "        liq.phase = 'l'\n",
    "        \n",
    "        # Initialize MixedStream object to perform vapor-liquid equilibrium later\n",
    "        self._mixedstream = bs.MixedStream(None)\n",
    "        # NOTE: ID is None to not register it in the flowsheet\n",
    "        \n",
    "    def _setup(self):\n",
    "        V = self._kwargs['V'] # Key word arguments from __init__ are stored here\n",
    "        if not 0 < V < 1:\n",
    "            raise ValueError(f'Vapor fraction must be between 0 and 1, not {V}')\n",
    "  \n",
    "    def _run(self):\n",
    "        feed = self.ins[0]\n",
    "        gas, liq = self.outs\n",
    "        ms = self._mixedstream\n",
    "        ms.liquid_mol[:] = feed.mol\n",
    "        ms.VLE(**self._kwargs)\n",
    "        gas.mol[:] = ms.vapor_mol\n",
    "        liq.mol[:] = ms.liquid_mol\n",
    "        ms.vapor_mol[:] = 0 # Reset vapor flow to prevent accumulation in multiple simulations\n",
    "        gas.T = liq.T = ms.T\n",
    "        gas.P = liq.P = ms.P\n",
    "        \n",
    "    def _design(self):\n",
    "        # Design requirements are stored in the _results 'Design' dictionary\n",
    "        Design = self._results['Design']\n",
    "        \n",
    "        # Calculate heat utility requirement (please read docs for HeatUtility objects)\n",
    "        T_operation = self._mixedstream.T\n",
    "        duty = sum(i.H for i in self.outs) - self.ins[0].H\n",
    "        if duty < 0:\n",
    "            raise RuntimeError(f'{repr(self)} is cooling.')\n",
    "        hu = self._heat_utilities[0]\n",
    "        hu(duty, T_operation)\n",
    "        \n",
    "        # Temperature of utility at entrance\n",
    "        T_utility = hu._fresh.T \n",
    "        \n",
    "        # Temeperature gradient\n",
    "        dT = T_utility - T_operation\n",
    "        \n",
    "        # Heat transfer coefficient kJ/(hr*m2*K)\n",
    "        U = 8176.699 \n",
    "        \n",
    "        # Area requirement (m^2)\n",
    "        A = duty/(U*dT)\n",
    "        \n",
    "        # Maximum area per unit\n",
    "        A_max = 743.224\n",
    "        \n",
    "        # Number of units\n",
    "        N = ceil(A/A_max)\n",
    "        \n",
    "        Design['Area'] = A/N\n",
    "        Design['N'] = N\n",
    "        \n",
    "    def _cost(self):\n",
    "        # Itemized costs are stored in the _results 'Cost' dictionary\n",
    "        Design = self._results['Design']\n",
    "        Cost = self._results['Cost']\n",
    "        A = Design['Area']\n",
    "        N = Design['N']\n",
    "        # Long-tube vertical boiler cost correlation from \n",
    "        # \"Product process and design\". Warren et. al. (2016) Table 22.32, pg 592\n",
    "        Cost['Boilers'] = N*self.CEPCI*3.086*A**0.55\n",
    "    "
   ]
  },
  {
   "cell_type": "markdown",
   "metadata": {},
   "source": [
    "### Simulation test"
   ]
  },
  {
   "cell_type": "code",
   "execution_count": 2,
   "metadata": {},
   "outputs": [
    {
     "data": {
      "image/png": "[encoded data removed]",
      "text/plain": [
       "<IPython.core.display.Image object>"
      ]
     },
     "metadata": {},
     "output_type": "display_data"
    },
    {
     "name": "stdout",
     "output_type": "stream",
     "text": [
      "Boiler: B1\n",
      "ins...\n",
      "[0] water\n",
      "    phase: 'l', T: 298.15 K, P: 101325 Pa\n",
      "    flow (kmol/hr): Water  300\n",
      "outs...\n",
      "[0] gas\n",
      "    phase: 'g', T: 298.15 K, P: 101325 Pa\n",
      "    flow: 0\n",
      "[1] liq\n",
      "    phase: 'l', T: 298.15 K, P: 101325 Pa\n",
      "    flow: 0\n"
     ]
    }
   ],
   "source": [
    "bs.Stream.species = bs.Species('Water')\n",
    "water = bs.Stream('water', Water=300)\n",
    "B1 = Boiler('B1', ins=water, outs=('gas', 'liq'), V=0.5)\n",
    "B1.diagram()\n",
    "B1.show()"
   ]
  },
  {
   "cell_type": "code",
   "execution_count": 3,
   "metadata": {},
   "outputs": [
    {
     "name": "stdout",
     "output_type": "stream",
     "text": [
      "Boiler: B1\n",
      "ins...\n",
      "[0] water\n",
      "    phase: 'l', T: 298.15 K, P: 101325 Pa\n",
      "    flow (kmol/hr): Water  300\n",
      "outs...\n",
      "[0] gas\n",
      "    phase: 'g', T: 373.16 K, P: 101325 Pa\n",
      "    flow (kmol/hr): Water  150\n",
      "[1] liq\n",
      "    phase: 'l', T: 373.16 K, P: 101325 Pa\n",
      "    flow (kmol/hr): Water  150\n"
     ]
    }
   ],
   "source": [
    "B1.simulate()\n",
    "B1.show()"
   ]
  },
  {
   "cell_type": "code",
   "execution_count": 4,
   "metadata": {},
   "outputs": [
    {
     "data": {
      "text/html": [
       "<div>\n",
       "<style scoped>\n",
       "    .dataframe tbody tr th:only-of-type {\n",
       "        vertical-align: middle;\n",
       "    }\n",
       "\n",
       "    .dataframe tbody tr th {\n",
       "        vertical-align: top;\n",
       "    }\n",
       "\n",
       "    .dataframe thead th {\n",
       "        text-align: right;\n",
       "    }\n",
       "</style>\n",
       "<table border=\"1\" class=\"dataframe\">\n",
       "  <thead>\n",
       "    <tr style=\"text-align: right;\">\n",
       "      <th></th>\n",
       "      <th>Boiler</th>\n",
       "      <th>Units</th>\n",
       "      <th>B1</th>\n",
       "    </tr>\n",
       "  </thead>\n",
       "  <tbody>\n",
       "    <tr>\n",
       "      <th rowspan=\"3\" valign=\"top\">Low pressure steam</th>\n",
       "      <th>Duty</th>\n",
       "      <td>kJ/hr</td>\n",
       "      <td>8.23e+06</td>\n",
       "    </tr>\n",
       "    <tr>\n",
       "      <th>Flow</th>\n",
       "      <td>kmol/hr</td>\n",
       "      <td>212</td>\n",
       "    </tr>\n",
       "    <tr>\n",
       "      <th>Cost</th>\n",
       "      <td>USD/hr</td>\n",
       "      <td>50.3</td>\n",
       "    </tr>\n",
       "    <tr>\n",
       "      <th rowspan=\"2\" valign=\"top\">Design</th>\n",
       "      <th>Area</th>\n",
       "      <td>m^2</td>\n",
       "      <td>24.9</td>\n",
       "    </tr>\n",
       "    <tr>\n",
       "      <th>N</th>\n",
       "      <td></td>\n",
       "      <td>1</td>\n",
       "    </tr>\n",
       "    <tr>\n",
       "      <th>Cost</th>\n",
       "      <th>Boilers</th>\n",
       "      <td>USD</td>\n",
       "      <td>1.03e+04</td>\n",
       "    </tr>\n",
       "    <tr>\n",
       "      <th>Purchase cost</th>\n",
       "      <th></th>\n",
       "      <td>USD</td>\n",
       "      <td>1.03e+04</td>\n",
       "    </tr>\n",
       "    <tr>\n",
       "      <th>Utility cost</th>\n",
       "      <th></th>\n",
       "      <td>USD/hr</td>\n",
       "      <td>50.3</td>\n",
       "    </tr>\n",
       "  </tbody>\n",
       "</table>\n",
       "</div>"
      ],
      "text/plain": [
       "Boiler                        Units       B1\n",
       "Low pressure steam Duty       kJ/hr 8.23e+06\n",
       "                   Flow     kmol/hr      212\n",
       "                   Cost      USD/hr     50.3\n",
       "Design             Area         m^2     24.9\n",
       "                   N                       1\n",
       "Cost               Boilers      USD 1.03e+04\n",
       "Purchase cost                   USD 1.03e+04\n",
       "Utility cost                 USD/hr     50.3"
      ]
     },
     "execution_count": 4,
     "metadata": {},
     "output_type": "execute_result"
    }
   ],
   "source": [
    "B1.results()"
   ]
  },
  {
   "cell_type": "markdown",
   "metadata": {},
   "source": [
    "Note that key word arguments from `_kwargs` are automatically added to `__init__` method uppon class creation:"
   ]
  },
  {
   "cell_type": "code",
   "execution_count": 5,
   "metadata": {},
   "outputs": [
    {
     "data": {
      "text/plain": [
       "<Signature (self, ID='', outs=(), ins=None, V=None, P=101325)>"
      ]
     },
     "execution_count": 5,
     "metadata": {},
     "output_type": "execute_result"
    }
   ],
   "source": [
    "from inspect import signature\n",
    "signature(Boiler.__init__)"
   ]
  },
  {
   "cell_type": "markdown",
   "metadata": {},
   "source": [
    "### Graphviz attributes"
   ]
  },
  {
   "cell_type": "markdown",
   "metadata": {},
   "source": [
    "All [graphviz](https://graphviz.readthedocs.io/en/stable/manual.html) attributes for generating a diagram are stored in `_graphics` as a Graphics object. One Graphics object is generated for each Unit subclass:"
   ]
  },
  {
   "cell_type": "code",
   "execution_count": 6,
   "metadata": {},
   "outputs": [],
   "source": [
    "graphics = Boiler._graphics\n",
    "edge_in = graphics.edge_in\n",
    "edge_out = graphics.edge_out\n",
    "node = graphics.node"
   ]
  },
  {
   "cell_type": "code",
   "execution_count": 7,
   "metadata": {},
   "outputs": [
    {
     "data": {
      "text/plain": [
       "[{'headport': 'c'}, {'headport': 'c'}, {'headport': 'c'}]"
      ]
     },
     "execution_count": 7,
     "metadata": {},
     "output_type": "execute_result"
    }
   ],
   "source": [
    "# Attributes correspond to each ins stream respectively\n",
    "# For example: Attributes for B1.ins[0] would correspond to edge_in[0]\n",
    "edge_in "
   ]
  },
  {
   "cell_type": "code",
   "execution_count": 8,
   "metadata": {},
   "outputs": [
    {
     "data": {
      "text/plain": [
       "[{'tailport': 'c'}, {'tailport': 'c'}]"
      ]
     },
     "execution_count": 8,
     "metadata": {},
     "output_type": "execute_result"
    }
   ],
   "source": [
    "# Attributes correspond to each outs stream respectively\n",
    "# For example: Attributes for B1.outs[0] would correspond to edge_out[0]\n",
    "edge_out"
   ]
  },
  {
   "cell_type": "code",
   "execution_count": 9,
   "metadata": {},
   "outputs": [
    {
     "data": {
      "text/plain": [
       "{'shape': 'box',\n",
       " 'fillcolor': 'white:#CDCDCD',\n",
       " 'style': 'filled',\n",
       " 'gradientangle': '0',\n",
       " 'width': '0.6',\n",
       " 'height': '0.6',\n",
       " 'orientation': '0.0',\n",
       " 'color': 'black',\n",
       " 'peripheries': '1',\n",
       " 'margin': 'default'}"
      ]
     },
     "execution_count": 9,
     "metadata": {},
     "output_type": "execute_result"
    }
   ],
   "source": [
    "node # The node is the actuall unit"
   ]
  },
  {
   "cell_type": "markdown",
   "metadata": {},
   "source": [
    "These attributes can be changed to the user's liking:"
   ]
  },
  {
   "cell_type": "code",
   "execution_count": 10,
   "metadata": {},
   "outputs": [],
   "source": [
    "edge_out[0]['tailport'] = 'n'\n",
    "edge_out[1]['tailport'] = 's'\n",
    "node['width'] = '1'\n",
    "node['height'] = '1.2'"
   ]
  },
  {
   "cell_type": "code",
   "execution_count": 11,
   "metadata": {},
   "outputs": [
    {
     "data": {
      "image/png": "[encoded data removed]",
      "text/plain": [
       "<IPython.core.display.Image object>"
      ]
     },
     "metadata": {},
     "output_type": "display_data"
    }
   ],
   "source": [
    "B1.diagram()"
   ]
  },
  {
   "cell_type": "markdown",
   "metadata": {},
   "source": [
    "It is also possible to dynamically adjust node and edge attributes by adding a node_function:"
   ]
  },
  {
   "cell_type": "code",
   "execution_count": 12,
   "metadata": {},
   "outputs": [],
   "source": [
    "def boiler_node_function(unit):\n",
    "    graphics = unit._graphics\n",
    "    feed = unit.ins[0]\n",
    "    gas, liq = unit.outs\n",
    "    if gas.T > feed.T or gas.molnet:\n",
    "        graphics.node['fillcolor'] = 'white:#fad6d8'\n",
    "        unit_op_name = 'Active boiler'\n",
    "    else:\n",
    "        graphics.node['fillcolor'] = 'white:#CDCDCD'\n",
    "        unit_op_name = 'Inactive boiler'\n",
    "    return unit_op_name # If a string is returned, it will replace the Unit operation name\n",
    "\n",
    "graphics.node_function = boiler_node_function"
   ]
  },
  {
   "cell_type": "code",
   "execution_count": 13,
   "metadata": {},
   "outputs": [
    {
     "data": {
      "image/png": "[encoded data removed]",
      "text/plain": [
       "<IPython.core.display.Image object>"
      ]
     },
     "metadata": {},
     "output_type": "display_data"
    }
   ],
   "source": [
    "B1.diagram()"
   ]
  },
  {
   "cell_type": "markdown",
   "metadata": {},
   "source": [
    "**NOTE: The example implementation of the node_function is not suggested; best to keep diagrams simple.**"
   ]
  }
 ],
 "metadata": {
  "kernelspec": {
   "display_name": "Python 3",
   "language": "python",
   "name": "python3"
  },
  "language_info": {
   "codemirror_mode": {
    "name": "ipython",
    "version": 3
   },
   "file_extension": ".py",
   "mimetype": "text/x-python",
   "name": "python",
   "nbconvert_exporter": "python",
   "pygments_lexer": "ipython3",
   "version": "3.6.5"
  }
 },
 "nbformat": 4,
 "nbformat_minor": 2
}
