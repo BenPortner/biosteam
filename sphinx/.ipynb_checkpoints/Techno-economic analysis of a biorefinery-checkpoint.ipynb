{
 "cells": [
  {
   "cell_type": "markdown",
   "metadata": {},
   "source": [
    "# Techno-economic analysis of a biorefinery"
   ]
  },
  {
   "cell_type": "markdown",
   "metadata": {},
   "source": [
    "### Perform cash flow analysis"
   ]
  },
  {
   "cell_type": "markdown",
   "metadata": {},
   "source": [
    "Create a TEA object from a system:"
   ]
  },
  {
   "cell_type": "code",
   "execution_count": 1,
   "metadata": {},
   "outputs": [
    {
     "name": "stdout",
     "output_type": "stream",
     "text": [
      "TEA: lipid_cane_system\n",
      " NPV: \u001b[37m\u001b[22mNone\u001b[0m\n",
      " ROI: \u001b[37m\u001b[22mNone\u001b[0m\n",
      " PBP: \u001b[37m\u001b[22mNone\u001b[0m\n"
     ]
    }
   ],
   "source": [
    "import biosteam as bs\n",
    "import lipidcane as lc\n",
    "\n",
    "lc.lipidcane_sys.simulate()\n",
    "lipidcane_tea = bs.TEA(lc.lipidcane_sys)\n",
    "lipidcane_tea.show() # Show summary of results"
   ]
  },
  {
   "cell_type": "markdown",
   "metadata": {},
   "source": [
    "TEA objects have a long list of options for cash flow analysis:"
   ]
  },
  {
   "cell_type": "code",
   "execution_count": 2,
   "metadata": {},
   "outputs": [
    {
     "data": {
      "text/plain": [
       "{'Lang factor': 4.37,\n",
       " 'Operating days': 330,\n",
       " 'IRR': 0.15,\n",
       " 'Wage': 50000.0,\n",
       " 'Year': None,\n",
       " 'Employees': 50,\n",
       " 'Fringe benefits': 0.4,\n",
       " 'Income tax': 0.35,\n",
       " 'Property tax': 0.001,\n",
       " 'Property insurance': 0.005,\n",
       " 'Duration': 20,\n",
       " 'Supplies': 0.2,\n",
       " 'Mantainance': 0.01,\n",
       " 'Administration': 0.005,\n",
       " 'Working capital': 0.05,\n",
       " 'Startup cost': 0,\n",
       " 'Land': 0,\n",
       " 'Depreciation': 'MACRS7',\n",
       " 'Startup schedule': (0.4, 0.6),\n",
       " 'Other recurring costs': 0,\n",
       " 'Other fixed capital': 0}"
      ]
     },
     "execution_count": 2,
     "metadata": {},
     "output_type": "execute_result"
    }
   ],
   "source": [
    "lipidcane_tea.options"
   ]
  },
  {
   "cell_type": "markdown",
   "metadata": {},
   "source": [
    "Update options and run cash flow analysis:"
   ]
  },
  {
   "cell_type": "code",
   "execution_count": 3,
   "metadata": {},
   "outputs": [
    {
     "name": "stdout",
     "output_type": "stream",
     "text": [
      "TEA: lipid_cane_system\n",
      " NPV: 1.26e+07 \u001b[37m\u001b[22mUSD at 17.5% IRR\u001b[0m\n",
      " ROI: 0.143 \u001b[37m\u001b[22m1/yr\u001b[0m\n",
      " PBP: 5 \u001b[37m\u001b[22myr\u001b[0m\n"
     ]
    }
   ],
   "source": [
    "options = {'IRR': 0.175,\n",
    "           'Lang factor': 3.00,\n",
    "           'Operating days': 200,\n",
    "           'Year': 2020,\n",
    "           'Employees': 50,\n",
    "           'Administration': 0.005,\n",
    "           'Duration': 20}\n",
    "lipidcane_tea.options.update(options)\n",
    "lipidcane_tea.NPV() # run cash flow analysis\n",
    "lipidcane_tea.show()"
   ]
  },
  {
   "cell_type": "markdown",
   "metadata": {},
   "source": [
    "Retrieve general results:"
   ]
  },
  {
   "cell_type": "code",
   "execution_count": 4,
   "metadata": {},
   "outputs": [
    {
     "data": {
      "text/html": [
       "<div>\n",
       "<style scoped>\n",
       "    .dataframe tbody tr th:only-of-type {\n",
       "        vertical-align: middle;\n",
       "    }\n",
       "\n",
       "    .dataframe tbody tr th {\n",
       "        vertical-align: top;\n",
       "    }\n",
       "\n",
       "    .dataframe thead th {\n",
       "        text-align: right;\n",
       "    }\n",
       "</style>\n",
       "<table border=\"1\" class=\"dataframe\">\n",
       "  <thead>\n",
       "    <tr style=\"text-align: right;\">\n",
       "      <th></th>\n",
       "      <th>Units</th>\n",
       "      <th>Value</th>\n",
       "    </tr>\n",
       "  </thead>\n",
       "  <tbody>\n",
       "    <tr>\n",
       "      <th>Fixed capital investment</th>\n",
       "      <td>USD</td>\n",
       "      <td>1.81e+08</td>\n",
       "    </tr>\n",
       "    <tr>\n",
       "      <th>Working capital</th>\n",
       "      <td>USD</td>\n",
       "      <td>9.04e+06</td>\n",
       "    </tr>\n",
       "    <tr>\n",
       "      <th>Total capital investment</th>\n",
       "      <td>USD</td>\n",
       "      <td>1.9e+08</td>\n",
       "    </tr>\n",
       "    <tr>\n",
       "      <th>Depreciation</th>\n",
       "      <td>USD/yr</td>\n",
       "      <td>9.04e+06</td>\n",
       "    </tr>\n",
       "    <tr>\n",
       "      <th>Utility cost</th>\n",
       "      <td>USD/yr</td>\n",
       "      <td>-1.49e+07</td>\n",
       "    </tr>\n",
       "    <tr>\n",
       "      <th>Material cost</th>\n",
       "      <td>USD/yr</td>\n",
       "      <td>62411869.60486618</td>\n",
       "    </tr>\n",
       "    <tr>\n",
       "      <th>Sales</th>\n",
       "      <td>USD/yr</td>\n",
       "      <td>106078904.28890917</td>\n",
       "    </tr>\n",
       "    <tr>\n",
       "      <th>Labor</th>\n",
       "      <td>USD/yr</td>\n",
       "      <td>2.5e+06</td>\n",
       "    </tr>\n",
       "    <tr>\n",
       "      <th>Annual operating cost</th>\n",
       "      <td>USD/yr</td>\n",
       "      <td>6.43e+07</td>\n",
       "    </tr>\n",
       "    <tr>\n",
       "      <th>Net present value</th>\n",
       "      <td>USD</td>\n",
       "      <td>1.26e+07</td>\n",
       "    </tr>\n",
       "    <tr>\n",
       "      <th>Return on investment</th>\n",
       "      <td>1/yr</td>\n",
       "      <td>0.1429262441947507</td>\n",
       "    </tr>\n",
       "    <tr>\n",
       "      <th>Pay back period</th>\n",
       "      <td>yr</td>\n",
       "      <td>5</td>\n",
       "    </tr>\n",
       "  </tbody>\n",
       "</table>\n",
       "</div>"
      ],
      "text/plain": [
       "                           Units               Value\n",
       "Fixed capital investment     USD            1.81e+08\n",
       "Working capital              USD            9.04e+06\n",
       "Total capital investment     USD             1.9e+08\n",
       "Depreciation              USD/yr            9.04e+06\n",
       "Utility cost              USD/yr           -1.49e+07\n",
       "Material cost             USD/yr   62411869.60486618\n",
       "Sales                     USD/yr  106078904.28890917\n",
       "Labor                     USD/yr             2.5e+06\n",
       "Annual operating cost     USD/yr            6.43e+07\n",
       "Net present value            USD            1.26e+07\n",
       "Return on investment        1/yr  0.1429262441947507\n",
       "Pay back period               yr                   5"
      ]
     },
     "execution_count": 4,
     "metadata": {},
     "output_type": "execute_result"
    }
   ],
   "source": [
    "lipidcane_tea.results()"
   ]
  },
  {
   "cell_type": "markdown",
   "metadata": {},
   "source": [
    "The complete cashflow analysis is stored as a DataFrame object:"
   ]
  },
  {
   "cell_type": "code",
   "execution_count": 5,
   "metadata": {},
   "outputs": [
    {
     "data": {
      "text/html": [
       "<div>\n",
       "<style scoped>\n",
       "    .dataframe tbody tr th:only-of-type {\n",
       "        vertical-align: middle;\n",
       "    }\n",
       "\n",
       "    .dataframe tbody tr th {\n",
       "        vertical-align: top;\n",
       "    }\n",
       "\n",
       "    .dataframe thead th {\n",
       "        text-align: right;\n",
       "    }\n",
       "</style>\n",
       "<table border=\"1\" class=\"dataframe\">\n",
       "  <thead>\n",
       "    <tr style=\"text-align: right;\">\n",
       "      <th></th>\n",
       "      <th>Depreciable capital</th>\n",
       "      <th>Working capital</th>\n",
       "      <th>Depreciation</th>\n",
       "      <th>Annual operating cost (excl. depr.)</th>\n",
       "      <th>Sales</th>\n",
       "      <th>Net earnings</th>\n",
       "      <th>Cash flow</th>\n",
       "      <th>Discounted cash flow</th>\n",
       "      <th>Cumulative cash flow</th>\n",
       "    </tr>\n",
       "  </thead>\n",
       "  <tbody>\n",
       "    <tr>\n",
       "      <th>2020</th>\n",
       "      <td>7.23e+07</td>\n",
       "      <td>0</td>\n",
       "      <td>0</td>\n",
       "      <td>0</td>\n",
       "      <td>0</td>\n",
       "      <td>0</td>\n",
       "      <td>-7.23e+07</td>\n",
       "      <td>-7.23e+07</td>\n",
       "      <td>-7.23e+07</td>\n",
       "    </tr>\n",
       "    <tr>\n",
       "      <th>2021</th>\n",
       "      <td>1.08e+08</td>\n",
       "      <td>0</td>\n",
       "      <td>0</td>\n",
       "      <td>0</td>\n",
       "      <td>0</td>\n",
       "      <td>0</td>\n",
       "      <td>-1.08e+08</td>\n",
       "      <td>-9.23e+07</td>\n",
       "      <td>-1.65e+08</td>\n",
       "    </tr>\n",
       "    <tr>\n",
       "      <th>2022</th>\n",
       "      <td>0</td>\n",
       "      <td>9.04e+06</td>\n",
       "      <td>2.58e+07</td>\n",
       "      <td>5.53e+07</td>\n",
       "      <td>1.06e+08</td>\n",
       "      <td>1.62e+07</td>\n",
       "      <td>3.3e+07</td>\n",
       "      <td>2.39e+07</td>\n",
       "      <td>-1.41e+08</td>\n",
       "    </tr>\n",
       "    <tr>\n",
       "      <th>2023</th>\n",
       "      <td>0</td>\n",
       "      <td>0</td>\n",
       "      <td>4.43e+07</td>\n",
       "      <td>5.53e+07</td>\n",
       "      <td>1.06e+08</td>\n",
       "      <td>4.23e+06</td>\n",
       "      <td>4.85e+07</td>\n",
       "      <td>2.99e+07</td>\n",
       "      <td>-1.11e+08</td>\n",
       "    </tr>\n",
       "    <tr>\n",
       "      <th>2024</th>\n",
       "      <td>0</td>\n",
       "      <td>0</td>\n",
       "      <td>3.16e+07</td>\n",
       "      <td>5.53e+07</td>\n",
       "      <td>1.06e+08</td>\n",
       "      <td>1.25e+07</td>\n",
       "      <td>4.41e+07</td>\n",
       "      <td>2.31e+07</td>\n",
       "      <td>-8.77e+07</td>\n",
       "    </tr>\n",
       "    <tr>\n",
       "      <th>2025</th>\n",
       "      <td>0</td>\n",
       "      <td>0</td>\n",
       "      <td>2.26e+07</td>\n",
       "      <td>5.53e+07</td>\n",
       "      <td>1.06e+08</td>\n",
       "      <td>1.83e+07</td>\n",
       "      <td>4.09e+07</td>\n",
       "      <td>1.83e+07</td>\n",
       "      <td>-6.94e+07</td>\n",
       "    </tr>\n",
       "    <tr>\n",
       "      <th>2026</th>\n",
       "      <td>0</td>\n",
       "      <td>0</td>\n",
       "      <td>1.61e+07</td>\n",
       "      <td>5.53e+07</td>\n",
       "      <td>1.06e+08</td>\n",
       "      <td>2.25e+07</td>\n",
       "      <td>3.87e+07</td>\n",
       "      <td>1.47e+07</td>\n",
       "      <td>-5.48e+07</td>\n",
       "    </tr>\n",
       "    <tr>\n",
       "      <th>2027</th>\n",
       "      <td>0</td>\n",
       "      <td>0</td>\n",
       "      <td>1.61e+07</td>\n",
       "      <td>5.53e+07</td>\n",
       "      <td>1.06e+08</td>\n",
       "      <td>2.25e+07</td>\n",
       "      <td>3.87e+07</td>\n",
       "      <td>1.25e+07</td>\n",
       "      <td>-4.23e+07</td>\n",
       "    </tr>\n",
       "    <tr>\n",
       "      <th>2028</th>\n",
       "      <td>0</td>\n",
       "      <td>0</td>\n",
       "      <td>1.61e+07</td>\n",
       "      <td>5.53e+07</td>\n",
       "      <td>1.06e+08</td>\n",
       "      <td>2.25e+07</td>\n",
       "      <td>3.87e+07</td>\n",
       "      <td>1.06e+07</td>\n",
       "      <td>-3.16e+07</td>\n",
       "    </tr>\n",
       "    <tr>\n",
       "      <th>2029</th>\n",
       "      <td>0</td>\n",
       "      <td>0</td>\n",
       "      <td>8.06e+06</td>\n",
       "      <td>5.53e+07</td>\n",
       "      <td>1.06e+08</td>\n",
       "      <td>2.78e+07</td>\n",
       "      <td>3.58e+07</td>\n",
       "      <td>8.39e+06</td>\n",
       "      <td>-2.32e+07</td>\n",
       "    </tr>\n",
       "    <tr>\n",
       "      <th>2030</th>\n",
       "      <td>0</td>\n",
       "      <td>0</td>\n",
       "      <td>0</td>\n",
       "      <td>5.53e+07</td>\n",
       "      <td>1.06e+08</td>\n",
       "      <td>3.3e+07</td>\n",
       "      <td>3.3e+07</td>\n",
       "      <td>6.58e+06</td>\n",
       "      <td>-1.66e+07</td>\n",
       "    </tr>\n",
       "    <tr>\n",
       "      <th>2031</th>\n",
       "      <td>0</td>\n",
       "      <td>0</td>\n",
       "      <td>0</td>\n",
       "      <td>5.53e+07</td>\n",
       "      <td>1.06e+08</td>\n",
       "      <td>3.3e+07</td>\n",
       "      <td>3.3e+07</td>\n",
       "      <td>5.6e+06</td>\n",
       "      <td>-1.1e+07</td>\n",
       "    </tr>\n",
       "    <tr>\n",
       "      <th>2032</th>\n",
       "      <td>0</td>\n",
       "      <td>0</td>\n",
       "      <td>0</td>\n",
       "      <td>5.53e+07</td>\n",
       "      <td>1.06e+08</td>\n",
       "      <td>3.3e+07</td>\n",
       "      <td>3.3e+07</td>\n",
       "      <td>4.77e+06</td>\n",
       "      <td>-6.27e+06</td>\n",
       "    </tr>\n",
       "    <tr>\n",
       "      <th>2033</th>\n",
       "      <td>0</td>\n",
       "      <td>0</td>\n",
       "      <td>0</td>\n",
       "      <td>5.53e+07</td>\n",
       "      <td>1.06e+08</td>\n",
       "      <td>3.3e+07</td>\n",
       "      <td>3.3e+07</td>\n",
       "      <td>4.06e+06</td>\n",
       "      <td>-2.21e+06</td>\n",
       "    </tr>\n",
       "    <tr>\n",
       "      <th>2034</th>\n",
       "      <td>0</td>\n",
       "      <td>0</td>\n",
       "      <td>0</td>\n",
       "      <td>5.53e+07</td>\n",
       "      <td>1.06e+08</td>\n",
       "      <td>3.3e+07</td>\n",
       "      <td>3.3e+07</td>\n",
       "      <td>3.45e+06</td>\n",
       "      <td>1.24e+06</td>\n",
       "    </tr>\n",
       "    <tr>\n",
       "      <th>2035</th>\n",
       "      <td>0</td>\n",
       "      <td>0</td>\n",
       "      <td>0</td>\n",
       "      <td>5.53e+07</td>\n",
       "      <td>1.06e+08</td>\n",
       "      <td>3.3e+07</td>\n",
       "      <td>3.3e+07</td>\n",
       "      <td>2.94e+06</td>\n",
       "      <td>4.18e+06</td>\n",
       "    </tr>\n",
       "    <tr>\n",
       "      <th>2036</th>\n",
       "      <td>0</td>\n",
       "      <td>0</td>\n",
       "      <td>0</td>\n",
       "      <td>5.53e+07</td>\n",
       "      <td>1.06e+08</td>\n",
       "      <td>3.3e+07</td>\n",
       "      <td>3.3e+07</td>\n",
       "      <td>2.5e+06</td>\n",
       "      <td>6.68e+06</td>\n",
       "    </tr>\n",
       "    <tr>\n",
       "      <th>2037</th>\n",
       "      <td>0</td>\n",
       "      <td>0</td>\n",
       "      <td>0</td>\n",
       "      <td>5.53e+07</td>\n",
       "      <td>1.06e+08</td>\n",
       "      <td>3.3e+07</td>\n",
       "      <td>3.3e+07</td>\n",
       "      <td>2.13e+06</td>\n",
       "      <td>8.81e+06</td>\n",
       "    </tr>\n",
       "    <tr>\n",
       "      <th>2038</th>\n",
       "      <td>0</td>\n",
       "      <td>0</td>\n",
       "      <td>0</td>\n",
       "      <td>5.53e+07</td>\n",
       "      <td>1.06e+08</td>\n",
       "      <td>3.3e+07</td>\n",
       "      <td>3.3e+07</td>\n",
       "      <td>1.81e+06</td>\n",
       "      <td>1.06e+07</td>\n",
       "    </tr>\n",
       "    <tr>\n",
       "      <th>2039</th>\n",
       "      <td>0</td>\n",
       "      <td>-9.04e+06</td>\n",
       "      <td>0</td>\n",
       "      <td>5.53e+07</td>\n",
       "      <td>1.06e+08</td>\n",
       "      <td>3.3e+07</td>\n",
       "      <td>4.21e+07</td>\n",
       "      <td>1.96e+06</td>\n",
       "      <td>1.26e+07</td>\n",
       "    </tr>\n",
       "  </tbody>\n",
       "</table>\n",
       "</div>"
      ],
      "text/plain": [
       "      Depreciable capital  Working capital  Depreciation  \\\n",
       "2020             7.23e+07                0             0   \n",
       "2021             1.08e+08                0             0   \n",
       "2022                    0         9.04e+06      2.58e+07   \n",
       "2023                    0                0      4.43e+07   \n",
       "2024                    0                0      3.16e+07   \n",
       "2025                    0                0      2.26e+07   \n",
       "2026                    0                0      1.61e+07   \n",
       "2027                    0                0      1.61e+07   \n",
       "2028                    0                0      1.61e+07   \n",
       "2029                    0                0      8.06e+06   \n",
       "2030                    0                0             0   \n",
       "2031                    0                0             0   \n",
       "2032                    0                0             0   \n",
       "2033                    0                0             0   \n",
       "2034                    0                0             0   \n",
       "2035                    0                0             0   \n",
       "2036                    0                0             0   \n",
       "2037                    0                0             0   \n",
       "2038                    0                0             0   \n",
       "2039                    0        -9.04e+06             0   \n",
       "\n",
       "      Annual operating cost (excl. depr.)    Sales  Net earnings  Cash flow  \\\n",
       "2020                                   0         0             0  -7.23e+07   \n",
       "2021                                   0         0             0  -1.08e+08   \n",
       "2022                            5.53e+07  1.06e+08      1.62e+07    3.3e+07   \n",
       "2023                            5.53e+07  1.06e+08      4.23e+06   4.85e+07   \n",
       "2024                            5.53e+07  1.06e+08      1.25e+07   4.41e+07   \n",
       "2025                            5.53e+07  1.06e+08      1.83e+07   4.09e+07   \n",
       "2026                            5.53e+07  1.06e+08      2.25e+07   3.87e+07   \n",
       "2027                            5.53e+07  1.06e+08      2.25e+07   3.87e+07   \n",
       "2028                            5.53e+07  1.06e+08      2.25e+07   3.87e+07   \n",
       "2029                            5.53e+07  1.06e+08      2.78e+07   3.58e+07   \n",
       "2030                            5.53e+07  1.06e+08       3.3e+07    3.3e+07   \n",
       "2031                            5.53e+07  1.06e+08       3.3e+07    3.3e+07   \n",
       "2032                            5.53e+07  1.06e+08       3.3e+07    3.3e+07   \n",
       "2033                            5.53e+07  1.06e+08       3.3e+07    3.3e+07   \n",
       "2034                            5.53e+07  1.06e+08       3.3e+07    3.3e+07   \n",
       "2035                            5.53e+07  1.06e+08       3.3e+07    3.3e+07   \n",
       "2036                            5.53e+07  1.06e+08       3.3e+07    3.3e+07   \n",
       "2037                            5.53e+07  1.06e+08       3.3e+07    3.3e+07   \n",
       "2038                            5.53e+07  1.06e+08       3.3e+07    3.3e+07   \n",
       "2039                            5.53e+07  1.06e+08       3.3e+07   4.21e+07   \n",
       "\n",
       "      Discounted cash flow  Cumulative cash flow  \n",
       "2020             -7.23e+07             -7.23e+07  \n",
       "2021             -9.23e+07             -1.65e+08  \n",
       "2022              2.39e+07             -1.41e+08  \n",
       "2023              2.99e+07             -1.11e+08  \n",
       "2024              2.31e+07             -8.77e+07  \n",
       "2025              1.83e+07             -6.94e+07  \n",
       "2026              1.47e+07             -5.48e+07  \n",
       "2027              1.25e+07             -4.23e+07  \n",
       "2028              1.06e+07             -3.16e+07  \n",
       "2029              8.39e+06             -2.32e+07  \n",
       "2030              6.58e+06             -1.66e+07  \n",
       "2031               5.6e+06              -1.1e+07  \n",
       "2032              4.77e+06             -6.27e+06  \n",
       "2033              4.06e+06             -2.21e+06  \n",
       "2034              3.45e+06              1.24e+06  \n",
       "2035              2.94e+06              4.18e+06  \n",
       "2036               2.5e+06              6.68e+06  \n",
       "2037              2.13e+06              8.81e+06  \n",
       "2038              1.81e+06              1.06e+07  \n",
       "2039              1.96e+06              1.26e+07  "
      ]
     },
     "execution_count": 5,
     "metadata": {},
     "output_type": "execute_result"
    }
   ],
   "source": [
    "lipidcane_tea.cashflow"
   ]
  },
  {
   "cell_type": "markdown",
   "metadata": {},
   "source": [
    "### Find operating cost, price, and IRR"
   ]
  },
  {
   "cell_type": "markdown",
   "metadata": {},
   "source": [
    "Find production cost:"
   ]
  },
  {
   "cell_type": "code",
   "execution_count": 6,
   "metadata": {},
   "outputs": [
    {
     "data": {
      "text/plain": [
       "array([28621941.958, 35709670.073])"
      ]
     },
     "execution_count": 6,
     "metadata": {},
     "output_type": "execute_result"
    }
   ],
   "source": [
    "lipidcane_tea.operating_cost(bs.find('Ethanol'), bs.find('Biodiesel'))"
   ]
  },
  {
   "cell_type": "markdown",
   "metadata": {},
   "source": [
    "Solve for the price of a stream at the break even point:"
   ]
  },
  {
   "cell_type": "code",
   "execution_count": 7,
   "metadata": {},
   "outputs": [
    {
     "name": "stdout",
     "output_type": "stream",
     "text": [
      "Lipid cane price = 0.0372 USD/kg\n",
      "\n"
     ]
    }
   ],
   "source": [
    "feed = bs.find('Lipid cane')\n",
    "price = lipidcane_tea.solve_price(feed)\n",
    "print(f'Lipid cane price = {price:.3g} USD/kg\\n' )"
   ]
  },
  {
   "cell_type": "markdown",
   "metadata": {},
   "source": [
    "Solve for the IRR at the break even point:"
   ]
  },
  {
   "cell_type": "code",
   "execution_count": 8,
   "metadata": {},
   "outputs": [
    {
     "name": "stdout",
     "output_type": "stream",
     "text": [
      "IRR = 0.188\n"
     ]
    }
   ],
   "source": [
    "feed.price = 0.035\n",
    "IRR = lipidcane_tea.solve_IRR()\n",
    "print(f'IRR = {IRR:.3g}')"
   ]
  },
  {
   "cell_type": "markdown",
   "metadata": {},
   "source": [
    "### System report"
   ]
  },
  {
   "cell_type": "markdown",
   "metadata": {},
   "source": [
    "Save stream tables, utility requirements, itemized costs, TEA results, and a cash flow table:"
   ]
  },
  {
   "cell_type": "code",
   "execution_count": 9,
   "metadata": {},
   "outputs": [],
   "source": [
    "lc.lipidcane_sys.save_report('Lipidcane report.xlsx') # Try this on your computer and open excel"
   ]
  }
 ],
 "metadata": {
  "kernelspec": {
   "display_name": "Python 3",
   "language": "python",
   "name": "python3"
  },
  "language_info": {
   "codemirror_mode": {
    "name": "ipython",
    "version": 3
   },
   "file_extension": ".py",
   "mimetype": "text/x-python",
   "name": "python",
   "nbconvert_exporter": "python",
   "pygments_lexer": "ipython3",
   "version": "3.6.5"
  }
 },
 "nbformat": 4,
 "nbformat_minor": 2
}
