{
 "cells": [
  {
   "cell_type": "markdown",
   "metadata": {},
   "source": [
    "# Example: MixedStream\n",
    "# Multi-phase streams with liquid-LIQUID, and vapor-liquid equilibrium."
   ]
  },
  {
   "cell_type": "markdown",
   "metadata": {},
   "source": [
    "MixedStream is an extention of Stream with 's' (solid), 'l' (liquid), 'L' (LIQUID), and 'g' (gas) flow rates. The upper case 'LIQUID' denotes that it is a distinct phase than 'liquid'. "
   ]
  },
  {
   "cell_type": "markdown",
   "metadata": {},
   "source": [
    "### Creating MixedStream Objects"
   ]
  },
  {
   "cell_type": "markdown",
   "metadata": {},
   "source": [
    "Before initializing MixedStream objects, first set the species:"
   ]
  },
  {
   "cell_type": "code",
   "execution_count": 1,
   "metadata": {},
   "outputs": [
    {
     "name": "stdout",
     "output_type": "stream",
     "text": [
      "Species: ['Water', 'Ethanol']\n"
     ]
    }
   ],
   "source": [
    "from biosteam import MixedStream as MStream\n",
    "from biosteam import Species\n",
    "\n",
    "MStream.species = Species(['Water', 'Ethanol'])\n",
    "print(MStream.species)"
   ]
  },
  {
   "cell_type": "markdown",
   "metadata": {},
   "source": [
    "To initialize, you can set flow rates for different phases:"
   ]
  },
  {
   "cell_type": "code",
   "execution_count": 2,
   "metadata": {},
   "outputs": [
    {
     "name": "stdout",
     "output_type": "stream",
     "text": [
      "MixedStream: ms1\n",
      " phase: 'lg', T: 351.00 K, P: 101325 Pa\n",
      "\n",
      "         \u001b[37m\u001b[2mspecies  kmol/hr\u001b[0m\n",
      " liquid: Ethanol  1\n",
      "\n",
      " vapor:  Ethanol  2\n"
     ]
    }
   ],
   "source": [
    "ms1 = MStream(ID='ms1', liquid_flow=[1], vapor_flow=[2],\n",
    "              species=['Ethanol'], units='kmol/hr', T=351, P=101325)\n",
    "ms1.show()"
   ]
  },
  {
   "cell_type": "markdown",
   "metadata": {},
   "source": [
    "You can also assume the same order as given in the Species object by not specifying the species:"
   ]
  },
  {
   "cell_type": "code",
   "execution_count": 3,
   "metadata": {
    "scrolled": true
   },
   "outputs": [
    {
     "name": "stdout",
     "output_type": "stream",
     "text": [
      "MixedStream: ms2\n",
      " phase: 'lg', T: 370.00 K, P: 101325 Pa\n",
      "\n",
      "         \u001b[37m\u001b[2mspecies  kmol/hr\u001b[0m\n",
      " liquid: Water    1\n",
      "         Ethanol  2\n",
      "\n",
      " vapor:  Water    2\n",
      "         Ethanol  1\n"
     ]
    }
   ],
   "source": [
    "# The default units is kmol/hr and default P is 101325 Pa\n",
    "ms2 = MStream(ID='ms2', liquid_flow=[1, 2], vapor_flow=[2, 1], T=370)\n",
    "ms2.show()"
   ]
  },
  {
   "cell_type": "markdown",
   "metadata": {},
   "source": [
    "You can **view** flow rates differently by setting the show_format, but they will always be stored by mol."
   ]
  },
  {
   "cell_type": "code",
   "execution_count": 4,
   "metadata": {},
   "outputs": [
    {
     "name": "stdout",
     "output_type": "stream",
     "text": [
      "MixedStream: ms1\n",
      " phase: 'lg', T: 351.00 K, P: 101325 Pa\n",
      "\n",
      "         \u001b[37m\u001b[2mspecies  kg/hr\u001b[0m\n",
      " liquid: Ethanol  46.1\n",
      "\n",
      " vapor:  Ethanol  92.1\n"
     ]
    }
   ],
   "source": [
    "ms1.show_format = 'mass' # Options include 'mol', mass', 'vol', 'molfrac', 'massfrac', and 'volfrac'\n",
    "ms1.show()"
   ]
  },
  {
   "cell_type": "code",
   "execution_count": 5,
   "metadata": {},
   "outputs": [],
   "source": [
    "# Change back to view by mol:\n",
    "ms1.show_format = 'mol'"
   ]
  },
  {
   "cell_type": "markdown",
   "metadata": {},
   "source": [
    "### Getting and Setting Flow Rates"
   ]
  },
  {
   "cell_type": "markdown",
   "metadata": {},
   "source": [
    "Flow rates are stored in solid_mol, liquid_mol, LIQUID_mol, and vapor_mol properties."
   ]
  },
  {
   "cell_type": "code",
   "execution_count": 6,
   "metadata": {},
   "outputs": [
    {
     "data": {
      "text/plain": [
       "array([0., 0.])"
      ]
     },
     "execution_count": 6,
     "metadata": {},
     "output_type": "execute_result"
    }
   ],
   "source": [
    "ms1.solid_mol"
   ]
  },
  {
   "cell_type": "code",
   "execution_count": 7,
   "metadata": {},
   "outputs": [
    {
     "data": {
      "text/plain": [
       "array([0., 1.])"
      ]
     },
     "execution_count": 7,
     "metadata": {},
     "output_type": "execute_result"
    }
   ],
   "source": [
    "ms1.liquid_mol"
   ]
  },
  {
   "cell_type": "code",
   "execution_count": 8,
   "metadata": {},
   "outputs": [
    {
     "data": {
      "text/plain": [
       "array([0., 0.])"
      ]
     },
     "execution_count": 8,
     "metadata": {},
     "output_type": "execute_result"
    }
   ],
   "source": [
    "ms1.LIQUID_mol"
   ]
  },
  {
   "cell_type": "code",
   "execution_count": 9,
   "metadata": {},
   "outputs": [
    {
     "data": {
      "text/plain": [
       "array([0., 2.])"
      ]
     },
     "execution_count": 9,
     "metadata": {},
     "output_type": "execute_result"
    }
   ],
   "source": [
    "ms1.vapor_mol"
   ]
  },
  {
   "cell_type": "markdown",
   "metadata": {},
   "source": [
    "Assign flows using these properties:"
   ]
  },
  {
   "cell_type": "code",
   "execution_count": 10,
   "metadata": {},
   "outputs": [
    {
     "name": "stdout",
     "output_type": "stream",
     "text": [
      "MixedStream: ms1\n",
      " phase: 'lg', T: 351.00 K, P: 101325 Pa\n",
      "\n",
      "         \u001b[37m\u001b[2mspecies  kmol/hr\u001b[0m\n",
      " liquid: Water    2\n",
      "         Ethanol  1\n",
      "\n",
      " vapor:  Ethanol  3\n"
     ]
    }
   ],
   "source": [
    "ms1.liquid_mol = [2, 1]\n",
    "ms1.vapor_mol[1] = 3\n",
    "ms1.show()"
   ]
  },
  {
   "cell_type": "markdown",
   "metadata": {},
   "source": [
    "Assign flows through the set_mass or set_vol methods:"
   ]
  },
  {
   "cell_type": "code",
   "execution_count": 11,
   "metadata": {},
   "outputs": [
    {
     "name": "stdout",
     "output_type": "stream",
     "text": [
      "MixedStream: ms1\n",
      " phase: 'lg', T: 351.00 K, P: 101325 Pa\n",
      "\n",
      "         \u001b[37m\u001b[2mspecies  kmol/hr\u001b[0m\n",
      " liquid: Water    2\n",
      "         Ethanol  1\n",
      "\n",
      " vapor:  Water    0.555\n",
      "         Ethanol  3\n"
     ]
    }
   ],
   "source": [
    "# Set gas phase specie flow rate by index\n",
    "ms1.set_mass(10, phase='g', indx=0)\n",
    "ms1.show()"
   ]
  },
  {
   "cell_type": "code",
   "execution_count": 12,
   "metadata": {},
   "outputs": [
    {
     "name": "stdout",
     "output_type": "stream",
     "text": [
      "MixedStream: ms1\n",
      " phase: 'lg', T: 351.00 K, P: 101325 Pa\n",
      "\n",
      "         \u001b[37m\u001b[2mspecies  kmol/hr\u001b[0m\n",
      " liquid: Water    5.39\n",
      "         Ethanol  3.19\n",
      "\n",
      " vapor:  Water    0.555\n",
      "         Ethanol  3\n"
     ]
    }
   ],
   "source": [
    "# Set liquid phase flow rates assuming same order as in species object\n",
    "ms1.set_vol([0.1, 0.2], phase='l')\n",
    "ms1.show()"
   ]
  },
  {
   "cell_type": "markdown",
   "metadata": {},
   "source": [
    "Get mass and volumetric flow rates, but these cannot be set:"
   ]
  },
  {
   "cell_type": "code",
   "execution_count": 13,
   "metadata": {},
   "outputs": [
    {
     "data": {
      "text/plain": [
       "tuple_array([ 97.085, 147.051])"
      ]
     },
     "execution_count": 13,
     "metadata": {},
     "output_type": "execute_result"
    }
   ],
   "source": [
    "ms1.liquid_mass"
   ]
  },
  {
   "cell_type": "code",
   "execution_count": 14,
   "metadata": {},
   "outputs": [
    {
     "data": {
      "text/plain": [
       "tuple_array([0.1, 0.2])"
      ]
     },
     "execution_count": 14,
     "metadata": {},
     "output_type": "execute_result"
    }
   ],
   "source": [
    "ms1.liquid_vol"
   ]
  },
  {
   "cell_type": "code",
   "execution_count": 15,
   "metadata": {},
   "outputs": [
    {
     "ename": "TypeError",
     "evalue": "Items in a 'tuple_array' object cannot be changed.",
     "output_type": "error",
     "traceback": [
      "\u001b[1;31m---------------------------------------------------------------------------\u001b[0m",
      "\u001b[1;31mTypeError\u001b[0m                                 Traceback (most recent call last)",
      "\u001b[1;32m<ipython-input-15-629d4112fb54>\u001b[0m in \u001b[0;36m<module>\u001b[1;34m()\u001b[0m\n\u001b[1;32m----> 1\u001b[1;33m \u001b[0mms1\u001b[0m\u001b[1;33m.\u001b[0m\u001b[0mliquid_mass\u001b[0m\u001b[1;33m[\u001b[0m\u001b[1;36m1\u001b[0m\u001b[1;33m]\u001b[0m \u001b[1;33m=\u001b[0m \u001b[1;36m20\u001b[0m\u001b[1;33m\u001b[0m\u001b[0m\n\u001b[0m",
      "\u001b[1;32m~\\Dropbox\\Cortes-Pena-Guest_Shared\\Code\\LipidCane\\biosteam\\Stream.py\u001b[0m in \u001b[0;36m__setitem__\u001b[1;34m(self, key, val)\u001b[0m\n\u001b[0;32m     81\u001b[0m      \u001b[1;32mdef\u001b[0m \u001b[0m__setitem__\u001b[0m\u001b[1;33m(\u001b[0m\u001b[0mself\u001b[0m\u001b[1;33m,\u001b[0m \u001b[0mkey\u001b[0m\u001b[1;33m,\u001b[0m \u001b[0mval\u001b[0m\u001b[1;33m)\u001b[0m\u001b[1;33m:\u001b[0m\u001b[1;33m\u001b[0m\u001b[0m\n\u001b[0;32m     82\u001b[0m           \u001b[1;32mif\u001b[0m \u001b[0mself\u001b[0m\u001b[1;33m.\u001b[0m\u001b[0mSAFE\u001b[0m\u001b[1;33m:\u001b[0m\u001b[1;33m\u001b[0m\u001b[0m\n\u001b[1;32m---> 83\u001b[1;33m                \u001b[1;32mraise\u001b[0m \u001b[0mTypeError\u001b[0m\u001b[1;33m(\u001b[0m\u001b[0mtuple_array_error\u001b[0m\u001b[1;33m)\u001b[0m\u001b[1;33m\u001b[0m\u001b[0m\n\u001b[0m\u001b[0;32m     84\u001b[0m           \u001b[1;32melse\u001b[0m\u001b[1;33m:\u001b[0m\u001b[1;33m\u001b[0m\u001b[0m\n\u001b[0;32m     85\u001b[0m                \u001b[0msuper\u001b[0m\u001b[1;33m(\u001b[0m\u001b[1;33m)\u001b[0m\u001b[1;33m.\u001b[0m\u001b[0m__setitem__\u001b[0m\u001b[1;33m(\u001b[0m\u001b[0mkey\u001b[0m\u001b[1;33m,\u001b[0m \u001b[0mval\u001b[0m\u001b[1;33m)\u001b[0m\u001b[1;33m\u001b[0m\u001b[0m\n",
      "\u001b[1;31mTypeError\u001b[0m: Items in a 'tuple_array' object cannot be changed."
     ]
    }
   ],
   "source": [
    "ms1.liquid_mass[1] = 20"
   ]
  },
  {
   "cell_type": "code",
   "execution_count": 16,
   "metadata": {},
   "outputs": [
    {
     "ename": "TypeError",
     "evalue": "liquid_vol() takes 1 positional argument but 2 were given",
     "output_type": "error",
     "traceback": [
      "\u001b[1;31m---------------------------------------------------------------------------\u001b[0m",
      "\u001b[1;31mTypeError\u001b[0m                                 Traceback (most recent call last)",
      "\u001b[1;32m<ipython-input-16-99a1d405477b>\u001b[0m in \u001b[0;36m<module>\u001b[1;34m()\u001b[0m\n\u001b[1;32m----> 1\u001b[1;33m \u001b[0mms1\u001b[0m\u001b[1;33m.\u001b[0m\u001b[0mliquid_vol\u001b[0m \u001b[1;33m=\u001b[0m \u001b[1;33m[\u001b[0m\u001b[1;36m1\u001b[0m\u001b[1;33m,\u001b[0m \u001b[1;36m2\u001b[0m\u001b[1;33m]\u001b[0m\u001b[1;33m\u001b[0m\u001b[0m\n\u001b[0m",
      "\u001b[1;31mTypeError\u001b[0m: liquid_vol() takes 1 positional argument but 2 were given"
     ]
    }
   ],
   "source": [
    "ms1.liquid_vol = [1, 2]"
   ]
  },
  {
   "cell_type": "markdown",
   "metadata": {},
   "source": [
    "`Note: tuple_array objects are arrays for which items cannot be changed. This is used to prevent users from changing non-molar flow rate properties, and assume that the flow rates have changed.`\n",
    "   \n"
   ]
  },
  {
   "cell_type": "markdown",
   "metadata": {},
   "source": [
    "### Single Phase Flow Properties:"
   ]
  },
  {
   "cell_type": "markdown",
   "metadata": {},
   "source": [
    "Add 'net' to get the net flow rate "
   ]
  },
  {
   "cell_type": "code",
   "execution_count": 17,
   "metadata": {},
   "outputs": [
    {
     "data": {
      "text/plain": [
       "8.581060526320748"
      ]
     },
     "execution_count": 17,
     "metadata": {},
     "output_type": "execute_result"
    }
   ],
   "source": [
    "ms1.liquid_molnet"
   ]
  },
  {
   "cell_type": "code",
   "execution_count": 18,
   "metadata": {},
   "outputs": [
    {
     "data": {
      "text/plain": [
       "148.20532"
      ]
     },
     "execution_count": 18,
     "metadata": {},
     "output_type": "execute_result"
    }
   ],
   "source": [
    "ms1.vapor_massnet"
   ]
  },
  {
   "cell_type": "code",
   "execution_count": 19,
   "metadata": {},
   "outputs": [
    {
     "data": {
      "text/plain": [
       "0.0"
      ]
     },
     "execution_count": 19,
     "metadata": {},
     "output_type": "execute_result"
    }
   ],
   "source": [
    "ms1.solid_volnet"
   ]
  },
  {
   "cell_type": "markdown",
   "metadata": {},
   "source": [
    "Add 'frac' to get the composition"
   ]
  },
  {
   "cell_type": "code",
   "execution_count": 20,
   "metadata": {},
   "outputs": [
    {
     "data": {
      "text/plain": [
       "tuple_array([0.156, 0.844])"
      ]
     },
     "execution_count": 20,
     "metadata": {},
     "output_type": "execute_result"
    }
   ],
   "source": [
    "ms1.vapor_molfrac"
   ]
  },
  {
   "cell_type": "code",
   "execution_count": 21,
   "metadata": {},
   "outputs": [
    {
     "data": {
      "text/plain": [
       "tuple_array([0.398, 0.602])"
      ]
     },
     "execution_count": 21,
     "metadata": {},
     "output_type": "execute_result"
    }
   ],
   "source": [
    "ms1.liquid_massfrac"
   ]
  },
  {
   "cell_type": "code",
   "execution_count": 22,
   "metadata": {},
   "outputs": [
    {
     "data": {
      "text/plain": [
       "tuple_array([0.5, 0.5])"
      ]
     },
     "execution_count": 22,
     "metadata": {},
     "output_type": "execute_result"
    }
   ],
   "source": [
    "ms1.solid_volfrac"
   ]
  },
  {
   "cell_type": "markdown",
   "metadata": {},
   "source": [
    "`Note: When a phase has no flow rate, all specie fractions will be equal.`"
   ]
  },
  {
   "cell_type": "markdown",
   "metadata": {},
   "source": [
    "### Overall Flow Properties:"
   ]
  },
  {
   "cell_type": "code",
   "execution_count": 23,
   "metadata": {},
   "outputs": [
    {
     "data": {
      "text/plain": [
       "tuple_array([5.944, 6.192])"
      ]
     },
     "execution_count": 23,
     "metadata": {},
     "output_type": "execute_result"
    }
   ],
   "source": [
    "ms1.mol"
   ]
  },
  {
   "cell_type": "code",
   "execution_count": 24,
   "metadata": {},
   "outputs": [
    {
     "data": {
      "text/plain": [
       "tuple_array([107.085, 285.257])"
      ]
     },
     "execution_count": 24,
     "metadata": {},
     "output_type": "execute_result"
    }
   ],
   "source": [
    "ms1.mass"
   ]
  },
  {
   "cell_type": "code",
   "execution_count": 25,
   "metadata": {},
   "outputs": [
    {
     "data": {
      "text/plain": [
       "tuple_array([0.2, 0.4])"
      ]
     },
     "execution_count": 25,
     "metadata": {},
     "output_type": "execute_result"
    }
   ],
   "source": [
    "ms1.vol"
   ]
  },
  {
   "cell_type": "markdown",
   "metadata": {},
   "source": [
    "`Note: Overall flow rate properties 'molnet', 'massnet', 'volnet', 'molfrac', 'massfrac', and 'volfrac' are also available`"
   ]
  },
  {
   "cell_type": "markdown",
   "metadata": {},
   "source": [
    "### Material and Thermodynamic Properties"
   ]
  },
  {
   "cell_type": "markdown",
   "metadata": {},
   "source": [
    "Access the same properties as Stream objects:"
   ]
  },
  {
   "cell_type": "code",
   "execution_count": 26,
   "metadata": {},
   "outputs": [
    {
     "data": {
      "text/plain": [
       "204334.2743237495"
      ]
     },
     "execution_count": 26,
     "metadata": {},
     "output_type": "execute_result"
    }
   ],
   "source": [
    "ms1.H # Enthalpy (kJ/hr) "
   ]
  },
  {
   "cell_type": "code",
   "execution_count": 27,
   "metadata": {},
   "outputs": [
    {
     "data": {
      "text/plain": [
       "653.9028008091028"
      ]
     },
     "execution_count": 27,
     "metadata": {},
     "output_type": "execute_result"
    }
   ],
   "source": [
    "ms1.rho # Density (kg/m3)"
   ]
  },
  {
   "cell_type": "markdown",
   "metadata": {},
   "source": [
    "A dictionary of units of measure is available:"
   ]
  },
  {
   "cell_type": "code",
   "execution_count": 28,
   "metadata": {},
   "outputs": [
    {
     "name": "stdout",
     "output_type": "stream",
     "text": [
      "Units of measure\n",
      "{'MW': 'g/mol',\n",
      " 'mass': 'kg/hr',\n",
      " 'mol': 'kmol/hr',\n",
      " 'vol': 'm3/hr',\n",
      " 'massnet': 'kg/hr',\n",
      " 'molnet': 'kmol/hr',\n",
      " 'volnet': 'm3/hr',\n",
      " 'massfrac': 'kg/kg',\n",
      " 'molfrac': 'kmol/kmol',\n",
      " 'volfrac': 'm3/m3',\n",
      " 'T': 'K',\n",
      " 'P': 'Pa',\n",
      " 'H': 'kJ/hr',\n",
      " 'S': 'kJ/hr',\n",
      " 'G': 'kJ/hr',\n",
      " 'U': 'kJ/hr',\n",
      " 'A': 'kJ/hr',\n",
      " 'Hf': 'kJ/hr',\n",
      " 'C': 'kJ/K/hr',\n",
      " 'Vm': 'm3/mol',\n",
      " 'Cpm': 'J/mol/K',\n",
      " 'Cp': 'J/g/K',\n",
      " 'rho': 'kg/m3',\n",
      " 'rhom': 'mol/m3',\n",
      " 'nu': 'm2/s',\n",
      " 'mu': 'Pa*s',\n",
      " 'sigma': 'N/m',\n",
      " 'k': 'W/m/K',\n",
      " 'alpha': 'm2/s'}\n"
     ]
    }
   ],
   "source": [
    "print(ms1.units) # See documentation for more information"
   ]
  },
  {
   "cell_type": "markdown",
   "metadata": {},
   "source": [
    "### Vapor-Liquid Equilibrium"
   ]
  },
  {
   "cell_type": "markdown",
   "metadata": {},
   "source": [
    "MixedStream objects can be used to calculate vapor-liquid equilibrium."
   ]
  },
  {
   "cell_type": "markdown",
   "metadata": {},
   "source": [
    "Adiabatic and isobaric conditions:"
   ]
  },
  {
   "cell_type": "code",
   "execution_count": 29,
   "metadata": {},
   "outputs": [
    {
     "name": "stdout",
     "output_type": "stream",
     "text": [
      "MixedStream: ms2\n",
      " phase: 'lg', T: 353.91 K, P: 101325 Pa\n",
      "\n",
      "         \u001b[37m\u001b[2mspecies  kmol/hr\u001b[0m\n",
      " liquid: Water    1.81\n",
      "         Ethanol  1.12\n",
      "\n",
      " vapor:  Water    1.19\n",
      "         Ethanol  1.88\n"
     ]
    }
   ],
   "source": [
    "ms2.VLE(species_ID=['Water', 'Ethanol'])\n",
    "ms2.show()"
   ]
  },
  {
   "cell_type": "markdown",
   "metadata": {},
   "source": [
    "Isothermal and isobaric conditions:"
   ]
  },
  {
   "cell_type": "code",
   "execution_count": 30,
   "metadata": {},
   "outputs": [
    {
     "name": "stdout",
     "output_type": "stream",
     "text": [
      "MixedStream: ms2\n",
      " phase: 'lg', T: 355.00 K, P: 101325 Pa\n",
      "\n",
      "         \u001b[37m\u001b[2mspecies  kmol/hr\u001b[0m\n",
      " liquid: Water    1.07\n",
      "         Ethanol  0.418\n",
      "\n",
      " vapor:  Water    1.93\n",
      "         Ethanol  2.58\n"
     ]
    }
   ],
   "source": [
    "ms2.VLE(species_ID=['Water', 'Ethanol'], T=355)\n",
    "ms2.show()"
   ]
  },
  {
   "cell_type": "markdown",
   "metadata": {},
   "source": [
    "Contant vapor fraction and isobaric conditions:"
   ]
  },
  {
   "cell_type": "code",
   "execution_count": 31,
   "metadata": {},
   "outputs": [
    {
     "name": "stdout",
     "output_type": "stream",
     "text": [
      "MixedStream: ms2\n",
      " phase: 'lg', T: 353.88 K, P: 101325 Pa\n",
      "\n",
      "         \u001b[37m\u001b[2mspecies  kmol/hr\u001b[0m\n",
      " liquid: Water    1.84\n",
      "         Ethanol  1.16\n",
      "\n",
      " vapor:  Water    1.16\n",
      "         Ethanol  1.84\n"
     ]
    }
   ],
   "source": [
    "ms2.VLE(species_ID=['Water', 'Ethanol'], V=0.5)\n",
    "ms2.show()"
   ]
  },
  {
   "cell_type": "markdown",
   "metadata": {},
   "source": [
    "`Note: It is also possible to set light and heave keys that are not used to calculate equilibrium. Please see documentation for more information.`"
   ]
  },
  {
   "cell_type": "markdown",
   "metadata": {},
   "source": [
    "### Liquid-LIQUID Equilibrium"
   ]
  },
  {
   "cell_type": "markdown",
   "metadata": {},
   "source": [
    "MixedStream objects can also be used to calculate liquid-LIQUID equilibrium"
   ]
  },
  {
   "cell_type": "code",
   "execution_count": 32,
   "metadata": {},
   "outputs": [
    {
     "name": "stdout",
     "output_type": "stream",
     "text": [
      "MixedStream: ms3\n",
      " phase: 'l', T: 298.15 K, P: 101325 Pa\n",
      "\n",
      "         \u001b[37m\u001b[2mspecies  kmol/hr\u001b[0m\n",
      " liquid: Water    2\n",
      "         Octanol  2\n"
     ]
    }
   ],
   "source": [
    "# Make stream\n",
    "ms3 = MStream('ms3', liquid_flow=[2, 2])\n",
    "# Set hydrophobic species just for this stream\n",
    "ms3.species = Species(['Water', 'Octanol'])\n",
    "ms3.show()"
   ]
  },
  {
   "cell_type": "markdown",
   "metadata": {},
   "source": [
    "Adiabatic and isobaric conditions"
   ]
  },
  {
   "cell_type": "code",
   "execution_count": 33,
   "metadata": {
    "scrolled": true
   },
   "outputs": [
    {
     "name": "stdout",
     "output_type": "stream",
     "text": [
      "MixedStream: ms3\n",
      " phase: 'lL', T: 298.15 K, P: 101325 Pa\n",
      "\n",
      "         \u001b[37m\u001b[2mspecies  kmol/hr\u001b[0m\n",
      " liquid: Water    0.332\n",
      "         Octanol  2\n",
      "\n",
      " LIQUID: Water    1.67\n",
      "         Octanol  0.000361\n"
     ]
    }
   ],
   "source": [
    "# Must set liquid-LIQUID guess splits\n",
    "ms3.LLE(species_ID=['Water', 'Octanol'], split=[0, 1]) \n",
    "ms3.show()"
   ]
  },
  {
   "cell_type": "markdown",
   "metadata": {},
   "source": [
    "`Note: LLE assumes no significat temperature change with phase partitioning, resulting in constant temperature.`"
   ]
  },
  {
   "cell_type": "markdown",
   "metadata": {},
   "source": [
    "Isothermal and isobaric conditions"
   ]
  },
  {
   "cell_type": "code",
   "execution_count": 34,
   "metadata": {},
   "outputs": [
    {
     "name": "stdout",
     "output_type": "stream",
     "text": [
      "MixedStream: ms3\n",
      " phase: 'lL', T: 340.00 K, P: 101325 Pa\n",
      "\n",
      "         \u001b[37m\u001b[2mspecies  kmol/hr\u001b[0m\n",
      " liquid: Water    0.5\n",
      "         Octanol  2\n",
      "\n",
      " LIQUID: Water    1.5\n",
      "         Octanol  0.000412\n"
     ]
    }
   ],
   "source": [
    "# Must set liquid-LIQUID guess splits\n",
    "ms3.LLE(species_ID=['Water', 'Octanol'], split=[0, 1], T=340) \n",
    "ms3.show()"
   ]
  },
  {
   "cell_type": "code",
   "execution_count": null,
   "metadata": {},
   "outputs": [],
   "source": []
  }
 ],
 "metadata": {
  "kernelspec": {
   "display_name": "Python 3",
   "language": "python",
   "name": "python3"
  },
  "language_info": {
   "codemirror_mode": {
    "name": "ipython",
    "version": 3
   },
   "file_extension": ".py",
   "mimetype": "text/x-python",
   "name": "python",
   "nbconvert_exporter": "python",
   "pygments_lexer": "ipython3",
   "version": "3.6.4"
  }
 },
 "nbformat": 4,
 "nbformat_minor": 2
}
