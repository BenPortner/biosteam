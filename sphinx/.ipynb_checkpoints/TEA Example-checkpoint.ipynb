{
 "cells": [
  {
   "cell_type": "markdown",
   "metadata": {},
   "source": [
    "# Techno-Economic Analysis Example"
   ]
  },
  {
   "cell_type": "markdown",
   "metadata": {},
   "source": [
    "### TEA objects can perform cash flow analysis on a System object"
   ]
  },
  {
   "cell_type": "markdown",
   "metadata": {},
   "source": [
    "Create a TEA object from a system:"
   ]
  },
  {
   "cell_type": "code",
   "execution_count": 1,
   "metadata": {},
   "outputs": [
    {
     "name": "stdout",
     "output_type": "stream",
     "text": [
      "TEA: lipid_cane_system\n",
      " NPV: \u001b[37m\u001b[22mNone\u001b[0m\n",
      " ROI: \u001b[37m\u001b[22mNone\u001b[0m\n",
      " PBP: \u001b[37m\u001b[22mNone\u001b[0m\n"
     ]
    }
   ],
   "source": [
    "import biosteam as bs\n",
    "import lipidcane as lc\n",
    "\n",
    "lc.lipidcane_sys.simulate()\n",
    "lipidcane_tea = bs.TEA(lc.lipidcane_sys)\n",
    "lipidcane_tea.show() # Show summary of results"
   ]
  },
  {
   "cell_type": "markdown",
   "metadata": {},
   "source": [
    "TEA objects have a long list of options for cash flow analysis:"
   ]
  },
  {
   "cell_type": "code",
   "execution_count": 2,
   "metadata": {},
   "outputs": [
    {
     "data": {
      "text/plain": [
       "{'Administration': 0.005,\n",
       " 'Delivery': 0,\n",
       " 'Depreciation': 'MACRS7',\n",
       " 'Duration': 20,\n",
       " 'Employees': 50,\n",
       " 'Fringe benefits': 0.4,\n",
       " 'IRR': 0.15,\n",
       " 'Income tax': 0.35,\n",
       " 'Land': 0,\n",
       " 'Lang factor': 4.37,\n",
       " 'Mantainance': 0.01,\n",
       " 'Operating days': 330,\n",
       " 'Other fixed capital': 0,\n",
       " 'Other recurring costs': 0,\n",
       " 'Property insurance': 0.005,\n",
       " 'Property tax': 0.001,\n",
       " 'Startup cost': 0,\n",
       " 'Startup schedule': (0.4, 0.6),\n",
       " 'Supplies': 0.2,\n",
       " 'Wage': 50000.0,\n",
       " 'Working capital': 0.05,\n",
       " 'Year': None}"
      ]
     },
     "execution_count": 2,
     "metadata": {},
     "output_type": "execute_result"
    }
   ],
   "source": [
    "lipidcane_tea.options"
   ]
  },
  {
   "cell_type": "markdown",
   "metadata": {},
   "source": [
    "Update options and run cash flow analysis:"
   ]
  },
  {
   "cell_type": "code",
   "execution_count": 3,
   "metadata": {},
   "outputs": [
    {
     "name": "stdout",
     "output_type": "stream",
     "text": [
      "TEA: lipid_cane_system\n",
      " NPV: 8.14e+06 \u001b[37m\u001b[22mUSD at 17.5% IRR\u001b[0m\n",
      " ROI: 0.138 \u001b[37m\u001b[22m1/yr\u001b[0m\n",
      " PBP: 5.14 \u001b[37m\u001b[22myr\u001b[0m\n"
     ]
    }
   ],
   "source": [
    "options = {'IRR': 0.175,\n",
    "           'Lang factor': 3.00,\n",
    "           'Operating days': 200,\n",
    "           'Year': 2020,\n",
    "           'Employees': 50,\n",
    "           'Administration': 0.005,\n",
    "           'Duration': 20}\n",
    "lipidcane_tea.options.update(options)\n",
    "lipidcane_tea.NPV() # run cash flow analysis\n",
    "lipidcane_tea.show()"
   ]
  },
  {
   "cell_type": "markdown",
   "metadata": {},
   "source": [
    "General results are stored as a dictionary:"
   ]
  },
  {
   "cell_type": "code",
   "execution_count": 4,
   "metadata": {},
   "outputs": [
    {
     "data": {
      "text/plain": [
       "{'Fixed capital investment': 1.86e+08\u001b[37m\u001b[22m (USD)\u001b[0m,\n",
       " 'Working capital': 9.31e+06\u001b[37m\u001b[22m (USD)\u001b[0m,\n",
       " 'Total capital investment': 1.95e+08\u001b[37m\u001b[22m (USD)\u001b[0m,\n",
       " 'Depreciation': 9.31e+06\u001b[37m\u001b[22m (USD/yr)\u001b[0m,\n",
       " 'Utility cost': -1.49e+07\u001b[37m\u001b[22m (USD/yr)\u001b[0m,\n",
       " 'Material cost': 6.24e+07\u001b[37m\u001b[22m (USD/yr)\u001b[0m,\n",
       " 'Sales': 1.06e+08\u001b[37m\u001b[22m (USD/yr)\u001b[0m,\n",
       " 'Labor': 2.5e+06\u001b[37m\u001b[22m (USD/yr)\u001b[0m,\n",
       " 'Annual operating cost': 6.47e+07\u001b[37m\u001b[22m (USD/yr)\u001b[0m,\n",
       " 'Net present value': 8.14e+06\u001b[37m\u001b[22m (USD)\u001b[0m,\n",
       " 'Return on investment': 0.138\u001b[37m\u001b[22m (1/yr)\u001b[0m,\n",
       " 'Pay back period': 5.14\u001b[37m\u001b[22m (yr)\u001b[0m}"
      ]
     },
     "execution_count": 4,
     "metadata": {},
     "output_type": "execute_result"
    }
   ],
   "source": [
    "lipidcane_tea.results"
   ]
  },
  {
   "cell_type": "markdown",
   "metadata": {},
   "source": [
    "The complete cashflow analysis is stored as a DataFrame object:"
   ]
  },
  {
   "cell_type": "code",
   "execution_count": 5,
   "metadata": {},
   "outputs": [
    {
     "data": {
      "text/html": [
       "<div>\n",
       "<style scoped>\n",
       "    .dataframe tbody tr th:only-of-type {\n",
       "        vertical-align: middle;\n",
       "    }\n",
       "\n",
       "    .dataframe tbody tr th {\n",
       "        vertical-align: top;\n",
       "    }\n",
       "\n",
       "    .dataframe thead th {\n",
       "        text-align: right;\n",
       "    }\n",
       "</style>\n",
       "<table border=\"1\" class=\"dataframe\">\n",
       "  <thead>\n",
       "    <tr style=\"text-align: right;\">\n",
       "      <th></th>\n",
       "      <th>Depreciable capital</th>\n",
       "      <th>Working capital</th>\n",
       "      <th>Depreciation</th>\n",
       "      <th>Annual operating cost (excl. depr.)</th>\n",
       "      <th>Sales</th>\n",
       "      <th>Net earnings</th>\n",
       "      <th>Cash flow</th>\n",
       "      <th>Discounted cash flow</th>\n",
       "      <th>Cumulative cash flow</th>\n",
       "    </tr>\n",
       "  </thead>\n",
       "  <tbody>\n",
       "    <tr>\n",
       "      <th>2020</th>\n",
       "      <td>7.45e+07</td>\n",
       "      <td>0</td>\n",
       "      <td>0</td>\n",
       "      <td>0</td>\n",
       "      <td>0</td>\n",
       "      <td>0</td>\n",
       "      <td>-7.45e+07</td>\n",
       "      <td>-7.45e+07</td>\n",
       "      <td>-7.45e+07</td>\n",
       "    </tr>\n",
       "    <tr>\n",
       "      <th>2021</th>\n",
       "      <td>1.12e+08</td>\n",
       "      <td>0</td>\n",
       "      <td>0</td>\n",
       "      <td>0</td>\n",
       "      <td>0</td>\n",
       "      <td>0</td>\n",
       "      <td>-1.12e+08</td>\n",
       "      <td>-9.51e+07</td>\n",
       "      <td>-1.7e+08</td>\n",
       "    </tr>\n",
       "    <tr>\n",
       "      <th>2022</th>\n",
       "      <td>0</td>\n",
       "      <td>9.31e+06</td>\n",
       "      <td>2.66e+07</td>\n",
       "      <td>5.54e+07</td>\n",
       "      <td>1.06e+08</td>\n",
       "      <td>1.56e+07</td>\n",
       "      <td>3.29e+07</td>\n",
       "      <td>2.39e+07</td>\n",
       "      <td>-1.46e+08</td>\n",
       "    </tr>\n",
       "    <tr>\n",
       "      <th>2023</th>\n",
       "      <td>0</td>\n",
       "      <td>0</td>\n",
       "      <td>4.56e+07</td>\n",
       "      <td>5.54e+07</td>\n",
       "      <td>1.06e+08</td>\n",
       "      <td>3.31e+06</td>\n",
       "      <td>4.89e+07</td>\n",
       "      <td>3.01e+07</td>\n",
       "      <td>-1.16e+08</td>\n",
       "    </tr>\n",
       "    <tr>\n",
       "      <th>2024</th>\n",
       "      <td>0</td>\n",
       "      <td>0</td>\n",
       "      <td>3.26e+07</td>\n",
       "      <td>5.54e+07</td>\n",
       "      <td>1.06e+08</td>\n",
       "      <td>1.18e+07</td>\n",
       "      <td>4.43e+07</td>\n",
       "      <td>2.33e+07</td>\n",
       "      <td>-9.23e+07</td>\n",
       "    </tr>\n",
       "    <tr>\n",
       "      <th>2025</th>\n",
       "      <td>0</td>\n",
       "      <td>0</td>\n",
       "      <td>2.32e+07</td>\n",
       "      <td>5.54e+07</td>\n",
       "      <td>1.06e+08</td>\n",
       "      <td>1.78e+07</td>\n",
       "      <td>4.11e+07</td>\n",
       "      <td>1.83e+07</td>\n",
       "      <td>-7.39e+07</td>\n",
       "    </tr>\n",
       "    <tr>\n",
       "      <th>2026</th>\n",
       "      <td>0</td>\n",
       "      <td>0</td>\n",
       "      <td>1.66e+07</td>\n",
       "      <td>5.54e+07</td>\n",
       "      <td>1.06e+08</td>\n",
       "      <td>2.21e+07</td>\n",
       "      <td>3.88e+07</td>\n",
       "      <td>1.47e+07</td>\n",
       "      <td>-5.92e+07</td>\n",
       "    </tr>\n",
       "    <tr>\n",
       "      <th>2027</th>\n",
       "      <td>0</td>\n",
       "      <td>0</td>\n",
       "      <td>1.66e+07</td>\n",
       "      <td>5.54e+07</td>\n",
       "      <td>1.06e+08</td>\n",
       "      <td>2.21e+07</td>\n",
       "      <td>3.88e+07</td>\n",
       "      <td>1.25e+07</td>\n",
       "      <td>-4.67e+07</td>\n",
       "    </tr>\n",
       "    <tr>\n",
       "      <th>2028</th>\n",
       "      <td>0</td>\n",
       "      <td>0</td>\n",
       "      <td>1.66e+07</td>\n",
       "      <td>5.54e+07</td>\n",
       "      <td>1.06e+08</td>\n",
       "      <td>2.21e+07</td>\n",
       "      <td>3.88e+07</td>\n",
       "      <td>1.07e+07</td>\n",
       "      <td>-3.6e+07</td>\n",
       "    </tr>\n",
       "    <tr>\n",
       "      <th>2029</th>\n",
       "      <td>0</td>\n",
       "      <td>0</td>\n",
       "      <td>8.3e+06</td>\n",
       "      <td>5.54e+07</td>\n",
       "      <td>1.06e+08</td>\n",
       "      <td>2.75e+07</td>\n",
       "      <td>3.58e+07</td>\n",
       "      <td>8.4e+06</td>\n",
       "      <td>-2.76e+07</td>\n",
       "    </tr>\n",
       "    <tr>\n",
       "      <th>2030</th>\n",
       "      <td>0</td>\n",
       "      <td>0</td>\n",
       "      <td>0</td>\n",
       "      <td>5.54e+07</td>\n",
       "      <td>1.06e+08</td>\n",
       "      <td>3.29e+07</td>\n",
       "      <td>3.29e+07</td>\n",
       "      <td>6.57e+06</td>\n",
       "      <td>-2.1e+07</td>\n",
       "    </tr>\n",
       "    <tr>\n",
       "      <th>2031</th>\n",
       "      <td>0</td>\n",
       "      <td>0</td>\n",
       "      <td>0</td>\n",
       "      <td>5.54e+07</td>\n",
       "      <td>1.06e+08</td>\n",
       "      <td>3.29e+07</td>\n",
       "      <td>3.29e+07</td>\n",
       "      <td>5.59e+06</td>\n",
       "      <td>-1.54e+07</td>\n",
       "    </tr>\n",
       "    <tr>\n",
       "      <th>2032</th>\n",
       "      <td>0</td>\n",
       "      <td>0</td>\n",
       "      <td>0</td>\n",
       "      <td>5.54e+07</td>\n",
       "      <td>1.06e+08</td>\n",
       "      <td>3.29e+07</td>\n",
       "      <td>3.29e+07</td>\n",
       "      <td>4.76e+06</td>\n",
       "      <td>-1.07e+07</td>\n",
       "    </tr>\n",
       "    <tr>\n",
       "      <th>2033</th>\n",
       "      <td>0</td>\n",
       "      <td>0</td>\n",
       "      <td>0</td>\n",
       "      <td>5.54e+07</td>\n",
       "      <td>1.06e+08</td>\n",
       "      <td>3.29e+07</td>\n",
       "      <td>3.29e+07</td>\n",
       "      <td>4.05e+06</td>\n",
       "      <td>-6.63e+06</td>\n",
       "    </tr>\n",
       "    <tr>\n",
       "      <th>2034</th>\n",
       "      <td>0</td>\n",
       "      <td>0</td>\n",
       "      <td>0</td>\n",
       "      <td>5.54e+07</td>\n",
       "      <td>1.06e+08</td>\n",
       "      <td>3.29e+07</td>\n",
       "      <td>3.29e+07</td>\n",
       "      <td>3.44e+06</td>\n",
       "      <td>-3.19e+06</td>\n",
       "    </tr>\n",
       "    <tr>\n",
       "      <th>2035</th>\n",
       "      <td>0</td>\n",
       "      <td>0</td>\n",
       "      <td>0</td>\n",
       "      <td>5.54e+07</td>\n",
       "      <td>1.06e+08</td>\n",
       "      <td>3.29e+07</td>\n",
       "      <td>3.29e+07</td>\n",
       "      <td>2.93e+06</td>\n",
       "      <td>-2.55e+05</td>\n",
       "    </tr>\n",
       "    <tr>\n",
       "      <th>2036</th>\n",
       "      <td>0</td>\n",
       "      <td>0</td>\n",
       "      <td>0</td>\n",
       "      <td>5.54e+07</td>\n",
       "      <td>1.06e+08</td>\n",
       "      <td>3.29e+07</td>\n",
       "      <td>3.29e+07</td>\n",
       "      <td>2.5e+06</td>\n",
       "      <td>2.24e+06</td>\n",
       "    </tr>\n",
       "    <tr>\n",
       "      <th>2037</th>\n",
       "      <td>0</td>\n",
       "      <td>0</td>\n",
       "      <td>0</td>\n",
       "      <td>5.54e+07</td>\n",
       "      <td>1.06e+08</td>\n",
       "      <td>3.29e+07</td>\n",
       "      <td>3.29e+07</td>\n",
       "      <td>2.12e+06</td>\n",
       "      <td>4.36e+06</td>\n",
       "    </tr>\n",
       "    <tr>\n",
       "      <th>2038</th>\n",
       "      <td>0</td>\n",
       "      <td>0</td>\n",
       "      <td>0</td>\n",
       "      <td>5.54e+07</td>\n",
       "      <td>1.06e+08</td>\n",
       "      <td>3.29e+07</td>\n",
       "      <td>3.29e+07</td>\n",
       "      <td>1.81e+06</td>\n",
       "      <td>6.17e+06</td>\n",
       "    </tr>\n",
       "    <tr>\n",
       "      <th>2039</th>\n",
       "      <td>0</td>\n",
       "      <td>-9.31e+06</td>\n",
       "      <td>0</td>\n",
       "      <td>5.54e+07</td>\n",
       "      <td>1.06e+08</td>\n",
       "      <td>3.29e+07</td>\n",
       "      <td>4.22e+07</td>\n",
       "      <td>1.97e+06</td>\n",
       "      <td>8.14e+06</td>\n",
       "    </tr>\n",
       "  </tbody>\n",
       "</table>\n",
       "</div>"
      ],
      "text/plain": [
       "      Depreciable capital  Working capital  Depreciation  \\\n",
       "2020             7.45e+07                0             0   \n",
       "2021             1.12e+08                0             0   \n",
       "2022                    0         9.31e+06      2.66e+07   \n",
       "2023                    0                0      4.56e+07   \n",
       "2024                    0                0      3.26e+07   \n",
       "2025                    0                0      2.32e+07   \n",
       "2026                    0                0      1.66e+07   \n",
       "2027                    0                0      1.66e+07   \n",
       "2028                    0                0      1.66e+07   \n",
       "2029                    0                0       8.3e+06   \n",
       "2030                    0                0             0   \n",
       "2031                    0                0             0   \n",
       "2032                    0                0             0   \n",
       "2033                    0                0             0   \n",
       "2034                    0                0             0   \n",
       "2035                    0                0             0   \n",
       "2036                    0                0             0   \n",
       "2037                    0                0             0   \n",
       "2038                    0                0             0   \n",
       "2039                    0        -9.31e+06             0   \n",
       "\n",
       "      Annual operating cost (excl. depr.)    Sales  Net earnings  Cash flow  \\\n",
       "2020                                   0         0             0  -7.45e+07   \n",
       "2021                                   0         0             0  -1.12e+08   \n",
       "2022                            5.54e+07  1.06e+08      1.56e+07   3.29e+07   \n",
       "2023                            5.54e+07  1.06e+08      3.31e+06   4.89e+07   \n",
       "2024                            5.54e+07  1.06e+08      1.18e+07   4.43e+07   \n",
       "2025                            5.54e+07  1.06e+08      1.78e+07   4.11e+07   \n",
       "2026                            5.54e+07  1.06e+08      2.21e+07   3.88e+07   \n",
       "2027                            5.54e+07  1.06e+08      2.21e+07   3.88e+07   \n",
       "2028                            5.54e+07  1.06e+08      2.21e+07   3.88e+07   \n",
       "2029                            5.54e+07  1.06e+08      2.75e+07   3.58e+07   \n",
       "2030                            5.54e+07  1.06e+08      3.29e+07   3.29e+07   \n",
       "2031                            5.54e+07  1.06e+08      3.29e+07   3.29e+07   \n",
       "2032                            5.54e+07  1.06e+08      3.29e+07   3.29e+07   \n",
       "2033                            5.54e+07  1.06e+08      3.29e+07   3.29e+07   \n",
       "2034                            5.54e+07  1.06e+08      3.29e+07   3.29e+07   \n",
       "2035                            5.54e+07  1.06e+08      3.29e+07   3.29e+07   \n",
       "2036                            5.54e+07  1.06e+08      3.29e+07   3.29e+07   \n",
       "2037                            5.54e+07  1.06e+08      3.29e+07   3.29e+07   \n",
       "2038                            5.54e+07  1.06e+08      3.29e+07   3.29e+07   \n",
       "2039                            5.54e+07  1.06e+08      3.29e+07   4.22e+07   \n",
       "\n",
       "      Discounted cash flow  Cumulative cash flow  \n",
       "2020             -7.45e+07             -7.45e+07  \n",
       "2021             -9.51e+07              -1.7e+08  \n",
       "2022              2.39e+07             -1.46e+08  \n",
       "2023              3.01e+07             -1.16e+08  \n",
       "2024              2.33e+07             -9.23e+07  \n",
       "2025              1.83e+07             -7.39e+07  \n",
       "2026              1.47e+07             -5.92e+07  \n",
       "2027              1.25e+07             -4.67e+07  \n",
       "2028              1.07e+07              -3.6e+07  \n",
       "2029               8.4e+06             -2.76e+07  \n",
       "2030              6.57e+06              -2.1e+07  \n",
       "2031              5.59e+06             -1.54e+07  \n",
       "2032              4.76e+06             -1.07e+07  \n",
       "2033              4.05e+06             -6.63e+06  \n",
       "2034              3.44e+06             -3.19e+06  \n",
       "2035              2.93e+06             -2.55e+05  \n",
       "2036               2.5e+06              2.24e+06  \n",
       "2037              2.12e+06              4.36e+06  \n",
       "2038              1.81e+06              6.17e+06  \n",
       "2039              1.97e+06              8.14e+06  "
      ]
     },
     "execution_count": 5,
     "metadata": {},
     "output_type": "execute_result"
    }
   ],
   "source": [
    "lipidcane_tea.cashflow"
   ]
  },
  {
   "cell_type": "markdown",
   "metadata": {},
   "source": [
    "Solve for the price of a stream at the break even point:"
   ]
  },
  {
   "cell_type": "code",
   "execution_count": 6,
   "metadata": {},
   "outputs": [
    {
     "name": "stdout",
     "output_type": "stream",
     "text": [
      "Lipid cane price = 0.0363 USD/kg\n",
      "\n"
     ]
    }
   ],
   "source": [
    "feed = bs.find('Lipid cane')\n",
    "price = lipidcane_tea.solve_price(feed)\n",
    "print(f'Lipid cane price = {price:.3g} USD/kg\\n' )"
   ]
  },
  {
   "cell_type": "markdown",
   "metadata": {},
   "source": [
    "Solve for the IRR at the break even point:"
   ]
  },
  {
   "cell_type": "code",
   "execution_count": 7,
   "metadata": {},
   "outputs": [
    {
     "name": "stdout",
     "output_type": "stream",
     "text": [
      "IRR = 0.182\n"
     ]
    }
   ],
   "source": [
    "feed.price = 0.035\n",
    "IRR = lipidcane_tea.solve_IRR()\n",
    "print(f'IRR = {IRR:.3g}')"
   ]
  }
 ],
 "metadata": {
  "kernelspec": {
   "display_name": "Python 3",
   "language": "python",
   "name": "python3"
  },
  "language_info": {
   "codemirror_mode": {
    "name": "ipython",
    "version": 3
   },
   "file_extension": ".py",
   "mimetype": "text/x-python",
   "name": "python",
   "nbconvert_exporter": "python",
   "pygments_lexer": "ipython3",
   "version": "3.6.4"
  }
 },
 "nbformat": 4,
 "nbformat_minor": 2
}
