{
 "cells": [
  {
   "cell_type": "markdown",
   "metadata": {},
   "source": [
    "# Tutorial"
   ]
  },
  {
   "cell_type": "markdown",
   "metadata": {},
   "source": [
    "### Get thermodynamic and material properties using Chemical objects"
   ]
  },
  {
   "cell_type": "markdown",
   "metadata": {},
   "source": [
    "Chemical objects are an extension of the [thermo.Chemical](http://thermo.readthedocs.io/en/latest/thermo.chemical.html) class from the Chemical Engineering Design Library."
   ]
  },
  {
   "cell_type": "markdown",
   "metadata": {},
   "source": [
    "Initiallize a Chemical object with an ID:"
   ]
  },
  {
   "cell_type": "code",
   "execution_count": 1,
   "metadata": {},
   "outputs": [
    {
     "data": {
      "text/plain": [
       "<Chemical: Water>"
      ]
     },
     "execution_count": 1,
     "metadata": {},
     "output_type": "execute_result"
    }
   ],
   "source": [
    "from biosteam import Chemical\n",
    "Water = Chemical('Water')\n",
    "Water"
   ]
  },
  {
   "cell_type": "markdown",
   "metadata": {},
   "source": [
    "Chemical objects have a temperature `T`, pressure `P`, and `phase`:"
   ]
  },
  {
   "cell_type": "code",
   "execution_count": 2,
   "metadata": {},
   "outputs": [
    {
     "data": {
      "text/plain": [
       "(298.15, 101325, 'l')"
      ]
     },
     "execution_count": 2,
     "metadata": {},
     "output_type": "execute_result"
    }
   ],
   "source": [
    "Water.T, Water.P, Water.phase"
   ]
  },
  {
   "cell_type": "markdown",
   "metadata": {},
   "source": [
    "All biosteam objects have a `show` method:"
   ]
  },
  {
   "cell_type": "code",
   "execution_count": 3,
   "metadata": {},
   "outputs": [
    {
     "name": "stdout",
     "output_type": "stream",
     "text": [
      "Chemical: Water\n",
      " phase: 'l', T: 298.15 K, P: 101325 Pa\n"
     ]
    }
   ],
   "source": [
    "Water.show()"
   ]
  },
  {
   "cell_type": "markdown",
   "metadata": {},
   "source": [
    "You can change the units for `show`:"
   ]
  },
  {
   "cell_type": "code",
   "execution_count": 4,
   "metadata": {},
   "outputs": [
    {
     "name": "stdout",
     "output_type": "stream",
     "text": [
      "Chemical: Water\n",
      " phase: 'l', T: 25 degC, P: 1 atm\n"
     ]
    }
   ],
   "source": [
    "Water.show(T='degC', P='atm')"
   ]
  },
  {
   "cell_type": "markdown",
   "metadata": {},
   "source": [
    "Chemical objects contain thermodynamic properties:"
   ]
  },
  {
   "cell_type": "code",
   "execution_count": 5,
   "metadata": {},
   "outputs": [
    {
     "data": {
      "text/plain": [
       "997.0247522552814"
      ]
     },
     "execution_count": 5,
     "metadata": {},
     "output_type": "execute_result"
    }
   ],
   "source": [
    "Water.rho # (kg/m3)"
   ]
  },
  {
   "cell_type": "markdown",
   "metadata": {},
   "source": [
    "These properties are dependent on temperature (T), pressure (P) and phase:"
   ]
  },
  {
   "cell_type": "code",
   "execution_count": 6,
   "metadata": {},
   "outputs": [
    {
     "data": {
      "text/plain": [
       "971.4427816206321"
      ]
     },
     "execution_count": 6,
     "metadata": {},
     "output_type": "execute_result"
    }
   ],
   "source": [
    "Water.T = 350 # (Kelvin)\n",
    "Water.rho # (kg/m3)"
   ]
  },
  {
   "cell_type": "markdown",
   "metadata": {},
   "source": [
    "`Note how the density changed with temperature`"
   ]
  },
  {
   "cell_type": "markdown",
   "metadata": {},
   "source": [
    "Many more material properties are available. Please read the [thermo.Chemical](http://thermo.readthedocs.io/en/latest/thermo.chemical.html) documentation to learn more."
   ]
  },
  {
   "cell_type": "markdown",
   "metadata": {},
   "source": [
    "### Group Chemical objects with a Species object"
   ]
  },
  {
   "cell_type": "markdown",
   "metadata": {},
   "source": [
    "Initiallize a [Species](https://biosteam.readthedocs.io/en/latest/Species.html) object with IDs:"
   ]
  },
  {
   "cell_type": "code",
   "execution_count": 7,
   "metadata": {},
   "outputs": [
    {
     "data": {
      "text/plain": [
       "<Species: Methanol, Glycerol>"
      ]
     },
     "execution_count": 7,
     "metadata": {},
     "output_type": "execute_result"
    }
   ],
   "source": [
    "from biosteam import Species\n",
    "species = Species('Methanol', 'Glycerol')\n",
    "species"
   ]
  },
  {
   "cell_type": "markdown",
   "metadata": {},
   "source": [
    "The Chemical objects are stored as attributes:"
   ]
  },
  {
   "cell_type": "code",
   "execution_count": 8,
   "metadata": {},
   "outputs": [
    {
     "data": {
      "text/plain": [
       "(<Chemical: Methanol>, <Chemical: Glycerol>)"
      ]
     },
     "execution_count": 8,
     "metadata": {},
     "output_type": "execute_result"
    }
   ],
   "source": [
    "species.Methanol, species.Glycerol"
   ]
  },
  {
   "cell_type": "markdown",
   "metadata": {},
   "source": [
    "Set chemical attributes:"
   ]
  },
  {
   "cell_type": "code",
   "execution_count": 9,
   "metadata": {},
   "outputs": [
    {
     "data": {
      "text/plain": [
       "<Species: Methanol, Glycerol, Water>"
      ]
     },
     "execution_count": 9,
     "metadata": {},
     "output_type": "execute_result"
    }
   ],
   "source": [
    "species.Water = Water\n",
    "species"
   ]
  },
  {
   "cell_type": "markdown",
   "metadata": {},
   "source": [
    "### Material flows and mixture properties with Stream objects"
   ]
  },
  {
   "cell_type": "markdown",
   "metadata": {},
   "source": [
    "First set the working species of all [Stream](https://biosteam.readthedocs.io/en/latest/Stream.html) objects:"
   ]
  },
  {
   "cell_type": "code",
   "execution_count": 10,
   "metadata": {},
   "outputs": [],
   "source": [
    "from biosteam import Stream\n",
    "Stream.species = species # From before"
   ]
  },
  {
   "cell_type": "markdown",
   "metadata": {},
   "source": [
    "A Stream is initialized with an ID, specie-flow rate pairs, temperature, pressure and phase:"
   ]
  },
  {
   "cell_type": "code",
   "execution_count": 11,
   "metadata": {},
   "outputs": [
    {
     "name": "stdout",
     "output_type": "stream",
     "text": [
      "Stream: feed\n",
      " phase: 'l', T: 298.15 K, P: 101325 Pa\n",
      " flow (kmol/hr): Methanol  1\n",
      "                 Glycerol  2\n",
      "                 Water     3\n"
     ]
    }
   ],
   "source": [
    "feed = Stream(ID='feed', Methanol=1, Glycerol=2, Water=3)\n",
    "feed.show()"
   ]
  },
  {
   "cell_type": "markdown",
   "metadata": {},
   "source": [
    "Alternatively, flow rates can be given as an iterable:"
   ]
  },
  {
   "cell_type": "code",
   "execution_count": 12,
   "metadata": {},
   "outputs": [
    {
     "name": "stdout",
     "output_type": "stream",
     "text": [
      "Stream: feed\n",
      " phase: 'l', T: 300 K, P: 101325 Pa\n",
      " flow (kmol/hr): Methanol  1\n",
      "                 Glycerol  2\n",
      "                 Water     3\n"
     ]
    }
   ],
   "source": [
    "feed = Stream(ID='feed', flow=(1,2,3), T=300, P=101325)\n",
    "feed.show() "
   ]
  },
  {
   "cell_type": "markdown",
   "metadata": {},
   "source": [
    "The units can be changed for `show`:"
   ]
  },
  {
   "cell_type": "code",
   "execution_count": 13,
   "metadata": {},
   "outputs": [
    {
     "name": "stdout",
     "output_type": "stream",
     "text": [
      "Stream: feed\n",
      " phase: 'l', T: 26.85 degC, P: 1 atm\n",
      " flow (kg/hr): Methanol  32\n",
      "               Glycerol  184\n",
      "               Water     54\n"
     ]
    }
   ],
   "source": [
    "feed.show(flow='kg/hr', T='degC', P='atm')"
   ]
  },
  {
   "cell_type": "markdown",
   "metadata": {},
   "source": [
    "Flow rates can be conviniently get and set:"
   ]
  },
  {
   "cell_type": "code",
   "execution_count": 14,
   "metadata": {},
   "outputs": [
    {
     "data": {
      "text/plain": [
       "array([32.04186, 50.0], dtype=object)"
      ]
     },
     "execution_count": 14,
     "metadata": {},
     "output_type": "execute_result"
    }
   ],
   "source": [
    "feed.setflow(Water=50, units='kg/hr')\n",
    "feed.getflow('Methanol', 'Water', units='kg/hr')"
   ]
  },
  {
   "cell_type": "markdown",
   "metadata": {},
   "source": [
    "Stream objects contain T, P, and phase dependent properties:"
   ]
  },
  {
   "cell_type": "code",
   "execution_count": 15,
   "metadata": {},
   "outputs": [
    {
     "data": {
      "text/plain": [
       "1346.6344313289649"
      ]
     },
     "execution_count": 15,
     "metadata": {},
     "output_type": "execute_result"
    }
   ],
   "source": [
    "feed.H # kJ/hr with reference at STP"
   ]
  },
  {
   "cell_type": "code",
   "execution_count": 16,
   "metadata": {},
   "outputs": [
    {
     "data": {
      "text/plain": [
       "39278.51231052598"
      ]
     },
     "execution_count": 16,
     "metadata": {},
     "output_type": "execute_result"
    }
   ],
   "source": [
    "feed.T = 350\n",
    "feed.H"
   ]
  },
  {
   "cell_type": "markdown",
   "metadata": {},
   "source": [
    "Vapor liquid equilibrium is just a line away:"
   ]
  },
  {
   "cell_type": "code",
   "execution_count": 17,
   "metadata": {},
   "outputs": [
    {
     "name": "stdout",
     "output_type": "stream",
     "text": [
      "MixedStream: feed\n",
      " phase: 'l', T: 350.19 K, P: 101325 Pa\n",
      "        \u001b[37m\u001b[22m species   kmol/hr\u001b[0m\n",
      " liquid: Methanol  1\n",
      "         Glycerol  2\n",
      "         Water     2.78\n"
     ]
    }
   ],
   "source": [
    "feed.T = 350\n",
    "feed.VLE()\n",
    "feed.show()"
   ]
  },
  {
   "cell_type": "code",
   "execution_count": 18,
   "metadata": {},
   "outputs": [
    {
     "name": "stdout",
     "output_type": "stream",
     "text": [
      "MixedStream: feed\n",
      " phase: 'lg', T: 381.94 K, P: 101325 Pa\n",
      "        \u001b[37m\u001b[22m species   kmol/hr\u001b[0m\n",
      " liquid: Methanol  0.227\n",
      "         Glycerol  2\n",
      "         Water     0.662\n",
      "\n",
      " vapor:  Methanol  0.773\n",
      "         Glycerol  0.00096\n",
      "         Water     2.11\n"
     ]
    },
    {
     "name": "stderr",
     "output_type": "stream",
     "text": [
      "C:\\ProgramData\\Anaconda3\\lib\\site-packages\\scipy\\optimize\\zeros.py:195: RuntimeWarning: Tolerance of 5.765637638432963e-07 reached\n",
      "  warnings.warn(msg, RuntimeWarning)\n"
     ]
    }
   ],
   "source": [
    "feed.VLE(V=0.5) # Set molar vapor fraction\n",
    "feed.show()"
   ]
  },
  {
   "cell_type": "markdown",
   "metadata": {},
   "source": [
    "The stream is cast to a [MixedStream](https://biosteam.readthedocs.io/en/latest/MixedStream.html) object. Mixed streams contain multiple phases:"
   ]
  },
  {
   "cell_type": "code",
   "execution_count": 19,
   "metadata": {},
   "outputs": [
    {
     "data": {
      "text/plain": [
       "'lg'"
      ]
     },
     "execution_count": 19,
     "metadata": {},
     "output_type": "execute_result"
    }
   ],
   "source": [
    "feed.phase"
   ]
  },
  {
   "cell_type": "markdown",
   "metadata": {},
   "source": [
    "Please refer to the [MixedStream Example](https://biosteam.readthedocs.io/en/latest/MixedStream%20Example.html) for a detailed example."
   ]
  },
  {
   "cell_type": "markdown",
   "metadata": {},
   "source": [
    "### Find design requirements and cost with Unit objects"
   ]
  },
  {
   "cell_type": "markdown",
   "metadata": {},
   "source": [
    "[Creating a Unit](https://biosteam.readthedocs.io/en/latest/Creating a Unit.html) can be flexible. But in summary, a [Unit](https://biosteam.readthedocs.io/en/latest/Unit.html) object is initialized with an ID, and unit specific arguments:"
   ]
  },
  {
   "cell_type": "code",
   "execution_count": 20,
   "metadata": {},
   "outputs": [],
   "source": [
    "from biosteam.units import Flash\n",
    "# Specify vapor fraction and isobaric conditions\n",
    "F1 = Flash('F1', V=0.5, P=101325) "
   ]
  },
  {
   "cell_type": "markdown",
   "metadata": {},
   "source": [
    "By default, missing streams are given to inputs, `ins`, and empty streams to outputs, `outs`:"
   ]
  },
  {
   "cell_type": "code",
   "execution_count": 21,
   "metadata": {},
   "outputs": [
    {
     "name": "stdout",
     "output_type": "stream",
     "text": [
      "Flash: F1\n",
      "\u001b[37m\u001b[22mins...\u001b[0m\n",
      "[0] Missing Stream\n",
      "\u001b[37m\u001b[22mouts...\u001b[0m\n",
      "[0] d1\n",
      "    phase: 'g', T: 298.15 K, P: 101325 Pa\n",
      "    flow: 0\n",
      "[1] d2\n",
      "    phase: 'l', T: 298.15 K, P: 101325 Pa\n",
      "    flow: 0\n"
     ]
    }
   ],
   "source": [
    "F1.show()"
   ]
  },
  {
   "cell_type": "code",
   "execution_count": 22,
   "metadata": {},
   "outputs": [
    {
     "data": {
      "text/plain": [
       "[<MissingStream>]"
      ]
     },
     "execution_count": 22,
     "metadata": {},
     "output_type": "execute_result"
    }
   ],
   "source": [
    "F1.ins"
   ]
  },
  {
   "cell_type": "code",
   "execution_count": 23,
   "metadata": {},
   "outputs": [
    {
     "data": {
      "text/plain": [
       "[<Stream: d1>, <Stream: d2>]"
      ]
     },
     "execution_count": 23,
     "metadata": {},
     "output_type": "execute_result"
    }
   ],
   "source": [
    "F1.outs"
   ]
  },
  {
   "cell_type": "markdown",
   "metadata": {},
   "source": [
    "You can connect streams by setting the `ins` and `outs`:"
   ]
  },
  {
   "cell_type": "code",
   "execution_count": 24,
   "metadata": {},
   "outputs": [
    {
     "name": "stdout",
     "output_type": "stream",
     "text": [
      "Flash: F1\n",
      "\u001b[37m\u001b[22mins...\u001b[0m\n",
      "[0] d4\n",
      "    phase: 'l', T: 298.15 K, P: 101325 Pa\n",
      "    flow (kmol/hr): Glycerol  180\n",
      "                    Water     220\n",
      "\u001b[37m\u001b[22mouts...\u001b[0m\n",
      "[0] d1\n",
      "    phase: 'g', T: 298.15 K, P: 101325 Pa\n",
      "    flow: 0\n",
      "[1] d2\n",
      "    phase: 'l', T: 298.15 K, P: 101325 Pa\n",
      "    flow: 0\n"
     ]
    }
   ],
   "source": [
    "F1.ins[0] = Stream(Water=220, Glycerol=180)\n",
    "F1.show()"
   ]
  },
  {
   "cell_type": "markdown",
   "metadata": {},
   "source": [
    "To simulate the flash, use the `simulate` method:"
   ]
  },
  {
   "cell_type": "code",
   "execution_count": 25,
   "metadata": {},
   "outputs": [
    {
     "name": "stdout",
     "output_type": "stream",
     "text": [
      "Flash: F1\n",
      "\u001b[37m\u001b[22mins...\u001b[0m\n",
      "[0] d4\n",
      "    phase: 'l', T: 298.15 K, P: 101325 Pa\n",
      "    flow (kmol/hr): Glycerol  180\n",
      "                    Water     220\n",
      "\u001b[37m\u001b[22mouts...\u001b[0m\n",
      "[0] d1\n",
      "    phase: 'g', T: 416.81 K, P: 101325 Pa\n",
      "    flow (kmol/hr): Glycerol  0.72\n",
      "                    Water     199\n",
      "[1] d2\n",
      "    phase: 'l', T: 416.81 K, P: 101325 Pa\n",
      "    flow (kmol/hr): Glycerol  179\n",
      "                    Water     20.7\n"
     ]
    },
    {
     "name": "stderr",
     "output_type": "stream",
     "text": [
      "C:\\Users\\yoelr\\Dropbox\\Cortes-Pena-Guest_Shared\\Code\\biosteam\\biosteam\\units\\flash.py:222: DesignWarning: @Flash F1: Vertical vessel weight (3772 lb) is out of bounds (4200 to 1e+06 lb).\n",
      "  out = self._vertical()\n"
     ]
    }
   ],
   "source": [
    "F1.simulate()\n",
    "F1.show()"
   ]
  },
  {
   "cell_type": "markdown",
   "metadata": {},
   "source": [
    "Note that some design methods have bounds that warn when calculations may be inaccurate. These bounds are stored in the class:"
   ]
  },
  {
   "cell_type": "code",
   "execution_count": 26,
   "metadata": {},
   "outputs": [
    {
     "data": {
      "text/plain": [
       "{'Vertical vessel weight': array([   4200., 1000000.]),\n",
       " 'Horizontal vessel weight': array([  1000., 920000.]),\n",
       " 'Diameter': array([ 3, 21]),\n",
       " 'Vertical vessel Length': array([12, 40])}"
      ]
     },
     "execution_count": 26,
     "metadata": {},
     "output_type": "execute_result"
    }
   ],
   "source": [
    "Flash._bounds"
   ]
  },
  {
   "cell_type": "markdown",
   "metadata": {},
   "source": [
    "The `results` method returns simulation results:"
   ]
  },
  {
   "cell_type": "code",
   "execution_count": 27,
   "metadata": {},
   "outputs": [
    {
     "data": {
      "text/html": [
       "<div>\n",
       "<style scoped>\n",
       "    .dataframe tbody tr th:only-of-type {\n",
       "        vertical-align: middle;\n",
       "    }\n",
       "\n",
       "    .dataframe tbody tr th {\n",
       "        vertical-align: top;\n",
       "    }\n",
       "\n",
       "    .dataframe thead th {\n",
       "        text-align: right;\n",
       "    }\n",
       "</style>\n",
       "<table border=\"1\" class=\"dataframe\">\n",
       "  <thead>\n",
       "    <tr style=\"text-align: right;\">\n",
       "      <th></th>\n",
       "      <th>Flash</th>\n",
       "      <th>Units</th>\n",
       "      <th>F1</th>\n",
       "    </tr>\n",
       "  </thead>\n",
       "  <tbody>\n",
       "    <tr>\n",
       "      <th rowspan=\"3\" valign=\"top\">Medium pressure steam</th>\n",
       "      <th>Duty</th>\n",
       "      <td>kJ/hr</td>\n",
       "      <td>1.88e+07</td>\n",
       "    </tr>\n",
       "    <tr>\n",
       "      <th>Flow</th>\n",
       "      <td>kg/hr</td>\n",
       "      <td>504</td>\n",
       "    </tr>\n",
       "    <tr>\n",
       "      <th>Cost</th>\n",
       "      <td>USD/hr</td>\n",
       "      <td>139</td>\n",
       "    </tr>\n",
       "    <tr>\n",
       "      <th rowspan=\"5\" valign=\"top\">Design</th>\n",
       "      <th>SepType</th>\n",
       "      <td></td>\n",
       "      <td>Vertical</td>\n",
       "    </tr>\n",
       "    <tr>\n",
       "      <th>Length</th>\n",
       "      <td>ft</td>\n",
       "      <td>18.5</td>\n",
       "    </tr>\n",
       "    <tr>\n",
       "      <th>Diameter</th>\n",
       "      <td>ft</td>\n",
       "      <td>4.5</td>\n",
       "    </tr>\n",
       "    <tr>\n",
       "      <th>Weight</th>\n",
       "      <td>lb</td>\n",
       "      <td>3.77e+03</td>\n",
       "    </tr>\n",
       "    <tr>\n",
       "      <th>Wall thickness</th>\n",
       "      <td>in</td>\n",
       "      <td>0.312</td>\n",
       "    </tr>\n",
       "    <tr>\n",
       "      <th rowspan=\"2\" valign=\"top\">Cost</th>\n",
       "      <th>Vessel</th>\n",
       "      <td>USD</td>\n",
       "      <td>3.68e+04</td>\n",
       "    </tr>\n",
       "    <tr>\n",
       "      <th>Heat exchanger</th>\n",
       "      <td>USD</td>\n",
       "      <td>1.97e+04</td>\n",
       "    </tr>\n",
       "    <tr>\n",
       "      <th>Purchase cost</th>\n",
       "      <th></th>\n",
       "      <td>USD</td>\n",
       "      <td>5.65e+04</td>\n",
       "    </tr>\n",
       "    <tr>\n",
       "      <th>Utility cost</th>\n",
       "      <th></th>\n",
       "      <td>USD/hr</td>\n",
       "      <td>139</td>\n",
       "    </tr>\n",
       "  </tbody>\n",
       "</table>\n",
       "</div>"
      ],
      "text/plain": [
       "Flash                                  Units        F1\n",
       "Medium pressure steam Duty             kJ/hr  1.88e+07\n",
       "                      Flow             kg/hr       504\n",
       "                      Cost            USD/hr       139\n",
       "Design                SepType                 Vertical\n",
       "                      Length              ft      18.5\n",
       "                      Diameter            ft       4.5\n",
       "                      Weight              lb  3.77e+03\n",
       "                      Wall thickness      in     0.312\n",
       "Cost                  Vessel             USD  3.68e+04\n",
       "                      Heat exchanger     USD  1.97e+04\n",
       "Purchase cost                            USD  5.65e+04\n",
       "Utility cost                          USD/hr       139"
      ]
     },
     "execution_count": 27,
     "metadata": {},
     "output_type": "execute_result"
    }
   ],
   "source": [
    "F1.results() # Default returns DataFrame object with units"
   ]
  },
  {
   "cell_type": "code",
   "execution_count": 28,
   "metadata": {},
   "outputs": [
    {
     "data": {
      "text/plain": [
       "Medium pressure steam  Duty              1.88e+07\n",
       "                       Flow                   504\n",
       "                       Cost                   139\n",
       "Design                 SepType           Vertical\n",
       "                       Length                18.5\n",
       "                       Diameter               4.5\n",
       "                       Weight            3.77e+03\n",
       "                       Wall thickness       0.312\n",
       "Cost                   Vessel            3.68e+04\n",
       "                       Heat exchanger    1.97e+04\n",
       "Purchase cost                            5.65e+04\n",
       "Utility cost                                  139\n",
       "Name: F1, dtype: object"
      ]
     },
     "execution_count": 28,
     "metadata": {},
     "output_type": "execute_result"
    }
   ],
   "source": [
    "F1.results(with_units=False) # Returns Series object without units"
   ]
  },
  {
   "cell_type": "markdown",
   "metadata": {},
   "source": [
    "All heat related utilities are in `heat_utilities`:"
   ]
  },
  {
   "cell_type": "code",
   "execution_count": 29,
   "metadata": {},
   "outputs": [
    {
     "data": {
      "text/plain": [
       "[<Medium pressure steam: 1.88e+07 kJ/hr, 504 kmol/hr, 139 USD/hr>]"
      ]
     },
     "execution_count": 29,
     "metadata": {},
     "output_type": "execute_result"
    }
   ],
   "source": [
    "F1.heat_utilities"
   ]
  },
  {
   "cell_type": "code",
   "execution_count": 30,
   "metadata": {},
   "outputs": [
    {
     "name": "stdout",
     "output_type": "stream",
     "text": [
      "HeatUtility: Medium pressure steam\n",
      " duty: 1.88e+07 kJ/hr\n",
      " flow: 504 kmol/hr\n",
      " cost: 139 USD/hr\n"
     ]
    }
   ],
   "source": [
    "heat_utility = F1.heat_utilities[0]\n",
    "heat_utility.show()"
   ]
  },
  {
   "cell_type": "markdown",
   "metadata": {},
   "source": [
    "Please refer to [HeatUtility](https://biosteam.readthedocs.io/en/latest/HeatUtility.html) for a detailed example."
   ]
  },
  {
   "cell_type": "markdown",
   "metadata": {},
   "source": [
    "### Solve recycle loops and process specifications with System objects"
   ]
  },
  {
   "cell_type": "markdown",
   "metadata": {},
   "source": [
    "**Designing a chemical process is no easy task. A simple recycle process consisting of a flash with a partial liquid recycle is presented here.**"
   ]
  },
  {
   "cell_type": "markdown",
   "metadata": {},
   "source": [
    "Create a [Mixer](https://biosteam.readthedocs.io/en/latest/Mixer.html) object and a [Splitter](https://biosteam.readthedocs.io/en/latest/Splitter.html) object:"
   ]
  },
  {
   "cell_type": "code",
   "execution_count": 31,
   "metadata": {
    "scrolled": true
   },
   "outputs": [],
   "source": [
    "from biosteam.units import Mixer, Splitter\n",
    "M1 = Mixer('M1')\n",
    "S1 = Splitter('S1', split=0.5) # Split to 0th output stream\n",
    "F1.outs[0].ID = 'product'"
   ]
  },
  {
   "cell_type": "markdown",
   "metadata": {},
   "source": [
    "Connect streams and make a recycle loop using [-pipe- notation](https://biosteam.readthedocs.io/en/latest/Using -pipe- notation.html):"
   ]
  },
  {
   "cell_type": "code",
   "execution_count": 32,
   "metadata": {},
   "outputs": [
    {
     "data": {
      "text/plain": [
       "<Splitter: S1>"
      ]
     },
     "execution_count": 32,
     "metadata": {},
     "output_type": "execute_result"
    }
   ],
   "source": [
    "feed = Stream('feed', Glycerol=80, Water=400)\n",
    "\n",
    "# Broken down -pipe- notation\n",
    "[S1-0, feed]-M1     # M1.ins[:] = [S1.outs[0], feed]\n",
    "M1-F1               # F1.ins[:] = M1.outs\n",
    "F1-1-S1             # S1.ins[:] = F1.outs[1]\n",
    "\n",
    "# All together\n",
    "[S1-0, feed]-M1-F1-1-S1"
   ]
  },
  {
   "cell_type": "markdown",
   "metadata": {},
   "source": [
    "Create [System](https://biosteam.readthedocs.io/en/latest/System.html) object by specifying an ID, a `recycle` stream and a `network` of units:"
   ]
  },
  {
   "cell_type": "code",
   "execution_count": 33,
   "metadata": {},
   "outputs": [
    {
     "name": "stdout",
     "output_type": "stream",
     "text": [
      "System: sys1\n",
      " recycle: d6\n",
      " network: (M1, F1, S1)\n",
      " convergence error: Flow rate   0.00e+00 \u001b[37m\u001b[22mkmol/hr\u001b[0m\n",
      "                    Temperature 0.00e+00 \u001b[37m\u001b[22mK\u001b[0m\n",
      " iterations: 0\n"
     ]
    }
   ],
   "source": [
    "from biosteam import System\n",
    "sys1 = System('sys1', network=(M1, F1, S1), recycle=S1-0) # recycle=S1.outs[0]\n",
    "sys1.show()"
   ]
  },
  {
   "cell_type": "markdown",
   "metadata": {},
   "source": [
    "View the System object as a Graphviz diagram:"
   ]
  },
  {
   "cell_type": "code",
   "execution_count": 34,
   "metadata": {},
   "outputs": [
    {
     "data": {
      "image/svg+xml": [
       "<svg height=\"207pt\" viewBox=\"0.00 0.00 582.52 207.24\" width=\"583pt\" xmlns=\"http://www.w3.org/2000/svg\" xmlns:xlink=\"http://www.w3.org/1999/xlink\">\n",
       "<g class=\"graph\" id=\"graph0\" transform=\"scale(1 1) rotate(0) translate(4 203.24)\">\n",
       "<title>%3</title>\n",
       "<polygon fill=\"white\" points=\"-4,4 -4,-203.24 578.52,-203.24 578.52,4 -4,4\" stroke=\"none\"/>\n",
       "<!-- S1\n",
       "Splitter&#45;&gt;M1\n",
       "Mixer -->\n",
       "<g class=\"edge\" id=\"edge4\"><title>S1\n",
       "Splitter:c-&gt;M1\n",
       "Mixer:c</title>\n",
       "<path d=\"M124.749,-78.8981C158.041,-92.8896 205.841,-112.979 240.227,-127.43\" fill=\"none\" stroke=\"black\"/>\n",
       "<polygon fill=\"black\" points=\"238.972,-130.699 249.547,-131.347 241.684,-124.246 238.972,-130.699\" stroke=\"black\"/>\n",
       "<text font-family=\"Times New Roman,serif\" font-size=\"14.00\" text-anchor=\"middle\" x=\"189.427\" y=\"-113.3\">d6</text>\n",
       "</g>\n",
       "<!-- S1\n",
       "Splitter&#45;&gt;d7 -->\n",
       "<g class=\"edge\" id=\"edge6\"><title>S1\n",
       "Splitter:c-&gt;d7:w</title>\n",
       "<path d=\"M124.505,-48.0449C159.669,-36.2408 213.197,-21.5 261.224,-21.5\" fill=\"none\" stroke=\"black\"/>\n",
       "</g>\n",
       "<!-- M1\n",
       "Mixer&#45;&gt;F1\n",
       "Flash -->\n",
       "<g class=\"edge\" id=\"edge1\"><title>M1\n",
       "Mixer:e-&gt;F1\n",
       "Flash:c</title>\n",
       "<path d=\"M353.52,-145.5C367.381,-145.5 381.833,-141.983 394.845,-137.357\" fill=\"none\" stroke=\"black\"/>\n",
       "<polygon fill=\"black\" points=\"396.41,-140.505 404.482,-133.643 393.893,-133.973 396.41,-140.505\" stroke=\"black\"/>\n",
       "<text font-family=\"Times New Roman,serif\" font-size=\"14.00\" text-anchor=\"middle\" x=\"379.02\" y=\"-147.3\">d5</text>\n",
       "</g>\n",
       "<!-- F1\n",
       "Flash&#45;&gt;S1\n",
       "Splitter -->\n",
       "<g class=\"edge\" id=\"edge3\"><title>F1\n",
       "Flash:s-&gt;S1\n",
       "Splitter:w</title>\n",
       "<path d=\"M440.52,-74.5C440.52,-35.8104 392.204,-72.1668 353.52,-71.5 291.932,-70.4385 272.574,-49.7979 214.927,-71.5 200.818,-76.8117 178.037,-110.928 163.927,-116.24 155.65,-119.356 11.0428,-122.435 4.73113,-116.24 1.66778,-113.233 -0.593833,-86.7865 0.593833,-72.1481\" fill=\"none\" stroke=\"black\"/>\n",
       "<polygon fill=\"black\" points=\"3.96717,-73.0922 3.73113,-62.5 -2.68974,-70.9275 3.96717,-73.0922\" stroke=\"black\"/>\n",
       "<text font-family=\"Times New Roman,serif\" font-size=\"14.00\" text-anchor=\"middle\" x=\"284.224\" y=\"-75.3\">d2</text>\n",
       "</g>\n",
       "<!-- F1\n",
       "Flash&#45;&gt;product -->\n",
       "<g class=\"edge\" id=\"edge2\"><title>F1\n",
       "Flash:n-&gt;product:w</title>\n",
       "<path d=\"M440.52,-156.5C440.52,-188.947 481.073,-155.5 513.52,-155.5\" fill=\"none\" stroke=\"black\"/>\n",
       "</g>\n",
       "<!-- feed&#45;&gt;M1\n",
       "Mixer -->\n",
       "<g class=\"edge\" id=\"edge5\"><title>feed:e-&gt;M1\n",
       "Mixer:c</title>\n",
       "<path d=\"M107.731,-148.5C157.096,-148.5 214.259,-147.299 249.583,-146.416\" fill=\"none\" stroke=\"black\"/>\n",
       "</g>\n",
       "<!-- S1\n",
       "Splitter -->\n",
       "<g class=\"node\" id=\"node1\"><title>S1\n",
       "Splitter</title>\n",
       "<defs>\n",
       "<linearGradient gradientUnits=\"userSpaceOnUse\" id=\"l_0\" x1=\"5.33873\" x2=\"124.427\" y1=\"-62.5\" y2=\"-62.5\">\n",
       "<stop offset=\"0\" style=\"stop-color:#bfbfbf;stop-opacity:1.;\"/>\n",
       "<stop offset=\"1\" style=\"stop-color:white;stop-opacity:1.;\"/>\n",
       "</linearGradient>\n",
       "</defs>\n",
       "<polygon fill=\"url(#l_0)\" points=\"5.33873,-62.5 124.427,-8.51869 124.427,-116.481 5.33873,-62.5\" stroke=\"black\"/>\n",
       "<text font-family=\"Times New Roman,serif\" font-size=\"14.00\" text-anchor=\"middle\" x=\"84.7311\" y=\"-66.3\">S1</text>\n",
       "<text font-family=\"Times New Roman,serif\" font-size=\"14.00\" text-anchor=\"middle\" x=\"84.7311\" y=\"-51.3\">Splitter</text>\n",
       "</g>\n",
       "<!-- M1\n",
       "Mixer -->\n",
       "<g class=\"node\" id=\"node2\"><title>M1\n",
       "Mixer</title>\n",
       "<defs>\n",
       "<linearGradient gradientUnits=\"userSpaceOnUse\" id=\"l_1\" x1=\"249.677\" x2=\"353.317\" y1=\"-145.5\" y2=\"-145.5\">\n",
       "<stop offset=\"0\" style=\"stop-color:white;stop-opacity:1.;\"/>\n",
       "<stop offset=\"1\" style=\"stop-color:#cdcdcd;stop-opacity:1.;\"/>\n",
       "</linearGradient>\n",
       "</defs>\n",
       "<polygon fill=\"url(#l_1)\" points=\"353.317,-145.5 249.677,-199.481 249.677,-91.5187 353.317,-145.5\" stroke=\"black\"/>\n",
       "<text font-family=\"Times New Roman,serif\" font-size=\"14.00\" text-anchor=\"middle\" x=\"284.224\" y=\"-149.3\">M1</text>\n",
       "<text font-family=\"Times New Roman,serif\" font-size=\"14.00\" text-anchor=\"middle\" x=\"284.224\" y=\"-134.3\">Mixer</text>\n",
       "</g>\n",
       "<!-- F1\n",
       "Flash -->\n",
       "<g class=\"node\" id=\"node3\"><title>F1\n",
       "Flash</title>\n",
       "<defs>\n",
       "<linearGradient gradientUnits=\"userSpaceOnUse\" id=\"l_2\" x1=\"404.52\" x2=\"476.52\" y1=\"-115.5\" y2=\"-115.5\">\n",
       "<stop offset=\"0\" style=\"stop-color:white;stop-opacity:1.;\"/>\n",
       "<stop offset=\"1\" style=\"stop-color:#cdcdcd;stop-opacity:1.;\"/>\n",
       "</linearGradient>\n",
       "</defs>\n",
       "<polygon fill=\"url(#l_2)\" points=\"476.52,-155 404.52,-155 404.52,-76 476.52,-76 476.52,-155\" stroke=\"black\"/>\n",
       "<text font-family=\"Times New Roman,serif\" font-size=\"14.00\" text-anchor=\"middle\" x=\"440.52\" y=\"-119.3\">F1</text>\n",
       "<text font-family=\"Times New Roman,serif\" font-size=\"14.00\" text-anchor=\"middle\" x=\"440.52\" y=\"-104.3\">Flash</text>\n",
       "</g>\n",
       "<!-- product -->\n",
       "<g class=\"node\" id=\"node4\"><title>product</title>\n",
       "<polygon fill=\"#79dae8\" points=\"556.52,-171 513.52,-171 513.52,-140 556.52,-140 556.52,-134 574.52,-155.5 556.52,-177 556.52,-171\" stroke=\"black\"/>\n",
       "<text font-family=\"Times New Roman,serif\" font-size=\"14.00\" text-anchor=\"middle\" x=\"544.02\" y=\"-151.8\">product</text>\n",
       "</g>\n",
       "<!-- feed -->\n",
       "<g class=\"node\" id=\"node5\"><title>feed</title>\n",
       "<polygon fill=\"#79dae8\" points=\"88.2311,-164 63.2311,-164 63.2311,-133 88.2311,-133 88.2311,-127 106.231,-148.5 88.2311,-170 88.2311,-164\" stroke=\"black\"/>\n",
       "<text font-family=\"Times New Roman,serif\" font-size=\"14.00\" text-anchor=\"middle\" x=\"84.7311\" y=\"-144.8\">feed</text>\n",
       "</g>\n",
       "<!-- d7 -->\n",
       "<g class=\"node\" id=\"node6\"><title>d7</title>\n",
       "<polygon fill=\"#79dae8\" points=\"287.724,-37 262.724,-37 262.724,-6 287.724,-6 287.724,-0 305.724,-21.5 287.724,-43 287.724,-37\" stroke=\"black\"/>\n",
       "<text font-family=\"Times New Roman,serif\" font-size=\"14.00\" text-anchor=\"middle\" x=\"284.224\" y=\"-17.8\">d7</text>\n",
       "</g>\n",
       "</g>\n",
       "</svg>"
      ],
      "text/plain": [
       "<IPython.core.display.SVG object>"
      ]
     },
     "metadata": {},
     "output_type": "display_data"
    }
   ],
   "source": [
    "sys1.diagram() "
   ]
  },
  {
   "cell_type": "markdown",
   "metadata": {},
   "source": [
    "Simulate the System object:"
   ]
  },
  {
   "cell_type": "code",
   "execution_count": 35,
   "metadata": {},
   "outputs": [
    {
     "name": "stderr",
     "output_type": "stream",
     "text": [
      "C:\\ProgramData\\Anaconda3\\lib\\site-packages\\scipy\\optimize\\zeros.py:195: RuntimeWarning: Tolerance of 5.582530206993397e-07 reached\n",
      "  warnings.warn(msg, RuntimeWarning)\n",
      "C:\\ProgramData\\Anaconda3\\lib\\site-packages\\scipy\\optimize\\zeros.py:195: RuntimeWarning: Tolerance of 9.733344086271245e-08 reached\n",
      "  warnings.warn(msg, RuntimeWarning)\n"
     ]
    },
    {
     "name": "stdout",
     "output_type": "stream",
     "text": [
      "System: sys1\n",
      " recycle: d6\n",
      " network: (M1, F1, S1)\n",
      " convergence error: Flow rate   3.55e-02 \u001b[37m\u001b[22mkmol/hr\u001b[0m\n",
      "                    Temperature 2.64e-03 \u001b[37m\u001b[22mK\u001b[0m\n",
      " iterations: 7\n"
     ]
    },
    {
     "name": "stderr",
     "output_type": "stream",
     "text": [
      "C:\\ProgramData\\Anaconda3\\lib\\site-packages\\scipy\\optimize\\zeros.py:195: RuntimeWarning: Tolerance of -3.125683178950567e-08 reached\n",
      "  warnings.warn(msg, RuntimeWarning)\n",
      "C:\\ProgramData\\Anaconda3\\lib\\site-packages\\scipy\\optimize\\zeros.py:195: RuntimeWarning: Tolerance of -8.274480478576152e-08 reached\n",
      "  warnings.warn(msg, RuntimeWarning)\n",
      "C:\\Users\\yoelr\\Dropbox\\Cortes-Pena-Guest_Shared\\Code\\biosteam\\biosteam\\units\\flash.py:222: DesignWarning: @Flash F1: Vertical vessel weight (4068 lb) is out of bounds (4200 to 1e+06 lb).\n",
      "  out = self._vertical()\n"
     ]
    }
   ],
   "source": [
    "sys1.simulate()\n",
    "sys1.show()"
   ]
  },
  {
   "cell_type": "code",
   "execution_count": 36,
   "metadata": {},
   "outputs": [
    {
     "name": "stdout",
     "output_type": "stream",
     "text": [
      "Flash: F1\n",
      "\u001b[37m\u001b[22mins...\u001b[0m\n",
      "[0] d5  from  Mixer-M1\n",
      "    phase: 'l', T: 326.58 K, P: 101325 Pa\n",
      "    flow (kmol/hr): Glycerol  160\n",
      "                    Water     480\n",
      "\u001b[37m\u001b[22mouts...\u001b[0m\n",
      "[0] product\n",
      "    phase: 'g', T: 376.18 K, P: 101325 Pa\n",
      "    flow (kmol/hr): Glycerol  0.061\n",
      "                    Water     320\n",
      "[1] d2  to  Splitter-S1\n",
      "    phase: 'l', T: 376.18 K, P: 101325 Pa\n",
      "    flow (kmol/hr): Glycerol  160\n",
      "                    Water     160\n"
     ]
    }
   ],
   "source": [
    "F1.show()"
   ]
  },
  {
   "cell_type": "code",
   "execution_count": 37,
   "metadata": {},
   "outputs": [
    {
     "data": {
      "text/html": [
       "<div>\n",
       "<style scoped>\n",
       "    .dataframe tbody tr th:only-of-type {\n",
       "        vertical-align: middle;\n",
       "    }\n",
       "\n",
       "    .dataframe tbody tr th {\n",
       "        vertical-align: top;\n",
       "    }\n",
       "\n",
       "    .dataframe thead th {\n",
       "        text-align: right;\n",
       "    }\n",
       "</style>\n",
       "<table border=\"1\" class=\"dataframe\">\n",
       "  <thead>\n",
       "    <tr style=\"text-align: right;\">\n",
       "      <th></th>\n",
       "      <th>Flash</th>\n",
       "      <th>Units</th>\n",
       "      <th>F1</th>\n",
       "    </tr>\n",
       "  </thead>\n",
       "  <tbody>\n",
       "    <tr>\n",
       "      <th rowspan=\"3\" valign=\"top\">Low pressure steam</th>\n",
       "      <th>Duty</th>\n",
       "      <td>kJ/hr</td>\n",
       "      <td>1.86e+07</td>\n",
       "    </tr>\n",
       "    <tr>\n",
       "      <th>Flow</th>\n",
       "      <td>kg/hr</td>\n",
       "      <td>475</td>\n",
       "    </tr>\n",
       "    <tr>\n",
       "      <th>Cost</th>\n",
       "      <td>USD/hr</td>\n",
       "      <td>113</td>\n",
       "    </tr>\n",
       "    <tr>\n",
       "      <th rowspan=\"5\" valign=\"top\">Design</th>\n",
       "      <th>SepType</th>\n",
       "      <td></td>\n",
       "      <td>Vertical</td>\n",
       "    </tr>\n",
       "    <tr>\n",
       "      <th>Length</th>\n",
       "      <td>ft</td>\n",
       "      <td>15.5</td>\n",
       "    </tr>\n",
       "    <tr>\n",
       "      <th>Diameter</th>\n",
       "      <td>ft</td>\n",
       "      <td>5.5</td>\n",
       "    </tr>\n",
       "    <tr>\n",
       "      <th>Weight</th>\n",
       "      <td>lb</td>\n",
       "      <td>4.07e+03</td>\n",
       "    </tr>\n",
       "    <tr>\n",
       "      <th>Wall thickness</th>\n",
       "      <td>in</td>\n",
       "      <td>0.312</td>\n",
       "    </tr>\n",
       "    <tr>\n",
       "      <th rowspan=\"2\" valign=\"top\">Cost</th>\n",
       "      <th>Vessel</th>\n",
       "      <td>USD</td>\n",
       "      <td>3.82e+04</td>\n",
       "    </tr>\n",
       "    <tr>\n",
       "      <th>Heat exchanger</th>\n",
       "      <td>USD</td>\n",
       "      <td>2.25e+04</td>\n",
       "    </tr>\n",
       "    <tr>\n",
       "      <th>Purchase cost</th>\n",
       "      <th></th>\n",
       "      <td>USD</td>\n",
       "      <td>6.06e+04</td>\n",
       "    </tr>\n",
       "    <tr>\n",
       "      <th>Utility cost</th>\n",
       "      <th></th>\n",
       "      <td>USD/hr</td>\n",
       "      <td>113</td>\n",
       "    </tr>\n",
       "  </tbody>\n",
       "</table>\n",
       "</div>"
      ],
      "text/plain": [
       "Flash                               Units        F1\n",
       "Low pressure steam Duty             kJ/hr  1.86e+07\n",
       "                   Flow             kg/hr       475\n",
       "                   Cost            USD/hr       113\n",
       "Design             SepType                 Vertical\n",
       "                   Length              ft      15.5\n",
       "                   Diameter            ft       5.5\n",
       "                   Weight              lb  4.07e+03\n",
       "                   Wall thickness      in     0.312\n",
       "Cost               Vessel             USD  3.82e+04\n",
       "                   Heat exchanger     USD  2.25e+04\n",
       "Purchase cost                         USD  6.06e+04\n",
       "Utility cost                       USD/hr       113"
      ]
     },
     "execution_count": 37,
     "metadata": {},
     "output_type": "execute_result"
    }
   ],
   "source": [
    "F1.results()"
   ]
  },
  {
   "cell_type": "code",
   "execution_count": 38,
   "metadata": {},
   "outputs": [
    {
     "name": "stdout",
     "output_type": "stream",
     "text": [
      "HeatUtility: Low pressure steam\n",
      " duty: 1.86e+07 kJ/hr\n",
      " flow: 475 kmol/hr\n",
      " cost: 113 USD/hr\n"
     ]
    }
   ],
   "source": [
    "F1.heat_utilities[0].show()"
   ]
  }
 ],
 "metadata": {
  "kernelspec": {
   "display_name": "Python 3",
   "language": "python",
   "name": "python3"
  },
  "language_info": {
   "codemirror_mode": {
    "name": "ipython",
    "version": 3
   },
   "file_extension": ".py",
   "mimetype": "text/x-python",
   "name": "python",
   "nbconvert_exporter": "python",
   "pygments_lexer": "ipython3",
   "version": "3.6.5"
  }
 },
 "nbformat": 4,
 "nbformat_minor": 2
}
