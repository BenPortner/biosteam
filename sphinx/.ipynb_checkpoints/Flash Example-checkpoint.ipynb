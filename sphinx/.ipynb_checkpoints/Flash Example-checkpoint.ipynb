{
 "cells": [
  {
   "cell_type": "markdown",
   "metadata": {},
   "source": [
    "# Flash"
   ]
  },
  {
   "cell_type": "markdown",
   "metadata": {},
   "source": [
    "**Flash drum simulation is based on vapor-liquid equilibrium using Dortmund modified UNIFAC activity coefficients and modified Raoult's law. Design procedure based on heuristics by Wayne D. Monnery & William Y. Svrcek.**"
   ]
  },
  {
   "cell_type": "code",
   "execution_count": 1,
   "metadata": {},
   "outputs": [
    {
     "data": {
      "image/svg+xml": [
       "<svg height=\"173pt\" viewBox=\"0.00 0.00 338.00 173.00\" width=\"338pt\" xmlns=\"http://www.w3.org/2000/svg\" xmlns:xlink=\"http://www.w3.org/1999/xlink\">\n",
       "<g class=\"graph\" id=\"graph0\" transform=\"scale(1 1) rotate(0) translate(4 169)\">\n",
       "<title>unit</title>\n",
       "<polygon fill=\"white\" points=\"-4,4 -4,-169 334,-169 334,4 -4,4\" stroke=\"none\"/>\n",
       "<!-- F1\n",
       "Flash&#45;&gt;vapor -->\n",
       "<g class=\"edge\" id=\"edge2\"><title>F1\n",
       "Flash:n-&gt;vapor:w</title>\n",
       "<path d=\"M137,-123.5C137,-176.254 201.246,-143.5 254,-143.5\" fill=\"none\" stroke=\"black\"/>\n",
       "</g>\n",
       "<!-- F1\n",
       "Flash&#45;&gt;crude_glycerin -->\n",
       "<g class=\"edge\" id=\"edge3\"><title>F1\n",
       "Flash:s-&gt;crude_glycerin:w</title>\n",
       "<path d=\"M137,-41.5C137,0.995606 188.004,-21.5 230.5,-21.5\" fill=\"none\" stroke=\"black\"/>\n",
       "</g>\n",
       "<!-- feed&#45;&gt;F1\n",
       "Flash -->\n",
       "<g class=\"edge\" id=\"edge1\"><title>feed:e-&gt;F1\n",
       "Flash:c</title>\n",
       "<path d=\"M42.5,-82.5C61.8168,-82.5 83.3785,-82.5 100.924,-82.5\" fill=\"none\" stroke=\"black\"/>\n",
       "</g>\n",
       "<!-- F1\n",
       "Flash -->\n",
       "<g class=\"node\" id=\"node1\"><title>F1\n",
       "Flash</title>\n",
       "<defs>\n",
       "<linearGradient gradientUnits=\"userSpaceOnUse\" id=\"l_0\" x1=\"101\" x2=\"173\" y1=\"-82.5\" y2=\"-82.5\">\n",
       "<stop offset=\"0\" style=\"stop-color:white;stop-opacity:1.;\"/>\n",
       "<stop offset=\"1\" style=\"stop-color:#cdcdcd;stop-opacity:1.;\"/>\n",
       "</linearGradient>\n",
       "</defs>\n",
       "<polygon fill=\"url(#l_0)\" points=\"173,-122 101,-122 101,-43 173,-43 173,-122\" stroke=\"black\"/>\n",
       "<text font-family=\"Times New Roman,serif\" font-size=\"14.00\" text-anchor=\"middle\" x=\"137\" y=\"-86.3\">F1</text>\n",
       "<text font-family=\"Times New Roman,serif\" font-size=\"14.00\" text-anchor=\"middle\" x=\"137\" y=\"-71.3\">Flash</text>\n",
       "</g>\n",
       "<!-- feed -->\n",
       "<g class=\"node\" id=\"node2\"><title>feed</title>\n",
       "<polygon fill=\"#79dae8\" points=\"24.5,-98 -0.5,-98 -0.5,-67 24.5,-67 24.5,-61 42.5,-82.5 24.5,-104 24.5,-98\" stroke=\"black\"/>\n",
       "<text font-family=\"Times New Roman,serif\" font-size=\"14.00\" text-anchor=\"middle\" x=\"21\" y=\"-78.8\">feed</text>\n",
       "</g>\n",
       "<!-- vapor -->\n",
       "<g class=\"node\" id=\"node3\"><title>vapor</title>\n",
       "<polygon fill=\"#79dae8\" points=\"286.5,-159 255.5,-159 255.5,-128 286.5,-128 286.5,-122 304.5,-143.5 286.5,-165 286.5,-159\" stroke=\"black\"/>\n",
       "<text font-family=\"Times New Roman,serif\" font-size=\"14.00\" text-anchor=\"middle\" x=\"280\" y=\"-139.8\">vapor</text>\n",
       "</g>\n",
       "<!-- crude_glycerin -->\n",
       "<g class=\"node\" id=\"node4\"><title>crude_glycerin</title>\n",
       "<polygon fill=\"#79dae8\" points=\"311.5,-37 230.5,-37 230.5,-6 311.5,-6 311.5,-0 329.5,-21.5 311.5,-43 311.5,-37\" stroke=\"black\"/>\n",
       "<text font-family=\"Times New Roman,serif\" font-size=\"14.00\" text-anchor=\"middle\" x=\"280\" y=\"-17.8\">crude_glycerin</text>\n",
       "</g>\n",
       "</g>\n",
       "</svg>"
      ],
      "text/plain": [
       "<IPython.core.display.SVG object>"
      ]
     },
     "metadata": {},
     "output_type": "display_data"
    },
    {
     "name": "stdout",
     "output_type": "stream",
     "text": [
      "Flash: F1\n",
      "\u001b[37m\u001b[22mins...\u001b[0m\n",
      "[0] feed\n",
      "    phase: 'l', T: 100.97 degC, P: 1 atm\n",
      "    flow (kmol/hr): Glycerol  100\n",
      "                    Water     600\n",
      "\u001b[37m\u001b[22mouts...\u001b[0m\n",
      "[0] vapor\n",
      "    phase: 'g', T: 137 degC, P: 1 atm\n",
      "    flow (kmol/hr): Glycerol  1.42\n",
      "                    Water     586\n",
      "[1] crude_glycerin\n",
      "    phase: 'l', T: 137 degC, P: 1 atm\n",
      "    flow (kmol/hr): Glycerol  98.6\n",
      "                    Water     14.1\n"
     ]
    }
   ],
   "source": [
    "from biosteam import Species, Stream, Flash\n",
    "# Set up feed\n",
    "Stream.species = Species('Glycerol', 'Water')\n",
    "feed = Stream('feed', flow=(100, 600))\n",
    "feed.T = feed.bubble_point()[0]\n",
    "\n",
    "# Simulate flash drum\n",
    "F1 = Flash('F1',\n",
    "           ins=feed,\n",
    "           outs=('vapor', 'crude glycerin'),\n",
    "           P=101325, # Pa\n",
    "           T=410.15) # K\n",
    "F1.simulate()\n",
    "\n",
    "# See streams\n",
    "F1.diagram()\n",
    "F1.show(T='degC', P='atm')"
   ]
  },
  {
   "cell_type": "code",
   "execution_count": 2,
   "metadata": {},
   "outputs": [
    {
     "data": {
      "text/html": [
       "<div>\n",
       "<style scoped>\n",
       "    .dataframe tbody tr th:only-of-type {\n",
       "        vertical-align: middle;\n",
       "    }\n",
       "\n",
       "    .dataframe tbody tr th {\n",
       "        vertical-align: top;\n",
       "    }\n",
       "\n",
       "    .dataframe thead th {\n",
       "        text-align: right;\n",
       "    }\n",
       "</style>\n",
       "<table border=\"1\" class=\"dataframe\">\n",
       "  <thead>\n",
       "    <tr style=\"text-align: right;\">\n",
       "      <th></th>\n",
       "      <th>Flash</th>\n",
       "      <th>Units</th>\n",
       "      <th>F1</th>\n",
       "    </tr>\n",
       "  </thead>\n",
       "  <tbody>\n",
       "    <tr>\n",
       "      <th rowspan=\"5\" valign=\"top\">Design</th>\n",
       "      <th>SepType</th>\n",
       "      <td></td>\n",
       "      <td>Vertical</td>\n",
       "    </tr>\n",
       "    <tr>\n",
       "      <th>Length</th>\n",
       "      <td>ft</td>\n",
       "      <td>11.5</td>\n",
       "    </tr>\n",
       "    <tr>\n",
       "      <th>Diameter</th>\n",
       "      <td>ft</td>\n",
       "      <td>7.5</td>\n",
       "    </tr>\n",
       "    <tr>\n",
       "      <th>Weight</th>\n",
       "      <td>lb</td>\n",
       "      <td>5.6e+03</td>\n",
       "    </tr>\n",
       "    <tr>\n",
       "      <th>Wall thickness</th>\n",
       "      <td>in</td>\n",
       "      <td>0.375</td>\n",
       "    </tr>\n",
       "    <tr>\n",
       "      <th rowspan=\"2\" valign=\"top\">Cost</th>\n",
       "      <th>Vessel</th>\n",
       "      <td>USD</td>\n",
       "      <td>4.4e+04</td>\n",
       "    </tr>\n",
       "    <tr>\n",
       "      <th>Heat exchanger</th>\n",
       "      <td>USD</td>\n",
       "      <td>2.91e+04</td>\n",
       "    </tr>\n",
       "    <tr>\n",
       "      <th rowspan=\"2\" valign=\"top\">Summary</th>\n",
       "      <th>Purchase cost</th>\n",
       "      <td>USD</td>\n",
       "      <td>7.3e+04</td>\n",
       "    </tr>\n",
       "    <tr>\n",
       "      <th>Utility cost</th>\n",
       "      <td>USD/hr</td>\n",
       "      <td>237</td>\n",
       "    </tr>\n",
       "  </tbody>\n",
       "</table>\n",
       "</div>"
      ],
      "text/plain": [
       "Flash                    Units        F1\n",
       "Design  SepType                 Vertical\n",
       "        Length              ft      11.5\n",
       "        Diameter            ft       7.5\n",
       "        Weight              lb   5.6e+03\n",
       "        Wall thickness      in     0.375\n",
       "Cost    Vessel             USD   4.4e+04\n",
       "        Heat exchanger     USD  2.91e+04\n",
       "Summary Purchase cost      USD   7.3e+04\n",
       "        Utility cost    USD/hr       237"
      ]
     },
     "execution_count": 2,
     "metadata": {},
     "output_type": "execute_result"
    }
   ],
   "source": [
    "# Design results\n",
    "F1.results()"
   ]
  },
  {
   "cell_type": "code",
   "execution_count": 3,
   "metadata": {},
   "outputs": [
    {
     "name": "stdout",
     "output_type": "stream",
     "text": [
      "HeatUtility: Medium pressure steam\n",
      " duty: 3.21e+07 kJ/hr\n",
      " flow: 860 kmol/hr\n",
      " cost: 237 USD/hr\n"
     ]
    }
   ],
   "source": [
    "# Heat utilities\n",
    "for hu in F1.heat_utilities:\n",
    "    hu.show(Cost='USD/year')"
   ]
  }
 ],
 "metadata": {
  "kernelspec": {
   "display_name": "Python 3",
   "language": "python",
   "name": "python3"
  },
  "language_info": {
   "codemirror_mode": {
    "name": "ipython",
    "version": 3
   },
   "file_extension": ".py",
   "mimetype": "text/x-python",
   "name": "python",
   "nbconvert_exporter": "python",
   "pygments_lexer": "ipython3",
   "version": "3.6.5"
  }
 },
 "nbformat": 4,
 "nbformat_minor": 2
}
