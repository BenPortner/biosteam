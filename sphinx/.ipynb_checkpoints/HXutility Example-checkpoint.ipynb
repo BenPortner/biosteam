{
 "cells": [
  {
   "cell_type": "markdown",
   "metadata": {},
   "source": [
    "# HXutility"
   ]
  },
  {
   "cell_type": "markdown",
   "metadata": {},
   "source": [
    "### Run heat exchanger by temperature:"
   ]
  },
  {
   "cell_type": "code",
   "execution_count": 1,
   "metadata": {},
   "outputs": [
    {
     "data": {
      "image/svg+xml": [
       "<svg height=\"140pt\" viewBox=\"0.00 0.00 272.02 140.05\" width=\"272pt\" xmlns=\"http://www.w3.org/2000/svg\" xmlns:xlink=\"http://www.w3.org/1999/xlink\">\n",
       "<g class=\"graph\" id=\"graph0\" transform=\"scale(1 1) rotate(0) translate(4 136.046)\">\n",
       "<title>unit</title>\n",
       "<polygon fill=\"white\" points=\"-4,4 -4,-136.046 268.021,-136.046 268.021,4 -4,4\" stroke=\"none\"/>\n",
       "<!-- hx\n",
       "Heating&#45;&gt;product -->\n",
       "<g class=\"edge\" id=\"edge2\"><title>hx\n",
       "Heating:c-&gt;product:w</title>\n",
       "<path d=\"M161.249,-66.0232C178.012,-66.0232 199.449,-66.0232 218.521,-66.0232\" fill=\"none\" stroke=\"black\"/>\n",
       "</g>\n",
       "<!-- feed&#45;&gt;hx\n",
       "Heating -->\n",
       "<g class=\"edge\" id=\"edge1\"><title>feed:e-&gt;hx\n",
       "Heating:c</title>\n",
       "<path d=\"M42.5211,-66.0232C61.9655,-66.0232 83.8405,-66.0232 100.854,-66.0232\" fill=\"none\" stroke=\"black\"/>\n",
       "</g>\n",
       "<!-- hx\n",
       "Heating -->\n",
       "<g class=\"node\" id=\"node1\"><title>hx\n",
       "Heating</title>\n",
       "<ellipse cx=\"131.021\" cy=\"-66.0232\" fill=\"#fad6d8\" rx=\"30.0211\" ry=\"30.0211\" stroke=\"none\"/>\n",
       "<text font-family=\"Times New Roman,serif\" font-size=\"14.00\" text-anchor=\"middle\" x=\"131.021\" y=\"-69.8232\">hx</text>\n",
       "<text font-family=\"Times New Roman,serif\" font-size=\"14.00\" text-anchor=\"middle\" x=\"131.021\" y=\"-54.8232\">Heating</text>\n",
       "</g>\n",
       "<!-- feed -->\n",
       "<g class=\"node\" id=\"node2\"><title>feed</title>\n",
       "<polygon fill=\"#79dae8\" points=\"24.5211,-81.5232 -0.47892,-81.5232 -0.47892,-50.5232 24.5211,-50.5232 24.5211,-44.5232 42.5211,-66.0232 24.5211,-87.5232 24.5211,-81.5232\" stroke=\"black\"/>\n",
       "<text font-family=\"Times New Roman,serif\" font-size=\"14.00\" text-anchor=\"middle\" x=\"21.0211\" y=\"-62.3232\">feed</text>\n",
       "</g>\n",
       "<!-- product -->\n",
       "<g class=\"node\" id=\"node3\"><title>product</title>\n",
       "<polygon fill=\"#79dae8\" points=\"245.521,-81.5232 218.521,-81.5232 218.521,-50.5232 245.521,-50.5232 245.521,-44.5232 263.521,-66.0232 245.521,-87.5232 245.521,-81.5232\" stroke=\"black\"/>\n",
       "<text font-family=\"Times New Roman,serif\" font-size=\"14.00\" text-anchor=\"middle\" x=\"241.021\" y=\"-62.3232\">product</text>\n",
       "</g>\n",
       "</g>\n",
       "</svg>"
      ],
      "text/plain": [
       "<IPython.core.display.SVG object>"
      ]
     },
     "metadata": {},
     "output_type": "display_data"
    },
    {
     "name": "stdout",
     "output_type": "stream",
     "text": [
      "HXutility: hx\n",
      "\u001b[37m\u001b[22mins...\u001b[0m\n",
      "[0] feed\n",
      "    phase: 'l', T: 298.15 K, P: 101325 Pa\n",
      "    flow (kmol/hr): Water    200\n",
      "                    Ethanol  200\n",
      "\u001b[37m\u001b[22mouts...\u001b[0m\n",
      "[0] product\n",
      "    phase: 'l', T: 323.15 K, P: 101325 Pa\n",
      "    flow (kmol/hr): Water    200\n",
      "                    Ethanol  200\n"
     ]
    }
   ],
   "source": [
    "from biosteam import Species, Stream, HXutility\n",
    "Stream.species = Species('Water', 'Ethanol')\n",
    "\n",
    "# Simulate heat exchanger\n",
    "feed = Stream('feed', Water=200, Ethanol=200)\n",
    "hx = HXutility('hx', ins=feed, outs='product', T=50+273.15,\n",
    "               rigorous=False) # Ignore VLE\n",
    "hx.simulate()\n",
    "\n",
    "# Show results\n",
    "hx.diagram()\n",
    "hx.show()"
   ]
  },
  {
   "cell_type": "code",
   "execution_count": 2,
   "metadata": {},
   "outputs": [
    {
     "data": {
      "text/html": [
       "<div>\n",
       "<style scoped>\n",
       "    .dataframe tbody tr th:only-of-type {\n",
       "        vertical-align: middle;\n",
       "    }\n",
       "\n",
       "    .dataframe tbody tr th {\n",
       "        vertical-align: top;\n",
       "    }\n",
       "\n",
       "    .dataframe thead th {\n",
       "        text-align: right;\n",
       "    }\n",
       "</style>\n",
       "<table border=\"1\" class=\"dataframe\">\n",
       "  <thead>\n",
       "    <tr style=\"text-align: right;\">\n",
       "      <th></th>\n",
       "      <th>H xutility</th>\n",
       "      <th>Units</th>\n",
       "      <th>hx</th>\n",
       "    </tr>\n",
       "  </thead>\n",
       "  <tbody>\n",
       "    <tr>\n",
       "      <th rowspan=\"7\" valign=\"top\">Design</th>\n",
       "      <th>Area</th>\n",
       "      <td>ft^2</td>\n",
       "      <td>63.8</td>\n",
       "    </tr>\n",
       "    <tr>\n",
       "      <th>Overall heat transfer coefficient</th>\n",
       "      <td>kW/m^2/K</td>\n",
       "      <td>0.5</td>\n",
       "    </tr>\n",
       "    <tr>\n",
       "      <th>Fouling correction factor</th>\n",
       "      <td></td>\n",
       "      <td>1</td>\n",
       "    </tr>\n",
       "    <tr>\n",
       "      <th>Tube side pressure drop</th>\n",
       "      <td>psi</td>\n",
       "      <td>5</td>\n",
       "    </tr>\n",
       "    <tr>\n",
       "      <th>Shell side pressure drop</th>\n",
       "      <td>psi</td>\n",
       "      <td>1.5</td>\n",
       "    </tr>\n",
       "    <tr>\n",
       "      <th>Operating pressure</th>\n",
       "      <td>psi</td>\n",
       "      <td>50</td>\n",
       "    </tr>\n",
       "    <tr>\n",
       "      <th>Total tube length</th>\n",
       "      <td>ft</td>\n",
       "      <td>20</td>\n",
       "    </tr>\n",
       "    <tr>\n",
       "      <th>Cost</th>\n",
       "      <th>Heat exchanger</th>\n",
       "      <td>USD</td>\n",
       "      <td>4.88e+03</td>\n",
       "    </tr>\n",
       "    <tr>\n",
       "      <th rowspan=\"2\" valign=\"top\">Summary</th>\n",
       "      <th>Purchase cost</th>\n",
       "      <td>USD</td>\n",
       "      <td>4.88e+03</td>\n",
       "    </tr>\n",
       "    <tr>\n",
       "      <th>Utility cost</th>\n",
       "      <td>USD/hr</td>\n",
       "      <td>6.42</td>\n",
       "    </tr>\n",
       "  </tbody>\n",
       "</table>\n",
       "</div>"
      ],
      "text/plain": [
       "H xutility                                    Units       hx\n",
       "Design  Area                                   ft^2     63.8\n",
       "        Overall heat transfer coefficient  kW/m^2/K      0.5\n",
       "        Fouling correction factor                          1\n",
       "        Tube side pressure drop                 psi        5\n",
       "        Shell side pressure drop                psi      1.5\n",
       "        Operating pressure                      psi       50\n",
       "        Total tube length                        ft       20\n",
       "Cost    Heat exchanger                          USD 4.88e+03\n",
       "Summary Purchase cost                           USD 4.88e+03\n",
       "        Utility cost                         USD/hr     6.42"
      ]
     },
     "execution_count": 2,
     "metadata": {},
     "output_type": "execute_result"
    }
   ],
   "source": [
    "hx.results()"
   ]
  },
  {
   "cell_type": "code",
   "execution_count": 3,
   "metadata": {},
   "outputs": [
    {
     "name": "stdout",
     "output_type": "stream",
     "text": [
      "HeatUtility: Low pressure steam\n",
      " duty: 1.07e+06 kJ/hr\n",
      " flow: 27 kmol/hr\n",
      " cost: 6.42 USD/hr\n"
     ]
    }
   ],
   "source": [
    "for hx in hx.heat_utilities:\n",
    "    hx.show()"
   ]
  },
  {
   "cell_type": "markdown",
   "metadata": {},
   "source": [
    "### Run heat exchanger by vapor fraction:"
   ]
  },
  {
   "cell_type": "code",
   "execution_count": 4,
   "metadata": {},
   "outputs": [
    {
     "data": {
      "image/svg+xml": [
       "<svg height=\"140pt\" viewBox=\"0.00 0.00 272.02 140.05\" width=\"272pt\" xmlns=\"http://www.w3.org/2000/svg\" xmlns:xlink=\"http://www.w3.org/1999/xlink\">\n",
       "<g class=\"graph\" id=\"graph0\" transform=\"scale(1 1) rotate(0) translate(4 136.046)\">\n",
       "<title>unit</title>\n",
       "<polygon fill=\"white\" points=\"-4,4 -4,-136.046 268.021,-136.046 268.021,4 -4,4\" stroke=\"none\"/>\n",
       "<!-- hx\n",
       "Heating&#45;&gt;product -->\n",
       "<g class=\"edge\" id=\"edge2\"><title>hx\n",
       "Heating:c-&gt;product:w</title>\n",
       "<path d=\"M161.249,-66.0232C178.012,-66.0232 199.449,-66.0232 218.521,-66.0232\" fill=\"none\" stroke=\"black\"/>\n",
       "</g>\n",
       "<!-- feed&#45;&gt;hx\n",
       "Heating -->\n",
       "<g class=\"edge\" id=\"edge1\"><title>feed:e-&gt;hx\n",
       "Heating:c</title>\n",
       "<path d=\"M42.5211,-66.0232C61.9655,-66.0232 83.8405,-66.0232 100.854,-66.0232\" fill=\"none\" stroke=\"black\"/>\n",
       "</g>\n",
       "<!-- hx\n",
       "Heating -->\n",
       "<g class=\"node\" id=\"node1\"><title>hx\n",
       "Heating</title>\n",
       "<ellipse cx=\"131.021\" cy=\"-66.0232\" fill=\"#fad6d8\" rx=\"30.0211\" ry=\"30.0211\" stroke=\"none\"/>\n",
       "<text font-family=\"Times New Roman,serif\" font-size=\"14.00\" text-anchor=\"middle\" x=\"131.021\" y=\"-69.8232\">hx</text>\n",
       "<text font-family=\"Times New Roman,serif\" font-size=\"14.00\" text-anchor=\"middle\" x=\"131.021\" y=\"-54.8232\">Heating</text>\n",
       "</g>\n",
       "<!-- feed -->\n",
       "<g class=\"node\" id=\"node2\"><title>feed</title>\n",
       "<polygon fill=\"#79dae8\" points=\"24.5211,-81.5232 -0.47892,-81.5232 -0.47892,-50.5232 24.5211,-50.5232 24.5211,-44.5232 42.5211,-66.0232 24.5211,-87.5232 24.5211,-81.5232\" stroke=\"black\"/>\n",
       "<text font-family=\"Times New Roman,serif\" font-size=\"14.00\" text-anchor=\"middle\" x=\"21.0211\" y=\"-62.3232\">feed</text>\n",
       "</g>\n",
       "<!-- product -->\n",
       "<g class=\"node\" id=\"node3\"><title>product</title>\n",
       "<polygon fill=\"#79dae8\" points=\"245.521,-81.5232 218.521,-81.5232 218.521,-50.5232 245.521,-50.5232 245.521,-44.5232 263.521,-66.0232 245.521,-87.5232 245.521,-81.5232\" stroke=\"black\"/>\n",
       "<text font-family=\"Times New Roman,serif\" font-size=\"14.00\" text-anchor=\"middle\" x=\"241.021\" y=\"-62.3232\">product</text>\n",
       "</g>\n",
       "</g>\n",
       "</svg>"
      ],
      "text/plain": [
       "<IPython.core.display.SVG object>"
      ]
     },
     "metadata": {},
     "output_type": "display_data"
    },
    {
     "name": "stdout",
     "output_type": "stream",
     "text": [
      "HXutility: hx\n",
      "\u001b[37m\u001b[22mins...\u001b[0m\n",
      "[0] feed\n",
      "    phase: 'l', T: 298.15 K, P: 101325 Pa\n",
      "    flow (kmol/hr): Water    200\n",
      "                    Ethanol  200\n",
      "\u001b[37m\u001b[22mouts...\u001b[0m\n",
      "[0] product\n",
      "    phase: 'g', T: 357.45 K, P: 101325 Pa\n",
      "           \u001b[37m\u001b[22m species  kmol/hr\u001b[0m\n",
      "    vapor:  Water    200\n",
      "            Ethanol  200\n"
     ]
    }
   ],
   "source": [
    "# Simulate heat exchanger\n",
    "feed = Stream('feed', Water=200, Ethanol=200)\n",
    "hx = HXutility('hx', ins=feed, outs='product', V=1,\n",
    "               rigorous=True) # Include VLE\n",
    "hx.simulate()\n",
    "hx.diagram()\n",
    "hx.show()"
   ]
  },
  {
   "cell_type": "code",
   "execution_count": 5,
   "metadata": {},
   "outputs": [
    {
     "data": {
      "text/html": [
       "<div>\n",
       "<style scoped>\n",
       "    .dataframe tbody tr th:only-of-type {\n",
       "        vertical-align: middle;\n",
       "    }\n",
       "\n",
       "    .dataframe tbody tr th {\n",
       "        vertical-align: top;\n",
       "    }\n",
       "\n",
       "    .dataframe thead th {\n",
       "        text-align: right;\n",
       "    }\n",
       "</style>\n",
       "<table border=\"1\" class=\"dataframe\">\n",
       "  <thead>\n",
       "    <tr style=\"text-align: right;\">\n",
       "      <th></th>\n",
       "      <th>H xutility</th>\n",
       "      <th>Units</th>\n",
       "      <th>hx</th>\n",
       "    </tr>\n",
       "  </thead>\n",
       "  <tbody>\n",
       "    <tr>\n",
       "      <th rowspan=\"7\" valign=\"top\">Design</th>\n",
       "      <th>Area</th>\n",
       "      <td>ft^2</td>\n",
       "      <td>763</td>\n",
       "    </tr>\n",
       "    <tr>\n",
       "      <th>Overall heat transfer coefficient</th>\n",
       "      <td>kW/m^2/K</td>\n",
       "      <td>1</td>\n",
       "    </tr>\n",
       "    <tr>\n",
       "      <th>Fouling correction factor</th>\n",
       "      <td></td>\n",
       "      <td>1</td>\n",
       "    </tr>\n",
       "    <tr>\n",
       "      <th>Tube side pressure drop</th>\n",
       "      <td>psi</td>\n",
       "      <td>1.5</td>\n",
       "    </tr>\n",
       "    <tr>\n",
       "      <th>Shell side pressure drop</th>\n",
       "      <td>psi</td>\n",
       "      <td>1.5</td>\n",
       "    </tr>\n",
       "    <tr>\n",
       "      <th>Operating pressure</th>\n",
       "      <td>psi</td>\n",
       "      <td>50</td>\n",
       "    </tr>\n",
       "    <tr>\n",
       "      <th>Total tube length</th>\n",
       "      <td>ft</td>\n",
       "      <td>20</td>\n",
       "    </tr>\n",
       "    <tr>\n",
       "      <th>Cost</th>\n",
       "      <th>Heat exchanger</th>\n",
       "      <td>USD</td>\n",
       "      <td>2.14e+04</td>\n",
       "    </tr>\n",
       "    <tr>\n",
       "      <th rowspan=\"2\" valign=\"top\">Summary</th>\n",
       "      <th>Purchase cost</th>\n",
       "      <td>USD</td>\n",
       "      <td>2.14e+04</td>\n",
       "    </tr>\n",
       "    <tr>\n",
       "      <th>Utility cost</th>\n",
       "      <td>USD/hr</td>\n",
       "      <td>124</td>\n",
       "    </tr>\n",
       "  </tbody>\n",
       "</table>\n",
       "</div>"
      ],
      "text/plain": [
       "H xutility                                    Units       hx\n",
       "Design  Area                                   ft^2      763\n",
       "        Overall heat transfer coefficient  kW/m^2/K        1\n",
       "        Fouling correction factor                          1\n",
       "        Tube side pressure drop                 psi      1.5\n",
       "        Shell side pressure drop                psi      1.5\n",
       "        Operating pressure                      psi       50\n",
       "        Total tube length                        ft       20\n",
       "Cost    Heat exchanger                          USD 2.14e+04\n",
       "Summary Purchase cost                           USD 2.14e+04\n",
       "        Utility cost                         USD/hr      124"
      ]
     },
     "execution_count": 5,
     "metadata": {},
     "output_type": "execute_result"
    }
   ],
   "source": [
    "hx.results()"
   ]
  },
  {
   "cell_type": "code",
   "execution_count": 6,
   "metadata": {},
   "outputs": [
    {
     "name": "stdout",
     "output_type": "stream",
     "text": [
      "HeatUtility: Low pressure steam\n",
      " duty: 2.04e+07 kJ/hr\n",
      " flow: 521 kmol/hr\n",
      " cost: 124 USD/hr\n"
     ]
    }
   ],
   "source": [
    "for hx in hx.heat_utilities:\n",
    "    hx.show()"
   ]
  }
 ],
 "metadata": {
  "kernelspec": {
   "display_name": "Python 3",
   "language": "python",
   "name": "python3"
  },
  "language_info": {
   "codemirror_mode": {
    "name": "ipython",
    "version": 3
   },
   "file_extension": ".py",
   "mimetype": "text/x-python",
   "name": "python",
   "nbconvert_exporter": "python",
   "pygments_lexer": "ipython3",
   "version": "3.6.5"
  }
 },
 "nbformat": 4,
 "nbformat_minor": 2
}
