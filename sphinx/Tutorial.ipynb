{
 "cells": [
  {
   "cell_type": "markdown",
   "metadata": {},
   "source": [
    "# Tutorial"
   ]
  },
  {
   "cell_type": "markdown",
   "metadata": {},
   "source": [
    "### Get thermodynamic and material properties using Chemical objects"
   ]
  },
  {
   "cell_type": "markdown",
   "metadata": {},
   "source": [
    "Chemical objects are an extension of the [thermo.Chemical](http://thermo.readthedocs.io/en/latest/thermo.chemical.html) class from the Chemical Engineering Design Library."
   ]
  },
  {
   "cell_type": "markdown",
   "metadata": {},
   "source": [
    "Initiallize a Chemical object with an ID:"
   ]
  },
  {
   "cell_type": "code",
   "execution_count": 1,
   "metadata": {},
   "outputs": [
    {
     "data": {
      "text/plain": [
       "<Chemical: Water>"
      ]
     },
     "execution_count": 1,
     "metadata": {},
     "output_type": "execute_result"
    }
   ],
   "source": [
    "from biosteam import Chemical\n",
    "Water = Chemical('Water')\n",
    "Water"
   ]
  },
  {
   "cell_type": "markdown",
   "metadata": {},
   "source": [
    "Chemical objects have a temperature `T`, pressure `P`, and `phase`:"
   ]
  },
  {
   "cell_type": "code",
   "execution_count": 2,
   "metadata": {},
   "outputs": [
    {
     "data": {
      "text/plain": [
       "(298.15, 101325, 'l')"
      ]
     },
     "execution_count": 2,
     "metadata": {},
     "output_type": "execute_result"
    }
   ],
   "source": [
    "Water.T, Water.P, Water.phase"
   ]
  },
  {
   "cell_type": "markdown",
   "metadata": {},
   "source": [
    "All biosteam objects have a `show` method:"
   ]
  },
  {
   "cell_type": "code",
   "execution_count": 3,
   "metadata": {},
   "outputs": [
    {
     "name": "stdout",
     "output_type": "stream",
     "text": [
      "Chemical: Water\n",
      " phase: 'l', T: 298.15 K, P: 101325 Pa\n"
     ]
    }
   ],
   "source": [
    "Water.show()"
   ]
  },
  {
   "cell_type": "markdown",
   "metadata": {},
   "source": [
    "You can change the units for `show`:"
   ]
  },
  {
   "cell_type": "code",
   "execution_count": 4,
   "metadata": {},
   "outputs": [
    {
     "name": "stdout",
     "output_type": "stream",
     "text": [
      "Chemical: Water\n",
      " phase: 'l', T: 25 degC, P: 1 atm\n"
     ]
    }
   ],
   "source": [
    "Water.show(T='degC', P='atm')"
   ]
  },
  {
   "cell_type": "markdown",
   "metadata": {},
   "source": [
    "Chemical objects contain thermodynamic properties:"
   ]
  },
  {
   "cell_type": "code",
   "execution_count": 5,
   "metadata": {},
   "outputs": [
    {
     "data": {
      "text/plain": [
       "997.0247522552814"
      ]
     },
     "execution_count": 5,
     "metadata": {},
     "output_type": "execute_result"
    }
   ],
   "source": [
    "Water.rho # (kg/m3)"
   ]
  },
  {
   "cell_type": "markdown",
   "metadata": {},
   "source": [
    "These properties are dependent on temperature (T), pressure (P) and phase:"
   ]
  },
  {
   "cell_type": "code",
   "execution_count": 6,
   "metadata": {},
   "outputs": [
    {
     "data": {
      "text/plain": [
       "971.4427816206321"
      ]
     },
     "execution_count": 6,
     "metadata": {},
     "output_type": "execute_result"
    }
   ],
   "source": [
    "Water.T = 350 # (Kelvin)\n",
    "Water.rho # (kg/m3)"
   ]
  },
  {
   "cell_type": "markdown",
   "metadata": {},
   "source": [
    "`Note how the density changed with temperature`"
   ]
  },
  {
   "cell_type": "markdown",
   "metadata": {},
   "source": [
    "Many more material properties are available. Please read the [thermo.Chemical](http://thermo.readthedocs.io/en/latest/thermo.chemical.html) documentation to learn more."
   ]
  },
  {
   "cell_type": "markdown",
   "metadata": {},
   "source": [
    "### Group Chemical objects with a Species object"
   ]
  },
  {
   "cell_type": "markdown",
   "metadata": {},
   "source": [
    "Initiallize a [Species](https://biosteam.readthedocs.io/en/latest/Species.html) object with IDs:"
   ]
  },
  {
   "cell_type": "code",
   "execution_count": 7,
   "metadata": {},
   "outputs": [
    {
     "data": {
      "text/plain": [
       "<Species: Methanol, Glycerol>"
      ]
     },
     "execution_count": 7,
     "metadata": {},
     "output_type": "execute_result"
    }
   ],
   "source": [
    "from biosteam import Species\n",
    "species = Species('Methanol', 'Glycerol')\n",
    "species"
   ]
  },
  {
   "cell_type": "markdown",
   "metadata": {},
   "source": [
    "The Chemical objects are stored as attributes:"
   ]
  },
  {
   "cell_type": "code",
   "execution_count": 8,
   "metadata": {},
   "outputs": [
    {
     "data": {
      "text/plain": [
       "(<Chemical: Methanol>, <Chemical: Glycerol>)"
      ]
     },
     "execution_count": 8,
     "metadata": {},
     "output_type": "execute_result"
    }
   ],
   "source": [
    "species.Methanol, species.Glycerol"
   ]
  },
  {
   "cell_type": "markdown",
   "metadata": {},
   "source": [
    "Set chemical attributes:"
   ]
  },
  {
   "cell_type": "code",
   "execution_count": 9,
   "metadata": {},
   "outputs": [
    {
     "data": {
      "text/plain": [
       "<Species: Methanol, Glycerol, Water>"
      ]
     },
     "execution_count": 9,
     "metadata": {},
     "output_type": "execute_result"
    }
   ],
   "source": [
    "species.Water = Water\n",
    "species"
   ]
  },
  {
   "cell_type": "markdown",
   "metadata": {},
   "source": [
    "### Material flows and mixture properties with Stream objects"
   ]
  },
  {
   "cell_type": "markdown",
   "metadata": {},
   "source": [
    "First set the working species of all [Stream](https://biosteam.readthedocs.io/en/latest/Stream.html) objects:"
   ]
  },
  {
   "cell_type": "code",
   "execution_count": 10,
   "metadata": {},
   "outputs": [],
   "source": [
    "from biosteam import Stream\n",
    "Stream.species = species # From before"
   ]
  },
  {
   "cell_type": "markdown",
   "metadata": {},
   "source": [
    "A Stream is initialized with an ID, specie-flow rate pairs, temperature, pressure and phase:"
   ]
  },
  {
   "cell_type": "code",
   "execution_count": 11,
   "metadata": {},
   "outputs": [
    {
     "name": "stdout",
     "output_type": "stream",
     "text": [
      "Stream: feed\n",
      " phase: 'l', T: 298.15 K, P: 101325 Pa\n",
      " flow (kmol/hr): Methanol  1\n",
      "                 Glycerol  2\n",
      "                 Water     3\n"
     ]
    }
   ],
   "source": [
    "feed = Stream(ID='feed', Methanol=1, Glycerol=2, Water=3)\n",
    "feed.show()"
   ]
  },
  {
   "cell_type": "markdown",
   "metadata": {},
   "source": [
    "Alternatively, flow rates can be given as an iterable:"
   ]
  },
  {
   "cell_type": "code",
   "execution_count": 12,
   "metadata": {},
   "outputs": [
    {
     "name": "stdout",
     "output_type": "stream",
     "text": [
      "Stream: feed\n",
      " phase: 'l', T: 300 K, P: 101325 Pa\n",
      " flow (kmol/hr): Methanol  1\n",
      "                 Glycerol  2\n",
      "                 Water     3\n"
     ]
    }
   ],
   "source": [
    "feed = Stream(ID='feed', flow=(1,2,3), T=300, P=101325)\n",
    "feed.show() "
   ]
  },
  {
   "cell_type": "markdown",
   "metadata": {},
   "source": [
    "The units can be changed for `show`:"
   ]
  },
  {
   "cell_type": "code",
   "execution_count": 13,
   "metadata": {},
   "outputs": [
    {
     "name": "stdout",
     "output_type": "stream",
     "text": [
      "Stream: feed\n",
      " phase: 'l', T: 26.85 degC, P: 1 atm\n",
      " flow (kg/hr): Methanol  32\n",
      "               Glycerol  184\n",
      "               Water     54\n"
     ]
    }
   ],
   "source": [
    "feed.show(flow='kg/hr', T='degC', P='atm')"
   ]
  },
  {
   "cell_type": "markdown",
   "metadata": {},
   "source": [
    "Flow rates can be conviniently get and set:"
   ]
  },
  {
   "cell_type": "code",
   "execution_count": 14,
   "metadata": {},
   "outputs": [
    {
     "data": {
      "text/plain": [
       "array([32.04186, 36.03056], dtype=object)"
      ]
     },
     "execution_count": 14,
     "metadata": {},
     "output_type": "execute_result"
    }
   ],
   "source": [
    "feed.setflow(Water=50, units='kg/hr')\n",
    "feed.getflow('Methanol', 'Water', units='kg/hr')"
   ]
  },
  {
   "cell_type": "markdown",
   "metadata": {},
   "source": [
    "Stream objects contain T, P, and phase dependent properties:"
   ]
  },
  {
   "cell_type": "code",
   "execution_count": 15,
   "metadata": {},
   "outputs": [
    {
     "data": {
      "text/plain": [
       "1238.6075507557673"
      ]
     },
     "execution_count": 15,
     "metadata": {},
     "output_type": "execute_result"
    }
   ],
   "source": [
    "feed.H # kJ/hr with reference at STP"
   ]
  },
  {
   "cell_type": "code",
   "execution_count": 16,
   "metadata": {},
   "outputs": [
    {
     "data": {
      "text/plain": [
       "36251.651792311415"
      ]
     },
     "execution_count": 16,
     "metadata": {},
     "output_type": "execute_result"
    }
   ],
   "source": [
    "feed.T = 350\n",
    "feed.H"
   ]
  },
  {
   "cell_type": "markdown",
   "metadata": {},
   "source": [
    "Vapor liquid equilibrium is just a line away:"
   ]
  },
  {
   "cell_type": "code",
   "execution_count": 17,
   "metadata": {},
   "outputs": [
    {
     "name": "stdout",
     "output_type": "stream",
     "text": [
      "MixedStream: feed\n",
      " phase: 'l', T: 350.2 K, P: 101325 Pa\n",
      "        \u001b[37m\u001b[22m species   kmol/hr\u001b[0m\n",
      " liquid: Methanol  1\n",
      "         Glycerol  2\n",
      "         Water     2\n"
     ]
    }
   ],
   "source": [
    "feed.T = 350\n",
    "feed.VLE()\n",
    "feed.show()"
   ]
  },
  {
   "cell_type": "code",
   "execution_count": 18,
   "metadata": {},
   "outputs": [
    {
     "name": "stdout",
     "output_type": "stream",
     "text": [
      "MixedStream: feed\n",
      " phase: 'lg', T: 394.44 K, P: 101325 Pa\n",
      "        \u001b[37m\u001b[22m species   kmol/hr\u001b[0m\n",
      " liquid: Methanol  0.178\n",
      "         Glycerol  2\n",
      "         Water     0.324\n",
      "\n",
      " vapor:  Methanol  0.822\n",
      "         Glycerol  0.00214\n",
      "         Water     1.68\n"
     ]
    },
    {
     "name": "stderr",
     "output_type": "stream",
     "text": [
      "C:\\ProgramData\\Anaconda3\\lib\\site-packages\\scipy\\optimize\\zeros.py:195: RuntimeWarning: Tolerance of 4.840740075451322e-08 reached\n",
      "  warnings.warn(msg, RuntimeWarning)\n"
     ]
    }
   ],
   "source": [
    "feed.VLE(V=0.5) # Set molar vapor fraction\n",
    "feed.show()"
   ]
  },
  {
   "cell_type": "markdown",
   "metadata": {},
   "source": [
    "The stream is cast to a [MixedStream](https://biosteam.readthedocs.io/en/latest/MixedStream.html) object. Mixed streams contain multiple phases:"
   ]
  },
  {
   "cell_type": "code",
   "execution_count": 19,
   "metadata": {},
   "outputs": [
    {
     "data": {
      "text/plain": [
       "'lg'"
      ]
     },
     "execution_count": 19,
     "metadata": {},
     "output_type": "execute_result"
    }
   ],
   "source": [
    "feed.phase"
   ]
  },
  {
   "cell_type": "markdown",
   "metadata": {},
   "source": [
    "Please refer to the [MixedStream Example](https://biosteam.readthedocs.io/en/latest/MixedStream%20Example.html) for a detailed example."
   ]
  },
  {
   "cell_type": "markdown",
   "metadata": {},
   "source": [
    "### Find design requirements and cost with Unit objects"
   ]
  },
  {
   "cell_type": "markdown",
   "metadata": {},
   "source": [
    "[Creating a Unit](https://biosteam.readthedocs.io/en/latest/Creating a Unit.html) can be flexible. But in summary, a [Unit](https://biosteam.readthedocs.io/en/latest/Unit.html) object is initialized with an ID, and unit specific arguments:"
   ]
  },
  {
   "cell_type": "code",
   "execution_count": 20,
   "metadata": {},
   "outputs": [],
   "source": [
    "from biosteam.units import Flash\n",
    "# Specify vapor fraction and isobaric conditions\n",
    "F1 = Flash('F1', V=0.5, P=101325) "
   ]
  },
  {
   "cell_type": "markdown",
   "metadata": {},
   "source": [
    "By default, missing streams are given to inputs, `ins`, and empty streams to outputs, `outs`:"
   ]
  },
  {
   "cell_type": "code",
   "execution_count": 21,
   "metadata": {},
   "outputs": [
    {
     "name": "stdout",
     "output_type": "stream",
     "text": [
      "Flash: F1\n",
      "\u001b[37m\u001b[22mins...\u001b[0m\n",
      "[0] Missing Stream\n",
      "\u001b[37m\u001b[22mouts...\u001b[0m\n",
      "[0] d1\n",
      "    phase: 'g', T: 298.15 K, P: 101325 Pa\n",
      "    flow: 0\n",
      "[1] d2\n",
      "    phase: 'l', T: 298.15 K, P: 101325 Pa\n",
      "    flow: 0\n"
     ]
    }
   ],
   "source": [
    "F1.show()"
   ]
  },
  {
   "cell_type": "code",
   "execution_count": 22,
   "metadata": {},
   "outputs": [
    {
     "data": {
      "text/plain": [
       "[<MissingStream>]"
      ]
     },
     "execution_count": 22,
     "metadata": {},
     "output_type": "execute_result"
    }
   ],
   "source": [
    "F1.ins"
   ]
  },
  {
   "cell_type": "code",
   "execution_count": 23,
   "metadata": {},
   "outputs": [
    {
     "data": {
      "text/plain": [
       "[<Stream: d1>, <Stream: d2>]"
      ]
     },
     "execution_count": 23,
     "metadata": {},
     "output_type": "execute_result"
    }
   ],
   "source": [
    "F1.outs"
   ]
  },
  {
   "cell_type": "markdown",
   "metadata": {},
   "source": [
    "You can connect streams by setting the `ins` and `outs`:"
   ]
  },
  {
   "cell_type": "code",
   "execution_count": 24,
   "metadata": {},
   "outputs": [
    {
     "name": "stdout",
     "output_type": "stream",
     "text": [
      "Flash: F1\n",
      "\u001b[37m\u001b[22mins...\u001b[0m\n",
      "[0] d4\n",
      "    phase: 'l', T: 298.15 K, P: 101325 Pa\n",
      "    flow (kmol/hr): Glycerol  180\n",
      "                    Water     220\n",
      "\u001b[37m\u001b[22mouts...\u001b[0m\n",
      "[0] d1\n",
      "    phase: 'g', T: 298.15 K, P: 101325 Pa\n",
      "    flow: 0\n",
      "[1] d2\n",
      "    phase: 'l', T: 298.15 K, P: 101325 Pa\n",
      "    flow: 0\n"
     ]
    }
   ],
   "source": [
    "F1.ins[0] = Stream(Water=220, Glycerol=180)\n",
    "F1.show()"
   ]
  },
  {
   "cell_type": "markdown",
   "metadata": {},
   "source": [
    "To simulate the flash, use the `simulate` method:"
   ]
  },
  {
   "cell_type": "code",
   "execution_count": 25,
   "metadata": {},
   "outputs": [
    {
     "name": "stdout",
     "output_type": "stream",
     "text": [
      "Flash: F1\n",
      "\u001b[37m\u001b[22mins...\u001b[0m\n",
      "[0] d4\n",
      "    phase: 'l', T: 298.15 K, P: 101325 Pa\n",
      "    flow (kmol/hr): Glycerol  180\n",
      "                    Water     220\n",
      "\u001b[37m\u001b[22mouts...\u001b[0m\n",
      "[0] d1\n",
      "    phase: 'g', T: 416.81 K, P: 101325 Pa\n",
      "    flow (kmol/hr): Glycerol  0.72\n",
      "                    Water     199\n",
      "[1] d2\n",
      "    phase: 'l', T: 416.81 K, P: 101325 Pa\n",
      "    flow (kmol/hr): Glycerol  179\n",
      "                    Water     20.7\n"
     ]
    },
    {
     "name": "stderr",
     "output_type": "stream",
     "text": [
      "C:\\Users\\yoelr\\Dropbox\\Cortes-Pena-Guest_Shared\\Code\\biosteam\\biosteam\\units\\flash.py:223: DesignWarning: @Flash F1: Vertical vessel weight (3772 ) is out of bounds (4200 to 1e+06 ).\n",
      "  out = self._vertical()\n"
     ]
    }
   ],
   "source": [
    "F1.simulate()\n",
    "F1.show()"
   ]
  },
  {
   "cell_type": "markdown",
   "metadata": {},
   "source": [
    "Note that some design methods have bounds that warn when calculations may be inaccurate. These bounds are stored in the class:"
   ]
  },
  {
   "cell_type": "code",
   "execution_count": 26,
   "metadata": {},
   "outputs": [
    {
     "data": {
      "text/plain": [
       "{'Vertical vessel weight': array([   4200., 1000000.]),\n",
       " 'Horizontal vessel weight': array([  1000., 920000.]),\n",
       " 'Diameter': array([ 3, 21]),\n",
       " 'Vertical vessel Length': array([12, 40])}"
      ]
     },
     "execution_count": 26,
     "metadata": {},
     "output_type": "execute_result"
    }
   ],
   "source": [
    "Flash._bounds"
   ]
  },
  {
   "cell_type": "markdown",
   "metadata": {},
   "source": [
    "The `results` method returns either a DataFrame or Series object of simulation results:"
   ]
  },
  {
   "cell_type": "code",
   "execution_count": 27,
   "metadata": {},
   "outputs": [
    {
     "data": {
      "text/html": [
       "<div>\n",
       "<style scoped>\n",
       "    .dataframe tbody tr th:only-of-type {\n",
       "        vertical-align: middle;\n",
       "    }\n",
       "\n",
       "    .dataframe tbody tr th {\n",
       "        vertical-align: top;\n",
       "    }\n",
       "\n",
       "    .dataframe thead th {\n",
       "        text-align: right;\n",
       "    }\n",
       "</style>\n",
       "<table border=\"1\" class=\"dataframe\">\n",
       "  <thead>\n",
       "    <tr style=\"text-align: right;\">\n",
       "      <th></th>\n",
       "      <th>Flash</th>\n",
       "      <th>Units</th>\n",
       "      <th>F1</th>\n",
       "    </tr>\n",
       "  </thead>\n",
       "  <tbody>\n",
       "    <tr>\n",
       "      <th rowspan=\"5\" valign=\"top\">Design</th>\n",
       "      <th>SepType</th>\n",
       "      <td></td>\n",
       "      <td>Vertical</td>\n",
       "    </tr>\n",
       "    <tr>\n",
       "      <th>Length</th>\n",
       "      <td>ft</td>\n",
       "      <td>18.5</td>\n",
       "    </tr>\n",
       "    <tr>\n",
       "      <th>Diameter</th>\n",
       "      <td>ft</td>\n",
       "      <td>4.5</td>\n",
       "    </tr>\n",
       "    <tr>\n",
       "      <th>Weight</th>\n",
       "      <td>lb</td>\n",
       "      <td>3.77e+03</td>\n",
       "    </tr>\n",
       "    <tr>\n",
       "      <th>Wall thickness</th>\n",
       "      <td>in</td>\n",
       "      <td>0.312</td>\n",
       "    </tr>\n",
       "    <tr>\n",
       "      <th rowspan=\"2\" valign=\"top\">Cost</th>\n",
       "      <th>Vessel</th>\n",
       "      <td>USD</td>\n",
       "      <td>3.68e+04</td>\n",
       "    </tr>\n",
       "    <tr>\n",
       "      <th>Heat exchanger</th>\n",
       "      <td>USD</td>\n",
       "      <td>2.1e+04</td>\n",
       "    </tr>\n",
       "    <tr>\n",
       "      <th rowspan=\"2\" valign=\"top\">Summary</th>\n",
       "      <th>Purchase cost</th>\n",
       "      <td>USD</td>\n",
       "      <td>5.78e+04</td>\n",
       "    </tr>\n",
       "    <tr>\n",
       "      <th>Utility cost</th>\n",
       "      <td>USD/hr</td>\n",
       "      <td>139</td>\n",
       "    </tr>\n",
       "  </tbody>\n",
       "</table>\n",
       "</div>"
      ],
      "text/plain": [
       "Flash                    Units        F1\n",
       "Design  SepType                 Vertical\n",
       "        Length              ft      18.5\n",
       "        Diameter            ft       4.5\n",
       "        Weight              lb  3.77e+03\n",
       "        Wall thickness      in     0.312\n",
       "Cost    Vessel             USD  3.68e+04\n",
       "        Heat exchanger     USD   2.1e+04\n",
       "Summary Purchase cost      USD  5.78e+04\n",
       "        Utility cost    USD/hr       139"
      ]
     },
     "execution_count": 27,
     "metadata": {},
     "output_type": "execute_result"
    }
   ],
   "source": [
    "F1.results() # Default returns DataFrame object with units"
   ]
  },
  {
   "cell_type": "code",
   "execution_count": 28,
   "metadata": {},
   "outputs": [
    {
     "data": {
      "text/plain": [
       "Design   SepType           Vertical\n",
       "         Length                18.5\n",
       "         Diameter               4.5\n",
       "         Weight            3.77e+03\n",
       "         Wall thickness       0.312\n",
       "Cost     Vessel            3.68e+04\n",
       "         Heat exchanger     2.1e+04\n",
       "Summary  Purchase cost     5.78e+04\n",
       "         Utility cost           139\n",
       "Name: F1, dtype: object"
      ]
     },
     "execution_count": 28,
     "metadata": {},
     "output_type": "execute_result"
    }
   ],
   "source": [
    "F1.results(with_units=False) # Returns Series object"
   ]
  },
  {
   "cell_type": "markdown",
   "metadata": {},
   "source": [
    "All heat related utilities are in `heat_utilities`:"
   ]
  },
  {
   "cell_type": "code",
   "execution_count": 29,
   "metadata": {},
   "outputs": [
    {
     "data": {
      "text/plain": [
       "[<Medium pressure steam: 1.88e+07 kJ/hr, 504 kmol/hr, 139 USD/hr>]"
      ]
     },
     "execution_count": 29,
     "metadata": {},
     "output_type": "execute_result"
    }
   ],
   "source": [
    "F1.heat_utilities"
   ]
  },
  {
   "cell_type": "code",
   "execution_count": 30,
   "metadata": {},
   "outputs": [
    {
     "name": "stdout",
     "output_type": "stream",
     "text": [
      "HeatUtility: Medium pressure steam\n",
      " duty: 1.88e+07 kJ/hr\n",
      " flow: 504 kmol/hr\n",
      " cost: 139 USD/hr\n"
     ]
    }
   ],
   "source": [
    "heat_utility = F1.heat_utilities[0]\n",
    "heat_utility.show()"
   ]
  },
  {
   "cell_type": "markdown",
   "metadata": {},
   "source": [
    "Please refer to [HeatUtility](https://biosteam.readthedocs.io/en/latest/HeatUtility.html) for a detailed example."
   ]
  },
  {
   "cell_type": "markdown",
   "metadata": {},
   "source": [
    "### Solve recycle loops and process specifications with System objects"
   ]
  },
  {
   "cell_type": "markdown",
   "metadata": {},
   "source": [
    "**Designing a chemical process is no easy task. A simple recycle process consisting of a flash with a partial liquid recycle is presented here.**"
   ]
  },
  {
   "cell_type": "markdown",
   "metadata": {},
   "source": [
    "Create a [Mixer](https://biosteam.readthedocs.io/en/latest/Mixer.html) object and a [Splitter](https://biosteam.readthedocs.io/en/latest/Splitter.html) object:"
   ]
  },
  {
   "cell_type": "code",
   "execution_count": 31,
   "metadata": {
    "scrolled": true
   },
   "outputs": [],
   "source": [
    "from biosteam.units import Mixer, Splitter\n",
    "M1 = Mixer('M1')\n",
    "S1 = Splitter('S1', split=0.5) # Split to 0th output stream\n",
    "F1.outs[0].ID = 'product'"
   ]
  },
  {
   "cell_type": "markdown",
   "metadata": {},
   "source": [
    "Connect streams and make a recycle loop using [-pipe- notation](https://biosteam.readthedocs.io/en/latest/Using -pipe- notation.html):"
   ]
  },
  {
   "cell_type": "code",
   "execution_count": 32,
   "metadata": {},
   "outputs": [
    {
     "data": {
      "text/plain": [
       "<Splitter: S1>"
      ]
     },
     "execution_count": 32,
     "metadata": {},
     "output_type": "execute_result"
    }
   ],
   "source": [
    "feed = Stream('feed', Glycerol=80, Water=400)\n",
    "\n",
    "# Broken down -pipe- notation\n",
    "[S1-0, feed]-M1     # M1.ins[:] = [S1.outs[0], feed]\n",
    "M1-F1               # F1.ins[:] = M1.outs\n",
    "F1-1-S1             # S1.ins[:] = F1.outs[1]\n",
    "\n",
    "# All together\n",
    "[S1-0, feed]-M1-F1-1-S1"
   ]
  },
  {
   "cell_type": "markdown",
   "metadata": {},
   "source": [
    "Create [System](https://biosteam.readthedocs.io/en/latest/System.html) object by specifying an ID, a `recycle` stream and a `network` of units:"
   ]
  },
  {
   "cell_type": "code",
   "execution_count": 33,
   "metadata": {},
   "outputs": [
    {
     "name": "stdout",
     "output_type": "stream",
     "text": [
      "System: sys1\n",
      " recycle: d6\n",
      " network: (M1, F1, S1)\n",
      " convergence error: Flow rate   0.00e+00 \u001b[37m\u001b[22mkmol/hr\u001b[0m\n",
      "                    Temperature 0.00e+00 \u001b[37m\u001b[22mK\u001b[0m\n",
      " iterations: 0\n"
     ]
    }
   ],
   "source": [
    "from biosteam import System\n",
    "sys1 = System('sys1', network=(M1, F1, S1), recycle=S1-0) # recycle=S1.outs[0]\n",
    "sys1.show()"
   ]
  },
  {
   "cell_type": "markdown",
   "metadata": {},
   "source": [
    "View the System object as a Graphviz diagram:"
   ]
  },
  {
   "cell_type": "code",
   "execution_count": 34,
   "metadata": {},
   "outputs": [
    {
     "data": {
      "image/svg+xml": [
       "<svg height=\"261pt\" viewBox=\"0.00 0.00 487.20 261.24\" width=\"487pt\" xmlns=\"http://www.w3.org/2000/svg\" xmlns:xlink=\"http://www.w3.org/1999/xlink\">\n",
       "<g class=\"graph\" id=\"graph0\" transform=\"scale(1 1) rotate(0) translate(4 257.24)\">\n",
       "<title>%3</title>\n",
       "<polygon fill=\"white\" points=\"-4,4 -4,-257.24 483.203,-257.24 483.203,4 -4,4\" stroke=\"none\"/>\n",
       "<!-- F1\n",
       "Flash&#45;&gt;S1\n",
       "Splitter -->\n",
       "<g class=\"edge\" id=\"edge5\"><title>F1\n",
       "Flash:s-&gt;S1\n",
       "Splitter:w</title>\n",
       "<path d=\"M36,-88.7401C36,-50.4807 74.191,-52.9698 112.697,-53.6357\" fill=\"none\" stroke=\"black\"/>\n",
       "<polygon fill=\"black\" points=\"112.965,-57.1385 123,-53.7401 113.036,-50.1388 112.965,-57.1385\" stroke=\"black\"/>\n",
       "<text font-family=\"Times New Roman,serif\" font-size=\"14.00\" text-anchor=\"middle\" x=\"97.5\" y=\"-57.5401\">d2</text>\n",
       "</g>\n",
       "<!-- F1\n",
       "Flash&#45;&gt;product -->\n",
       "<g class=\"edge\" id=\"edge6\"><title>F1\n",
       "Flash:n-&gt;product:w</title>\n",
       "<path d=\"M36,-170.74C36,-236.255 104.681,-231.74 170.196,-231.74\" fill=\"none\" stroke=\"black\"/>\n",
       "</g>\n",
       "<!-- S1\n",
       "Splitter&#45;&gt;M1\n",
       "Mixer -->\n",
       "<g class=\"edge\" id=\"edge1\"><title>S1\n",
       "Splitter:c-&gt;M1\n",
       "Mixer:c</title>\n",
       "<path d=\"M242.214,-69.7431C275.506,-83.3975 323.306,-103.002 357.692,-117.105\" fill=\"none\" stroke=\"black\"/>\n",
       "<polygon fill=\"black\" points=\"356.431,-120.371 367.012,-120.928 359.088,-113.895 356.431,-120.371\" stroke=\"black\"/>\n",
       "<text font-family=\"Times New Roman,serif\" font-size=\"14.00\" text-anchor=\"middle\" x=\"306.892\" y=\"-103.54\">d6</text>\n",
       "</g>\n",
       "<!-- S1\n",
       "Splitter&#45;&gt;d7 -->\n",
       "<g class=\"edge\" id=\"edge2\"><title>S1\n",
       "Splitter:c-&gt;d7:w</title>\n",
       "<path d=\"M242.22,-51.9914C277.777,-50.5495 331.749,-48.7401 378.688,-48.7401\" fill=\"none\" stroke=\"black\"/>\n",
       "</g>\n",
       "<!-- M1\n",
       "Mixer&#45;&gt;F1\n",
       "Flash -->\n",
       "<g class=\"edge\" id=\"edge4\"><title>M1\n",
       "Mixer:e-&gt;F1\n",
       "Flash:c</title>\n",
       "<path d=\"M471.688,-134.74C483.633,-134.74 479.212,-180.113 470.688,-188.48 426.824,-231.536 387.167,-216.367 332.392,-188.48 320.274,-182.311 323.642,-173.707 314.392,-163.74 301.308,-149.641 299.366,-142.589 281.392,-135.74 215.718,-110.714 132.751,-115.553 82.3404,-122.093\" fill=\"none\" stroke=\"black\"/>\n",
       "<polygon fill=\"black\" points=\"81.8314,-118.63 72.4014,-123.459 82.785,-125.564 81.8314,-118.63\" stroke=\"black\"/>\n",
       "<text font-family=\"Times New Roman,serif\" font-size=\"14.00\" text-anchor=\"middle\" x=\"202.196\" y=\"-140.54\">d5</text>\n",
       "</g>\n",
       "<!-- feed&#45;&gt;M1\n",
       "Mixer -->\n",
       "<g class=\"edge\" id=\"edge3\"><title>feed:e-&gt;M1\n",
       "Mixer:c</title>\n",
       "<path d=\"M225.196,-177.74C275.7,-177.74 332.09,-160.733 366.988,-148.11\" fill=\"none\" stroke=\"black\"/>\n",
       "</g>\n",
       "<!-- F1\n",
       "Flash -->\n",
       "<g class=\"node\" id=\"node1\"><title>F1\n",
       "Flash</title>\n",
       "<defs>\n",
       "<linearGradient gradientUnits=\"userSpaceOnUse\" id=\"l_0\" x1=\"0\" x2=\"72\" y1=\"-129.74\" y2=\"-129.74\">\n",
       "<stop offset=\"0\" style=\"stop-color:white;stop-opacity:1.;\"/>\n",
       "<stop offset=\"1\" style=\"stop-color:#cdcdcd;stop-opacity:1.;\"/>\n",
       "</linearGradient>\n",
       "</defs>\n",
       "<polygon fill=\"url(#l_0)\" points=\"72,-169.24 0,-169.24 0,-90.2401 72,-90.2401 72,-169.24\" stroke=\"black\"/>\n",
       "<text font-family=\"Times New Roman,serif\" font-size=\"14.00\" text-anchor=\"middle\" x=\"36\" y=\"-133.54\">F1</text>\n",
       "<text font-family=\"Times New Roman,serif\" font-size=\"14.00\" text-anchor=\"middle\" x=\"36\" y=\"-118.54\">Flash</text>\n",
       "</g>\n",
       "<!-- S1\n",
       "Splitter -->\n",
       "<g class=\"node\" id=\"node2\"><title>S1\n",
       "Splitter</title>\n",
       "<defs>\n",
       "<linearGradient gradientUnits=\"userSpaceOnUse\" id=\"l_1\" x1=\"122.804\" x2=\"241.892\" y1=\"-53.7401\" y2=\"-53.7401\">\n",
       "<stop offset=\"0\" style=\"stop-color:#bfbfbf;stop-opacity:1.;\"/>\n",
       "<stop offset=\"1\" style=\"stop-color:white;stop-opacity:1.;\"/>\n",
       "</linearGradient>\n",
       "</defs>\n",
       "<polygon fill=\"url(#l_1)\" points=\"122.804,-53.7401 241.892,0.241193 241.892,-107.721 122.804,-53.7401\" stroke=\"black\"/>\n",
       "<text font-family=\"Times New Roman,serif\" font-size=\"14.00\" text-anchor=\"middle\" x=\"202.196\" y=\"-57.5401\">S1</text>\n",
       "<text font-family=\"Times New Roman,serif\" font-size=\"14.00\" text-anchor=\"middle\" x=\"202.196\" y=\"-42.5401\">Splitter</text>\n",
       "</g>\n",
       "<!-- M1\n",
       "Mixer -->\n",
       "<g class=\"node\" id=\"node3\"><title>M1\n",
       "Mixer</title>\n",
       "<defs>\n",
       "<linearGradient gradientUnits=\"userSpaceOnUse\" id=\"l_2\" x1=\"367.142\" x2=\"470.782\" y1=\"-134.74\" y2=\"-134.74\">\n",
       "<stop offset=\"0\" style=\"stop-color:white;stop-opacity:1.;\"/>\n",
       "<stop offset=\"1\" style=\"stop-color:#cdcdcd;stop-opacity:1.;\"/>\n",
       "</linearGradient>\n",
       "</defs>\n",
       "<polygon fill=\"url(#l_2)\" points=\"470.782,-134.74 367.142,-188.721 367.142,-80.7588 470.782,-134.74\" stroke=\"black\"/>\n",
       "<text font-family=\"Times New Roman,serif\" font-size=\"14.00\" text-anchor=\"middle\" x=\"401.688\" y=\"-138.54\">M1</text>\n",
       "<text font-family=\"Times New Roman,serif\" font-size=\"14.00\" text-anchor=\"middle\" x=\"401.688\" y=\"-123.54\">Mixer</text>\n",
       "</g>\n",
       "<!-- d7 -->\n",
       "<g class=\"node\" id=\"node4\"><title>d7</title>\n",
       "<polygon fill=\"#79dae8\" points=\"405.188,-64.2401 380.188,-64.2401 380.188,-33.2401 405.188,-33.2401 405.188,-27.2401 423.188,-48.7401 405.188,-70.2401 405.188,-64.2401\" stroke=\"black\"/>\n",
       "<text font-family=\"Times New Roman,serif\" font-size=\"14.00\" text-anchor=\"middle\" x=\"401.688\" y=\"-45.0401\">d7</text>\n",
       "</g>\n",
       "<!-- feed -->\n",
       "<g class=\"node\" id=\"node5\"><title>feed</title>\n",
       "<polygon fill=\"#79dae8\" points=\"205.696,-193.24 180.696,-193.24 180.696,-162.24 205.696,-162.24 205.696,-156.24 223.696,-177.74 205.696,-199.24 205.696,-193.24\" stroke=\"black\"/>\n",
       "<text font-family=\"Times New Roman,serif\" font-size=\"14.00\" text-anchor=\"middle\" x=\"202.196\" y=\"-174.04\">feed</text>\n",
       "</g>\n",
       "<!-- product -->\n",
       "<g class=\"node\" id=\"node6\"><title>product</title>\n",
       "<polygon fill=\"#79dae8\" points=\"214.696,-247.24 171.696,-247.24 171.696,-216.24 214.696,-216.24 214.696,-210.24 232.696,-231.74 214.696,-253.24 214.696,-247.24\" stroke=\"black\"/>\n",
       "<text font-family=\"Times New Roman,serif\" font-size=\"14.00\" text-anchor=\"middle\" x=\"202.196\" y=\"-228.04\">product</text>\n",
       "</g>\n",
       "</g>\n",
       "</svg>"
      ],
      "text/plain": [
       "<IPython.core.display.SVG object>"
      ]
     },
     "metadata": {},
     "output_type": "display_data"
    }
   ],
   "source": [
    "sys1.diagram() "
   ]
  },
  {
   "cell_type": "markdown",
   "metadata": {},
   "source": [
    "Simulate the System object:"
   ]
  },
  {
   "cell_type": "code",
   "execution_count": 35,
   "metadata": {},
   "outputs": [
    {
     "name": "stdout",
     "output_type": "stream",
     "text": [
      "System: sys1\n",
      " recycle: d6\n",
      " network: (M1, F1, S1)\n",
      " convergence error: Flow rate   3.55e-02 \u001b[37m\u001b[22mkmol/hr\u001b[0m\n",
      "                    Temperature 2.64e-03 \u001b[37m\u001b[22mK\u001b[0m\n",
      " iterations: 7\n"
     ]
    },
    {
     "name": "stderr",
     "output_type": "stream",
     "text": [
      "C:\\ProgramData\\Anaconda3\\lib\\site-packages\\scipy\\optimize\\zeros.py:195: RuntimeWarning: Tolerance of 5.582530206993397e-07 reached\n",
      "  warnings.warn(msg, RuntimeWarning)\n",
      "C:\\ProgramData\\Anaconda3\\lib\\site-packages\\scipy\\optimize\\zeros.py:195: RuntimeWarning: Tolerance of 9.733344086271245e-08 reached\n",
      "  warnings.warn(msg, RuntimeWarning)\n",
      "C:\\ProgramData\\Anaconda3\\lib\\site-packages\\scipy\\optimize\\zeros.py:195: RuntimeWarning: Tolerance of -3.125683178950567e-08 reached\n",
      "  warnings.warn(msg, RuntimeWarning)\n",
      "C:\\ProgramData\\Anaconda3\\lib\\site-packages\\scipy\\optimize\\zeros.py:195: RuntimeWarning: Tolerance of -8.274480478576152e-08 reached\n",
      "  warnings.warn(msg, RuntimeWarning)\n",
      "C:\\Users\\yoelr\\Dropbox\\Cortes-Pena-Guest_Shared\\Code\\biosteam\\biosteam\\units\\flash.py:223: DesignWarning: @Flash F1: Vertical vessel weight (4068 ) is out of bounds (4200 to 1e+06 ).\n",
      "  out = self._vertical()\n"
     ]
    }
   ],
   "source": [
    "sys1.simulate()\n",
    "sys1.show()"
   ]
  },
  {
   "cell_type": "code",
   "execution_count": 36,
   "metadata": {},
   "outputs": [
    {
     "name": "stdout",
     "output_type": "stream",
     "text": [
      "Flash: F1\n",
      "\u001b[37m\u001b[22mins...\u001b[0m\n",
      "[0] d5  from  Mixer-M1\n",
      "    phase: 'l', T: 326.58 K, P: 101325 Pa\n",
      "    flow (kmol/hr): Glycerol  160\n",
      "                    Water     480\n",
      "\u001b[37m\u001b[22mouts...\u001b[0m\n",
      "[0] product\n",
      "    phase: 'g', T: 376.18 K, P: 101325 Pa\n",
      "    flow (kmol/hr): Glycerol  0.061\n",
      "                    Water     320\n",
      "[1] d2  to  Splitter-S1\n",
      "    phase: 'l', T: 376.18 K, P: 101325 Pa\n",
      "    flow (kmol/hr): Glycerol  160\n",
      "                    Water     160\n"
     ]
    }
   ],
   "source": [
    "F1.show()"
   ]
  },
  {
   "cell_type": "code",
   "execution_count": 37,
   "metadata": {},
   "outputs": [
    {
     "data": {
      "text/html": [
       "<div>\n",
       "<style scoped>\n",
       "    .dataframe tbody tr th:only-of-type {\n",
       "        vertical-align: middle;\n",
       "    }\n",
       "\n",
       "    .dataframe tbody tr th {\n",
       "        vertical-align: top;\n",
       "    }\n",
       "\n",
       "    .dataframe thead th {\n",
       "        text-align: right;\n",
       "    }\n",
       "</style>\n",
       "<table border=\"1\" class=\"dataframe\">\n",
       "  <thead>\n",
       "    <tr style=\"text-align: right;\">\n",
       "      <th></th>\n",
       "      <th>Flash</th>\n",
       "      <th>Units</th>\n",
       "      <th>F1</th>\n",
       "    </tr>\n",
       "  </thead>\n",
       "  <tbody>\n",
       "    <tr>\n",
       "      <th rowspan=\"5\" valign=\"top\">Design</th>\n",
       "      <th>SepType</th>\n",
       "      <td></td>\n",
       "      <td>Vertical</td>\n",
       "    </tr>\n",
       "    <tr>\n",
       "      <th>Length</th>\n",
       "      <td>ft</td>\n",
       "      <td>15.5</td>\n",
       "    </tr>\n",
       "    <tr>\n",
       "      <th>Diameter</th>\n",
       "      <td>ft</td>\n",
       "      <td>5.5</td>\n",
       "    </tr>\n",
       "    <tr>\n",
       "      <th>Weight</th>\n",
       "      <td>lb</td>\n",
       "      <td>4.07e+03</td>\n",
       "    </tr>\n",
       "    <tr>\n",
       "      <th>Wall thickness</th>\n",
       "      <td>in</td>\n",
       "      <td>0.312</td>\n",
       "    </tr>\n",
       "    <tr>\n",
       "      <th rowspan=\"2\" valign=\"top\">Cost</th>\n",
       "      <th>Vessel</th>\n",
       "      <td>USD</td>\n",
       "      <td>3.82e+04</td>\n",
       "    </tr>\n",
       "    <tr>\n",
       "      <th>Heat exchanger</th>\n",
       "      <td>USD</td>\n",
       "      <td>2.34e+04</td>\n",
       "    </tr>\n",
       "    <tr>\n",
       "      <th rowspan=\"2\" valign=\"top\">Summary</th>\n",
       "      <th>Purchase cost</th>\n",
       "      <td>USD</td>\n",
       "      <td>6.15e+04</td>\n",
       "    </tr>\n",
       "    <tr>\n",
       "      <th>Utility cost</th>\n",
       "      <td>USD/hr</td>\n",
       "      <td>113</td>\n",
       "    </tr>\n",
       "  </tbody>\n",
       "</table>\n",
       "</div>"
      ],
      "text/plain": [
       "Flash                    Units        F1\n",
       "Design  SepType                 Vertical\n",
       "        Length              ft      15.5\n",
       "        Diameter            ft       5.5\n",
       "        Weight              lb  4.07e+03\n",
       "        Wall thickness      in     0.312\n",
       "Cost    Vessel             USD  3.82e+04\n",
       "        Heat exchanger     USD  2.34e+04\n",
       "Summary Purchase cost      USD  6.15e+04\n",
       "        Utility cost    USD/hr       113"
      ]
     },
     "execution_count": 37,
     "metadata": {},
     "output_type": "execute_result"
    }
   ],
   "source": [
    "F1.results()"
   ]
  },
  {
   "cell_type": "code",
   "execution_count": 38,
   "metadata": {},
   "outputs": [
    {
     "name": "stdout",
     "output_type": "stream",
     "text": [
      "HeatUtility: Low pressure steam\n",
      " duty: 1.86e+07 kJ/hr\n",
      " flow: 474 kmol/hr\n",
      " cost: 113 USD/hr\n"
     ]
    }
   ],
   "source": [
    "F1.heat_utilities[0].show()"
   ]
  }
 ],
 "metadata": {
  "kernelspec": {
   "display_name": "Python 3",
   "language": "python",
   "name": "python3"
  },
  "language_info": {
   "codemirror_mode": {
    "name": "ipython",
    "version": 3
   },
   "file_extension": ".py",
   "mimetype": "text/x-python",
   "name": "python",
   "nbconvert_exporter": "python",
   "pygments_lexer": "ipython3",
   "version": "3.6.5"
  }
 },
 "nbformat": 4,
 "nbformat_minor": 2
}
