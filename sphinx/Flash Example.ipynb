{
 "cells": [
  {
   "cell_type": "markdown",
   "metadata": {},
   "source": [
    "# Flash"
   ]
  },
  {
   "cell_type": "markdown",
   "metadata": {},
   "source": [
    "**Flash drum simulation is based on vapor-liquid equilibrium using Dortmund modified UNIFAC activity coefficients and modified Raoult's law. Design procedure based on heuristics by Wayne D. Monnery & William Y. Svrcek.**"
   ]
  },
  {
   "cell_type": "code",
   "execution_count": 1,
   "metadata": {},
   "outputs": [
    {
     "data": {
      "image/png": "[encoded data removed]",
      "text/plain": [
       "<IPython.core.display.Image object>"
      ]
     },
     "metadata": {},
     "output_type": "display_data"
    },
    {
     "name": "stdout",
     "output_type": "stream",
     "text": [
      "Flash: F1\n",
      "ins...\n",
      "[0] feed\n",
      "    phase: 'l', T: 100.97 degC, P: 1 atm\n",
      "    flow (kmol/hr): Glycerol  100\n",
      "                    Water     600\n",
      "outs...\n",
      "[0] vapor\n",
      "    phase: 'g', T: 137 degC, P: 1 atm\n",
      "    flow (kmol/hr): Glycerol  1.42\n",
      "                    Water     586\n",
      "[1] crude_glycerin\n",
      "    phase: 'l', T: 137 degC, P: 1 atm\n",
      "    flow (kmol/hr): Glycerol  98.6\n",
      "                    Water     14.1\n"
     ]
    }
   ],
   "source": [
    "from biosteam import Species, Stream\n",
    "from biosteam.units import Flash\n",
    "# Set up feed\n",
    "Stream.species = Species('Glycerol', 'Water')\n",
    "feed = Stream('feed', flow=(100, 600))\n",
    "feed.T = feed.bubble_point()[0]\n",
    "\n",
    "# Simulate flash drum\n",
    "F1 = Flash('F1',\n",
    "           ins=feed,\n",
    "           outs=('vapor', 'crude glycerin'),\n",
    "           P=101325, # Pa\n",
    "           T=410.15) # K\n",
    "F1.simulate()\n",
    "\n",
    "# See streams\n",
    "F1.diagram()\n",
    "F1.show(T='degC', P='atm')"
   ]
  },
  {
   "cell_type": "code",
   "execution_count": 2,
   "metadata": {},
   "outputs": [
    {
     "data": {
      "text/html": [
       "<div>\n",
       "<style scoped>\n",
       "    .dataframe tbody tr th:only-of-type {\n",
       "        vertical-align: middle;\n",
       "    }\n",
       "\n",
       "    .dataframe tbody tr th {\n",
       "        vertical-align: top;\n",
       "    }\n",
       "\n",
       "    .dataframe thead th {\n",
       "        text-align: right;\n",
       "    }\n",
       "</style>\n",
       "<table border=\"1\" class=\"dataframe\">\n",
       "  <thead>\n",
       "    <tr style=\"text-align: right;\">\n",
       "      <th></th>\n",
       "      <th>Flash</th>\n",
       "      <th>Units</th>\n",
       "      <th>F1</th>\n",
       "    </tr>\n",
       "  </thead>\n",
       "  <tbody>\n",
       "    <tr>\n",
       "      <th rowspan=\"3\" valign=\"top\">Medium pressure steam</th>\n",
       "      <th>Duty</th>\n",
       "      <td>kJ/hr</td>\n",
       "      <td>2.86e+07</td>\n",
       "    </tr>\n",
       "    <tr>\n",
       "      <th>Flow</th>\n",
       "      <td>kmol/hr</td>\n",
       "      <td>787</td>\n",
       "    </tr>\n",
       "    <tr>\n",
       "      <th>Cost</th>\n",
       "      <td>USD/hr</td>\n",
       "      <td>217</td>\n",
       "    </tr>\n",
       "    <tr>\n",
       "      <th rowspan=\"6\" valign=\"top\">Design</th>\n",
       "      <th>SepType</th>\n",
       "      <td></td>\n",
       "      <td>Vertical</td>\n",
       "    </tr>\n",
       "    <tr>\n",
       "      <th>Length</th>\n",
       "      <td>ft</td>\n",
       "      <td>11.5</td>\n",
       "    </tr>\n",
       "    <tr>\n",
       "      <th>Diameter</th>\n",
       "      <td>ft</td>\n",
       "      <td>7.5</td>\n",
       "    </tr>\n",
       "    <tr>\n",
       "      <th>Weight</th>\n",
       "      <td>lb</td>\n",
       "      <td>5.6e+03</td>\n",
       "    </tr>\n",
       "    <tr>\n",
       "      <th>Wall thickness</th>\n",
       "      <td>in</td>\n",
       "      <td>0.375</td>\n",
       "    </tr>\n",
       "    <tr>\n",
       "      <th>Material</th>\n",
       "      <td></td>\n",
       "      <td>Carbon steel</td>\n",
       "    </tr>\n",
       "    <tr>\n",
       "      <th rowspan=\"2\" valign=\"top\">Cost</th>\n",
       "      <th>Flash</th>\n",
       "      <td>USD</td>\n",
       "      <td>4.4e+04</td>\n",
       "    </tr>\n",
       "    <tr>\n",
       "      <th>Heat exchanger</th>\n",
       "      <td>USD</td>\n",
       "      <td>3.34e+04</td>\n",
       "    </tr>\n",
       "    <tr>\n",
       "      <th>Purchase cost</th>\n",
       "      <th></th>\n",
       "      <td>USD</td>\n",
       "      <td>7.74e+04</td>\n",
       "    </tr>\n",
       "    <tr>\n",
       "      <th>Utility cost</th>\n",
       "      <th></th>\n",
       "      <td>USD/hr</td>\n",
       "      <td>217</td>\n",
       "    </tr>\n",
       "  </tbody>\n",
       "</table>\n",
       "</div>"
      ],
      "text/plain": [
       "Flash                                   Units            F1\n",
       "Medium pressure steam Duty              kJ/hr      2.86e+07\n",
       "                      Flow            kmol/hr           787\n",
       "                      Cost             USD/hr           217\n",
       "Design                SepType                      Vertical\n",
       "                      Length               ft          11.5\n",
       "                      Diameter             ft           7.5\n",
       "                      Weight               lb       5.6e+03\n",
       "                      Wall thickness       in         0.375\n",
       "                      Material                 Carbon steel\n",
       "Cost                  Flash               USD       4.4e+04\n",
       "                      Heat exchanger      USD      3.34e+04\n",
       "Purchase cost                             USD      7.74e+04\n",
       "Utility cost                           USD/hr           217"
      ]
     },
     "execution_count": 2,
     "metadata": {},
     "output_type": "execute_result"
    }
   ],
   "source": [
    "# Design results\n",
    "F1.results()"
   ]
  }
 ],
 "metadata": {
  "kernelspec": {
   "display_name": "Python 3",
   "language": "python",
   "name": "python3"
  },
  "language_info": {
   "codemirror_mode": {
    "name": "ipython",
    "version": 3
   },
   "file_extension": ".py",
   "mimetype": "text/x-python",
   "name": "python",
   "nbconvert_exporter": "python",
   "pygments_lexer": "ipython3",
   "version": "3.6.5"
  }
 },
 "nbformat": 4,
 "nbformat_minor": 2
}
