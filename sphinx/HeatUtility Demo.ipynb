{
 "cells": [
  {
   "cell_type": "markdown",
   "metadata": {},
   "source": [
    "# Heat Utility"
   ]
  },
  {
   "cell_type": "markdown",
   "metadata": {},
   "source": [
    "### Find cooling and heating utility requirements"
   ]
  },
  {
   "cell_type": "code",
   "execution_count": 1,
   "metadata": {},
   "outputs": [],
   "source": [
    "from biosteam import HeatUtility\n",
    "hu = HeatUtility()"
   ]
  },
  {
   "cell_type": "code",
   "execution_count": 2,
   "metadata": {},
   "outputs": [
    {
     "data": {
      "text/plain": [
       "{'HeatUtility': Medium Pressure Steam at 454 K,\n",
       " 'Flow': 0.241\u001b[37m\u001b[22m (kg/hr)\u001b[0m,\n",
       " 'Duty': 500\u001b[37m\u001b[22m (kJ/hr)\u001b[0m,\n",
       " 'Cost': 0.00369\u001b[37m\u001b[22m (USD/hr)\u001b[0m}"
      ]
     },
     "execution_count": 2,
     "metadata": {},
     "output_type": "execute_result"
    }
   ],
   "source": [
    "hu(duty=500, T_in=350, T_out=405) # Call object to calculate cost"
   ]
  },
  {
   "cell_type": "code",
   "execution_count": 3,
   "metadata": {},
   "outputs": [
    {
     "data": {
      "text/plain": [
       "<HeatUtility: Medium Pressure Steam>"
      ]
     },
     "execution_count": 3,
     "metadata": {},
     "output_type": "execute_result"
    }
   ],
   "source": [
    "hu # HeatUtility object retains information"
   ]
  },
  {
   "cell_type": "code",
   "execution_count": 4,
   "metadata": {},
   "outputs": [
    {
     "data": {
      "text/plain": [
       "{'HeatUtility': Medium Pressure Steam at 454 K,\n",
       " 'Flow': 0.241\u001b[37m\u001b[22m (kg/hr)\u001b[0m,\n",
       " 'Duty': 500\u001b[37m\u001b[22m (kJ/hr)\u001b[0m,\n",
       " 'Cost': 0.00369\u001b[37m\u001b[22m (USD/hr)\u001b[0m}"
      ]
     },
     "execution_count": 4,
     "metadata": {},
     "output_type": "execute_result"
    }
   ],
   "source": [
    "hu.results # Information is stored in results"
   ]
  },
  {
   "cell_type": "code",
   "execution_count": 5,
   "metadata": {},
   "outputs": [
    {
     "name": "stdout",
     "output_type": "stream",
     "text": [
      "HeatUtility: Medium Pressure Steam at T=454 K\n",
      " Duty: 500 kJ/hr\n",
      " Flow: 0.241 kg/hr\n",
      " Cost: 32.3 USD/yr\n"
     ]
    }
   ],
   "source": [
    "hu.show(Cost='USD/yr') # See object with different units"
   ]
  },
  {
   "cell_type": "code",
   "execution_count": null,
   "metadata": {},
   "outputs": [],
   "source": []
  }
 ],
 "metadata": {
  "kernelspec": {
   "display_name": "Python 3",
   "language": "python",
   "name": "python3"
  },
  "language_info": {
   "codemirror_mode": {
    "name": "ipython",
    "version": 3
   },
   "file_extension": ".py",
   "mimetype": "text/x-python",
   "name": "python",
   "nbconvert_exporter": "python",
   "pygments_lexer": "ipython3",
   "version": "3.6.5"
  }
 },
 "nbformat": 4,
 "nbformat_minor": 2
}
