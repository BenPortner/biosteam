{
 "cells": [
  {
   "cell_type": "markdown",
   "metadata": {},
   "source": [
    "# Life Cycle Assessment"
   ]
  },
  {
   "attachments": {},
   "cell_type": "markdown",
   "metadata": {},
   "source": [
    "BioSTEAM facilitates life cycle assessment through a minimalistic interface with stream and utility objects. For demonstration purposes only, a simplified life cycle assessment is performed here for a sugarcane biorefinery assumming that materials other than sugarcane have negligible impacts. Our goal is to get the green house gas emission per kg ethanol along a cradle-to-gate system boundary.   \n",
    "\n",
    "Assume the following inventory:\n",
    "\n",
    "|             | GWP 100yr | Reference                                              |\n",
    "| ----------- | --------- | ------------------------------------------------------ |\n",
    "| Sugarcane   | 0.044     | https://www.osti.gov/servlets/purl/1337146             |\n",
    "| Electricity | 0.480     | [https://greet.es.anl.gov/](https://greet.es.anl.gov/) |\n"
   ]
  },
  {
   "cell_type": "code",
   "execution_count": 22,
   "metadata": {},
   "outputs": [
    {
     "name": "stdout",
     "output_type": "stream",
     "text": [
      "9.010823701688784\n"
     ]
    }
   ],
   "source": [
    "import biosteam as bst\n",
    "from biorefineries import sugarcane as sc\n",
    "sc.load()\n",
    "sys = sc.sugarcane_sys\n",
    "feeds = sys.feeds\n",
    "material_cradle_to_gate_key = ('GWP100', 'cradle_to_gate') \n",
    "electricity_key = ('GWP100', 'cradle_to_gate')  \n",
    "for feed in sys.feeds:\n",
    "    # Assume all other feeds are negligible\n",
    "    feed.characterization_factors[material_cradle_to_gate_key] = 0.\n",
    "\n",
    "# Set non-negligible characterization factors\n",
    "sc.sugarcane.characterization_factors[material_cradle_to_gate_key] = 0.044\n",
    "bst.PowerUtility.characterization_factors[electricity_key] = 0.48\n",
    "\n",
    "# Get net electricity data\n",
    "net_electricity = bst.PowerUtility.sum([i.power_utility for i in sys.units])\n",
    "GWP_material = sum([s.get_impact(material_cradle_to_gate_key) for s in sys.feeds])\n",
    "GWP_direct_emissions = sum([i.imass['CO2'] for i in sys.products if 'CO2' in i.chemicals])\n",
    "GWP_electricity_production = net_electricity.get_impact(production_key=electricity_key)\n",
    "GWP_total = GWP_material + GWP_direct_emissions + GWP_electricity_production # kg CO2 eq. / hr \n",
    "GWP_sugarcane_ethanol = GWP_total / sc.ethanol.F_mass # kg CO2 eq. / kg sugarcane ethanol\n",
    "print(GWP_sugarcane_ethanol)"
   ]
  },
  {
   "cell_type": "code",
   "execution_count": null,
   "metadata": {},
   "outputs": [],
   "source": []
  }
 ],
 "metadata": {
  "celltoolbar": "Tags",
  "kernelspec": {
   "display_name": "Python 3",
   "language": "python",
   "name": "python3"
  },
  "language_info": {
   "codemirror_mode": {
    "name": "ipython",
    "version": 3
   },
   "file_extension": ".py",
   "mimetype": "text/x-python",
   "name": "python",
   "nbconvert_exporter": "python",
   "pygments_lexer": "ipython3",
   "version": "3.8.5"
  }
 },
 "nbformat": 4,
 "nbformat_minor": 2
}
