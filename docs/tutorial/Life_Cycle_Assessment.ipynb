{
 "cells": [
  {
   "cell_type": "markdown",
   "metadata": {},
   "source": [
    "# Life Cycle Assessment"
   ]
  },
  {
   "cell_type": "markdown",
   "metadata": {},
   "source": [
    "BioSTEAM facilitates life cycle assessment through a minimalistic interface with stream and utility objects. For demonstration purposes only, a simplified life cycle assessment is performed here for a sugarcane biorefinery assumming that materials other than sugarcane have negligible impacts. Our goal is to get the green house gas emission per kg ethanol along a cradle-to-gate system boundary.   \n",
    "\n",
    "Assume the following inventory:\n",
    "\n",
    "|             | GWP 100yr | Reference                                              |\n",
    "| ----------- | --------- | ------------------------------------------------------ |\n",
    "| Sugarcane   | 0.46     | https://www.osti.gov/servlets/purl/1337146             |\n",
    "| Electricity | 0.480     | [https://greet.es.anl.gov/](https://greet.es.anl.gov/) |\n"
   ]
  },
  {
   "cell_type": "code",
   "execution_count": 5,
   "metadata": {},
   "outputs": [
    {
     "name": "stdout",
     "output_type": "stream",
     "text": [
      "1.4320781484228888\n",
      "-0.3143656155883725\n"
     ]
    }
   ],
   "source": [
    "import biosteam as bst\n",
    "from biorefineries import sugarcane as sc\n",
    "\n",
    "sc.load()\n",
    "sys = sc.sugarcane_sys\n",
    "feeds = sys.feeds\n",
    "material_cradle_to_gate_key = ('GWP100', 'cradle-to-gate')\n",
    "coproduct_gate_to_grave = ('GWP100', 'gate-to-grave')\n",
    "electricity_key = ('GWP100', 'cradle-to-gate')\n",
    "\n",
    "for feed in sys.feeds:\n",
    "    # Assume all other feeds are negligible\n",
    "    feed.characterization_factors[material_cradle_to_gate_key] = 0.\n",
    "\n",
    "# Set non-negligible characterization factors\n",
    "dw = 1. - sc.sugarcane.get_mass_composition('Water')\n",
    "dw_ecoinvent = 0.25\n",
    "# 0.02931\n",
    "# 0.04 # https://www.osti.gov/servlets/purl/1337146\n",
    "# 0.0506 \n",
    "# 0.46 # https://www.osti.gov/servlets/purl/1337146\n",
    "# 0.09713725490196079 Ecoinvent, Brazil, dry basis\n",
    "sc.sugarcane.characterization_factors[material_cradle_to_gate_key] = 0.02931 * 0.30 / 0.25\n",
    "bst.PowerUtility.characterization_factors[electricity_key] = 0.38 # https://greet.es.anl.gov/\n",
    "# Assume fertirrigation of vinasse offsets NO2 emissions from fertilizers, so GWP from NO2 does not need to be added.\n",
    "# However, the high COD leads to CH4 production equivalent to 345 kg–CO2–eq m3 EtOH\n",
    "# https://doi.org/10.1016/j.biombioe.2007.12.006\n",
    "# sc.vinasse.characterization_factors[coproduct_gate_to_grave] = 345 / 789 * sc.ethanol.F_mass / sc.vinasse.F_mass # kg–CO2–eq kg \n",
    "sc.enzyme.characterization_factors[material_cradle_to_gate_key] = 2.24 # General enzyme\n",
    "sc.H3PO4.characterization_factors[material_cradle_to_gate_key] = 1.00 # TODO\n",
    "sc.lime.characterization_factors[material_cradle_to_gate_key] = 1.29\n",
    "\n",
    "# Get net electricity data\n",
    "net_electricity = bst.PowerUtility.sum([i.power_utility for i in sys.cost_units])\n",
    "GWP_material = sum([s.get_impact(material_cradle_to_gate_key) for s in sys.feeds])\n",
    "#biogenic_CO2 = sc.sugarcane.get_atomic_flow('C')*44 # in kg CO2/hr\n",
    "#GWP_direct_emissions = sum([i.imass['CO2'] for i in sys.products if 'CO2' in i.chemicals]) - biogenic_CO2\n",
    "GWP_direct_emissions = 0 # Ignore, all biogenic\n",
    "GWP_electricity_production = net_electricity.get_impact(production_key=electricity_key)\n",
    "#GWP_electricity_production = 0\n",
    "#GWP_coproducts = sc.vinasse.get_impact(coproduct_gate_to_grave)\n",
    "GWP_coproducts = 0\n",
    "GWP_total_displacement = GWP_material + GWP_direct_emissions + GWP_electricity_production + GWP_coproducts # kg CO2 eq. / hr\n",
    "GWP_total_allocation = GWP_material + GWP_direct_emissions # kg CO2 eq. / hr\n",
    "ethanol_GGE = sc.ethanol.F_mass / 2.98668849 / 1.5\n",
    "electricity_GGE = -net_electricity.rate * 3600 / 131760\n",
    "GWP_GGE = GWP_total_allocation / (ethanol_GGE + electricity_GGE)\n",
    "GWP_economic = GWP_total_allocation / (-net_electricity.cost + sc.ethanol.cost)\n",
    "GWP_sugarcane_ethanol_allocation = GWP_GGE / 1.5 \n",
    "GWP_sugarcane_ethanol_displacement = GWP_total_displacement / sc.ethanol.F_mass \n",
    "ethanol_density_kggal = 2.98668849\n",
    "print(GWP_sugarcane_ethanol_allocation)\n",
    "print(GWP_sugarcane_ethanol_displacement)\n"
   ]
  },
  {
   "cell_type": "code",
   "execution_count": 14,
   "metadata": {},
   "outputs": [
    {
     "data": {
      "text/plain": [
       "1.4320781484228888"
      ]
     },
     "execution_count": 14,
     "metadata": {},
     "output_type": "execute_result"
    }
   ],
   "source": [
    "GWP_GGE / 1.5 "
   ]
  },
  {
   "cell_type": "code",
   "execution_count": 9,
   "metadata": {},
   "outputs": [
    {
     "data": {
      "text/plain": [
       "11724.0304824"
      ]
     },
     "execution_count": 9,
     "metadata": {},
     "output_type": "execute_result"
    }
   ],
   "source": [
    "sc.sugarcane.get_impact(material_cradle_to_gate_key)"
   ]
  },
  {
   "cell_type": "code",
   "execution_count": 15,
   "metadata": {},
   "outputs": [
    {
     "data": {
      "text/plain": [
       "4.326546998359552"
      ]
     },
     "execution_count": 15,
     "metadata": {},
     "output_type": "execute_result"
    }
   ],
   "source": [
    "sum([i.imass['CO2'] for i in sys.products if 'CO2' in i.chemicals]) / sc.ethanol.F_mass"
   ]
  },
  {
   "cell_type": "code",
   "execution_count": 20,
   "metadata": {},
   "outputs": [
    {
     "data": {
      "text/plain": [
       "1.5478605184329477"
      ]
     },
     "execution_count": 20,
     "metadata": {},
     "output_type": "execute_result"
    }
   ],
   "source": [
    "sc.sugarcane.get_atomic_flow('C')*44 / (sc.sugarcane.F_mass - sc.sugarcane.imass['Water'])"
   ]
  },
  {
   "cell_type": "code",
   "execution_count": 2,
   "metadata": {},
   "outputs": [
    {
     "name": "stderr",
     "output_type": "stream",
     "text": [
      "C:\\Users\\yrc2\\Code\\biosteam\\biosteam\\_network.py:263: RuntimeWarning: network path could not be determined\n",
      "  warn(RuntimeWarning('network path could not be determined'))\n",
      "C:\\Users\\yrc2\\Code\\biosteam\\biosteam\\_unit.py:769: RuntimeWarning: heat exchanger network energy balance is off by 3.89% (an absolute error greater than 2.00%)\n",
      "  self._cost()\n",
      "C:\\Users\\yrc2\\Code\\biosteam\\biosteam\\_unit.py:604: RuntimeWarning: the purchase cost item, 'Facilities', has no defined bare-module factor in the 'PlantAir_CIP_WasteWater_Facilities.F_BM' dictionary; bare-module factor now has a default value of 1\n",
      "  warn(warning)\n"
     ]
    },
    {
     "ename": "AttributeError",
     "evalue": "module 'biorefineries.corn' has no attribute 'sugarcane'",
     "output_type": "error",
     "traceback": [
      "\u001b[1;31m---------------------------------------------------------------------------\u001b[0m",
      "\u001b[1;31mAttributeError\u001b[0m                            Traceback (most recent call last)",
      "\u001b[1;32m<ipython-input-2-6e7eb21eeaa6>\u001b[0m in \u001b[0;36m<module>\u001b[1;34m\u001b[0m\n\u001b[0;32m     13\u001b[0m \u001b[1;33m\u001b[0m\u001b[0m\n\u001b[0;32m     14\u001b[0m \u001b[1;31m# Set non-negligible characterization factors\u001b[0m\u001b[1;33m\u001b[0m\u001b[1;33m\u001b[0m\u001b[1;33m\u001b[0m\u001b[0m\n\u001b[1;32m---> 15\u001b[1;33m \u001b[0mdw\u001b[0m \u001b[1;33m=\u001b[0m \u001b[1;36m1.\u001b[0m \u001b[1;33m-\u001b[0m \u001b[0mcn\u001b[0m\u001b[1;33m.\u001b[0m\u001b[0msugarcane\u001b[0m\u001b[1;33m.\u001b[0m\u001b[0mget_mass_composition\u001b[0m\u001b[1;33m(\u001b[0m\u001b[1;34m'Water'\u001b[0m\u001b[1;33m)\u001b[0m\u001b[1;33m\u001b[0m\u001b[1;33m\u001b[0m\u001b[0m\n\u001b[0m\u001b[0;32m     16\u001b[0m \u001b[0mcn\u001b[0m\u001b[1;33m.\u001b[0m\u001b[0mcorn\u001b[0m\u001b[1;33m.\u001b[0m\u001b[0mcharacterization_factors\u001b[0m\u001b[1;33m[\u001b[0m\u001b[0mmaterial_cradle_to_gate_key\u001b[0m\u001b[1;33m]\u001b[0m \u001b[1;33m=\u001b[0m \u001b[1;36m0.20\u001b[0m \u001b[1;33m*\u001b[0m \u001b[0mdw\u001b[0m \u001b[1;31m# https://wcroc.cfans.umn.edu/research/renewable-energy/lca-corn-grain\u001b[0m\u001b[1;33m\u001b[0m\u001b[1;33m\u001b[0m\u001b[0m\n\u001b[0;32m     17\u001b[0m \u001b[0mbst\u001b[0m\u001b[1;33m.\u001b[0m\u001b[0mPowerUtility\u001b[0m\u001b[1;33m.\u001b[0m\u001b[0mcharacterization_factors\u001b[0m\u001b[1;33m[\u001b[0m\u001b[0melectricity_key\u001b[0m\u001b[1;33m]\u001b[0m \u001b[1;33m=\u001b[0m \u001b[1;36m0.48\u001b[0m \u001b[1;31m# https://greet.es.anl.gov/\u001b[0m\u001b[1;33m\u001b[0m\u001b[1;33m\u001b[0m\u001b[0m\n",
      "\u001b[1;32m~\\Code\\bioindustrial-park\\BioSTEAM 2.x.x\\biorefineries\\corn\\__init__.py\u001b[0m in \u001b[0;36m__getattr__\u001b[1;34m(name)\u001b[0m\n\u001b[0;32m     78\u001b[0m                 \u001b[0mdct\u001b[0m\u001b[1;33m.\u001b[0m\u001b[0mupdate\u001b[0m\u001b[1;33m(\u001b[0m\u001b[0mflowsheet\u001b[0m\u001b[1;33m.\u001b[0m\u001b[0mto_dict\u001b[0m\u001b[1;33m(\u001b[0m\u001b[1;33m)\u001b[0m\u001b[1;33m)\u001b[0m\u001b[1;33m\u001b[0m\u001b[1;33m\u001b[0m\u001b[0m\n\u001b[0;32m     79\u001b[0m             \u001b[1;32mif\u001b[0m \u001b[0mname\u001b[0m \u001b[1;32min\u001b[0m \u001b[0mdct\u001b[0m\u001b[1;33m:\u001b[0m \u001b[1;32mreturn\u001b[0m \u001b[0mdct\u001b[0m\u001b[1;33m[\u001b[0m\u001b[0mname\u001b[0m\u001b[1;33m]\u001b[0m\u001b[1;33m\u001b[0m\u001b[1;33m\u001b[0m\u001b[0m\n\u001b[1;32m---> 80\u001b[1;33m         \u001b[1;32mraise\u001b[0m \u001b[0mAttributeError\u001b[0m\u001b[1;33m(\u001b[0m\u001b[1;34mf\"module '{__name__}' has no attribute '{name}'\"\u001b[0m\u001b[1;33m)\u001b[0m\u001b[1;33m\u001b[0m\u001b[1;33m\u001b[0m\u001b[0m\n\u001b[0m\u001b[0;32m     81\u001b[0m \u001b[1;32melse\u001b[0m\u001b[1;33m:\u001b[0m\u001b[1;33m\u001b[0m\u001b[1;33m\u001b[0m\u001b[0m\n\u001b[0;32m     82\u001b[0m     \u001b[0mload\u001b[0m\u001b[1;33m(\u001b[0m\u001b[1;33m)\u001b[0m\u001b[1;33m\u001b[0m\u001b[1;33m\u001b[0m\u001b[0m\n",
      "\u001b[1;31mAttributeError\u001b[0m: module 'biorefineries.corn' has no attribute 'sugarcane'"
     ]
    }
   ],
   "source": [
    "import biosteam as bst\n",
    "from biorefineries import corn as cn\n",
    "\n",
    "cn.load()\n",
    "sys = cn.corn_sys\n",
    "feeds = sys.feeds\n",
    "material_cradle_to_gate_key = ('GWP100', 'cradle-to-gate')\n",
    "electricity_key = ('GWP100', 'cradle-to-gate')\n",
    "\n",
    "for feed in sys.feeds:\n",
    "    # Assume all other feeds are negligible\n",
    "    feed.characterization_factors[material_cradle_to_gate_key] = 0.\n",
    "\n",
    "# Set non-negligible characterization factors\n",
    "dw = 1. - cn.sugarcane.get_mass_composition('Water')\n",
    "cn.corn.characterization_factors[material_cradle_to_gate_key] = 0.20 * dw # https://wcroc.cfans.umn.edu/research/renewable-energy/lca-corn-grain\n",
    "bst.PowerUtility.characterization_factors[electricity_key] = 0.48 # https://greet.es.anl.gov/\n",
    "# Assume fertirrigation of vinasse offsets NO2 emissions from fertilizers, so GWP from NO2 does not need to be added.\n",
    "# However, the high COD leads to CH4 production equivalent to 345 kg–CO2–eq m3 EtOH\n",
    "# https://doi.org/10.1016/j.biombioe.2007.12.006\n",
    "sc.vinasse.characterization_factors[coproduct_gate_to_grave] = 345 / 789 * sc.ethanol.F_mass / sc.vinasse.F_mass # kg–CO2–eq kg \n",
    "sc.enzyme.characterization_factors[material_cradle_to_gate_key] = 2.24 # General enzyme\n",
    "sc.H3PO4.characterization_factors[material_cradle_to_gate_key] = 0. # TODO\n",
    "sc.lime.characterization_factors[material_cradle_to_gate_key] = 1.29\n",
    "\n",
    "# Get net electricity data\n",
    "net_electricity = bst.PowerUtility.sum([i.power_utility for i in sys.units])\n",
    "GWP_material = sum([s.get_impact(material_cradle_to_gate_key) for s in sys.feeds])\n",
    "biogenic_CO2 = sc.sugarcane.get_atomic_flow('C')*44 # in kg CO2/hr\n",
    "GWP_direct_emissions = sum([i.imass['CO2'] for i in sys.products if 'CO2' in i.chemicals]) - biogenic_CO2\n",
    "GWP_electricity_production = net_electricity.get_impact(production_key=electricity_key)\n",
    "GWP_coproducts = sc.vinasse.get_impact(coproduct_gate_to_grave)\n",
    "GWP_total = GWP_material + GWP_direct_emissions + GWP_electricity_production + GWP_coproducts # kg CO2 eq. / hr\n",
    "GWP_sugarcane_ethanol = GWP_total / sc.ethanol.F_mass # kg CO2 eq. / kg sugarcane ethanol\n",
    "print(GWP_sugarcane_ethanol)"
   ]
  },
  {
   "cell_type": "code",
   "execution_count": 11,
   "metadata": {},
   "outputs": [
    {
     "data": {
      "text/plain": [
       "[<Stream: sugarcane>,\n",
       " <Stream: enzyme>,\n",
       " <Stream: s417>,\n",
       " <Stream: lime>,\n",
       " <Stream: s418>,\n",
       " <Stream: stripping_water>,\n",
       " <Stream: polymer>,\n",
       " <Stream: s420>,\n",
       " <Stream: H3PO4>,\n",
       " <Stream: rvf_wash_water>,\n",
       " <Stream: s419>,\n",
       " <Stream: denaturant>,\n",
       " <Stream: dryer_air>,\n",
       " <Stream: cooling_tower_chemicals>,\n",
       " <Stream: boiler_makeup_water>,\n",
       " <Stream: s413>,\n",
       " <Stream: s414>,\n",
       " <Stream: cooling_tower_makeup_water>,\n",
       " <Stream: dryer_natural_gas>,\n",
       " <Stream: natural_gas>,\n",
       " <Stream: s.6>,\n",
       " <Stream: dilution_water>,\n",
       " <Stream: recirculated_chilled_water>,\n",
       " <Stream: makeup_water>,\n",
       " <Stream: s411>,\n",
       " <Stream: s412>,\n",
       " <Stream: imbibition_water>]"
      ]
     },
     "execution_count": 11,
     "metadata": {},
     "output_type": "execute_result"
    }
   ],
   "source": [
    "sys.feeds"
   ]
  },
  {
   "cell_type": "code",
   "execution_count": null,
   "metadata": {},
   "outputs": [],
   "source": []
  }
 ],
 "metadata": {
  "celltoolbar": "Tags",
  "kernelspec": {
   "display_name": "Python 3",
   "language": "python",
   "name": "python3"
  },
  "language_info": {
   "codemirror_mode": {
    "name": "ipython",
    "version": 3
   },
   "file_extension": ".py",
   "mimetype": "text/x-python",
   "name": "python",
   "nbconvert_exporter": "python",
   "pygments_lexer": "ipython3",
   "version": "3.8.8"
  }
 },
 "nbformat": 4,
 "nbformat_minor": 2
}
