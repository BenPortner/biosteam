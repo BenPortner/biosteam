{
 "cells": [
  {
   "cell_type": "markdown",
   "metadata": {},
   "source": [
    "# Life Cycle Assessment"
   ]
  },
  {
   "cell_type": "markdown",
   "metadata": {},
   "source": [
    "BioSTEAM facilitates life cycle assessment through a minimalistic interface with stream and utility objects. For demonstration purposes only, a simplified life cycle assessment is performed here for a sugarcane biorefinery assumming that materials other than sugarcane have negligible impacts. Our goal is to get the green house gas emission per kg ethanol along a cradle-to-gate system boundary.   \n",
    "\n",
    "Assume the following inventory:\n",
    "\n",
    "|             | GWP 100yr | Reference                                              |\n",
    "| ----------- | --------- | ------------------------------------------------------ |\n",
    "| Sugarcane   | 0.46     | https://www.osti.gov/servlets/purl/1337146             |\n",
    "| Electricity | 0.480     | [https://greet.es.anl.gov/](https://greet.es.anl.gov/) |\n"
   ]
  },
  {
   "cell_type": "code",
   "execution_count": 12,
   "metadata": {},
   "outputs": [
    {
     "name": "stdout",
     "output_type": "stream",
     "text": [
      "-0.9729999646935572\n"
     ]
    }
   ],
   "source": [
    "import biosteam as bst\n",
    "from biorefineries import sugarcane as sc\n",
    "\n",
    "sc.load()\n",
    "sys = sc.sugarcane_sys\n",
    "feeds = sys.feeds\n",
    "material_cradle_to_gate_key = ('GWP100', 'cradle-to-gate')\n",
    "coproduct_gate_to_grave = ('GWP100', 'gate-to-grave')\n",
    "electricity_key = ('GWP100', 'cradle-to-gate')\n",
    "\n",
    "for feed in sys.feeds:\n",
    "    # Assume all other feeds are negligible\n",
    "    feed.characterization_factors[material_cradle_to_gate_key] = 0.\n",
    "\n",
    "# Set non-negligible characterization factors\n",
    "dw = 1. - sc.sugarcane.get_mass_composition('Water')\n",
    "sc.sugarcane.characterization_factors[material_cradle_to_gate_key] = 0.46 * dw # https://www.osti.gov/servlets/purl/1337146\n",
    "bst.PowerUtility.characterization_factors[electricity_key] = 0.48 # https://greet.es.anl.gov/\n",
    "# Assume fertirrigation of vinasse offsets NO2 emissions from fertilizers, so GWP from NO2 does not need to be added.\n",
    "# However, the high COD leads to CH4 production equivalent to 345 kg–CO2–eq m3 EtOH\n",
    "# https://doi.org/10.1016/j.biombioe.2007.12.006\n",
    "sc.vinasse.characterization_factors[coproduct_gate_to_grave] = 345 / 789 * sc.ethanol.F_mass / sc.vinasse.F_mass # kg–CO2–eq kg \n",
    "sc.enzyme.characterization_factors[material_cradle_to_gate_key] = 2.24 # General enzyme\n",
    "sc.H3PO4.characterization_factors[material_cradle_to_gate_key] = 0. # TODO\n",
    "sc.lime.characterization_factors[material_cradle_to_gate_key] = 1.29\n",
    "\n",
    "# Get net electricity data\n",
    "net_electricity = bst.PowerUtility.sum([i.power_utility for i in sys.units])\n",
    "GWP_material = sum([s.get_impact(material_cradle_to_gate_key) for s in sys.feeds])\n",
    "biogenic_CO2 = sc.sugarcane.get_atomic_flow('C')*44 # in kg CO2/hr\n",
    "GWP_direct_emissions = sum([i.imass['CO2'] for i in sys.products if 'CO2' in i.chemicals]) - biogenic_CO2\n",
    "GWP_electricity_production = net_electricity.get_impact(production_key=electricity_key)\n",
    "GWP_coproducts = sc.vinasse.get_impact(coproduct_gate_to_grave)\n",
    "GWP_total = GWP_material + GWP_direct_emissions + GWP_electricity_production + GWP_coproducts # kg CO2 eq. / hr\n",
    "GWP_sugarcane_ethanol = GWP_total / sc.ethanol.F_mass # kg CO2 eq. / kg sugarcane ethanol\n",
    "print(GWP_sugarcane_ethanol)"
   ]
  },
  {
   "cell_type": "code",
   "execution_count": 9,
   "metadata": {},
   "outputs": [
    {
     "data": {
      "text/plain": [
       "48666.906437024845"
      ]
     },
     "execution_count": 9,
     "metadata": {},
     "output_type": "execute_result"
    }
   ],
   "source": [
    "import biosteam as bst\n",
    "from biorefineries import corn as cn\n",
    "\n",
    "cn.load()\n",
    "sys = cn.corn_sys\n",
    "feeds = sys.feeds\n",
    "material_cradle_to_gate_key = ('GWP100', 'cradle-to-gate')\n",
    "electricity_key = ('GWP100', 'cradle-to-gate')\n",
    "\n",
    "for feed in sys.feeds:\n",
    "    # Assume all other feeds are negligible\n",
    "    feed.characterization_factors[material_cradle_to_gate_key] = 0.\n",
    "\n",
    "# Set non-negligible characterization factors\n",
    "dw = 1. - cn.sugarcane.get_mass_composition('Water')\n",
    "cn.corn.characterization_factors[material_cradle_to_gate_key] = 0.20 * dw # https://wcroc.cfans.umn.edu/research/renewable-energy/lca-corn-grain\n",
    "bst.PowerUtility.characterization_factors[electricity_key] = 0.48 # https://greet.es.anl.gov/\n",
    "# Assume fertirrigation of vinasse offsets NO2 emissions from fertilizers, so GWP from NO2 does not need to be added.\n",
    "# However, the high COD leads to CH4 production equivalent to 345 kg–CO2–eq m3 EtOH\n",
    "# https://doi.org/10.1016/j.biombioe.2007.12.006\n",
    "sc.vinasse.characterization_factors[coproduct_gate_to_grave] = 345 / 789 * sc.ethanol.F_mass / sc.vinasse.F_mass # kg–CO2–eq kg \n",
    "sc.enzyme.characterization_factors[material_cradle_to_gate_key] = 2.24 # General enzyme\n",
    "sc.H3PO4.characterization_factors[material_cradle_to_gate_key] = 0. # TODO\n",
    "sc.lime.characterization_factors[material_cradle_to_gate_key] = 1.29\n",
    "\n",
    "# Get net electricity data\n",
    "net_electricity = bst.PowerUtility.sum([i.power_utility for i in sys.units])\n",
    "GWP_material = sum([s.get_impact(material_cradle_to_gate_key) for s in sys.feeds])\n",
    "biogenic_CO2 = sc.sugarcane.get_atomic_flow('C')*44 # in kg CO2/hr\n",
    "GWP_direct_emissions = sum([i.imass['CO2'] for i in sys.products if 'CO2' in i.chemicals]) - biogenic_CO2\n",
    "GWP_electricity_production = net_electricity.get_impact(production_key=electricity_key)\n",
    "GWP_coproducts = sc.vinasse.get_impact(coproduct_gate_to_grave)\n",
    "GWP_total = GWP_material + GWP_direct_emissions + GWP_electricity_production + GWP_coproducts # kg CO2 eq. / hr\n",
    "GWP_sugarcane_ethanol = GWP_total / sc.ethanol.F_mass # kg CO2 eq. / kg sugarcane ethanol\n",
    "print(GWP_sugarcane_ethanol)"
   ]
  },
  {
   "cell_type": "code",
   "execution_count": 11,
   "metadata": {},
   "outputs": [
    {
     "data": {
      "text/plain": [
       "[<Stream: sugarcane>,\n",
       " <Stream: enzyme>,\n",
       " <Stream: s417>,\n",
       " <Stream: lime>,\n",
       " <Stream: s418>,\n",
       " <Stream: stripping_water>,\n",
       " <Stream: polymer>,\n",
       " <Stream: s420>,\n",
       " <Stream: H3PO4>,\n",
       " <Stream: rvf_wash_water>,\n",
       " <Stream: s419>,\n",
       " <Stream: denaturant>,\n",
       " <Stream: dryer_air>,\n",
       " <Stream: cooling_tower_chemicals>,\n",
       " <Stream: boiler_makeup_water>,\n",
       " <Stream: s413>,\n",
       " <Stream: s414>,\n",
       " <Stream: cooling_tower_makeup_water>,\n",
       " <Stream: dryer_natural_gas>,\n",
       " <Stream: natural_gas>,\n",
       " <Stream: s.6>,\n",
       " <Stream: dilution_water>,\n",
       " <Stream: recirculated_chilled_water>,\n",
       " <Stream: makeup_water>,\n",
       " <Stream: s411>,\n",
       " <Stream: s412>,\n",
       " <Stream: imbibition_water>]"
      ]
     },
     "execution_count": 11,
     "metadata": {},
     "output_type": "execute_result"
    }
   ],
   "source": [
    "sys.feeds"
   ]
  },
  {
   "cell_type": "code",
   "execution_count": null,
   "metadata": {},
   "outputs": [],
   "source": []
  }
 ],
 "metadata": {
  "celltoolbar": "Tags",
  "kernelspec": {
   "display_name": "Python 3",
   "language": "python",
   "name": "python3"
  },
  "language_info": {
   "codemirror_mode": {
    "name": "ipython",
    "version": 3
   },
   "file_extension": ".py",
   "mimetype": "text/x-python",
   "name": "python",
   "nbconvert_exporter": "python",
   "pygments_lexer": "ipython3",
   "version": "3.8.5"
  }
 },
 "nbformat": 4,
 "nbformat_minor": 2
}
