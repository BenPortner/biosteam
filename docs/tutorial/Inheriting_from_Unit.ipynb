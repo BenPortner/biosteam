{
 "cells": [
  {
   "cell_type": "markdown",
   "metadata": {},
   "source": [
    "# Inheriting from Unit"
   ]
  },
  {
   "cell_type": "markdown",
   "metadata": {},
   "source": [
    "### Abstract attributes and methods"
   ]
  },
  {
   "cell_type": "markdown",
   "metadata": {},
   "source": [
    "![Unit UML Diagram](./Unit_UML.png \"Unit UML Diagram\")"
   ]
  },
  {
   "cell_type": "markdown",
   "metadata": {},
   "source": [
    "**A Unit subclass has class attributes that dictate how an instance is initialized:**\n",
    "    \n",
    "* `_F_BM_default` : dict[str, float] Default bare module factors for each purchase cost item.\n",
    "\n",
    "* `_units` : [dict] Units of measure for the `design_results` items.\n",
    "\n",
    "* `_N_ins`=1 : [int] Expected number of input streams.\n",
    "    \n",
    "* `_N_outs`=2 : [int] Expected number of output streams.\n",
    "    \n",
    "* `_ins_size_is_fixed`=True : [bool] Whether the number of streams in ins is fixed.\n",
    "    \n",
    "* `_outs_size_is_fixed`=True : [bool] Whether the number of streams in outs is fixed.\n",
    "    \n",
    "* `_N_heat_utilities`=0 : [int] Number of heat utility objects in the `heat_utilities` tuple.\n",
    "\n",
    "* `auxiliary_unit_names`=() : tuple[str] Name of attributes that are auxiliary units.\n",
    "\n",
    "* `_graphics` : [biosteam Graphics] A Graphics object for diagram representation. Defaults to a box diagram.\n",
    "\n",
    "* `_default_equipment_lifetime` : [int] or dict[str, int] Default lifetime of equipment. Defaults to lifetime of production venture.\n",
    "    \n",
    "* `line` : [str] Label for the unit operation in a diagram. Defaults to the class name.\n",
    "\n",
    "**Abstract methods are used to setup stream conditions, run heat and mass balances, find design requirements, and cost the unit:**\n",
    "\n",
    "* `_setup()` : Called before System convergece to initialize constant data and setup stream conditions.\n",
    "\n",
    "* `_run()` : Called during System convergece to specify `outs` streams.\n",
    "\n",
    "* `_design()` : Called after System convergence to find design requirements. \n",
    "\n",
    "* `_cost()` : Called after `_design` to find cost requirements.\n",
    "\n",
    "**These abstract methods will rely on the following instance attributes:**\n",
    "\n",
    "* `ins` : Ins[Stream] Input streams.\n",
    "\n",
    "* `outs` : Outs[Stream] Output streams.\n",
    "\n",
    "* `power_utility` : [PowerUtility] Can find electricity rate requirement.\n",
    "\n",
    "* `heat_utilities` : tuple[HeatUtility] Can find cooling and heating requirements.\n",
    "\n",
    "* `design_results` : [dict] All design requirements.\n",
    "\n",
    "* `baseline_purchase_costs` : [dict] Itemized purchase costs (without accounting for design, pressure or material factors).\n",
    "\n",
    "* `F_BM`: [dict] Bare-module factors.\n",
    "\n",
    "* `F_D`: [dict] Design factors.\n",
    "\n",
    "* `F_P`: [dict] Pressure factors.\n",
    "\n",
    "* `F_M`: [dict] Material factors.\n",
    "\n",
    "* `equipment_lifetime`: [dict] Lifetime of each equiment.\n",
    "\n",
    "* `thermo` : [Thermo] The thermodynamic property package used by the unit."
   ]
  },
  {
   "cell_type": "markdown",
   "metadata": {},
   "source": [
    "### Subclass example"
   ]
  },
  {
   "cell_type": "markdown",
   "metadata": {},
   "source": [
    "The following example depicts inheritance from Unit by creating a new Boiler class:"
   ]
  },
  {
   "cell_type": "code",
   "execution_count": 1,
   "metadata": {},
   "outputs": [],
   "source": [
    "import biosteam as bst\n",
    "from math import ceil\n",
    "\n",
    "class Boiler(bst.Unit):\n",
    "    \"\"\"\n",
    "    Create a Boiler object that partially boils the feed.\n",
    "    \n",
    "    Parameters\n",
    "    ----------\n",
    "    ins : stream\n",
    "        Inlet fluid.\n",
    "    outs : stream sequence\n",
    "        * [0] vapor product\n",
    "        * [1] liquid product\n",
    "    V : float\n",
    "        Molar vapor fraction.\n",
    "    P : float\n",
    "        Operating pressure [Pa].\n",
    "    \n",
    "    \"\"\"\n",
    "    # Note that the documentation does not include `ID` or `thermo` in the parameters.\n",
    "    # This is OK, and most subclasses in BioSTEAM are documented this way too.\n",
    "    # Documentation for all unit operations should include the inlet and outlet streams\n",
    "    # listed by index. If there is only one stream in the inlets (or outlets), there is no\n",
    "    # need to list out by index. The types for the `ins` and `outs` should be either\n",
    "    # `stream sequence` for multiple streams, or `stream` for a single stream.\n",
    "    # Any additional arguments to the unit should also be listed (e.g. V, and P).\n",
    "    \n",
    "    _N_ins = 1  \n",
    "    _N_outs = 2\n",
    "    _N_heat_utilities = 1\n",
    "    _units = {'Area': 'm^2'}\n",
    "    \n",
    "    def __init__(self, ID='', ins=None, outs=(), thermo=None, *, V, P):\n",
    "        bst.Unit.__init__(self, ID, ins, outs, thermo)\n",
    "        # Initialize MultiStream object to perform vapor-liquid equilibrium later\n",
    "        # NOTE: ID is None to not register it in the flowsheet\n",
    "        self._multistream = bst.MultiStream(None, thermo=self.thermo)\n",
    "        self.V = V #: Molar vapor fraction.\n",
    "        self.P = P #: Operating pressure [Pa].\n",
    "        \n",
    "    def _setup(self):\n",
    "        super()._setup()\n",
    "        gas, liq = self.outs\n",
    "        \n",
    "        # Initialize top stream as a gas\n",
    "        gas.phase = 'g'\n",
    "        \n",
    "        # Initialize bottom stream as a liquid\n",
    "        liq.phase = 'l'\n",
    "  \n",
    "    def _run(self):\n",
    "        feed = self.ins[0]\n",
    "        gas, liq = self.outs\n",
    "        \n",
    "        # Perform vapor-liquid equilibrium\n",
    "        ms = self._multistream\n",
    "        ms.imol['l'] = feed.mol\n",
    "        ms.vle(V=self.V, P=self.P)\n",
    "        \n",
    "        # Update output streams\n",
    "        gas.mol[:] = ms.imol['g']\n",
    "        liq.mol[:] = ms.imol['l']\n",
    "        gas.T = liq.T = ms.T\n",
    "        gas.P = liq.P = ms.P\n",
    "        \n",
    "        # Reset flow to prevent accumulation in multiple simulations\n",
    "        ms.empty()\n",
    "        \n",
    "    def _design(self):\n",
    "        # Calculate heat utility requirement (please read docs for HeatUtility objects)\n",
    "        T_operation = self._multistream.T\n",
    "        duty = self.H_out - self.H_in\n",
    "        if duty < 0:\n",
    "            raise RuntimeError(f'{repr(self)} is cooling.')\n",
    "        hu = self.heat_utilities[0]\n",
    "        hu(duty, T_operation)\n",
    "        \n",
    "        # Temperature of utility at entrance\n",
    "        T_utility = hu.inlet_utility_stream.T\n",
    "        \n",
    "        # Temeperature gradient\n",
    "        dT = T_utility - T_operation\n",
    "        \n",
    "        # Heat transfer coefficient kJ/(hr*m2*K)\n",
    "        U = 8176.699 \n",
    "        \n",
    "        # Area requirement (m^2)\n",
    "        A = duty/(U*dT)\n",
    "        \n",
    "        # Maximum area per unit\n",
    "        A_max = 743.224\n",
    "        \n",
    "        # Number of units\n",
    "        N = ceil(A/A_max)\n",
    "        \n",
    "        # Design requirements are stored here\n",
    "        self.design_results['Area'] = A/N\n",
    "        self.design_results['N'] = N\n",
    "        \n",
    "    def _cost(self):\n",
    "        A = self.design_results['Area']\n",
    "        N = self.design_results['N']\n",
    "        \n",
    "        # Long-tube vertical boiler cost correlation from \n",
    "        # \"Product process and design\". Warren et. al. (2016) Table 22.32, pg 592\n",
    "        purchase_cost = N*bst.CE*3.086*A**0.55\n",
    "        \n",
    "        # Itemized purchase costs are stored here\n",
    "        self.baseline_purchase_costs['Boilers'] = purchase_cost # Not accounting for material factor\n",
    "        \n",
    "        # Assume design, pressure, and material factors are 1.\n",
    "        self.F_D['Boilers'] = self.F_P['Boilers'] = self.F_M['Boilers'] = 1.\n",
    "        \n",
    "        # Set bare-module factor for boilers\n",
    "        self.F_BM['Boilers'] = 2.45\n",
    "    "
   ]
  },
  {
   "cell_type": "markdown",
   "metadata": {},
   "source": [
    "### Simulation test"
   ]
  },
  {
   "cell_type": "code",
   "execution_count": 2,
   "metadata": {
    "tags": [
     "nbval-ignore-output"
    ]
   },
   "outputs": [
    {
     "data": {
      "image/png": "[encoded data removed]",
      "text/plain": [
       "<IPython.core.display.Image object>"
      ]
     },
     "metadata": {},
     "output_type": "display_data"
    },
    {
     "name": "stdout",
     "output_type": "stream",
     "text": [
      "Boiler: B1\n",
      "ins...\n",
      "[0] water\n",
      "    phase: 'l', T: 298.15 K, P: 101325 Pa\n",
      "    flow (kmol/hr): Water  300\n",
      "outs...\n",
      "[0] gas\n",
      "    phase: 'l', T: 298.15 K, P: 101325 Pa\n",
      "    flow: 0\n",
      "[1] liq\n",
      "    phase: 'l', T: 298.15 K, P: 101325 Pa\n",
      "    flow: 0\n"
     ]
    },
    {
     "name": "stderr",
     "output_type": "stream",
     "text": [
      "C:\\Users\\yrc2\\Code\\biosteam\\biosteam\\digraph\\digraph.py:373: RuntimeWarning: a 'AttributeError' was raised when generating graphviz diagram, possibly due to graphviz installation issues\n",
      "  warn(\n"
     ]
    }
   ],
   "source": [
    "import biosteam as bst\n",
    "bst.settings.set_thermo(['Water'])\n",
    "water = bst.Stream('water', Water=300)\n",
    "B1 = Boiler('B1', ins=water, outs=('gas', 'liq'),\n",
    "            V=0.5, P=101325)\n",
    "B1.diagram()\n",
    "B1.show()"
   ]
  },
  {
   "cell_type": "code",
   "execution_count": 3,
   "metadata": {},
   "outputs": [
    {
     "name": "stdout",
     "output_type": "stream",
     "text": [
      "Boiler: B1\n",
      "ins...\n",
      "[0] water\n",
      "    phase: 'l', T: 298.15 K, P: 101325 Pa\n",
      "    flow (kmol/hr): Water  300\n",
      "outs...\n",
      "[0] gas\n",
      "    phase: 'g', T: 373.12 K, P: 101325 Pa\n",
      "    flow (kmol/hr): Water  150\n",
      "[1] liq\n",
      "    phase: 'l', T: 373.12 K, P: 101325 Pa\n",
      "    flow (kmol/hr): Water  150\n"
     ]
    }
   ],
   "source": [
    "B1.simulate()\n",
    "B1.show()"
   ]
  },
  {
   "cell_type": "code",
   "execution_count": 4,
   "metadata": {},
   "outputs": [
    {
     "data": {
      "text/html": [
       "<div>\n",
       "<style scoped>\n",
       "    .dataframe tbody tr th:only-of-type {\n",
       "        vertical-align: middle;\n",
       "    }\n",
       "\n",
       "    .dataframe tbody tr th {\n",
       "        vertical-align: top;\n",
       "    }\n",
       "\n",
       "    .dataframe thead th {\n",
       "        text-align: right;\n",
       "    }\n",
       "</style>\n",
       "<table border=\"1\" class=\"dataframe\">\n",
       "  <thead>\n",
       "    <tr style=\"text-align: right;\">\n",
       "      <th></th>\n",
       "      <th>Boiler</th>\n",
       "      <th>Units</th>\n",
       "      <th>B1</th>\n",
       "    </tr>\n",
       "  </thead>\n",
       "  <tbody>\n",
       "    <tr>\n",
       "      <th rowspan=\"3\" valign=\"top\">Low pressure steam</th>\n",
       "      <th>Duty</th>\n",
       "      <td>kJ/hr</td>\n",
       "      <td>8.23e+06</td>\n",
       "    </tr>\n",
       "    <tr>\n",
       "      <th>Flow</th>\n",
       "      <td>kmol/hr</td>\n",
       "      <td>212</td>\n",
       "    </tr>\n",
       "    <tr>\n",
       "      <th>Cost</th>\n",
       "      <td>USD/hr</td>\n",
       "      <td>50.4</td>\n",
       "    </tr>\n",
       "    <tr>\n",
       "      <th rowspan=\"2\" valign=\"top\">Design</th>\n",
       "      <th>Area</th>\n",
       "      <td>m^2</td>\n",
       "      <td>24.5</td>\n",
       "    </tr>\n",
       "    <tr>\n",
       "      <th>N</th>\n",
       "      <td></td>\n",
       "      <td>1</td>\n",
       "    </tr>\n",
       "    <tr>\n",
       "      <th>Purchase cost</th>\n",
       "      <th>Boilers</th>\n",
       "      <td>USD</td>\n",
       "      <td>1.02e+04</td>\n",
       "    </tr>\n",
       "    <tr>\n",
       "      <th>Total purchase cost</th>\n",
       "      <th></th>\n",
       "      <td>USD</td>\n",
       "      <td>1.02e+04</td>\n",
       "    </tr>\n",
       "    <tr>\n",
       "      <th>Utility cost</th>\n",
       "      <th></th>\n",
       "      <td>USD/hr</td>\n",
       "      <td>50.4</td>\n",
       "    </tr>\n",
       "  </tbody>\n",
       "</table>\n",
       "</div>"
      ],
      "text/plain": [
       "Boiler                         Units       B1\n",
       "Low pressure steam  Duty       kJ/hr 8.23e+06\n",
       "                    Flow     kmol/hr      212\n",
       "                    Cost      USD/hr     50.4\n",
       "Design              Area         m^2     24.5\n",
       "                    N                       1\n",
       "Purchase cost       Boilers      USD 1.02e+04\n",
       "Total purchase cost              USD 1.02e+04\n",
       "Utility cost                  USD/hr     50.4"
      ]
     },
     "execution_count": 4,
     "metadata": {},
     "output_type": "execute_result"
    }
   ],
   "source": [
    "B1.results()"
   ]
  },
  {
   "cell_type": "markdown",
   "metadata": {},
   "source": [
    "### Graphviz attributes"
   ]
  },
  {
   "cell_type": "markdown",
   "metadata": {},
   "source": [
    "All [graphviz](https://graphviz.readthedocs.io/en/stable/manual.html) attributes for generating a diagram are stored in `_graphics` as a Graphics object. One Graphics object is generated for each Unit subclass:"
   ]
  },
  {
   "cell_type": "code",
   "execution_count": 5,
   "metadata": {},
   "outputs": [],
   "source": [
    "graphics = Boiler._graphics\n",
    "edge_in = graphics.edge_in\n",
    "edge_out = graphics.edge_out\n",
    "node = graphics.node"
   ]
  },
  {
   "cell_type": "code",
   "execution_count": 6,
   "metadata": {},
   "outputs": [
    {
     "data": {
      "text/plain": [
       "[{'headport': 'c'}]"
      ]
     },
     "execution_count": 6,
     "metadata": {},
     "output_type": "execute_result"
    }
   ],
   "source": [
    "# Attributes correspond to each inlet stream respectively\n",
    "# For example: Attributes for B1.ins[0] would correspond to edge_in[0]\n",
    "edge_in "
   ]
  },
  {
   "cell_type": "code",
   "execution_count": 7,
   "metadata": {},
   "outputs": [
    {
     "data": {
      "text/plain": [
       "[{'tailport': 'c'}, {'tailport': 'c'}]"
      ]
     },
     "execution_count": 7,
     "metadata": {},
     "output_type": "execute_result"
    }
   ],
   "source": [
    "# Attributes correspond to each outlet stream respectively\n",
    "# For example: Attributes for B1.outs[0] would correspond to edge_out[0]\n",
    "edge_out"
   ]
  },
  {
   "cell_type": "code",
   "execution_count": 8,
   "metadata": {},
   "outputs": [
    {
     "data": {
      "text/plain": [
       "{'shape': 'box',\n",
       " 'fillcolor': '#6b737c:#434e59',\n",
       " 'style': 'filled',\n",
       " 'gradientangle': '0',\n",
       " 'width': '0.6',\n",
       " 'height': '0.6',\n",
       " 'orientation': '0.0',\n",
       " 'color': 'none',\n",
       " 'fontcolor': 'white',\n",
       " 'peripheries': '1',\n",
       " 'margin': 'default',\n",
       " 'fontname': 'Arial',\n",
       " 'name': 'B1\\nBoiler'}"
      ]
     },
     "execution_count": 8,
     "metadata": {},
     "output_type": "execute_result"
    }
   ],
   "source": [
    "node # The node represents the actual unit"
   ]
  },
  {
   "cell_type": "markdown",
   "metadata": {},
   "source": [
    "These attributes can be changed to the user's liking:"
   ]
  },
  {
   "cell_type": "code",
   "execution_count": 9,
   "metadata": {},
   "outputs": [],
   "source": [
    "edge_out[0]['tailport'] = 'n'\n",
    "edge_out[1]['tailport'] = 's'\n",
    "node['width'] = '1'\n",
    "node['height'] = '1.2'"
   ]
  },
  {
   "cell_type": "code",
   "execution_count": 10,
   "metadata": {
    "tags": [
     "nbval-ignore-output"
    ]
   },
   "outputs": [
    {
     "data": {
      "image/png": "[encoded data removed]",
      "text/plain": [
       "<IPython.core.display.Image object>"
      ]
     },
     "metadata": {},
     "output_type": "display_data"
    },
    {
     "name": "stderr",
     "output_type": "stream",
     "text": [
      "C:\\Users\\yrc2\\Code\\biosteam\\biosteam\\digraph\\digraph.py:373: RuntimeWarning: a 'AttributeError' was raised when generating graphviz diagram, possibly due to graphviz installation issues\n",
      "  warn(\n"
     ]
    }
   ],
   "source": [
    "B1.diagram()"
   ]
  },
  {
   "cell_type": "markdown",
   "metadata": {},
   "source": [
    "It is also possible to dynamically adjust node and edge attributes by setting the `tailor_node_to_unit` attribute:"
   ]
  },
  {
   "cell_type": "code",
   "execution_count": 11,
   "metadata": {
    "tags": [
     "nbval-ignore-output"
    ]
   },
   "outputs": [
    {
     "data": {
      "image/png": "[encoded data removed]",
      "text/plain": [
       "<IPython.core.display.Image object>"
      ]
     },
     "metadata": {},
     "output_type": "display_data"
    }
   ],
   "source": [
    "def tailor_node_to_unit(node, unit):\n",
    "    feed = unit.ins[0]\n",
    "    if not feed.F_mol:\n",
    "        node['name'] += '\\n-empty-'\n",
    "graphics.tailor_node_to_unit = tailor_node_to_unit\n",
    "B1.diagram()"
   ]
  },
  {
   "cell_type": "code",
   "execution_count": 12,
   "metadata": {
    "tags": [
     "nbval-ignore-output"
    ]
   },
   "outputs": [
    {
     "data": {
      "image/png": "[encoded data removed]",
      "text/plain": [
       "<IPython.core.display.Image object>"
      ]
     },
     "metadata": {},
     "output_type": "display_data"
    }
   ],
   "source": [
    "B1.ins[0].empty()\n",
    "B1.diagram()"
   ]
  },
  {
   "cell_type": "markdown",
   "metadata": {},
   "source": [
    "NOTE: The example implementation of the `tailor_node_to_unit` function is not suggested; best to keep diagrams simple."
   ]
  }
 ],
 "metadata": {
  "celltoolbar": "Tags",
  "kernelspec": {
   "display_name": "Python 3 (ipykernel)",
   "language": "python",
   "name": "python3"
  },
  "language_info": {
   "codemirror_mode": {
    "name": "ipython",
    "version": 3
   },
   "file_extension": ".py",
   "mimetype": "text/x-python",
   "name": "python",
   "nbconvert_exporter": "python",
   "pygments_lexer": "ipython3",
   "version": "3.8.5"
  }
 },
 "nbformat": 4,
 "nbformat_minor": 2
}
