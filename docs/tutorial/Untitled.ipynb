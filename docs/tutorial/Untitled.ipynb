{
 "cells": [
  {
   "cell_type": "code",
   "execution_count": null,
   "id": "1209f590",
   "metadata": {},
   "outputs": [],
   "source": [
    "Life Cycle Assessment"
   ]
  },
  {
   "cell_type": "markdown",
   "id": "4be88dc1",
   "metadata": {},
   "source": [
    "For a sustainable bioeconomy, it is critical to assess the environmental impact of a production process. This chapter demonstrates BioSTEAM's life cycle assessment (LCA) capabilities through a cradle-to-gate LCA of a sugarcane biorefinery that produces electricity and ethanol. We focus on green-house gas (GHG) emissions because it is central to policy implementation."
   ]
  },
  {
   "cell_type": "code",
   "execution_count": null,
   "id": "f7b4a80e",
   "metadata": {},
   "outputs": [],
   "source": [
    "import biosteam as bst\n",
    "\n",
    "\n",
    "from biorefineries import sugarcane as sc\n",
    "\n",
    "\n",
    "sc.load()\n",
    "\n",
    "\n",
    "sys = sc.sugarcane_sys\n",
    "\n",
    "\n",
    "feeds = sys.feeds\n",
    "\n",
    "\n",
    "material_cradle_to_gate_key = ('GWP100', 'cradle_to_gate')\n",
    "\n",
    "\n",
    "electricity_key = ('GWP100', 'cradle_to_gate')\n",
    "\n",
    "\n",
    "for feed in sys.feeds:\n",
    "\n",
    "\n",
    "    # Assume all other feeds are negligible\n",
    "\n",
    "\n",
    "    feed.characterization_factors[material_cradle_to_gate_key] = 0.\n",
    "\n",
    "\n",
    "\n",
    "\n",
    "\n",
    "# Set non-negligible characterization factors\n",
    "\n",
    "\n",
    "# sc.sugarcane.characterization_factors[material_cradle_to_gate_key] = 0.044 # https://www.osti.gov/servlets/purl/1337146\n",
    "\n",
    "\n",
    "dw = (sc.sugarcane.F_mass-sc.sugarcane.imass['H2O'])/sc.sugarcane.F_mass\n",
    "\n",
    "\n",
    "sc.sugarcane.characterization_factors[material_cradle_to_gate_key] = 0.044*dw # https://www.osti.gov/servlets/purl/1337146\n",
    "\n",
    "\n",
    "bst.PowerUtility.characterization_factors[electricity_key] = 0.48 # https://greet.es.anl.gov/\n",
    "\n",
    "\n",
    "\n",
    "\n",
    "\n",
    "# Get net electricity data\n",
    "\n",
    "\n",
    "net_electricity = bst.PowerUtility.sum([i.power_utility for i in sys.units])\n",
    "\n",
    "\n",
    "GWP_material = sum([s.get_impact(material_cradle_to_gate_key) for s in sys.feeds])\n",
    "\n",
    "\n",
    "biogenic_CO2 = sc.sugarcane.get_atomic_flow('C')*44 # in kg CO2/hr\n",
    "\n",
    "\n",
    "GWP_direct_emissions = sum([i.imass['CO2'] for i in sys.products if 'CO2' in i.chemicals]) - biogenic_CO2\n",
    "\n",
    "\n",
    "GWP_electricity_production = net_electricity.get_impact(production_key=electricity_key)\n",
    "\n",
    "\n",
    "GWP_total = GWP_material + GWP_direct_emissions + GWP_electricity_production # kg CO2 eq. / hr\n",
    "\n",
    "\n",
    "GWP_sugarcane_ethanol = GWP_total / sc.ethanol.F_mass # kg CO2 eq. / kg sugarcane ethanol\n",
    "\n",
    "\n",
    "print(GWP_sugarcane_ethanol)"
   ]
  }
 ],
 "metadata": {
  "kernelspec": {
   "display_name": "Python 3 (ipykernel)",
   "language": "python",
   "name": "python3"
  },
  "language_info": {
   "codemirror_mode": {
    "name": "ipython",
    "version": 3
   },
   "file_extension": ".py",
   "mimetype": "text/x-python",
   "name": "python",
   "nbconvert_exporter": "python",
   "pygments_lexer": "ipython3",
   "version": "3.8.5"
  }
 },
 "nbformat": 4,
 "nbformat_minor": 5
}
