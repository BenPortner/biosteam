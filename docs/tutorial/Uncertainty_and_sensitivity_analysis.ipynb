{
 "cells": [
  {
   "cell_type": "markdown",
   "metadata": {},
   "source": [
    "# Uncertainty and sensitivity analysis"
   ]
  },
  {
   "cell_type": "markdown",
   "metadata": {},
   "source": [
    "## Monte Carlo uncertainty analysis"
   ]
  },
  {
   "cell_type": "markdown",
   "metadata": {},
   "source": [
    "### Model objects"
   ]
  },
  {
   "cell_type": "markdown",
   "metadata": {},
   "source": [
    "BioSTEAM streamlines uncertainty analysis with an object-oriented framework where a [Model](../evaluation/Model.txt) object samples from parameter distributions and reevaluates biorefinery metrics at each new condition. In essence, a Model object sets parameter values, simulates the biorefinery system, and evaluates metrics across an array of samples."
   ]
  },
  {
   "cell_type": "markdown",
   "metadata": {},
   "source": [
    "![Simple Model](Model_Simple_UML.png \"Model Simple UML\")"
   ]
  },
  {
   "cell_type": "markdown",
   "metadata": {},
   "source": [
    "Model objects are able to cut down simulation time by sorting the samples to minimize perturbations to the system between simulations. This decreases the number of iterations required to solve recycle systems. The following examples show how Model objects can be used.\n"
   ]
  },
  {
   "cell_type": "markdown",
   "metadata": {},
   "source": [
    "### Create parameter distributions"
   ]
  },
  {
   "cell_type": "markdown",
   "metadata": {},
   "source": [
    "**Let's first learn how to create common parameter distributions using** [chaospy](https://chaospy.readthedocs.io/en/master/tutorial.html)."
   ]
  },
  {
   "cell_type": "markdown",
   "metadata": {},
   "source": [
    "A triangular distribution is typically used when the parameter is uncertain within given limits, but is heuristically known to take a particular value. Create a triangular distribution:"
   ]
  },
  {
   "cell_type": "code",
   "execution_count": 1,
   "metadata": {
    "tags": [
     "nbval-ignore-output"
    ]
   },
   "outputs": [
    {
     "name": "stdout",
     "output_type": "stream",
     "text": [
      "Triangle(0, 0.5, 1)\n"
     ]
    }
   ],
   "source": [
    "from chaospy import distributions as shape\n",
    "lower_bound = 0\n",
    "most_probable = 0.5\n",
    "upper_bound = 1\n",
    "triang = shape.Triangle(lower_bound, most_probable, upper_bound)\n",
    "print(triang)"
   ]
  },
  {
   "cell_type": "markdown",
   "metadata": {},
   "source": [
    "A uniform distribution is used when the theoretical limits of the parameter is known, but no information is available to discern which values are more probable. Create a uniform distribution:"
   ]
  },
  {
   "cell_type": "code",
   "execution_count": 2,
   "metadata": {
    "tags": [
     "nbval-ignore-output"
    ]
   },
   "outputs": [
    {
     "name": "stdout",
     "output_type": "stream",
     "text": [
      "Uniform()\n"
     ]
    }
   ],
   "source": [
    "from chaospy import distributions as shape\n",
    "lower_bound = 0\n",
    "upper_bound = 1\n",
    "unif = shape.Uniform(lower_bound, upper_bound)\n",
    "print(unif)"
   ]
  },
  {
   "cell_type": "markdown",
   "metadata": {},
   "source": [
    "A large set of distributions are available through chaospy, but generally triangular and uniform distributions are the most widely used to describe the uncertainty of parameters in Monte Carlo analyses."
   ]
  },
  {
   "cell_type": "markdown",
   "metadata": {},
   "source": [
    "### Parameter objects"
   ]
  },
  {
   "cell_type": "markdown",
   "metadata": {},
   "source": [
    "**Parameter objects are simply structures BioSTEAM uses to manage parameter values and distributions.**"
   ]
  },
  {
   "cell_type": "markdown",
   "metadata": {},
   "source": [
    "This section is just to get you familiar with Parameter objects. All the fields that a Parameter object can have are described below. Don't worry if you don't fully understand what each field does. The main idea is that we need to define the `setter` function that the Parameter object uses to set the parameter value to the `element` (e.g. unit operation, stream, etc.) it pertains to. We can also pass a `distribution` (i.e. a chaospy distribution) that will be accessible for Model objects to sample from. As for the `name`, `units` of measure, and the `baseline` value, these are all for bookkeeping purposes. BioSTEAM incorporates the `name` and `units` of measure when creating a DataFrame of Monte Carlo results and parameter distributions. Parameter objects are created by Model objects which implicitly pass both the `system` affected by the parameter, and the `simulate` function. So don't worry about these last two fields, they are automatically added by the Model object when creating the parameter."
   ]
  },
  {
   "cell_type": "markdown",
   "metadata": {},
   "source": [
    "**simulate:** [function] Should simulate parameter effects.\n",
    "\n",
    "**system:** [System] System associated to parameter.\n",
    "\n",
    "**name:** [str] Name of parameter.\n",
    "\n",
    "**units:** [str] Units of measure.\n",
    "\n",
    "**baseline:** [float] Baseline value of parameter.\n",
    "\n",
    "**element:** [object] Element associated to parameter.\n",
    "\n",
    "**setter:** [function] Should set the parameter.\n",
    "\n",
    "**distribution:** [chaospy.Dist] Parameter distribution."
   ]
  },
  {
   "cell_type": "markdown",
   "metadata": {},
   "source": [
    "Hopefully things will be become clearer as we start to create the parameter objects in the following sections...\n",
    "    "
   ]
  },
  {
   "cell_type": "markdown",
   "metadata": {},
   "source": [
    "### Create a model object"
   ]
  },
  {
   "cell_type": "markdown",
   "metadata": {},
   "source": [
    "**Model objects are used to evaluate metrics around multiple parameters of a system.**"
   ]
  },
  {
   "cell_type": "markdown",
   "metadata": {},
   "source": [
    "Create a Model object of the lipidcane biorefinery with internal rate of return and utility cost as metrics:"
   ]
  },
  {
   "cell_type": "code",
   "execution_count": 3,
   "metadata": {
    "tags": [
     "nbval-ignore-output"
    ]
   },
   "outputs": [
    {
     "name": "stderr",
     "output_type": "stream",
     "text": [
      "C:\\Users\\yrc2\\OneDrive\\Code\\biosteam\\biosteam\\units\\design_tools\\pressure_vessel.py:91: DesignWarning: vacuum pressure vessel ASME codes not implemented yet; wall thickness may be inaccurate and stiffening rings may be required\n",
      "  warn('vacuum pressure vessel ASME codes not implemented yet; '\n",
      "C:\\Users\\yrc2\\OneDrive\\Code\\biosteam\\biosteam\\_unit.py:613: RuntimeWarning: the purchase cost item, 'Vacuum system', has no defined bare-module factor in the 'SplitFlash.F_BM' dictionary; bare-module factor now has a default value of 1\n",
      "  warn(warning)\n",
      "C:\\Users\\yrc2\\OneDrive\\Code\\biosteam\\biosteam\\units\\design_tools\\pressure_vessel.py:91: DesignWarning: vacuum pressure vessel ASME codes not implemented yet; wall thickness may be inaccurate and stiffening rings may be required\n",
      "  warn('vacuum pressure vessel ASME codes not implemented yet; '\n",
      "C:\\Users\\yrc2\\OneDrive\\Code\\biosteam\\biosteam\\_unit.py:613: RuntimeWarning: the purchase cost item, 'Vacuum system', has no defined bare-module factor in the 'SplitFlash.F_BM' dictionary; bare-module factor now has a default value of 1\n",
      "  warn(warning)\n",
      "C:\\Users\\yrc2\\OneDrive\\Code\\biosteam\\biosteam\\units\\design_tools\\pressure_vessel.py:82: CostWarning: \u001b[38;2;229;63;229m<Flash: First evaporator>\u001b[0m Vertical vessel length (46.5 ft) is out of bounds (12 to 40 ft).\n",
      "  return method(pressure, diameter, length)\n"
     ]
    }
   ],
   "source": [
    "from biorefineries import lipidcane as lc\n",
    "import biosteam as bst\n",
    "solve_IRR = lc.lipidcane_tea.solve_IRR\n",
    "total_utility_cost = lambda: lc.lipidcane_tea.utility_cost / 10**6 # In 10^6 USD/yr\n",
    "metrics = (bst.Metric('Internal rate of return', lc.lipidcane_tea.solve_IRR, '%'),\n",
    "           bst.Metric('Utility cost', total_utility_cost, '10^6 USD/yr'))\n",
    "model = bst.Model(lc.lipidcane_sys, metrics)\n"
   ]
  },
  {
   "cell_type": "markdown",
   "metadata": {},
   "source": [
    "The Model object begins with no parameters: "
   ]
  },
  {
   "cell_type": "code",
   "execution_count": 4,
   "metadata": {},
   "outputs": [
    {
     "name": "stdout",
     "output_type": "stream",
     "text": [
      "Model: Biorefinery internal rate of return [%]\n",
      "       Biorefinery utility cost [10^6 USD/yr]\n",
      " (No parameters)\n"
     ]
    }
   ],
   "source": [
    "model"
   ]
  },
  {
   "cell_type": "markdown",
   "metadata": {},
   "source": [
    "### Add design parameters"
   ]
  },
  {
   "cell_type": "markdown",
   "metadata": {},
   "source": [
    "**A design parameter is a Unit attribute that changes design requirements but does not affect mass and energy balances.**"
   ]
  },
  {
   "cell_type": "markdown",
   "metadata": {},
   "source": [
    "Add number of fermentation reactors as a \"design\" parameter:"
   ]
  },
  {
   "cell_type": "code",
   "execution_count": 5,
   "metadata": {},
   "outputs": [],
   "source": [
    "R301 = bst.main_flowsheet.unit.R301 # The Fermentation Unit\n",
    "@model.parameter(name='Number of reactors',\n",
    "                 element=R301, kind='design',\n",
    "                 distribution=shape.Uniform(4, 10))\n",
    "def set_N_reactors(N):\n",
    "    R301.N = round(N)"
   ]
  },
  {
   "cell_type": "markdown",
   "metadata": {},
   "source": [
    "The decorator uses the function to create a Parameter object and add it to the model:"
   ]
  },
  {
   "cell_type": "code",
   "execution_count": 6,
   "metadata": {},
   "outputs": [
    {
     "data": {
      "text/plain": [
       "(<Parameter: [Fermentation-R301] Number of reactors>,)"
      ]
     },
     "execution_count": 6,
     "metadata": {},
     "output_type": "execute_result"
    }
   ],
   "source": [
    "parameters = model.get_parameters()\n",
    "parameters"
   ]
  },
  {
   "cell_type": "markdown",
   "metadata": {},
   "source": [
    "Calling a Parameter object will update the parameter and results:"
   ]
  },
  {
   "cell_type": "code",
   "execution_count": 7,
   "metadata": {
    "tags": [
     "nbval-ignore-output"
    ]
   },
   "outputs": [
    {
     "name": "stdout",
     "output_type": "stream",
     "text": [
      "Puchase cost at 5 reactors: $1,618,428\n",
      "Puchase cost at 8 reactors: $1,912,811\n"
     ]
    }
   ],
   "source": [
    "set_N_reactors_parameter = parameters[0]\n",
    "set_N_reactors_parameter(5)\n",
    "print(f'Puchase cost at 5 reactors: ${R301.purchase_cost:,.0f}')\n",
    "set_N_reactors_parameter(8)\n",
    "print(f'Puchase cost at 8 reactors: ${R301.purchase_cost:,.0f}')"
   ]
  },
  {
   "cell_type": "markdown",
   "metadata": {},
   "source": [
    "The distribution will come into play later, when creating samples for Monte Carlo simulations."
   ]
  },
  {
   "cell_type": "markdown",
   "metadata": {},
   "source": [
    "### Add cost parameters"
   ]
  },
  {
   "cell_type": "markdown",
   "metadata": {},
   "source": [
    "**A cost parameter is a Unit attribute that affects cost but does not change design requirements.**"
   ]
  },
  {
   "cell_type": "markdown",
   "metadata": {},
   "source": [
    "Add the fermentation unit base cost as a \"cost\" parameter with a triangular distribution:"
   ]
  },
  {
   "cell_type": "code",
   "execution_count": 8,
   "metadata": {},
   "outputs": [],
   "source": [
    "reactors_cost_coefficients = R301.cost_items['Reactors']\n",
    "mid = reactors_cost_coefficients.n # Most probable at baseline value\n",
    "lb = mid - 0.1 # Minimum\n",
    "ub = mid + 0.1 # Maximum\n",
    "@model.parameter(element=R301, kind='cost',\n",
    "                 distribution=shape.Triangle(lb, mid, ub))\n",
    "def set_exponential_cost_coefficient(exponential_cost_coefficient):\n",
    "    reactors_cost_coefficients.n = exponential_cost_coefficient"
   ]
  },
  {
   "cell_type": "markdown",
   "metadata": {},
   "source": [
    "Note that if the name was not defined, it defaults to the setter's signature:"
   ]
  },
  {
   "cell_type": "code",
   "execution_count": 9,
   "metadata": {},
   "outputs": [
    {
     "data": {
      "text/plain": [
       "(<Parameter: [Fermentation-R301] Number of reactors>,\n",
       " <Parameter: [Fermentation-R301] Exponential cost coefficient>)"
      ]
     },
     "execution_count": 9,
     "metadata": {},
     "output_type": "execute_result"
    }
   ],
   "source": [
    "model.get_parameters()"
   ]
  },
  {
   "cell_type": "markdown",
   "metadata": {},
   "source": [
    "### Add isolated parameters"
   ]
  },
  {
   "cell_type": "markdown",
   "metadata": {},
   "source": [
    "**An isolated parameter should not affect Unit objects in any way.**"
   ]
  },
  {
   "cell_type": "markdown",
   "metadata": {},
   "source": [
    "Add feedstock price as a \"isolated\" parameter:"
   ]
  },
  {
   "cell_type": "code",
   "execution_count": 10,
   "metadata": {
    "scrolled": true
   },
   "outputs": [],
   "source": [
    "lipidcane = lc.lipidcane # The feedstock stream\n",
    "lb = lipidcane.price * 0.9 # Minimum price\n",
    "ub = lipidcane.price * 1.1 # Maximum price\n",
    "@model.parameter(element=lipidcane, kind='isolated', units='USD/kg',\n",
    "                 distribution=shape.Uniform(lb, ub))\n",
    "def set_feed_price(feedstock_price):\n",
    "    lipidcane.price = feedstock_price"
   ]
  },
  {
   "cell_type": "markdown",
   "metadata": {},
   "source": [
    "### Add coupled parameters"
   ]
  },
  {
   "cell_type": "markdown",
   "metadata": {},
   "source": [
    "**A coupled parameter affects mass and energy balances of the system.**"
   ]
  },
  {
   "cell_type": "markdown",
   "metadata": {},
   "source": [
    "Add lipid fraction as a \"coupled\" parameter:"
   ]
  },
  {
   "cell_type": "code",
   "execution_count": 11,
   "metadata": {},
   "outputs": [],
   "source": [
    "from biorefineries.lipidcane.utils import set_lipid_fraction\n",
    "# Note that if the setter function is already made,\n",
    "# you can pass it as the first argument\n",
    "set_lipid_fraction = model.parameter(set_lipid_fraction,\n",
    "                                     element=lipidcane, kind='coupled',\n",
    "                                     distribution=shape.Uniform(0.05, 0.10))"
   ]
  },
  {
   "cell_type": "markdown",
   "metadata": {},
   "source": [
    "Add fermentation efficiency as a \"coupled\" parameter:"
   ]
  },
  {
   "cell_type": "code",
   "execution_count": 12,
   "metadata": {},
   "outputs": [],
   "source": [
    "@model.parameter(element=R301, kind='coupled',\n",
    "                 distribution=shape.Triangle(0.85, 0.90, 0.95))\n",
    "def set_fermentation_efficiency(efficiency):\n",
    "    R301.efficiency = efficiency"
   ]
  },
  {
   "cell_type": "markdown",
   "metadata": {},
   "source": [
    "### Evaluate metric given a sample"
   ]
  },
  {
   "cell_type": "markdown",
   "metadata": {},
   "source": [
    "**The model can be called to evaluate a sample of parameters.**"
   ]
  },
  {
   "cell_type": "markdown",
   "metadata": {},
   "source": [
    "Note that all parameters are stored in the model with highly coupled parameters first:"
   ]
  },
  {
   "cell_type": "code",
   "execution_count": 13,
   "metadata": {},
   "outputs": [
    {
     "name": "stdout",
     "output_type": "stream",
     "text": [
      "Model: Biorefinery internal rate of return [%]\n",
      "       Biorefinery utility cost [10^6 USD/yr]\n",
      " Element:           Parameter:\n",
      " Stream-lipidcane   Lipid fraction\n",
      " Fermentation-R301  Efficiency\n",
      "                    Number of reactors\n",
      "                    Exponential cost coefficient\n",
      " Stream-lipidcane   Feedstock price\n"
     ]
    }
   ],
   "source": [
    "model"
   ]
  },
  {
   "cell_type": "markdown",
   "metadata": {},
   "source": [
    "Get dictionary that contain DataFrame objects of parameter distributions:"
   ]
  },
  {
   "cell_type": "code",
   "execution_count": 14,
   "metadata": {},
   "outputs": [
    {
     "data": {
      "text/html": [
       "<div>\n",
       "<style scoped>\n",
       "    .dataframe tbody tr th:only-of-type {\n",
       "        vertical-align: middle;\n",
       "    }\n",
       "\n",
       "    .dataframe tbody tr th {\n",
       "        vertical-align: top;\n",
       "    }\n",
       "\n",
       "    .dataframe thead th {\n",
       "        text-align: right;\n",
       "    }\n",
       "</style>\n",
       "<table border=\"1\" class=\"dataframe\">\n",
       "  <thead>\n",
       "    <tr style=\"text-align: right;\">\n",
       "      <th></th>\n",
       "      <th>Element</th>\n",
       "      <th>Name</th>\n",
       "      <th>Units</th>\n",
       "      <th>Shape</th>\n",
       "      <th>lower</th>\n",
       "      <th>upper</th>\n",
       "    </tr>\n",
       "  </thead>\n",
       "  <tbody>\n",
       "    <tr>\n",
       "      <th>0</th>\n",
       "      <td>Stream-lipidcane</td>\n",
       "      <td>Lipid fraction</td>\n",
       "      <td></td>\n",
       "      <td>Uniform</td>\n",
       "      <td>0.05</td>\n",
       "      <td>0.1</td>\n",
       "    </tr>\n",
       "    <tr>\n",
       "      <th>1</th>\n",
       "      <td>Fermentation-R301</td>\n",
       "      <td>Number of reactors</td>\n",
       "      <td></td>\n",
       "      <td>Uniform</td>\n",
       "      <td>4</td>\n",
       "      <td>10</td>\n",
       "    </tr>\n",
       "    <tr>\n",
       "      <th>2</th>\n",
       "      <td>Stream-lipidcane</td>\n",
       "      <td>Feedstock price</td>\n",
       "      <td>USD/kg</td>\n",
       "      <td>Uniform</td>\n",
       "      <td>0.0311</td>\n",
       "      <td>0.038</td>\n",
       "    </tr>\n",
       "  </tbody>\n",
       "</table>\n",
       "</div>"
      ],
      "text/plain": [
       "             Element                Name   Units    Shape  lower  upper\n",
       "0   Stream-lipidcane      Lipid fraction          Uniform   0.05    0.1\n",
       "1  Fermentation-R301  Number of reactors          Uniform      4     10\n",
       "2   Stream-lipidcane     Feedstock price  USD/kg  Uniform 0.0311  0.038"
      ]
     },
     "execution_count": 14,
     "metadata": {},
     "output_type": "execute_result"
    }
   ],
   "source": [
    "df_dct = model.get_distribution_summary()\n",
    "df_dct['Uniform']"
   ]
  },
  {
   "cell_type": "code",
   "execution_count": 15,
   "metadata": {},
   "outputs": [
    {
     "data": {
      "text/html": [
       "<div>\n",
       "<style scoped>\n",
       "    .dataframe tbody tr th:only-of-type {\n",
       "        vertical-align: middle;\n",
       "    }\n",
       "\n",
       "    .dataframe tbody tr th {\n",
       "        vertical-align: top;\n",
       "    }\n",
       "\n",
       "    .dataframe thead th {\n",
       "        text-align: right;\n",
       "    }\n",
       "</style>\n",
       "<table border=\"1\" class=\"dataframe\">\n",
       "  <thead>\n",
       "    <tr style=\"text-align: right;\">\n",
       "      <th></th>\n",
       "      <th>Element</th>\n",
       "      <th>Name</th>\n",
       "      <th>Units</th>\n",
       "      <th>Shape</th>\n",
       "      <th>lower</th>\n",
       "      <th>midpoint</th>\n",
       "      <th>upper</th>\n",
       "    </tr>\n",
       "  </thead>\n",
       "  <tbody>\n",
       "    <tr>\n",
       "      <th>0</th>\n",
       "      <td>Fermentation-R301</td>\n",
       "      <td>Efficiency</td>\n",
       "      <td></td>\n",
       "      <td>Triangle</td>\n",
       "      <td>0.85</td>\n",
       "      <td>0.9</td>\n",
       "      <td>0.95</td>\n",
       "    </tr>\n",
       "    <tr>\n",
       "      <th>1</th>\n",
       "      <td>Fermentation-R301</td>\n",
       "      <td>Exponential cost coefficient</td>\n",
       "      <td></td>\n",
       "      <td>Triangle</td>\n",
       "      <td>0.4</td>\n",
       "      <td>0.5</td>\n",
       "      <td>0.6</td>\n",
       "    </tr>\n",
       "  </tbody>\n",
       "</table>\n",
       "</div>"
      ],
      "text/plain": [
       "             Element                          Name Units     Shape  lower  \\\n",
       "0  Fermentation-R301                    Efficiency        Triangle   0.85   \n",
       "1  Fermentation-R301  Exponential cost coefficient        Triangle    0.4   \n",
       "\n",
       "   midpoint  upper  \n",
       "0       0.9   0.95  \n",
       "1       0.5    0.6  "
      ]
     },
     "execution_count": 15,
     "metadata": {},
     "output_type": "execute_result"
    }
   ],
   "source": [
    "df_dct['Triangle']"
   ]
  },
  {
   "cell_type": "markdown",
   "metadata": {},
   "source": [
    "Evaluate sample:"
   ]
  },
  {
   "cell_type": "code",
   "execution_count": 16,
   "metadata": {
    "tags": [
     "nbval-ignore-output"
    ]
   },
   "outputs": [
    {
     "name": "stderr",
     "output_type": "stream",
     "text": [
      "C:\\Users\\yrc2\\OneDrive\\Code\\biosteam\\biosteam\\units\\design_tools\\pressure_vessel.py:91: DesignWarning: vacuum pressure vessel ASME codes not implemented yet; wall thickness may be inaccurate and stiffening rings may be required\n",
      "  warn('vacuum pressure vessel ASME codes not implemented yet; '\n"
     ]
    },
    {
     "data": {
      "text/plain": [
       "Biorefinery  Internal rate of return [%]   0.135\n",
       "             Utility cost [10^6 USD/yr]    -27.8\n",
       "dtype: float64"
      ]
     },
     "execution_count": 16,
     "metadata": {},
     "output_type": "execute_result"
    }
   ],
   "source": [
    "model([0.05, 0.85, 8, 100000, 0.040]) # Returns metrics (IRR and utility cost)"
   ]
  },
  {
   "cell_type": "markdown",
   "metadata": {},
   "source": [
    "### Monte Carlo"
   ]
  },
  {
   "cell_type": "markdown",
   "metadata": {},
   "source": [
    "Sample from a joint distribution, and simulate samples:"
   ]
  },
  {
   "cell_type": "code",
   "execution_count": 17,
   "metadata": {
    "tags": [
     "nbval-ignore-output"
    ]
   },
   "outputs": [
    {
     "name": "stderr",
     "output_type": "stream",
     "text": [
      "C:\\Users\\yrc2\\OneDrive\\Code\\biosteam\\biosteam\\units\\solids_separation.py:147: DesignWarning: \u001b[38;2;229;63;229m<SolidsCentrifuge: C301>\u001b[0m Solids loading (1.975 ton/hr) is out of bounds (minimum 2 ton/hr).\n",
      "  lb_warning(self, 'Solids loading', ts, 'ton/hr', lb)\n",
      "C:\\Users\\yrc2\\OneDrive\\Code\\biosteam\\biosteam\\units\\design_tools\\pressure_vessel.py:82: CostWarning: \u001b[38;2;229;63;229m<Flash: First evaporator>\u001b[0m Vertical vessel length (54.5 ft) is out of bounds (12 to 40 ft).\n",
      "  return method(pressure, diameter, length)\n",
      "C:\\Users\\yrc2\\OneDrive\\Code\\biosteam\\biosteam\\units\\design_tools\\pressure_vessel.py:82: CostWarning: \u001b[38;2;229;63;229m<Flash: First evaporator>\u001b[0m Vertical vessel length (53.5 ft) is out of bounds (12 to 40 ft).\n",
      "  return method(pressure, diameter, length)\n",
      "C:\\Users\\yrc2\\OneDrive\\Code\\biosteam\\biosteam\\units\\design_tools\\pressure_vessel.py:82: CostWarning: \u001b[38;2;229;63;229m<Flash: First evaporator>\u001b[0m Vertical vessel length (52.5 ft) is out of bounds (12 to 40 ft).\n",
      "  return method(pressure, diameter, length)\n",
      "C:\\Users\\yrc2\\OneDrive\\Code\\biosteam\\biosteam\\units\\solids_separation.py:147: DesignWarning: \u001b[38;2;229;63;229m<SolidsCentrifuge: C301>\u001b[0m Solids loading (1.676 ton/hr) is out of bounds (minimum 2 ton/hr).\n",
      "  lb_warning(self, 'Solids loading', ts, 'ton/hr', lb)\n",
      "C:\\Users\\yrc2\\OneDrive\\Code\\biosteam\\biosteam\\units\\design_tools\\pressure_vessel.py:82: CostWarning: \u001b[38;2;229;63;229m<Flash: First evaporator>\u001b[0m Vertical vessel length (51.5 ft) is out of bounds (12 to 40 ft).\n",
      "  return method(pressure, diameter, length)\n",
      "C:\\Users\\yrc2\\OneDrive\\Code\\biosteam\\biosteam\\units\\design_tools\\pressure_vessel.py:82: CostWarning: \u001b[38;2;229;63;229m<Flash: First evaporator>\u001b[0m Vertical vessel length (50.5 ft) is out of bounds (12 to 40 ft).\n",
      "  return method(pressure, diameter, length)\n",
      "C:\\Users\\yrc2\\OneDrive\\Code\\biosteam\\biosteam\\units\\design_tools\\pressure_vessel.py:82: CostWarning: \u001b[38;2;229;63;229m<Flash: First evaporator>\u001b[0m Vertical vessel length (49.5 ft) is out of bounds (12 to 40 ft).\n",
      "  return method(pressure, diameter, length)\n",
      "C:\\Users\\yrc2\\OneDrive\\Code\\biosteam\\biosteam\\units\\solids_separation.py:147: DesignWarning: \u001b[38;2;229;63;229m<SolidsCentrifuge: C301>\u001b[0m Solids loading (1.868 ton/hr) is out of bounds (minimum 2 ton/hr).\n",
      "  lb_warning(self, 'Solids loading', ts, 'ton/hr', lb)\n",
      "C:\\Users\\yrc2\\OneDrive\\Code\\biosteam\\biosteam\\units\\design_tools\\pressure_vessel.py:82: CostWarning: \u001b[38;2;229;63;229m<Flash: First evaporator>\u001b[0m Vertical vessel length (48.5 ft) is out of bounds (12 to 40 ft).\n",
      "  return method(pressure, diameter, length)\n",
      "C:\\Users\\yrc2\\OneDrive\\Code\\biosteam\\biosteam\\units\\design_tools\\pressure_vessel.py:82: CostWarning: \u001b[38;2;229;63;229m<Flash: First evaporator>\u001b[0m Vertical vessel length (47.5 ft) is out of bounds (12 to 40 ft).\n",
      "  return method(pressure, diameter, length)\n",
      "C:\\Users\\yrc2\\OneDrive\\Code\\biosteam\\biosteam\\units\\solids_separation.py:147: DesignWarning: \u001b[38;2;229;63;229m<SolidsCentrifuge: C301>\u001b[0m Solids loading (1.997 ton/hr) is out of bounds (minimum 2 ton/hr).\n",
      "  lb_warning(self, 'Solids loading', ts, 'ton/hr', lb)\n",
      "C:\\Users\\yrc2\\OneDrive\\Code\\biosteam\\biosteam\\units\\solids_separation.py:147: DesignWarning: \u001b[38;2;229;63;229m<SolidsCentrifuge: C301>\u001b[0m Solids loading (1.534 ton/hr) is out of bounds (minimum 2 ton/hr).\n",
      "  lb_warning(self, 'Solids loading', ts, 'ton/hr', lb)\n",
      "C:\\Users\\yrc2\\OneDrive\\Code\\biosteam\\biosteam\\units\\design_tools\\pressure_vessel.py:82: CostWarning: \u001b[38;2;229;63;229m<Flash: First evaporator>\u001b[0m Vertical vessel length (46.5 ft) is out of bounds (12 to 40 ft).\n",
      "  return method(pressure, diameter, length)\n",
      "C:\\Users\\yrc2\\OneDrive\\Code\\biosteam\\biosteam\\units\\solids_separation.py:147: DesignWarning: \u001b[38;2;229;63;229m<SolidsCentrifuge: C301>\u001b[0m Solids loading (1.991 ton/hr) is out of bounds (minimum 2 ton/hr).\n",
      "  lb_warning(self, 'Solids loading', ts, 'ton/hr', lb)\n"
     ]
    },
    {
     "data": {
      "text/html": [
       "<div>\n",
       "<style scoped>\n",
       "    .dataframe tbody tr th:only-of-type {\n",
       "        vertical-align: middle;\n",
       "    }\n",
       "\n",
       "    .dataframe tbody tr th {\n",
       "        vertical-align: top;\n",
       "    }\n",
       "\n",
       "    .dataframe thead tr th {\n",
       "        text-align: left;\n",
       "    }\n",
       "</style>\n",
       "<table border=\"1\" class=\"dataframe\">\n",
       "  <thead>\n",
       "    <tr>\n",
       "      <th>Element</th>\n",
       "      <th>Stream-lipidcane</th>\n",
       "      <th colspan=\"3\" halign=\"left\">Fermentation-R301</th>\n",
       "      <th>Stream-lipidcane</th>\n",
       "      <th colspan=\"2\" halign=\"left\">Biorefinery</th>\n",
       "    </tr>\n",
       "    <tr>\n",
       "      <th>Variable</th>\n",
       "      <th>Lipid fraction</th>\n",
       "      <th>Efficiency</th>\n",
       "      <th>Number of reactors</th>\n",
       "      <th>Exponential cost coefficient</th>\n",
       "      <th>Feedstock price [USD/kg]</th>\n",
       "      <th>Internal rate of return [%]</th>\n",
       "      <th>Utility cost [10^6 USD/yr]</th>\n",
       "    </tr>\n",
       "  </thead>\n",
       "  <tbody>\n",
       "    <tr>\n",
       "      <th>0</th>\n",
       "      <td>0.0912</td>\n",
       "      <td>0.878</td>\n",
       "      <td>4.69</td>\n",
       "      <td>0.508</td>\n",
       "      <td>0.0362</td>\n",
       "      <td>0.191</td>\n",
       "      <td>-33</td>\n",
       "    </tr>\n",
       "    <tr>\n",
       "      <th>1</th>\n",
       "      <td>0.0716</td>\n",
       "      <td>0.932</td>\n",
       "      <td>6</td>\n",
       "      <td>0.468</td>\n",
       "      <td>0.0354</td>\n",
       "      <td>0.187</td>\n",
       "      <td>-30.1</td>\n",
       "    </tr>\n",
       "    <tr>\n",
       "      <th>2</th>\n",
       "      <td>0.0574</td>\n",
       "      <td>0.918</td>\n",
       "      <td>7.7</td>\n",
       "      <td>0.513</td>\n",
       "      <td>0.0359</td>\n",
       "      <td>0.172</td>\n",
       "      <td>-28.4</td>\n",
       "    </tr>\n",
       "    <tr>\n",
       "      <th>3</th>\n",
       "      <td>0.0778</td>\n",
       "      <td>0.87</td>\n",
       "      <td>9.71</td>\n",
       "      <td>0.561</td>\n",
       "      <td>0.0348</td>\n",
       "      <td>0.185</td>\n",
       "      <td>-31.3</td>\n",
       "    </tr>\n",
       "    <tr>\n",
       "      <th>4</th>\n",
       "      <td>0.0678</td>\n",
       "      <td>0.878</td>\n",
       "      <td>9.88</td>\n",
       "      <td>0.495</td>\n",
       "      <td>0.0334</td>\n",
       "      <td>0.184</td>\n",
       "      <td>-30</td>\n",
       "    </tr>\n",
       "    <tr>\n",
       "      <th>...</th>\n",
       "      <td>...</td>\n",
       "      <td>...</td>\n",
       "      <td>...</td>\n",
       "      <td>...</td>\n",
       "      <td>...</td>\n",
       "      <td>...</td>\n",
       "      <td>...</td>\n",
       "    </tr>\n",
       "    <tr>\n",
       "      <th>45</th>\n",
       "      <td>0.0835</td>\n",
       "      <td>0.891</td>\n",
       "      <td>8.48</td>\n",
       "      <td>0.423</td>\n",
       "      <td>0.0335</td>\n",
       "      <td>0.197</td>\n",
       "      <td>-32</td>\n",
       "    </tr>\n",
       "    <tr>\n",
       "      <th>46</th>\n",
       "      <td>0.085</td>\n",
       "      <td>0.892</td>\n",
       "      <td>9.49</td>\n",
       "      <td>0.549</td>\n",
       "      <td>0.0321</td>\n",
       "      <td>0.205</td>\n",
       "      <td>-32.2</td>\n",
       "    </tr>\n",
       "    <tr>\n",
       "      <th>47</th>\n",
       "      <td>0.0526</td>\n",
       "      <td>0.896</td>\n",
       "      <td>9.9</td>\n",
       "      <td>0.511</td>\n",
       "      <td>0.0367</td>\n",
       "      <td>0.159</td>\n",
       "      <td>-27.8</td>\n",
       "    </tr>\n",
       "    <tr>\n",
       "      <th>48</th>\n",
       "      <td>0.0763</td>\n",
       "      <td>0.94</td>\n",
       "      <td>8.75</td>\n",
       "      <td>0.52</td>\n",
       "      <td>0.0376</td>\n",
       "      <td>0.181</td>\n",
       "      <td>-30.7</td>\n",
       "    </tr>\n",
       "    <tr>\n",
       "      <th>49</th>\n",
       "      <td>0.0945</td>\n",
       "      <td>0.916</td>\n",
       "      <td>4.39</td>\n",
       "      <td>0.506</td>\n",
       "      <td>0.0314</td>\n",
       "      <td>0.218</td>\n",
       "      <td>-33.3</td>\n",
       "    </tr>\n",
       "  </tbody>\n",
       "</table>\n",
       "<p>50 rows × 7 columns</p>\n",
       "</div>"
      ],
      "text/plain": [
       "Element  Stream-lipidcane Fermentation-R301                     \\\n",
       "Variable   Lipid fraction        Efficiency Number of reactors   \n",
       "0                  0.0912             0.878               4.69   \n",
       "1                  0.0716             0.932                  6   \n",
       "2                  0.0574             0.918                7.7   \n",
       "3                  0.0778              0.87               9.71   \n",
       "4                  0.0678             0.878               9.88   \n",
       "..                    ...               ...                ...   \n",
       "45                 0.0835             0.891               8.48   \n",
       "46                  0.085             0.892               9.49   \n",
       "47                 0.0526             0.896                9.9   \n",
       "48                 0.0763              0.94               8.75   \n",
       "49                 0.0945             0.916               4.39   \n",
       "\n",
       "Element                                       Stream-lipidcane  \\\n",
       "Variable Exponential cost coefficient Feedstock price [USD/kg]   \n",
       "0                               0.508                   0.0362   \n",
       "1                               0.468                   0.0354   \n",
       "2                               0.513                   0.0359   \n",
       "3                               0.561                   0.0348   \n",
       "4                               0.495                   0.0334   \n",
       "..                                ...                      ...   \n",
       "45                              0.423                   0.0335   \n",
       "46                              0.549                   0.0321   \n",
       "47                              0.511                   0.0367   \n",
       "48                               0.52                   0.0376   \n",
       "49                              0.506                   0.0314   \n",
       "\n",
       "Element                  Biorefinery                             \n",
       "Variable Internal rate of return [%] Utility cost [10^6 USD/yr]  \n",
       "0                              0.191                        -33  \n",
       "1                              0.187                      -30.1  \n",
       "2                              0.172                      -28.4  \n",
       "3                              0.185                      -31.3  \n",
       "4                              0.184                        -30  \n",
       "..                               ...                        ...  \n",
       "45                             0.197                        -32  \n",
       "46                             0.205                      -32.2  \n",
       "47                             0.159                      -27.8  \n",
       "48                             0.181                      -30.7  \n",
       "49                             0.218                      -33.3  \n",
       "\n",
       "[50 rows x 7 columns]"
      ]
     },
     "execution_count": 17,
     "metadata": {},
     "output_type": "execute_result"
    }
   ],
   "source": [
    "import numpy as np\n",
    "np.random.seed(1234) # For consistent results\n",
    "N_samples = 50\n",
    "rule = 'L' # For Latin-Hypercube sampling\n",
    "samples = model.sample(N_samples, rule)\n",
    "model.load_samples(samples)\n",
    "model.evaluate()\n",
    "model.table # All evaluations are stored as a pandas DataFrame"
   ]
  },
  {
   "cell_type": "markdown",
   "metadata": {},
   "source": [
    "Note that coupled parameters are on the left most columns, and are ordered from upstream to downstream (e.g. <Stream: Lipid cane> is upstream from <Fermentation: R301>)"
   ]
  },
  {
   "cell_type": "markdown",
   "metadata": {},
   "source": [
    "## Sensitivity with Spearman's rank order correlation"
   ]
  },
  {
   "cell_type": "markdown",
   "metadata": {},
   "source": [
    "Model objects also presents methods for sensitivity analysis such as Spearman's correlation, a measure of monotonicity between variables:"
   ]
  },
  {
   "cell_type": "code",
   "execution_count": 18,
   "metadata": {
    "tags": [
     "nbval-ignore-output"
    ]
   },
   "outputs": [
    {
     "data": {
      "text/plain": [
       "Element            Parameter                   \n",
       "Stream-lipidcane   Lipid fraction                  0.845\n",
       "Fermentation-R301  Efficiency                     0.0271\n",
       "                   Number of reactors             -0.151\n",
       "                   Exponential cost coefficient   -0.068\n",
       "Stream-lipidcane   Feedstock price [USD/kg]       -0.594\n",
       "Name: (Biorefinery, Internal rate of return [%]), dtype: float64"
      ]
     },
     "execution_count": 18,
     "metadata": {},
     "output_type": "execute_result"
    }
   ],
   "source": [
    "df_rho, df_p = model.spearman_r()\n",
    "df_rho['Biorefinery', 'Internal rate of return [%]']"
   ]
  },
  {
   "cell_type": "markdown",
   "metadata": {},
   "source": [
    "Create a tornado plot of Spearman's correlation between all parameters and IRR:"
   ]
  },
  {
   "cell_type": "code",
   "execution_count": 19,
   "metadata": {
    "tags": [
     "nbval-ignore-output"
    ]
   },
   "outputs": [
    {
     "data": {
      "text/plain": [
       "(<Figure size 432x288 with 3 Axes>,\n",
       " <AxesSubplot:xlabel=\"Spearman's correlation with IRR [%]\">)"
      ]
     },
     "execution_count": 19,
     "metadata": {},
     "output_type": "execute_result"
    },
    {
     "data": {
      "image/png": "[encoded data removed]",
      "text/plain": [
       "<Figure size 432x288 with 3 Axes>"
      ]
     },
     "metadata": {
      "needs_background": "light"
     },
     "output_type": "display_data"
    }
   ],
   "source": [
    "bst.plots.plot_spearman_1d(df_rho['Biorefinery', 'Internal rate of return [%]'], \n",
    "                           index=[i.describe() for i in model.parameters],\n",
    "                           name='IRR [%]')"
   ]
  },
  {
   "cell_type": "markdown",
   "metadata": {},
   "source": [
    "## Single point sensitivity"
   ]
  },
  {
   "cell_type": "markdown",
   "metadata": {},
   "source": [
    "A quick way to evaluate sentivity is through single point sensitivity analysis, whereby a metric is evaluated at the baseline and at the lower and upper limits of each parameter. This method ignores the interactions between parameters and their distributions, but can help screen whether a system is sensitive to a given parameter. Model objects also facilitate this analysis:"
   ]
  },
  {
   "cell_type": "code",
   "execution_count": 20,
   "metadata": {
    "tags": [
     "nbval-ignore-output"
    ]
   },
   "outputs": [
    {
     "name": "stderr",
     "output_type": "stream",
     "text": [
      "C:\\Users\\yrc2\\OneDrive\\Code\\biosteam\\biosteam\\units\\design_tools\\pressure_vessel.py:91: DesignWarning: vacuum pressure vessel ASME codes not implemented yet; wall thickness may be inaccurate and stiffening rings may be required\n",
      "  warn('vacuum pressure vessel ASME codes not implemented yet; '\n",
      "C:\\Users\\yrc2\\OneDrive\\Code\\biosteam\\biosteam\\units\\design_tools\\pressure_vessel.py:82: CostWarning: \u001b[38;2;229;63;229m<Flash: First evaporator>\u001b[0m Vertical vessel length (52.5 ft) is out of bounds (12 to 40 ft).\n",
      "  return method(pressure, diameter, length)\n",
      "C:\\Users\\yrc2\\OneDrive\\Code\\biosteam\\biosteam\\units\\design_tools\\pressure_vessel.py:82: CostWarning: \u001b[38;2;229;63;229m<Flash: First evaporator>\u001b[0m Vertical vessel length (46.5 ft) is out of bounds (12 to 40 ft).\n",
      "  return method(pressure, diameter, length)\n",
      "C:\\Users\\yrc2\\OneDrive\\Code\\biosteam\\biosteam\\units\\solids_separation.py:147: DesignWarning: \u001b[38;2;229;63;229m<SolidsCentrifuge: C301>\u001b[0m Solids loading (1.414 ton/hr) is out of bounds (minimum 2 ton/hr).\n",
      "  lb_warning(self, 'Solids loading', ts, 'ton/hr', lb)\n"
     ]
    },
    {
     "name": "stdout",
     "output_type": "stream",
     "text": [
      "BASELINE\n",
      "--------\n",
      "Element      Variable                   \n",
      "Biorefinery  Internal rate of return [%]   0.188\n",
      "             Utility cost [10^6 USD/yr]    -30.8\n",
      "dtype: float64\n",
      "\n",
      "LOWER\n",
      "-----\n",
      "Element                                                        Biorefinery  \\\n",
      "Variable                                       Internal rate of return [%]   \n",
      "Element           Variable                                                   \n",
      "Stream-lipidcane  Lipid fraction                                     0.169   \n",
      "Fermentation-R301 Efficiency                                         0.181   \n",
      "                  Number of reactors                                 0.189   \n",
      "                  Exponential cost coefficient                       0.187   \n",
      "Stream-lipidcane  Feedstock price [USD/kg]                           0.203   \n",
      "\n",
      "Element                                                                    \n",
      "Variable                                       Utility cost [10^6 USD/yr]  \n",
      "Element           Variable                                                 \n",
      "Stream-lipidcane  Lipid fraction                                    -27.5  \n",
      "Fermentation-R301 Efficiency                                          -31  \n",
      "                  Number of reactors                                -30.8  \n",
      "                  Exponential cost coefficient                      -30.8  \n",
      "Stream-lipidcane  Feedstock price [USD/kg]                          -30.8  \n",
      "\n",
      "UPPER\n",
      "-----\n",
      "Element                                                        Biorefinery  \\\n",
      "Variable                                       Internal rate of return [%]   \n",
      "Element           Variable                                                   \n",
      "Stream-lipidcane  Lipid fraction                                     0.206   \n",
      "Fermentation-R301 Efficiency                                         0.195   \n",
      "                  Number of reactors                                 0.187   \n",
      "                  Exponential cost coefficient                       0.189   \n",
      "Stream-lipidcane  Feedstock price [USD/kg]                           0.173   \n",
      "\n",
      "Element                                                                    \n",
      "Variable                                       Utility cost [10^6 USD/yr]  \n",
      "Element           Variable                                                 \n",
      "Stream-lipidcane  Lipid fraction                                    -34.1  \n",
      "Fermentation-R301 Efficiency                                        -30.5  \n",
      "                  Number of reactors                                -30.8  \n",
      "                  Exponential cost coefficient                      -30.8  \n",
      "Stream-lipidcane  Feedstock price [USD/kg]                          -30.8  \n"
     ]
    }
   ],
   "source": [
    "baseline, lower, upper = model.single_point_sensitivity()\n",
    "print('BASELINE')\n",
    "print('--------')\n",
    "print(baseline)\n",
    "print()\n",
    "print('LOWER')\n",
    "print('-----')\n",
    "print(lower)\n",
    "print()\n",
    "print('UPPER')\n",
    "print('-----')\n",
    "print(upper)"
   ]
  },
  {
   "cell_type": "markdown",
   "metadata": {},
   "source": [
    "Create a tornado plot of the lower and upper values of the IRR:"
   ]
  },
  {
   "cell_type": "code",
   "execution_count": 21,
   "metadata": {
    "tags": [
     "nbval-ignore-output"
    ]
   },
   "outputs": [
    {
     "data": {
      "text/plain": [
       "(<Figure size 432x288 with 3 Axes>, <AxesSubplot:xlabel='IRR [%]'>)"
      ]
     },
     "execution_count": 21,
     "metadata": {},
     "output_type": "execute_result"
    },
    {
     "data": {
      "image/png": "[encoded data removed]",
      "text/plain": [
       "<Figure size 432x288 with 3 Axes>"
      ]
     },
     "metadata": {
      "needs_background": "light"
     },
     "output_type": "display_data"
    }
   ],
   "source": [
    "IRR, utility_cost = model.metrics\n",
    "metric_index = IRR.index\n",
    "index = [i.describe() for i in model.parameters]\n",
    "bst.plots.plot_single_point_sensitivity(100 * baseline[metric_index],\n",
    "                                        100 * lower[metric_index], \n",
    "                                        100 * upper[metric_index],\n",
    "                                        name='IRR [%]',\n",
    "                                        index=index)"
   ]
  }
 ],
 "metadata": {
  "celltoolbar": "Tags",
  "kernelspec": {
   "display_name": "Python 3",
   "language": "python",
   "name": "python3"
  },
  "language_info": {
   "codemirror_mode": {
    "name": "ipython",
    "version": 3
   },
   "file_extension": ".py",
   "mimetype": "text/x-python",
   "name": "python",
   "nbconvert_exporter": "python",
   "pygments_lexer": "ipython3",
   "version": "3.8.5"
  }
 },
 "nbformat": 4,
 "nbformat_minor": 2
}
