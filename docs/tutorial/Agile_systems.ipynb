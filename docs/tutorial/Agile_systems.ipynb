{
 "cells": [
  {
   "cell_type": "markdown",
   "metadata": {},
   "source": [
    "# Agile systems"
   ]
  },
  {
   "cell_type": "markdown",
   "metadata": {},
   "source": [
    "## Overview"
   ]
  },
  {
   "cell_type": "markdown",
   "metadata": {},
   "source": [
    "BioSTEAM is able to conservatively design agile biorefineries that can switch configurations, vary feedstocks, and even vary operating conditions throughout the year. Switching **operation modes** throughout the year is modeled using an **AgileSystem** object, which simulates each mode of operation and compiles new **agile designs** for each unit operation suitable for all operation modes. For example, an agile distillation column would have the largest diameter and number of operating stages required among all operation modes. Each operation mode runs for a defined number of operating hours, allowing the variable operating costs (e.g. material and utility costs) and sales to be summed across different operation modes. This **preliminary** agile design assumption leads to **conservative** estimates around utility costs as some units may be **over-designed**. For example, a distillation column with a higher number of stages will require a lower reflux ratio and less utilities to reach a target separation. The following UML diagram summarizes how BioSTEAM agile biorefinery models work:\n",
    "\n",
    "![Agile System UML](Agile_System_UML.png \"Agile System UML\")"
   ]
  },
  {
   "cell_type": "markdown",
   "metadata": {},
   "source": [
    "## Agile sugarcane and sweet sorghum biorefinery"
   ]
  },
  {
   "cell_type": "markdown",
   "metadata": {},
   "source": [
    "An AgileSystem object is first created, then operation modes are added. We will need two operation modes, one for sugarcane and one for sorghum. As an example, we expose fermentation efficiency as an operation parameter. Finally, we add operation modes for both sugarcane and sorghum processing and simulate:"
   ]
  },
  {
   "cell_type": "code",
   "execution_count": 3,
   "metadata": {},
   "outputs": [
    {
     "name": "stdout",
     "output_type": "stream",
     "text": [
      "AgileSystem(operation_modes=[OperationMode(system=sugarcane_sys, operating_hours=4800, X=0.9), OperationMode(system=sorghum_sys, operating_hours=1440, X=0.85)], operation_parameters={'X': <function set_fermentation_efficiency at 0x000002C80F399820>}, lang_factor=None)\n"
     ]
    }
   ],
   "source": [
    "import biosteam as bst\n",
    "from biorefineries import sugarcane as sc\n",
    "\n",
    "# Create the agile system object and define operation parameters\n",
    "agile_sys = bst.AgileSystem()\n",
    "\n",
    "# Create sugarcane system\n",
    "sc.load()\n",
    "sugarcane_sys = sc.sugarcane_sys\n",
    "\n",
    "# Create new soghum system; which is exactly the same as sugarcane but with a different feedstock\n",
    "sc.U101.ins[0] = None # Remove stream without warnings\n",
    "sc.U101.ins[0] = sorghum = bst.Stream(\n",
    "    'Sorghum',\n",
    "    Water=0.7,\n",
    "    Glucose=0.0111,\n",
    "    Sucrose=0.126,\n",
    "    Ash=0.006,\n",
    "    Cellulose=0.0668,\n",
    "    Hemicellulose=0.0394,\n",
    "    Lignin=0.0358,\n",
    "    Solids=0.015,\n",
    "    total_flow=333334,\n",
    "    units='kg/hr',\n",
    ")\n",
    "sorghum_sys = bst.System.from_units('sorghum_sys', sugarcane_sys.units)\n",
    "\n",
    "@agile_sys.operation_parameter\n",
    "def set_fermentation_efficiency(X):\n",
    "    sc.R301.X = X\n",
    "    \n",
    "# The name of the parameter defaults to the name used in the function (X)\n",
    "sugarcane_mode = agile_sys.operation_mode(system=sugarcane_sys, operating_hours=24*200, X=0.90)\n",
    "\n",
    "# Assume fermentation of sorghum is less efficient for demonstration purposes\n",
    "sorghum_mode = agile_sys.operation_mode(system=sorghum_sys, operating_hours=24*60, X=0.85) \n",
    "\n",
    "# Simulate and get results\n",
    "agile_sys.simulate()\n",
    "\n",
    "print(agile_sys)"
   ]
  },
  {
   "cell_type": "code",
   "execution_count": null,
   "metadata": {},
   "outputs": [],
   "source": [
    "# Recreate the TEA object using the agile system\n",
    "agile_tea = SugarcaneTEA(\n",
    "    system=agile_sys,\n",
    "    IRR=0.15,\n",
    "    duration=(2018, 2038),\n",
    "    depreciation='MACRS7',\n",
    "    income_tax=0.35,\n",
    "    operating_days=200,\n",
    "    lang_factor=3,\n",
    "    construction_schedule=(0.4, 0.6),\n",
    "    WC_over_FCI=0.05,\n",
    "    labor_cost=2.5e6,\n",
    "    fringe_benefits=0.4,\n",
    "    property_tax=0.001,\n",
    "    property_insurance=0.005,\n",
    "    supplies=0.20,\n",
    "    maintenance=0.01,\n",
    "    administration=0.005,\n",
    ")\n",
    "\n",
    "\n",
    "agile_tea.IRR = agile_tea.solve_IRR()\n",
    "print('Agile Sugarcane/Sorghum')\n",
    "print(f'NPV: {agile_tea.NPV/1e6:.2f}')\n",
    "print(f'IRR: {agile_tea.IRR:.0%}')"
   ]
  },
  {
   "cell_type": "markdown",
   "metadata": {},
   "source": [
    "While the IRR is higher due to increased production, the capital cost increases slightly due to the different feedstock composition:"
   ]
  },
  {
   "cell_type": "code",
   "execution_count": null,
   "metadata": {},
   "outputs": [],
   "source": [
    "from math import ceil\n",
    "sugarcane_mode.simulate()\n",
    "TCI_sugarcane = sugarcane_tea.TCI\n",
    "print('Total capital cost [MMUSD]')\n",
    "print(f'Agile Sugarcane/Sorghum: {ceil(agile_tea.TCI / 1e6)}')\n",
    "print(f'Sugarcane only: {ceil(TCI_sugarcane / 1e6)}')"
   ]
  },
  {
   "cell_type": "markdown",
   "metadata": {},
   "source": [
    "### References\n",
    "\n",
    "<a id='References'></a>\n",
    "\n",
    "1. Huang, H., Long, S., & Singh, V. (2016) \"Techno-economic analysis of biodiesel and ethanol co-production from lipid-producing sugarcane\" Biofuels, Bioproducts and Biorefining, 10(3), 299–315. https://doi.org/10.1002/bbb.1640"
   ]
  }
 ],
 "metadata": {
  "celltoolbar": "Tags",
  "kernelspec": {
   "display_name": "Python 3",
   "language": "python",
   "name": "python3"
  },
  "language_info": {
   "codemirror_mode": {
    "name": "ipython",
    "version": 3
   },
   "file_extension": ".py",
   "mimetype": "text/x-python",
   "name": "python",
   "nbconvert_exporter": "python",
   "pygments_lexer": "ipython3",
   "version": "3.8.5"
  }
 },
 "nbformat": 4,
 "nbformat_minor": 2
}
