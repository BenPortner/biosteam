{
 "cells": [
  {
   "cell_type": "markdown",
   "metadata": {},
   "source": [
    "# Agile systems"
   ]
  },
  {
   "cell_type": "markdown",
   "metadata": {},
   "source": [
    "## Overview"
   ]
  },
  {
   "cell_type": "markdown",
   "metadata": {},
   "source": [
    "BioSTEAM is able to conservatively design agile biorefineries that can switch configurations, vary feedstocks, and even vary operating conditions throughout the year. Switching **operation modes** throughout the year is modeled using an **AgileSystem** object, which simulates each mode of operation and compiles new **agile designs** for each unit operation suitable for all operation modes. For example, an agile distillation column would have the largest diameter and number of operating stages required among all operation modes. Each operation mode runs for a defined number of operating hours, allowing the variable operating costs (e.g. material and utility costs) and sales to be summed across different operation modes. This **preliminary** agile design assumption leads to **conservative** estimates around utility costs as some units may be **over-designed**. For example, a distillation column with a higher number of stages will require a lower reflux ratio and less utilities to reach a target separation. The following UML diagram summarizes how BioSTEAM agile biorefinery models work:\n",
    "\n",
    "![Agile System UML](Agile_System_UML.png \"Agile System UML\")"
   ]
  },
  {
   "cell_type": "markdown",
   "metadata": {},
   "source": [
    "## Agile sugarcane and sweet sorghum biorefinery"
   ]
  },
  {
   "cell_type": "markdown",
   "metadata": {},
   "source": [
    "One drawback of processing sugarcane is its short harvesting period of 4-5 months in southern USA, which limits biorefinery operations to 5-7 months a year. Because sweet sorghum can be harvested when sugarcane is not in season, an idle sugarcane biorefinery could potentially increase biofuel production by processing sorghum. A logistics study accounting for cropland and harvesting by Cutz et al. proposed that sugarcane plants may potentially process sweet sorghum at least 1 month before, and 1 month after the sugarcane season [[1]](#References). The co-utilization of sugarcane and sorghum feedstocks has been achieved at an industrial-scale trial in Zimbabwe, which demonstrated that sweet sorghum can be processed without any modifications to an existing sugarcane mill [[2]](#References).\n",
    "\n",
    "Here we model an agile sugcarcane/sorghum biorefinery using an AgileSystem object. We use two operation modes, one for sugarcane and one for sorghum. As an example, we expose fermentation efficiency as an operation parameter and set different efficiencies for each operation mode:"
   ]
  },
  {
   "cell_type": "code",
   "execution_count": 1,
   "metadata": {},
   "outputs": [],
   "source": [
    "import biosteam as bst\n",
    "from biorefineries import sugarcane as sc\n",
    "\n",
    "# Create the agile system object\n",
    "agile_sys = bst.AgileSystem()\n",
    "\n",
    "# Create sugarcane system\n",
    "sc.load()\n",
    "sugarcane_sys = sc.sugarcane_sys\n",
    "\n",
    "# Create new soghum system; which is exactly the same as sugarcane but with a different feedstock.\n",
    "# Systems remember the configuration they had when they were created, which makes it\n",
    "# possible to change configurations without affecting old systems.\n",
    "sc.U101.ins[0] = None # Remove stream without warnings\n",
    "sc.U101.ins[0] = sorghum = bst.Stream(\n",
    "    'Sorghum',\n",
    "    Water=0.7,\n",
    "    Glucose=0.0111,\n",
    "    Sucrose=0.126,\n",
    "    Ash=0.006,\n",
    "    Cellulose=0.0668,\n",
    "    Hemicellulose=0.0394,\n",
    "    Lignin=0.0358,\n",
    "    Solids=0.015,\n",
    "    total_flow=333334,\n",
    "    price=sc.sugarcane.price,\n",
    "    units='kg/hr',\n",
    ")\n",
    "sorghum_sys = bst.System.from_units('sorghum_sys', sugarcane_sys.units)\n",
    "\n",
    "# Define operation parameters\n",
    "@agile_sys.operation_parameter\n",
    "def set_fermentation_efficiency(X):\n",
    "    sc.R301.X = X\n",
    "    \n",
    "# The name of the parameter defaults to the name used in the function (X)\n",
    "sugarcane_mode = agile_sys.operation_mode(system=sugarcane_sys, operating_hours=24*200, X=0.90)\n",
    "\n",
    "# Assume fermentation of sorghum is less efficient for demonstration purposes\n",
    "sorghum_mode = agile_sys.operation_mode(system=sorghum_sys, operating_hours=24*60, X=0.85) \n",
    "\n",
    "# Simulate\n",
    "agile_sys.simulate()"
   ]
  },
  {
   "cell_type": "markdown",
   "metadata": {},
   "source": [
    "Retrieve general system results:"
   ]
  },
  {
   "cell_type": "code",
   "execution_count": 2,
   "metadata": {},
   "outputs": [
    {
     "name": "stdout",
     "output_type": "stream",
     "text": [
      "Sales: 111 MMUSD/yr\n",
      "Material cost: 78 MMUSD/yr\n",
      "Utility cost: -24 MMUSD/yr\n"
     ]
    }
   ],
   "source": [
    "print(f'Sales: {agile_sys.sales / 1e6:.0f} MMUSD/yr')\n",
    "print(f'Material cost: {agile_sys.material_cost / 1e6:.0f} MMUSD/yr')\n",
    "print(f'Utility cost: {agile_sys.utility_cost / 1e6:.0f} MMUSD/yr')"
   ]
  },
  {
   "cell_type": "markdown",
   "metadata": {},
   "source": [
    "Note how the operation modes and operation parameters we defined are stored in the AgileSystem object:"
   ]
  },
  {
   "cell_type": "code",
   "execution_count": 3,
   "metadata": {},
   "outputs": [
    {
     "data": {
      "text/plain": [
       "[OperationMode(system=sugarcane_sys, operating_hours=4800, X=0.9),\n",
       " OperationMode(system=sorghum_sys, operating_hours=1440, X=0.85)]"
      ]
     },
     "execution_count": 3,
     "metadata": {},
     "output_type": "execute_result"
    }
   ],
   "source": [
    "agile_sys.operation_modes"
   ]
  },
  {
   "cell_type": "code",
   "execution_count": 4,
   "metadata": {
    "tags": [
     "nbval-ignore-output"
    ]
   },
   "outputs": [
    {
     "data": {
      "text/plain": [
       "{'X': <function __main__.set_fermentation_efficiency(X)>}"
      ]
     },
     "execution_count": 4,
     "metadata": {},
     "output_type": "execute_result"
    }
   ],
   "source": [
    "agile_sys.operation_parameters"
   ]
  },
  {
   "cell_type": "markdown",
   "metadata": {},
   "source": [
    "We can create a new TEA object with the agile system to see how our IRR has changed:"
   ]
  },
  {
   "cell_type": "code",
   "execution_count": 5,
   "metadata": {},
   "outputs": [
    {
     "name": "stdout",
     "output_type": "stream",
     "text": [
      "Sugarcane only\n",
      "NPV: -0.00 USD\n",
      "IRR: 12%\n",
      "TCI: 214 MMUSD\n",
      "\n",
      "Agile Sugarcane/Sorghum\n",
      "NPV: -0.00 USD\n",
      "IRR: 16%\n",
      "TCI: 224 MMUSD\n"
     ]
    }
   ],
   "source": [
    "sugarcane_mode.simulate()\n",
    "sc.sugarcane_tea.IRR = sc.sugarcane_tea.solve_IRR()\n",
    "print('Sugarcane only')\n",
    "print(f'NPV: {sc.sugarcane_tea.NPV/1e6:.2f} USD')\n",
    "print(f'IRR: {sc.sugarcane_tea.IRR:.0%}')\n",
    "print(f'TCI: {sc.sugarcane_tea.TCI/1e6:.0f} MMUSD')\n",
    "\n",
    "# Recreate the TEA object using the agile system\n",
    "agile_tea = sc.ConventionalEthanolTEA(\n",
    "    system=agile_sys,\n",
    "    IRR=0.15,\n",
    "    duration=(2018, 2038),\n",
    "    depreciation='MACRS7', \n",
    "    income_tax=0.35,\n",
    "    operating_days=260, # Total sum of operating days across operation modes\n",
    "    lang_factor=3,\n",
    "    construction_schedule=(0.4, 0.6),\n",
    "    WC_over_FCI=0.05,\n",
    "    labor_cost=2.5e6,\n",
    "    fringe_benefits=0.4,\n",
    "    property_tax=0.001,\n",
    "    property_insurance=0.005,\n",
    "    supplies=0.20,\n",
    "    maintenance=0.01,\n",
    "    administration=0.005\n",
    ")\n",
    "agile_sys.simulate()\n",
    "agile_tea.IRR = agile_tea.solve_IRR()\n",
    "print()\n",
    "print('Agile Sugarcane/Sorghum')\n",
    "print(f'NPV: {agile_tea.NPV/1e6:.2f} USD')\n",
    "print(f'IRR: {agile_tea.IRR:.0%}')\n",
    "print(f'TCI: {agile_tea.TCI/1e6:.0f} MMUSD')"
   ]
  },
  {
   "cell_type": "markdown",
   "metadata": {},
   "source": [
    "While the IRR is higher due to increased production, note how the capital cost increases slightly due to the different feedstock composition and operation."
   ]
  },
  {
   "cell_type": "markdown",
   "metadata": {},
   "source": [
    "### References\n",
    "\n",
    "<a id='References'></a>\n",
    "\n",
    "1. Cutz, L.; Sanchez-Delgado, S.; Ruiz-Rivas, U.; Santana, D. Bioenergy Production in Central America: Integration of Sweet Sorghum into Sugar Mills. Renewable and Sustainable Energy Reviews 2013, 25, 529–542. https://doi.org/10.1016/j.rser.2013.05.007.\n",
    "\n",
    "2. Woods, J. The Potential for Energy Production Using Sweet Sorghum in Southern Africa. Energy for Sustainable Development 2001, 5 (1), 31–38. https://doi.org/10.1016/S0973-0826(09)60018-1.\n"
   ]
  }
 ],
 "metadata": {
  "celltoolbar": "Tags",
  "kernelspec": {
   "display_name": "Python 3",
   "language": "python",
   "name": "python3"
  },
  "language_info": {
   "codemirror_mode": {
    "name": "ipython",
    "version": 3
   },
   "file_extension": ".py",
   "mimetype": "text/x-python",
   "name": "python",
   "nbconvert_exporter": "python",
   "pygments_lexer": "ipython3",
   "version": "3.8.8"
  }
 },
 "nbformat": 4,
 "nbformat_minor": 2
}
