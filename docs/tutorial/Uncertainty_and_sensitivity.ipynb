{
 "cells": [
  {
   "cell_type": "markdown",
   "metadata": {},
   "source": [
    "# Uncertainty and sensitivity"
   ]
  },
  {
   "cell_type": "markdown",
   "metadata": {},
   "source": [
    "## Monte Carlo uncertainty analysis"
   ]
  },
  {
   "cell_type": "markdown",
   "metadata": {},
   "source": [
    "### Model objects"
   ]
  },
  {
   "cell_type": "markdown",
   "metadata": {},
   "source": [
    "BioSTEAM streamlines uncertainty analysis with an object-oriented framework where a [Model](../evaluation/Model.txt) object samples from parameter distributions and reevaluates biorefinery metrics at each new condition. In essence, a Model object sets parameter values, simulates the biorefinery system, and evaluates metrics across an array of samples."
   ]
  },
  {
   "cell_type": "raw",
   "metadata": {
    "raw_mimetype": "text/restructuredtext"
   },
   "source": [
    ".. figure:: model_UML_light.png\n",
    "   :figwidth: 60%\n",
    "   :class: only-light\n",
    "   :align: center\n",
    "\n",
    ".. figure:: model_UML_dark.png\n",
    "   :figwidth: 60%\n",
    "   :class: only-dark\n",
    "   :align: center\n"
   ]
  },
  {
   "cell_type": "markdown",
   "metadata": {},
   "source": [
    "Model objects are able to cut down simulation time by sorting the samples to minimize perturbations to the system between simulations. This decreases the number of iterations required to solve recycle systems. The following examples show how Model objects can be used.\n"
   ]
  },
  {
   "cell_type": "markdown",
   "metadata": {},
   "source": [
    "### Create parameter distributions"
   ]
  },
  {
   "cell_type": "markdown",
   "metadata": {},
   "source": [
    "**Let's first learn how to create common parameter distributions using** [chaospy](https://chaospy.readthedocs.io/en/master/user_guide/quick_tutorial.html)."
   ]
  },
  {
   "cell_type": "markdown",
   "metadata": {},
   "source": [
    "A triangular distribution is typically used when the parameter is uncertain within given limits, but is heuristically known to take a particular value. Create a triangular distribution:"
   ]
  },
  {
   "cell_type": "code",
   "execution_count": 1,
   "metadata": {
    "tags": [
     "nbval-ignore-output"
    ]
   },
   "outputs": [
    {
     "name": "stdout",
     "output_type": "stream",
     "text": [
      "Triangle(0, 0.5, 1)\n"
     ]
    }
   ],
   "source": [
    "from chaospy import distributions as shape\n",
    "lower_bound = 0\n",
    "most_probable = 0.5\n",
    "upper_bound = 1\n",
    "triang = shape.Triangle(lower_bound, most_probable, upper_bound)\n",
    "print(triang)"
   ]
  },
  {
   "cell_type": "markdown",
   "metadata": {},
   "source": [
    "A uniform distribution is used when the theoretical limits of the parameter is known, but no information is available to discern which values are more probable. Create a uniform distribution:"
   ]
  },
  {
   "cell_type": "code",
   "execution_count": 2,
   "metadata": {
    "tags": [
     "nbval-ignore-output"
    ]
   },
   "outputs": [
    {
     "name": "stdout",
     "output_type": "stream",
     "text": [
      "Uniform()\n"
     ]
    }
   ],
   "source": [
    "from chaospy import distributions as shape\n",
    "lower_bound = 0\n",
    "upper_bound = 1\n",
    "unif = shape.Uniform(lower_bound, upper_bound)\n",
    "print(unif)"
   ]
  },
  {
   "cell_type": "markdown",
   "metadata": {},
   "source": [
    "A large set of distributions are available through chaospy, but generally triangular and uniform distributions are the most widely used to describe the uncertainty of parameters in Monte Carlo analyses."
   ]
  },
  {
   "cell_type": "markdown",
   "metadata": {},
   "source": [
    "### Parameter objects"
   ]
  },
  {
   "cell_type": "markdown",
   "metadata": {},
   "source": [
    "**Parameter objects are simply structures BioSTEAM uses to manage parameter values and distributions.**"
   ]
  },
  {
   "cell_type": "markdown",
   "metadata": {},
   "source": [
    "This section is just to get you familiar with Parameter objects. All the fields that a Parameter object can have are described below. Don't worry if you don't fully understand what each field does. The main idea is that we need to define the `setter` function that the Parameter object uses to set the parameter value to the `element` (e.g. unit operation, stream, etc.) it pertains to. We can also pass a `distribution` (i.e. a chaospy distribution) that will be accessible for Model objects to sample from. As for the `name`, `units` of measure, and the `baseline` value, these are all for bookkeeping purposes. BioSTEAM incorporates the `name` and `units` of measure when creating a DataFrame of Monte Carlo results and parameter distributions. Parameter objects are created by Model objects which implicitly pass both the `system` affected by the parameter, and the `simulate` function. So don't worry about these last two fields, they are automatically added by the Model object when creating the parameter."
   ]
  },
  {
   "cell_type": "markdown",
   "metadata": {},
   "source": [
    "**simulate:** [function] Should simulate parameter effects.\n",
    "\n",
    "**system:** [System] System associated to parameter.\n",
    "\n",
    "**name:** [str] Name of parameter.\n",
    "\n",
    "**units:** [str] Units of measure.\n",
    "\n",
    "**baseline:** [float] Baseline value of parameter.\n",
    "\n",
    "**element:** [object] Element associated to parameter.\n",
    "\n",
    "**setter:** [function] Should set the parameter.\n",
    "\n",
    "**distribution:** [chaospy.Dist] Parameter distribution."
   ]
  },
  {
   "cell_type": "markdown",
   "metadata": {},
   "source": [
    "Hopefully things will be become clearer as we start to create the parameter objects in the following sections...\n",
    "    "
   ]
  },
  {
   "cell_type": "markdown",
   "metadata": {},
   "source": [
    "### Create a model object"
   ]
  },
  {
   "cell_type": "markdown",
   "metadata": {},
   "source": [
    "**Model objects are used to evaluate metrics around multiple parameters of a system.**"
   ]
  },
  {
   "cell_type": "markdown",
   "metadata": {},
   "source": [
    "Create a Model object of the lipidcane biorefinery with internal rate of return and utility cost as metrics:"
   ]
  },
  {
   "cell_type": "code",
   "execution_count": 3,
   "metadata": {
    "tags": [
     "nbval-ignore-output"
    ]
   },
   "outputs": [],
   "source": [
    "from biorefineries import lipidcane as lc\n",
    "import biosteam as bst\n",
    "solve_IRR = lc.lipidcane_tea.solve_IRR\n",
    "total_utility_cost = lambda: lc.lipidcane_tea.utility_cost / 10**6 # In 10^6 USD/yr\n",
    "metrics = (bst.Metric('Internal rate of return', lc.lipidcane_tea.solve_IRR, '%'),\n",
    "           bst.Metric('Utility cost', total_utility_cost, '10^6 USD/yr'))\n",
    "model = bst.Model(lc.lipidcane_sys, metrics)\n"
   ]
  },
  {
   "cell_type": "markdown",
   "metadata": {},
   "source": [
    "The Model object begins with no parameters: "
   ]
  },
  {
   "cell_type": "code",
   "execution_count": 4,
   "metadata": {},
   "outputs": [
    {
     "name": "stdout",
     "output_type": "stream",
     "text": [
      "Model: Biorefinery internal rate of return [%]\n",
      "       Biorefinery utility cost [10^6 USD/yr]\n",
      " (No parameters)\n"
     ]
    }
   ],
   "source": [
    "model"
   ]
  },
  {
   "cell_type": "markdown",
   "metadata": {},
   "source": [
    "### Add design parameters"
   ]
  },
  {
   "cell_type": "markdown",
   "metadata": {},
   "source": [
    "**A design parameter is a Unit attribute that changes design requirements but does not affect mass and energy balances.**"
   ]
  },
  {
   "cell_type": "markdown",
   "metadata": {},
   "source": [
    "Add number of fermentation reactors as a \"design\" parameter:"
   ]
  },
  {
   "cell_type": "code",
   "execution_count": 5,
   "metadata": {},
   "outputs": [],
   "source": [
    "R301 = bst.main_flowsheet.unit.R301 # The Fermentation Unit\n",
    "@model.parameter(name='Number of reactors',\n",
    "                 element=R301, kind='design',\n",
    "                 distribution=shape.Uniform(4, 10))\n",
    "def set_N_reactors(N):\n",
    "    R301.N = round(N)"
   ]
  },
  {
   "cell_type": "markdown",
   "metadata": {},
   "source": [
    "The decorator uses the function to create a Parameter object and add it to the model:"
   ]
  },
  {
   "cell_type": "code",
   "execution_count": 6,
   "metadata": {},
   "outputs": [
    {
     "data": {
      "text/plain": [
       "(<Parameter: [Fermentation-R301] Number of reactors>,)"
      ]
     },
     "execution_count": 6,
     "metadata": {},
     "output_type": "execute_result"
    }
   ],
   "source": [
    "parameters = model.get_parameters()\n",
    "parameters"
   ]
  },
  {
   "cell_type": "markdown",
   "metadata": {},
   "source": [
    "Calling a Parameter object will update the parameter and results:"
   ]
  },
  {
   "cell_type": "code",
   "execution_count": 7,
   "metadata": {
    "tags": [
     "nbval-ignore-output"
    ]
   },
   "outputs": [
    {
     "name": "stdout",
     "output_type": "stream",
     "text": [
      "Puchase cost at 5 reactors: $1,631,420\n",
      "Puchase cost at 8 reactors: $1,939,347\n"
     ]
    }
   ],
   "source": [
    "set_N_reactors_parameter = parameters[0]\n",
    "set_N_reactors_parameter(5)\n",
    "print(f'Puchase cost at 5 reactors: ${R301.purchase_cost:,.0f}')\n",
    "set_N_reactors_parameter(8)\n",
    "print(f'Puchase cost at 8 reactors: ${R301.purchase_cost:,.0f}')"
   ]
  },
  {
   "cell_type": "markdown",
   "metadata": {},
   "source": [
    "The distribution will come into play later, when creating samples for Monte Carlo simulations."
   ]
  },
  {
   "cell_type": "markdown",
   "metadata": {},
   "source": [
    "### Add cost parameters"
   ]
  },
  {
   "cell_type": "markdown",
   "metadata": {},
   "source": [
    "**A cost parameter is a Unit attribute that affects cost but does not change design requirements.**"
   ]
  },
  {
   "cell_type": "markdown",
   "metadata": {},
   "source": [
    "Add the fermentation unit base cost as a \"cost\" parameter with a triangular distribution:"
   ]
  },
  {
   "cell_type": "code",
   "execution_count": 8,
   "metadata": {},
   "outputs": [],
   "source": [
    "reactors_cost_coefficients = R301.cost_items['Reactors']\n",
    "mid = reactors_cost_coefficients.n # Most probable at baseline value\n",
    "lb = mid - 0.1 # Minimum\n",
    "ub = mid + 0.1 # Maximum\n",
    "@model.parameter(element=R301, kind='cost',\n",
    "                 distribution=shape.Triangle(lb, mid, ub))\n",
    "def set_exponential_cost_coefficient(exponential_cost_coefficient):\n",
    "    reactors_cost_coefficients.n = exponential_cost_coefficient"
   ]
  },
  {
   "cell_type": "markdown",
   "metadata": {},
   "source": [
    "Note that if the name was not defined, it defaults to the setter's signature:"
   ]
  },
  {
   "cell_type": "code",
   "execution_count": 9,
   "metadata": {},
   "outputs": [
    {
     "data": {
      "text/plain": [
       "(<Parameter: [Fermentation-R301] Number of reactors>,\n",
       " <Parameter: [Fermentation-R301] Exponential cost coefficient>)"
      ]
     },
     "execution_count": 9,
     "metadata": {},
     "output_type": "execute_result"
    }
   ],
   "source": [
    "model.get_parameters()"
   ]
  },
  {
   "cell_type": "markdown",
   "metadata": {},
   "source": [
    "### Add isolated parameters"
   ]
  },
  {
   "cell_type": "markdown",
   "metadata": {},
   "source": [
    "**An isolated parameter should not affect Unit objects in any way.**"
   ]
  },
  {
   "cell_type": "markdown",
   "metadata": {},
   "source": [
    "Add feedstock price as a \"isolated\" parameter:"
   ]
  },
  {
   "cell_type": "code",
   "execution_count": 10,
   "metadata": {
    "scrolled": true
   },
   "outputs": [],
   "source": [
    "lipidcane = lc.lipidcane # The feedstock stream\n",
    "lb = lipidcane.price * 0.9 # Minimum price\n",
    "ub = lipidcane.price * 1.1 # Maximum price\n",
    "@model.parameter(element=lipidcane, kind='isolated', units='USD/kg',\n",
    "                 distribution=shape.Uniform(lb, ub))\n",
    "def set_feed_price(feedstock_price):\n",
    "    lipidcane.price = feedstock_price"
   ]
  },
  {
   "cell_type": "markdown",
   "metadata": {},
   "source": [
    "### Add coupled parameters"
   ]
  },
  {
   "cell_type": "markdown",
   "metadata": {},
   "source": [
    "**A coupled parameter affects mass and energy balances of the system.**"
   ]
  },
  {
   "cell_type": "markdown",
   "metadata": {},
   "source": [
    "Add lipid fraction as a \"coupled\" parameter:"
   ]
  },
  {
   "cell_type": "code",
   "execution_count": 11,
   "metadata": {},
   "outputs": [],
   "source": [
    "from biorefineries.lipidcane.utils import set_lipid_fraction\n",
    "# Note that if the setter function is already made,\n",
    "# you can pass it as the first argument\n",
    "set_lipid_fraction = model.parameter(set_lipid_fraction,\n",
    "                                     element=lipidcane, kind='coupled',\n",
    "                                     distribution=shape.Uniform(0.05, 0.10))"
   ]
  },
  {
   "cell_type": "markdown",
   "metadata": {},
   "source": [
    "Add fermentation efficiency as a \"coupled\" parameter:"
   ]
  },
  {
   "cell_type": "code",
   "execution_count": 12,
   "metadata": {},
   "outputs": [],
   "source": [
    "@model.parameter(element=R301, kind='coupled',\n",
    "                 distribution=shape.Triangle(0.85, 0.90, 0.95))\n",
    "def set_fermentation_efficiency(efficiency):\n",
    "    R301.efficiency = efficiency"
   ]
  },
  {
   "cell_type": "markdown",
   "metadata": {},
   "source": [
    "### Evaluate metric given a sample"
   ]
  },
  {
   "cell_type": "markdown",
   "metadata": {},
   "source": [
    "**The model can be called to evaluate a sample of parameters.**"
   ]
  },
  {
   "cell_type": "markdown",
   "metadata": {},
   "source": [
    "Note that all parameters are stored in the model with highly coupled parameters first:"
   ]
  },
  {
   "cell_type": "code",
   "execution_count": 13,
   "metadata": {},
   "outputs": [
    {
     "name": "stdout",
     "output_type": "stream",
     "text": [
      "Model: Biorefinery internal rate of return [%]\n",
      "       Biorefinery utility cost [10^6 USD/yr]\n",
      " Element:           Parameter:\n",
      " Stream-lipidcane   Lipid fraction\n",
      " Fermentation-R301  Efficiency\n",
      "                    Number of reactors\n",
      "                    Exponential cost coefficient\n",
      " Stream-lipidcane   Feedstock price\n"
     ]
    }
   ],
   "source": [
    "model"
   ]
  },
  {
   "cell_type": "markdown",
   "metadata": {},
   "source": [
    "Get dictionary that contain DataFrame objects of parameter distributions:"
   ]
  },
  {
   "cell_type": "code",
   "execution_count": 14,
   "metadata": {},
   "outputs": [
    {
     "name": "stdout",
     "output_type": "stream",
     "text": [
      "             Element                Name   Units    Shape  lower  upper\n",
      "0   Stream-lipidcane      Lipid fraction          Uniform   0.05    0.1\n",
      "1  Fermentation-R301  Number of reactors          Uniform      4     10\n",
      "2   Stream-lipidcane     Feedstock price  USD/kg  Uniform 0.0311  0.038\n"
     ]
    }
   ],
   "source": [
    "df_dct = model.get_distribution_summary()\n",
    "print(df_dct['Uniform'])"
   ]
  },
  {
   "cell_type": "code",
   "execution_count": 15,
   "metadata": {},
   "outputs": [
    {
     "name": "stdout",
     "output_type": "stream",
     "text": [
      "             Element                          Name Units     Shape  lower  \\\n",
      "0  Fermentation-R301                    Efficiency        Triangle   0.85   \n",
      "1  Fermentation-R301  Exponential cost coefficient        Triangle    0.4   \n",
      "\n",
      "   midpoint  upper  \n",
      "0       0.9   0.95  \n",
      "1       0.5    0.6  \n"
     ]
    }
   ],
   "source": [
    "print(df_dct['Triangle'])"
   ]
  },
  {
   "cell_type": "markdown",
   "metadata": {},
   "source": [
    "Evaluate sample:"
   ]
  },
  {
   "cell_type": "code",
   "execution_count": 16,
   "metadata": {
    "tags": [
     "nbval-ignore-output"
    ]
   },
   "outputs": [
    {
     "data": {
      "text/plain": [
       "Biorefinery  Internal rate of return [%]    0.13\n",
       "             Utility cost [10^6 USD/yr]    -18.7\n",
       "dtype: float64"
      ]
     },
     "execution_count": 16,
     "metadata": {},
     "output_type": "execute_result"
    }
   ],
   "source": [
    "model([0.05, 0.85, 8, 100000, 0.040]) # Returns metrics (IRR and utility cost)"
   ]
  },
  {
   "cell_type": "markdown",
   "metadata": {},
   "source": [
    "### Monte Carlo"
   ]
  },
  {
   "cell_type": "markdown",
   "metadata": {},
   "source": [
    "Sample from a joint distribution, and simulate samples:"
   ]
  },
  {
   "cell_type": "code",
   "execution_count": 17,
   "metadata": {
    "tags": [
     "nbval-ignore-output"
    ]
   },
   "outputs": [
    {
     "name": "stdout",
     "output_type": "stream",
     "text": [
      "Element Stream-lipidcane Fermentation-R301                     \\\n",
      "Feature   Lipid fraction        Efficiency Number of reactors   \n",
      "0                 0.0912             0.878               4.69   \n",
      "1                 0.0716             0.932                  6   \n",
      "2                 0.0574             0.918                7.7   \n",
      "3                 0.0778              0.87               9.71   \n",
      "4                 0.0678             0.878               9.88   \n",
      "..                   ...               ...                ...   \n",
      "45                0.0835             0.891               8.48   \n",
      "46                 0.085             0.892               9.49   \n",
      "47                0.0526             0.896                9.9   \n",
      "48                0.0763              0.94               8.75   \n",
      "49                0.0945             0.916               4.39   \n",
      "\n",
      "Element                                      Stream-lipidcane  \\\n",
      "Feature Exponential cost coefficient Feedstock price [USD/kg]   \n",
      "0                              0.508                   0.0362   \n",
      "1                              0.468                   0.0354   \n",
      "2                              0.513                   0.0359   \n",
      "3                              0.561                   0.0348   \n",
      "4                              0.495                   0.0334   \n",
      "..                               ...                      ...   \n",
      "45                             0.423                   0.0335   \n",
      "46                             0.549                   0.0321   \n",
      "47                             0.511                   0.0367   \n",
      "48                              0.52                   0.0376   \n",
      "49                             0.506                   0.0314   \n",
      "\n",
      "Element                 Biorefinery                             \n",
      "Feature Internal rate of return [%] Utility cost [10^6 USD/yr]  \n",
      "0                             0.194                      -23.1  \n",
      "1                             0.189                      -20.6  \n",
      "2                             0.173                      -19.1  \n",
      "3                             0.188                      -21.7  \n",
      "4                             0.186                      -20.5  \n",
      "..                              ...                        ...  \n",
      "45                              0.2                      -22.2  \n",
      "46                             0.21                      -22.4  \n",
      "47                            0.158                      -18.7  \n",
      "48                            0.183                      -21.1  \n",
      "49                            0.225                      -23.3  \n",
      "\n",
      "[50 rows x 7 columns]\n"
     ]
    }
   ],
   "source": [
    "import numpy as np\n",
    "np.random.seed(1234) # For consistent results\n",
    "N_samples = 50\n",
    "rule = 'L' # For Latin-Hypercube sampling\n",
    "samples = model.sample(N_samples, rule)\n",
    "model.load_samples(samples)\n",
    "model.evaluate()\n",
    "print(model.table) # All evaluations are stored as a pandas DataFrame"
   ]
  },
  {
   "cell_type": "markdown",
   "metadata": {},
   "source": [
    "Note that coupled parameters are on the left most columns, and are ordered from upstream to downstream (e.g. <Stream: Lipid cane> is upstream from <Fermentation: R301>)"
   ]
  },
  {
   "cell_type": "markdown",
   "metadata": {},
   "source": [
    "## Sensitivity with Spearman's rank order correlation"
   ]
  },
  {
   "cell_type": "markdown",
   "metadata": {},
   "source": [
    "Model objects also presents methods for sensitivity analysis such as Spearman's correlation, a measure of monotonicity between variables:"
   ]
  },
  {
   "cell_type": "code",
   "execution_count": 18,
   "metadata": {
    "tags": [
     "nbval-ignore-output"
    ]
   },
   "outputs": [
    {
     "name": "stdout",
     "output_type": "stream",
     "text": [
      "Element            Parameter                   \n",
      "Stream-lipidcane   Lipid fraction                   0.824\n",
      "Fermentation-R301  Efficiency                     0.00619\n",
      "                   Number of reactors              -0.164\n",
      "                   Exponential cost coefficient   -0.0778\n",
      "Stream-lipidcane   Feedstock price [USD/kg]        -0.626\n",
      "Name: (Biorefinery, Internal rate of return [%]), dtype: float64\n"
     ]
    }
   ],
   "source": [
    "df_rho, df_p = model.spearman_r()\n",
    "print(df_rho['Biorefinery', 'Internal rate of return [%]'])"
   ]
  },
  {
   "cell_type": "markdown",
   "metadata": {},
   "source": [
    "Create a tornado plot of Spearman's correlation between all parameters and IRR:"
   ]
  },
  {
   "cell_type": "code",
   "execution_count": 19,
   "metadata": {
    "tags": [
     "nbval-ignore-output"
    ]
   },
   "outputs": [
    {
     "data": {
      "text/plain": [
       "(<Figure size 432x288 with 3 Axes>,\n",
       " <AxesSubplot:xlabel=\"Spearman's correlation with IRR [%]\">)"
      ]
     },
     "execution_count": 19,
     "metadata": {},
     "output_type": "execute_result"
    },
    {
     "data": {
      "image/png": "[encoded data removed]",
      "text/plain": [
       "<Figure size 432x288 with 3 Axes>"
      ]
     },
     "metadata": {},
     "output_type": "display_data"
    }
   ],
   "source": [
    "bst.plots.plot_spearman_1d(df_rho['Biorefinery', 'Internal rate of return [%]'], \n",
    "                           index=[i.describe() for i in model.parameters],\n",
    "                           name='IRR [%]')"
   ]
  },
  {
   "cell_type": "markdown",
   "metadata": {},
   "source": [
    "## Single point sensitivity"
   ]
  },
  {
   "cell_type": "markdown",
   "metadata": {},
   "source": [
    "A quick way to evaluate sentivity is through single point sensitivity analysis, whereby a metric is evaluated at the baseline and at the lower and upper limits of each parameter. This method ignores the interactions between parameters and their distributions, but can help screen whether a system is sensitive to a given parameter. Model objects also facilitate this analysis:"
   ]
  },
  {
   "cell_type": "code",
   "execution_count": 20,
   "metadata": {
    "tags": [
     "nbval-ignore-output"
    ]
   },
   "outputs": [
    {
     "name": "stdout",
     "output_type": "stream",
     "text": [
      "BASELINE\n",
      "--------\n",
      "Element      Feature                    \n",
      "Biorefinery  Internal rate of return [%]   0.191\n",
      "             Utility cost [10^6 USD/yr]    -21.2\n",
      "dtype: float64\n",
      "\n",
      "LOWER\n",
      "-----\n",
      "Element                                                        Biorefinery  \\\n",
      "Feature                                        Internal rate of return [%]   \n",
      "Element           Feature                                                    \n",
      "Stream-lipidcane  Lipid fraction                                      0.17   \n",
      "Fermentation-R301 Efficiency                                         0.182   \n",
      "                  Number of reactors                                 0.192   \n",
      "                  Exponential cost coefficient                       0.189   \n",
      "Stream-lipidcane  Feedstock price [USD/kg]                           0.208   \n",
      "\n",
      "Element                                                                    \n",
      "Feature                                        Utility cost [10^6 USD/yr]  \n",
      "Element           Feature                                                  \n",
      "Stream-lipidcane  Lipid fraction                                    -18.3  \n",
      "Fermentation-R301 Efficiency                                        -21.5  \n",
      "                  Number of reactors                                -21.2  \n",
      "                  Exponential cost coefficient                      -21.2  \n",
      "Stream-lipidcane  Feedstock price [USD/kg]                          -21.2  \n",
      "\n",
      "UPPER\n",
      "-----\n",
      "Element                                                        Biorefinery  \\\n",
      "Feature                                        Internal rate of return [%]   \n",
      "Element           Feature                                                    \n",
      "Stream-lipidcane  Lipid fraction                                      0.21   \n",
      "Fermentation-R301 Efficiency                                         0.199   \n",
      "                  Number of reactors                                  0.19   \n",
      "                  Exponential cost coefficient                       0.192   \n",
      "Stream-lipidcane  Feedstock price [USD/kg]                           0.173   \n",
      "\n",
      "Element                                                                    \n",
      "Feature                                        Utility cost [10^6 USD/yr]  \n",
      "Element           Feature                                                  \n",
      "Stream-lipidcane  Lipid fraction                                    -24.1  \n",
      "Fermentation-R301 Efficiency                                        -20.9  \n",
      "                  Number of reactors                                -21.2  \n",
      "                  Exponential cost coefficient                      -21.2  \n",
      "Stream-lipidcane  Feedstock price [USD/kg]                          -21.2  \n"
     ]
    }
   ],
   "source": [
    "baseline, lower, upper = model.single_point_sensitivity()\n",
    "print('BASELINE')\n",
    "print('--------')\n",
    "print(baseline)\n",
    "print()\n",
    "print('LOWER')\n",
    "print('-----')\n",
    "print(lower)\n",
    "print()\n",
    "print('UPPER')\n",
    "print('-----')\n",
    "print(upper)"
   ]
  },
  {
   "cell_type": "markdown",
   "metadata": {},
   "source": [
    "Create a tornado plot of the lower and upper values of the IRR:"
   ]
  },
  {
   "cell_type": "code",
   "execution_count": 21,
   "metadata": {
    "tags": [
     "nbval-ignore-output"
    ]
   },
   "outputs": [
    {
     "data": {
      "text/plain": [
       "(<Figure size 432x288 with 3 Axes>, <AxesSubplot:xlabel='IRR [%]'>)"
      ]
     },
     "execution_count": 21,
     "metadata": {},
     "output_type": "execute_result"
    },
    {
     "data": {
      "image/png": "[encoded data removed]",
      "text/plain": [
       "<Figure size 432x288 with 3 Axes>"
      ]
     },
     "metadata": {},
     "output_type": "display_data"
    }
   ],
   "source": [
    "IRR, utility_cost = model.metrics\n",
    "metric_index = IRR.index\n",
    "index = [i.describe(distribution=False) # Instead of displaying distribution, it displays lower, baseline, and upper values\n",
    "         for i in model.parameters] \n",
    "bst.plots.plot_single_point_sensitivity(100 * baseline[metric_index],\n",
    "                                        100 * lower[metric_index], \n",
    "                                        100 * upper[metric_index],\n",
    "                                        name='IRR [%]',\n",
    "                                        index=index)"
   ]
  },
  {
   "cell_type": "markdown",
   "metadata": {},
   "source": [
    "Note that red represents the upper limit while blue the lower limit."
   ]
  }
 ],
 "metadata": {
  "celltoolbar": "Raw Cell Format",
  "kernelspec": {
   "display_name": "Python 3 (ipykernel)",
   "language": "python",
   "name": "python3"
  },
  "language_info": {
   "codemirror_mode": {
    "name": "ipython",
    "version": 3
   },
   "file_extension": ".py",
   "mimetype": "text/x-python",
   "name": "python",
   "nbconvert_exporter": "python",
   "pygments_lexer": "ipython3",
   "version": "3.8.8"
  }
 },
 "nbformat": 4,
 "nbformat_minor": 2
}
