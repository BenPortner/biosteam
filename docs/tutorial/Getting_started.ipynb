{
 "cells": [
  {
   "cell_type": "markdown",
   "metadata": {},
   "source": [
    "# Getting started"
   ]
  },
  {
   "cell_type": "markdown",
   "metadata": {},
   "source": [
    "### Initialize streams"
   ]
  },
  {
   "cell_type": "markdown",
   "metadata": {},
   "source": [
    "[Stream](https://thermosteam.readthedocs.io/en/latest/Stream.html) objects define material flow rates along with its thermodynamic state. Before creating streams, a [Thermo](https://thermosteam.readthedocs.io/en/latest/Thermo.html) property package must be defined. Alternatively, we can just pass chemical names and BioSTEAM will automatically create a property package based on ideal mixing rules and UNIFAC activity coefficients for thermodynamic equilibrium. More complex packages can be defined through Thermosteam, BioSTEAM's premier thermodynamic engine. Please visit [Thermosteam's documentation](https://thermosteam.readthedocs.io/en/latest/index.html) for a complete tutorial on [Stream](https://thermosteam.readthedocs.io/en/latest/Stream.html) objects and how to create a property package. In this example, a simple feed stream with a few common chemicals will be initialized:"
   ]
  },
  {
   "cell_type": "code",
   "execution_count": 1,
   "metadata": {},
   "outputs": [
    {
     "name": "stdout",
     "output_type": "stream",
     "text": [
      "Stream: s1\n",
      " phase: 'l', T: 298.15 K, P: 101325 Pa\n",
      " flow (kmol/hr): Water     50\n",
      "                 Methanol  20\n"
     ]
    }
   ],
   "source": [
    "import biosteam as bst\n",
    "bst.settings.set_thermo(['Water', 'Methanol'])\n",
    "feed = bst.Stream(Water=50, Methanol=20)\n",
    "feed.show()"
   ]
  },
  {
   "cell_type": "markdown",
   "metadata": {},
   "source": [
    "Set prices for performing techno-economic analysis later:"
   ]
  },
  {
   "cell_type": "code",
   "execution_count": 2,
   "metadata": {},
   "outputs": [
    {
     "data": {
      "text/plain": [
       "231.24018"
      ]
     },
     "execution_count": 2,
     "metadata": {},
     "output_type": "execute_result"
    }
   ],
   "source": [
    "feed.price = 0.15 # USD/kg\n",
    "feed.cost # USD/hr"
   ]
  },
  {
   "cell_type": "markdown",
   "metadata": {},
   "source": [
    "### Process settings"
   ]
  },
  {
   "cell_type": "markdown",
   "metadata": {},
   "source": [
    "Process settings include price of feeds and products, conditions of utilities, and the chemical engineering plant cost index. These should be set before simulating a system."
   ]
  },
  {
   "cell_type": "markdown",
   "metadata": {},
   "source": [
    "Set the chemical engineering plant cost index:"
   ]
  },
  {
   "cell_type": "code",
   "execution_count": 3,
   "metadata": {},
   "outputs": [
    {
     "data": {
      "text/plain": [
       "567.5"
      ]
     },
     "execution_count": 3,
     "metadata": {},
     "output_type": "execute_result"
    }
   ],
   "source": [
    "bst.CE # Default year is 2017"
   ]
  },
  {
   "cell_type": "code",
   "execution_count": 4,
   "metadata": {},
   "outputs": [],
   "source": [
    "bst.CE = 603.1 # To year 2018"
   ]
  },
  {
   "cell_type": "markdown",
   "metadata": {},
   "source": [
    "Set [PowerUtility](../PowerUtility.txt) options:"
   ]
  },
  {
   "cell_type": "code",
   "execution_count": 5,
   "metadata": {},
   "outputs": [
    {
     "data": {
      "text/plain": [
       "0.0782"
      ]
     },
     "execution_count": 5,
     "metadata": {},
     "output_type": "execute_result"
    }
   ],
   "source": [
    "bst.PowerUtility.price # Default price (USD/kJ)"
   ]
  },
  {
   "cell_type": "code",
   "execution_count": 6,
   "metadata": {},
   "outputs": [],
   "source": [
    "bst.PowerUtility.price = 0.065 # Adjust price"
   ]
  },
  {
   "cell_type": "markdown",
   "metadata": {},
   "source": [
    "Set [HeatUtility](../HeatUtility.txt) options via [UtilityAgent](../UtilityAgent.txt) objects, which are [Stream](https://thermosteam.readthedocs.io/en/latest/Stream.html) objects with additional attributes to describe a utility agent:"
   ]
  },
  {
   "cell_type": "code",
   "execution_count": 7,
   "metadata": {},
   "outputs": [
    {
     "data": {
      "text/plain": [
       "[<UtilityAgent: cooling_water>,\n",
       " <UtilityAgent: chilled_water>,\n",
       " <UtilityAgent: chilled_brine>,\n",
       " <UtilityAgent: propane>]"
      ]
     },
     "execution_count": 7,
     "metadata": {},
     "output_type": "execute_result"
    }
   ],
   "source": [
    "bst.HeatUtility.cooling_agents # All available cooling agents"
   ]
  },
  {
   "cell_type": "code",
   "execution_count": 8,
   "metadata": {},
   "outputs": [
    {
     "name": "stdout",
     "output_type": "stream",
     "text": [
      "UtilityAgent: cooling_water\n",
      " heat_transfer_efficiency: 1.000\n",
      " heat_transfer_price: 0 USD/kJ\n",
      " regeneration_price: 0.000488 USD/kmol\n",
      " T_limit: 325 K\n",
      " phase: 'l'\n",
      " T: 305.37 K\n",
      " P: 101325 Pa\n",
      " flow (kmol/hr): Water  1\n"
     ]
    }
   ],
   "source": [
    "cooling_water = bst.HeatUtility.get_cooling_agent('cooling_water')\n",
    "cooling_water.show() # A UtilityAgent"
   ]
  },
  {
   "cell_type": "code",
   "execution_count": 9,
   "metadata": {},
   "outputs": [
    {
     "data": {
      "text/plain": [
       "0.00048785"
      ]
     },
     "execution_count": 9,
     "metadata": {},
     "output_type": "execute_result"
    }
   ],
   "source": [
    "# Price of regenerating the utility in USD/kmol\n",
    "cooling_water.regeneration_price"
   ]
  },
  {
   "cell_type": "code",
   "execution_count": 10,
   "metadata": {},
   "outputs": [
    {
     "data": {
      "text/plain": [
       "5e-06"
      ]
     },
     "execution_count": 10,
     "metadata": {},
     "output_type": "execute_result"
    }
   ],
   "source": [
    "# Other utilities may be priced for amount of heat transfered in USD/kJ\n",
    "chilled_water = bst.HeatUtility.get_cooling_agent('chilled_water')\n",
    "chilled_water.heat_transfer_price"
   ]
  },
  {
   "cell_type": "code",
   "execution_count": 11,
   "metadata": {},
   "outputs": [],
   "source": [
    "cooling_water.T = 302 # Change the temperature of cooling water (K)"
   ]
  },
  {
   "cell_type": "code",
   "execution_count": 12,
   "metadata": {},
   "outputs": [
    {
     "data": {
      "text/plain": [
       "[<UtilityAgent: low_pressure_steam>,\n",
       " <UtilityAgent: medium_pressure_steam>,\n",
       " <UtilityAgent: high_pressure_steam>]"
      ]
     },
     "execution_count": 12,
     "metadata": {},
     "output_type": "execute_result"
    }
   ],
   "source": [
    "bst.HeatUtility.heating_agents # All available heating agents"
   ]
  },
  {
   "cell_type": "code",
   "execution_count": 13,
   "metadata": {},
   "outputs": [
    {
     "name": "stdout",
     "output_type": "stream",
     "text": [
      "UtilityAgent: low_pressure_steam\n",
      " heat_transfer_efficiency: 0.950\n",
      " heat_transfer_price: 0 USD/kJ\n",
      " regeneration_price: 0.238 USD/kmol\n",
      " T_limit: None\n",
      " phase: 'g'\n",
      " T: 412.19 K\n",
      " P: 344738 Pa\n",
      " flow (kmol/hr): Water  1\n"
     ]
    }
   ],
   "source": [
    "lps = bst.HeatUtility.get_heating_agent('low_pressure_steam') # A UtilityAgent\n",
    "lps.show() # Note that because utility changes phase, T_limit is None"
   ]
  },
  {
   "cell_type": "code",
   "execution_count": 14,
   "metadata": {},
   "outputs": [],
   "source": [
    "lps.regeneration_price = 0.20 # Adjust price (USD/kmol)"
   ]
  },
  {
   "cell_type": "markdown",
   "metadata": {},
   "source": [
    "### Find design requirements and cost with Unit objects"
   ]
  },
  {
   "cell_type": "markdown",
   "metadata": {},
   "source": [
    "[Creating a Unit](./Creating_a_Unit.ipynb) can be flexible. But in summary, a [Unit](../Unit.txt) object is initialized with an ID, and unit-specific arguments. BioSTEAM includes [essential unit operations](../units/units.txt) with rigorous modeling and design algorithms. Here we create a [Flash](../units/Flash.txt) object as an example:"
   ]
  },
  {
   "cell_type": "code",
   "execution_count": 15,
   "metadata": {},
   "outputs": [
    {
     "name": "stdout",
     "output_type": "stream",
     "text": [
      "Flash: F1\n",
      "ins...\n",
      "[0] missing stream\n",
      "outs...\n",
      "[0] s2\n",
      "    phase: 'l', T: 298.15 K, P: 101325 Pa\n",
      "    flow: 0\n",
      "[1] s3\n",
      "    phase: 'l', T: 298.15 K, P: 101325 Pa\n",
      "    flow: 0\n"
     ]
    }
   ],
   "source": [
    "from biosteam import units\n",
    "\n",
    "# Specify vapor fraction and isobaric conditions\n",
    "F1 = units.Flash('F1', V=0.5, P=101325)\n",
    "F1.show()"
   ]
  },
  {
   "cell_type": "markdown",
   "metadata": {},
   "source": [
    "Note that, by default, Missing Stream objects are given to inputs, `ins`, and empty streams to outputs, `outs`:"
   ]
  },
  {
   "cell_type": "code",
   "execution_count": 16,
   "metadata": {},
   "outputs": [
    {
     "data": {
      "text/plain": [
       "[<MissingStream>]"
      ]
     },
     "execution_count": 16,
     "metadata": {},
     "output_type": "execute_result"
    }
   ],
   "source": [
    "F1.ins"
   ]
  },
  {
   "cell_type": "code",
   "execution_count": 17,
   "metadata": {},
   "outputs": [
    {
     "data": {
      "text/plain": [
       "[<Stream: s2>, <Stream: s3>]"
      ]
     },
     "execution_count": 17,
     "metadata": {},
     "output_type": "execute_result"
    }
   ],
   "source": [
    "F1.outs"
   ]
  },
  {
   "cell_type": "markdown",
   "metadata": {},
   "source": [
    "You can connect streams by setting the `ins` and `outs`:"
   ]
  },
  {
   "cell_type": "code",
   "execution_count": 18,
   "metadata": {},
   "outputs": [
    {
     "name": "stdout",
     "output_type": "stream",
     "text": [
      "Flash: F1\n",
      "ins...\n",
      "[0] s1\n",
      "    phase: 'l', T: 298.15 K, P: 101325 Pa\n",
      "    flow (kmol/hr): Water     50\n",
      "                    Methanol  20\n",
      "outs...\n",
      "[0] s2\n",
      "    phase: 'l', T: 298.15 K, P: 101325 Pa\n",
      "    flow: 0\n",
      "[1] s3\n",
      "    phase: 'l', T: 298.15 K, P: 101325 Pa\n",
      "    flow: 0\n"
     ]
    }
   ],
   "source": [
    "F1.ins[0] = feed\n",
    "F1.show()"
   ]
  },
  {
   "cell_type": "markdown",
   "metadata": {},
   "source": [
    "To simulate the flash, use the `simulate` method:"
   ]
  },
  {
   "cell_type": "code",
   "execution_count": 19,
   "metadata": {
    "scrolled": true,
    "tags": [
     "nbval-ignore-output"
    ]
   },
   "outputs": [
    {
     "name": "stdout",
     "output_type": "stream",
     "text": [
      "Flash: F1\n",
      "ins...\n",
      "[0] s1\n",
      "    phase: 'l', T: 298.15 K, P: 101325 Pa\n",
      "    flow (kmol/hr): Water     50\n",
      "                    Methanol  20\n",
      "outs...\n",
      "[0] s2\n",
      "    phase: 'g', T: 359.6 K, P: 101325 Pa\n",
      "    flow (kmol/hr): Water     19\n",
      "                    Methanol  16\n",
      "[1] s3\n",
      "    phase: 'l', T: 359.6 K, P: 101325 Pa\n",
      "    flow (kmol/hr): Water     31\n",
      "                    Methanol  4.01\n"
     ]
    }
   ],
   "source": [
    "F1.simulate()\n",
    "F1.show()"
   ]
  },
  {
   "cell_type": "markdown",
   "metadata": {},
   "source": [
    "You may get a \"CostWarning\" that notifies you whether purchase cost correlations are out of range for the given design. This is ok for the example, but its important to make sure that the process is well designed and cost correlations are suitable for the domain."
   ]
  },
  {
   "cell_type": "markdown",
   "metadata": {},
   "source": [
    "The `results` method returns simulation results:"
   ]
  },
  {
   "cell_type": "code",
   "execution_count": 20,
   "metadata": {
    "tags": [
     "nbval-skip"
    ]
   },
   "outputs": [
    {
     "name": "stdout",
     "output_type": "stream",
     "text": [
      "Flash                                               Units            F1\n",
      "Low pressure steam  Duty                            kJ/hr      1.76e+06\n",
      "                    Flow                          kmol/hr          45.4\n",
      "                    Cost                           USD/hr          9.07\n",
      "Design              Vessel type                                Vertical\n",
      "                    Length                             ft           7.5\n",
      "                    Diameter                           ft           1.5\n",
      "                    Weight                             lb           399\n",
      "                    Wall thickness                     in          0.25\n",
      "                    Vessel material                        Carbon steel\n",
      "Purchase cost       Heat exchanger - Double pipe      USD      5.12e+03\n",
      "                    Vertical pressure vessel          USD      8.58e+03\n",
      "                    Platform and ladders              USD       2.3e+03\n",
      "Total purchase cost                                   USD       1.6e+04\n",
      "Utility cost                                       USD/hr          9.07\n"
     ]
    }
   ],
   "source": [
    "print(F1.results()) # Default returns DataFrame object with units"
   ]
  },
  {
   "cell_type": "code",
   "execution_count": 21,
   "metadata": {
    "tags": [
     "nbval-skip"
    ]
   },
   "outputs": [
    {
     "data": {
      "text/plain": [
       "Low pressure steam   Duty                                1.76e+06\n",
       "                     Flow                                    45.4\n",
       "                     Cost                                    9.07\n",
       "Design               Vessel type                         Vertical\n",
       "                     Length                                   7.5\n",
       "                     Diameter                                 1.5\n",
       "                     Weight                                   399\n",
       "                     Wall thickness                          0.25\n",
       "                     Vessel material                 Carbon steel\n",
       "Purchase cost        Heat exchanger - Double pipe        5.12e+03\n",
       "                     Vertical pressure vessel            8.58e+03\n",
       "                     Platform and ladders                 2.3e+03\n",
       "Total purchase cost                                       1.6e+04\n",
       "Utility cost                                                 9.07\n",
       "Name: F1, dtype: object"
      ]
     },
     "execution_count": 21,
     "metadata": {},
     "output_type": "execute_result"
    }
   ],
   "source": [
    "F1.results(with_units=False) # Returns Series object without units"
   ]
  },
  {
   "cell_type": "markdown",
   "metadata": {},
   "source": [
    "Although BioSTEAM includes a large set of essential unit operations, many process specific unit operations are not yet available. In this case, you can create new [Unit subclasses](./Inheriting_from_Unit.ipynb) to model unit operations not yet available in BioSTEAM."
   ]
  },
  {
   "cell_type": "markdown",
   "metadata": {},
   "source": [
    "### Solve recycle loops and process specifications with System objects"
   ]
  },
  {
   "cell_type": "markdown",
   "metadata": {},
   "source": [
    "Designing a chemical process is no easy task. A simple recycle process consisting of a flash with a partial liquid recycle is presented here."
   ]
  },
  {
   "cell_type": "markdown",
   "metadata": {},
   "source": [
    "Create a [Mixer](../units/mixing.txt) object and a [Splitter](../units/splitting.txt) object:"
   ]
  },
  {
   "cell_type": "code",
   "execution_count": 22,
   "metadata": {
    "scrolled": true
   },
   "outputs": [],
   "source": [
    "M1 = units.Mixer('M1')\n",
    "S1 = units.Splitter('S1', outs=('liquid_recycle', 'liquid_product'),\n",
    "                    split=0.5) # Split to 0th output stream\n",
    "F1.outs[0].ID = 'vapor_product'\n",
    "F1.outs[1].ID = 'liquid'"
   ]
  },
  {
   "cell_type": "markdown",
   "metadata": {},
   "source": [
    "You can [find unit operations and manage flowsheets](./Managing_flowsheets.ipynb) with the `main_flowsheet`:"
   ]
  },
  {
   "cell_type": "code",
   "execution_count": 23,
   "metadata": {
    "tags": [
     "nbval-ignore-output"
    ]
   },
   "outputs": [
    {
     "data": {
      "image/png": "[encoded data removed]",
      "text/plain": [
       "<IPython.core.display.Image object>"
      ]
     },
     "metadata": {},
     "output_type": "display_data"
    }
   ],
   "source": [
    "bst.main_flowsheet.diagram()"
   ]
  },
  {
   "cell_type": "markdown",
   "metadata": {},
   "source": [
    "Connect streams and make a recycle loop using [-pipe- notation](./-pipe-_notation.ipynb):"
   ]
  },
  {
   "cell_type": "code",
   "execution_count": 24,
   "metadata": {},
   "outputs": [],
   "source": [
    "feed = bst.Stream('feed', Methanol=100, Water=450)\n",
    "\n",
    "# Broken down -pipe- notation\n",
    "[S1-0, feed]-M1     # M1.ins[:] = [S1.outs[0], feed]\n",
    "M1-F1               # F1.ins[:] = M1.outs\n",
    "F1-1-S1             # S1.ins[:] = [F1.outs[1]]\n",
    "\n",
    "# All together\n",
    "[S1-0, feed]-M1-F1-1-S1;"
   ]
  },
  {
   "cell_type": "markdown",
   "metadata": {},
   "source": [
    "Now lets check the diagram again:"
   ]
  },
  {
   "cell_type": "code",
   "execution_count": 25,
   "metadata": {
    "tags": [
     "nbval-ignore-output"
    ]
   },
   "outputs": [
    {
     "data": {
      "image/png": "[encoded data removed]",
      "text/plain": [
       "<IPython.core.display.Image object>"
      ]
     },
     "metadata": {},
     "output_type": "display_data"
    }
   ],
   "source": [
    "bst.main_flowsheet.diagram(format='png')"
   ]
  },
  {
   "cell_type": "markdown",
   "metadata": {},
   "source": [
    "[System](../System.txt) objects take care of solving recycle loops and simulating all unit operations.\n",
    "Although there are many ways of [creating a system](./Creating_a_System.ipynb), the most recommended way is to use the flowsheet:"
   ]
  },
  {
   "cell_type": "code",
   "execution_count": 26,
   "metadata": {},
   "outputs": [
    {
     "name": "stdout",
     "output_type": "stream",
     "text": [
      "System: flowsheet_sys\n",
      "ins...\n",
      "[0] feed\n",
      "    phase: 'l', T: 298.15 K, P: 101325 Pa\n",
      "    flow (kmol/hr): Water     450\n",
      "                    Methanol  100\n",
      "outs...\n",
      "[0] vapor_product\n",
      "    phase: 'g', T: 359.6 K, P: 101325 Pa\n",
      "    flow (kmol/hr): Water     19\n",
      "                    Methanol  16\n",
      "[1] liquid_product\n",
      "    phase: 'l', T: 298.15 K, P: 101325 Pa\n",
      "    flow: 0\n"
     ]
    }
   ],
   "source": [
    "flowsheet_sys = bst.main_flowsheet.create_system('flowsheet_sys')\n",
    "flowsheet_sys.show()"
   ]
  },
  {
   "cell_type": "markdown",
   "metadata": {},
   "source": [
    "Although not recommened due to the likelyhood of human error, a [System](../System.txt) object may also be created by specifying an ID, a `recycle` stream and a `path` of units to run element by element:"
   ]
  },
  {
   "cell_type": "code",
   "execution_count": 27,
   "metadata": {
    "scrolled": true
   },
   "outputs": [
    {
     "name": "stdout",
     "output_type": "stream",
     "text": [
      "System: sys\n",
      "ins...\n",
      "[0] feed\n",
      "    phase: 'l', T: 298.15 K, P: 101325 Pa\n",
      "    flow (kmol/hr): Water     450\n",
      "                    Methanol  100\n",
      "outs...\n",
      "[0] vapor_product\n",
      "    phase: 'g', T: 359.6 K, P: 101325 Pa\n",
      "    flow (kmol/hr): Water     19\n",
      "                    Methanol  16\n",
      "[1] liquid_product\n",
      "    phase: 'l', T: 298.15 K, P: 101325 Pa\n",
      "    flow: 0\n"
     ]
    }
   ],
   "source": [
    "sys = bst.System('sys', path=(M1, F1, S1), recycle=S1-0) # recycle=S1.outs[0]\n",
    "sys.show()"
   ]
  },
  {
   "cell_type": "markdown",
   "metadata": {},
   "source": [
    "Simulate the System object:"
   ]
  },
  {
   "cell_type": "code",
   "execution_count": 28,
   "metadata": {
    "scrolled": true,
    "tags": [
     "nbval-skip"
    ]
   },
   "outputs": [
    {
     "name": "stdout",
     "output_type": "stream",
     "text": [
      "System: sys\n",
      "Highest convergence error among components in recycle\n",
      "stream S1-0 after 4 loops:\n",
      "- flow rate   1.38e-01 kmol/hr (0.16%)\n",
      "- temperature 4.44e-03 K (0.0012%)\n",
      "ins...\n",
      "[0] feed\n",
      "    phase: 'l', T: 298.15 K, P: 101325 Pa\n",
      "    flow (kmol/hr): Water     450\n",
      "                    Methanol  100\n",
      "outs...\n",
      "[0] vapor_product\n",
      "    phase: 'g', T: 366.34 K, P: 101325 Pa\n",
      "    flow (kmol/hr): Water     275\n",
      "                    Methanol  92.1\n",
      "[1] liquid_product\n",
      "    phase: 'l', T: 366.34 K, P: 101325 Pa\n",
      "    flow (kmol/hr): Water     175\n",
      "                    Methanol  7.91\n"
     ]
    }
   ],
   "source": [
    "sys.simulate()\n",
    "sys.show()"
   ]
  },
  {
   "cell_type": "markdown",
   "metadata": {},
   "source": [
    "Note how the recycle stream converged and all unit operations (including the flash vessel) were simulated:"
   ]
  },
  {
   "cell_type": "code",
   "execution_count": 29,
   "metadata": {
    "tags": [
     "nbval-skip"
    ]
   },
   "outputs": [
    {
     "name": "stdout",
     "output_type": "stream",
     "text": [
      "Flash                                                 Units            F1\n",
      "Low pressure steam  Duty                              kJ/hr      1.82e+07\n",
      "                    Flow                            kmol/hr           470\n",
      "                    Cost                             USD/hr            94\n",
      "Design              Vessel type                                  Vertical\n",
      "                    Length                               ft          10.5\n",
      "                    Diameter                             ft           5.5\n",
      "                    Weight                               lb      2.97e+03\n",
      "                    Wall thickness                       in         0.312\n",
      "                    Vessel material                          Carbon steel\n",
      "Purchase cost       Heat exchanger - Double pipe        USD      5.12e+03\n",
      "                    Heat exchanger - Floating head      USD      2.87e+04\n",
      "                    Vertical pressure vessel            USD      2.36e+04\n",
      "                    Platform and ladders                USD      7.63e+03\n",
      "Total purchase cost                                     USD       6.5e+04\n",
      "Utility cost                                         USD/hr            94\n"
     ]
    }
   ],
   "source": [
    "print(F1.results())"
   ]
  },
  {
   "cell_type": "markdown",
   "metadata": {},
   "source": [
    "You can retrieve summarized power and heat utilities from the system as well:"
   ]
  },
  {
   "cell_type": "code",
   "execution_count": 30,
   "metadata": {},
   "outputs": [
    {
     "name": "stdout",
     "output_type": "stream",
     "text": [
      "PowerUtility:\n",
      " consumption: 0 kW\n",
      " production: 0 kW\n",
      " rate: 0 kW\n",
      " cost: 0 USD/hr\n"
     ]
    }
   ],
   "source": [
    "sys.power_utility.show()"
   ]
  },
  {
   "cell_type": "code",
   "execution_count": 31,
   "metadata": {
    "tags": [
     "nbval-skip"
    ]
   },
   "outputs": [
    {
     "name": "stdout",
     "output_type": "stream",
     "text": [
      "HeatUtility: low_pressure_steam\n",
      " duty: 1.82e+07 kJ/hr\n",
      " flow: 470 kmol/hr\n",
      " cost: 94 USD/hr\n"
     ]
    }
   ],
   "source": [
    "for i in sys.heat_utilities: i.show()"
   ]
  },
  {
   "cell_type": "markdown",
   "metadata": {},
   "source": [
    "Once your system has been simulated, you can save a system report to view all results in an excel spreadsheet:"
   ]
  },
  {
   "cell_type": "code",
   "execution_count": 32,
   "metadata": {},
   "outputs": [],
   "source": [
    "# Try this on your computer and open excel\n",
    "# sys.save_report('Example.xlsx') "
   ]
  },
  {
   "cell_type": "markdown",
   "metadata": {},
   "source": [
    "Note that the cash flow analysis did not appear in the report because it requires a [TEA](../TEA.txt) object with all the necessary parameters (e.g., depreciation schedule, plant lifetime, construction schedule) to perform the analysis. A [TEA](../TEA.txt) object may also solve for economic indicators such as internal rate of return, minimum product selling price (MPSP), and maximum feedstock purchase price (MFPP). [Techno-economic analysis](./Techno-economic_analysis.ipynb) is discussed in detail later in the tutorial due to the extensive nature of the cash flow analysis."
   ]
  }
 ],
 "metadata": {
  "celltoolbar": "Tags",
  "kernelspec": {
   "display_name": "Python 3 (ipykernel)",
   "language": "python",
   "name": "python3"
  },
  "language_info": {
   "codemirror_mode": {
    "name": "ipython",
    "version": 3
   },
   "file_extension": ".py",
   "mimetype": "text/x-python",
   "name": "python",
   "nbconvert_exporter": "python",
   "pygments_lexer": "ipython3",
   "version": "3.8.5"
  }
 },
 "nbformat": 4,
 "nbformat_minor": 2
}
