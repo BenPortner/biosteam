{
 "cells": [
  {
   "cell_type": "markdown",
   "metadata": {},
   "source": [
    "# Process specifications"
   ]
  },
  {
   "cell_type": "markdown",
   "metadata": {},
   "source": [
    "Dynamically adjusting parameters in a process to meet a specification is critical in designing a production process, and even more so when its under uncertaintly. BioSTEAM groups process specifications into two categories: analytical specifications, and numerical specifications. As the name suggests, an analytical specification is directly solved within a single loop of a system. A numerical specification, on the other hand, is solved numerically by rerunning a unit operation or even by reconverging a recycle system. The following real world examples will explain this in detail."
   ]
  },
  {
   "cell_type": "markdown",
   "metadata": {},
   "source": [
    "## Analytical specifications"
   ]
  },
  {
   "cell_type": "markdown",
   "metadata": {},
   "source": [
    "### Denature ethanol fuel in a bioethanol process"
   ]
  },
  {
   "cell_type": "markdown",
   "metadata": {},
   "source": [
    "Vary the amount of denaturant to add according to the flow of bioethanol. The final bioethanol product must be 2 wt. % denaturant:"
   ]
  },
  {
   "cell_type": "code",
   "execution_count": 1,
   "metadata": {},
   "outputs": [
    {
     "name": "stdout",
     "output_type": "stream",
     "text": [
      "Mixer: M1\n",
      "ins...\n",
      "[0] dehydrated_ethanol\n",
      "    phase: 'l', T: 340 K, P: 101325 Pa\n",
      "    composition: Water    0.001\n",
      "                 Ethanol  0.999\n",
      "                 -------  9.05e+07 kg/hr\n",
      "[1] denaturant\n",
      "    phase: 'l', T: 298.15 K, P: 101325 Pa\n",
      "    composition: Octane  1\n",
      "                 ------  1.85e+06 kg/hr\n",
      "outs...\n",
      "[0] denatured_ethanol\n",
      "    phase: 'l', T: 339.33 K, P: 101325 Pa\n",
      "    composition: Water    0.00098\n",
      "                 Ethanol  0.979\n",
      "                 Octane   0.02\n",
      "                 -------  9.23e+07 kg/hr\n"
     ]
    }
   ],
   "source": [
    "from biosteam import settings, Chemical, Stream, units, main_flowsheet\n",
    "\n",
    "# First name a new flowsheet\n",
    "main_flowsheet.set_flowsheet('mix_ethanol_with_denaturant')\n",
    "\n",
    "# Set the thermodynamic property package.\n",
    "# In an actual process, much more chemicals\n",
    "# would be defined, but here we keep it short.\n",
    "settings.set_thermo(['Water', 'Ethanol', 'Octane'])\n",
    "\n",
    "# Assume 40 million gal ethanol produced a year\n",
    "# with 330 operating days\n",
    "dehydrated_ethanol = Stream('dehydrated_ethanol', T=340,\n",
    "                            Water=0.1, Ethanol=99.9, units='kg/hr')\n",
    "operating_days_per_year = 330\n",
    "dehydrated_ethanol.F_vol = 40e6 / operating_days_per_year\n",
    "denaturant = Stream('denaturant', Octane=1)\n",
    "M1 = units.Mixer('M1', ins=(dehydrated_ethanol, denaturant), outs='denatured_ethanol')\n",
    "\n",
    "# Create the specification function.\n",
    "@M1.add_specification\n",
    "def adjust_denaturant_flow():\n",
    "    denaturant_over_ethanol_flow = 0.02 / 0.98 # A mass ratio\n",
    "    denaturant.imass['Octane'] = denaturant_over_ethanol_flow * dehydrated_ethanol.F_mass\n",
    "    M1.run() # Run mass and energy balance\n",
    "    \n",
    "# Simulate, and check results. \n",
    "M1.simulate()\n",
    "M1.show(composition=True, flow='kg/hr')"
   ]
  },
  {
   "cell_type": "markdown",
   "metadata": {},
   "source": [
    "All specifications are in the unit's specification list:"
   ]
  },
  {
   "cell_type": "code",
   "execution_count": 2,
   "metadata": {
    "tags": [
     "nbval-ignore-output"
    ]
   },
   "outputs": [
    {
     "data": {
      "text/plain": [
       "[[<function __main__.adjust_denaturant_flow()>, ()]]"
      ]
     },
     "execution_count": 2,
     "metadata": {},
     "output_type": "execute_result"
    }
   ],
   "source": [
    "M1.specification"
   ]
  },
  {
   "cell_type": "markdown",
   "metadata": {},
   "source": [
    "### Preparing corn slurry in a conventional dry-grind process"
   ]
  },
  {
   "cell_type": "markdown",
   "metadata": {},
   "source": [
    "The solids content of a corn slurry fed to a conventional dry-grind corn ethanol plant is typically about 32 wt. %. Adjust the flow rate of water mixed with the milled corn for such that the slurry is 32 wt. %:"
   ]
  },
  {
   "cell_type": "code",
   "execution_count": 3,
   "metadata": {},
   "outputs": [
    {
     "name": "stdout",
     "output_type": "stream",
     "text": [
      "Mixer: M1\n",
      "ins...\n",
      "[0] slurry_water\n",
      "    phase: 'l', T: 298.15 K, P: 101325 Pa\n",
      "    composition: Water  1\n",
      "                 -----  2.87e+07 kg/hr\n",
      "[1] corn_feed\n",
      "    phase: 'l', T: 298.15 K, P: 101325 Pa\n",
      "    composition: Starch  0.62\n",
      "                 Oil     0.04\n",
      "                 Fiber   0.19\n",
      "                 Water   0.15\n",
      "                 ------  1.73e+07 kg/hr\n",
      "outs...\n",
      "[0] slurry\n",
      "    phase: 'l', T: 298.15 K, P: 101325 Pa\n",
      "    composition: Starch  0.233\n",
      "                 Oil     0.0151\n",
      "                 Fiber   0.0715\n",
      "                 Water   0.68\n",
      "                 ------  4.61e+07 kg/hr\n"
     ]
    }
   ],
   "source": [
    "# First name a new flowsheet\n",
    "main_flowsheet.set_flowsheet('corn_slurry_example')\n",
    "\n",
    "# Create a general chemicals to represent the \n",
    "# components of corn.\n",
    "Starch = Chemical.blank('Starch', phase='s')\n",
    "Fiber = Chemical.blank('Fiber', phase='s')\n",
    "Oil = Chemical('Oil', search_ID='Oleic_acid')\n",
    "Water = Chemical('Water')\n",
    "\n",
    "# The exact properties are not important for \n",
    "# the example, so just assume its like water at\n",
    "# 25 C and 1 atm.\n",
    "Starch.default()\n",
    "Fiber.default()\n",
    "\n",
    "# Set the thermodynamic property package.\n",
    "# In an actual process, much more chemicals\n",
    "# would be defined, but here we keep it short.\n",
    "settings.set_thermo([Starch, Oil, Fiber, Water])\n",
    "\n",
    "# A typical dry grind process may produce\n",
    "# 40 million gal of ethanol a year with a\n",
    "# yield of 2.7 gal ethanol per bushel of corn.\n",
    "corn_flow_per_year = 40e6 / 2.7 # In bushels\n",
    "days_per_year = 365\n",
    "operating_days_per_year = 330\n",
    "corn_flow_per_day = corn_flow_per_year * days_per_year / operating_days_per_year\n",
    "\n",
    "# The corn kernel iscomposed of starch (62%), protein and fiber (19%),\n",
    "# water (15%), and oil (4%).\n",
    "corn_feed = Stream('corn_feed',\n",
    "                   Starch=62, Fiber=19, Water=15, Oil=4, units='kg/hr')\n",
    "corn_feed.set_total_flow(corn_flow_per_day, units='bu/day')\n",
    "\n",
    "# Water that will be mixed with the milled corn to create the slurry.\n",
    "slurry_water = Stream('slurry_water', Water=1)\n",
    "M1 = units.Mixer('M1', ins=(slurry_water, corn_feed), outs='slurry')\n",
    "\n",
    "@M1.add_specification\n",
    "def adjust_water_flow():\n",
    "    F_mass_moisture = corn_feed.imass['Water']\n",
    "    F_mass_solids = corn_feed.F_mass - F_mass_moisture\n",
    "    slurry_water.F_mass = F_mass_solids * (1 - 0.32) / 0.32 - F_mass_moisture\n",
    "    M1._run() # Run mass and energy balance\n",
    "    \n",
    "# Simulate, and check results. \n",
    "M1.simulate()\n",
    "M1.show(flow='kg/hr', composition=True)"
   ]
  },
  {
   "cell_type": "markdown",
   "metadata": {},
   "source": [
    "## Numerical specifications"
   ]
  },
  {
   "cell_type": "markdown",
   "metadata": {},
   "source": [
    "### Flash design specification"
   ]
  },
  {
   "cell_type": "markdown",
   "metadata": {},
   "source": [
    "Let's say we have a mixture of water, ethanol and propanol and we would like to evaporate 50% of the liquid by mass (not by mol). We can solve this problem numerically by testing whether the specification is met at a given temperature:"
   ]
  },
  {
   "cell_type": "code",
   "execution_count": 4,
   "metadata": {
    "tags": [
     "nbval-ignore-output"
    ]
   },
   "outputs": [
    {
     "name": "stderr",
     "output_type": "stream",
     "text": [
      "C:\\Users\\yrc2\\Code\\biosteam\\biosteam\\units\\design_tools\\pressure_vessel.py:82: CostWarning: \u001b[38;2;229;63;229m<Flash: F1>\u001b[0m Vertical vessel weight (949.3 lb) is out of bounds (4200 to 1e+06 lb).\n",
      "  return method(pressure, diameter, length)\n",
      "C:\\Users\\yrc2\\Code\\biosteam\\biosteam\\units\\design_tools\\pressure_vessel.py:82: CostWarning: \u001b[38;2;229;63;229m<Flash: F1>\u001b[0m Vertical vessel length (10.5 ft) is out of bounds (12 to 40 ft).\n",
      "  return method(pressure, diameter, length)\n"
     ]
    },
    {
     "data": {
      "image/png": "[encoded data removed]",
      "text/plain": [
       "<IPython.core.display.Image object>"
      ]
     },
     "metadata": {},
     "output_type": "display_data"
    }
   ],
   "source": [
    "# First name a new flowsheet\n",
    "main_flowsheet.set_flowsheet('flash_specification_example')\n",
    "\n",
    "# Set the thermodynamic property package.\n",
    "# In an actual process, much more chemicals\n",
    "# would be defined, but here we keep it short.\n",
    "settings.set_thermo(['Water', 'Ethanol', 'Propanol'])\n",
    "\n",
    "# Feed stream\n",
    "mixture = Stream('mixture', T=340,\n",
    "                 Water=1000, Ethanol=1000, Propanol=1000,\n",
    "                 units='kg/hr')\n",
    "\n",
    "# Create a flash vessel\n",
    "F1 = units.Flash('F1',\n",
    "                 ins=mixture,\n",
    "                 outs=('vapor', 'liquid'),\n",
    "                 T=373, P=101325)\n",
    "\n",
    "# Set a numerical specification which solves the objective function when called.\n",
    "@F1.add_bounded_numerical_specification(x0=351.39, x1=373.15, xtol=1e-6)\n",
    "def f(x):\n",
    "    # Objective function where f(x) = 0 at a \n",
    "    # vapor fraction of 50 wt. %.\n",
    "    F1.T = x\n",
    "    F1._run() # IMPORTANT: This runs the mass and energy balance at the new conditions\n",
    "    feed = F1.ins[0]\n",
    "    vapor = F1.outs[0]\n",
    "    V = vapor.F_mass / feed.F_mass \n",
    "    return V - 0.5\n",
    "\n",
    "# Now create the system, simulate, and check results. \n",
    "system = main_flowsheet.create_system()\n",
    "system.simulate()\n",
    "system.diagram()"
   ]
  },
  {
   "cell_type": "code",
   "execution_count": 5,
   "metadata": {},
   "outputs": [
    {
     "name": "stdout",
     "output_type": "stream",
     "text": [
      "vapor mass fraction:  50%\n"
     ]
    }
   ],
   "source": [
    "print('vapor mass fraction: ', format(F1.outs[0].F_mass / mixture.F_mass, '.0%'))"
   ]
  }
 ],
 "metadata": {
  "celltoolbar": "Tags",
  "kernelspec": {
   "display_name": "Python 3 (ipykernel)",
   "language": "python",
   "name": "python3"
  },
  "language_info": {
   "codemirror_mode": {
    "name": "ipython",
    "version": 3
   },
   "file_extension": ".py",
   "mimetype": "text/x-python",
   "name": "python",
   "nbconvert_exporter": "python",
   "pygments_lexer": "ipython3",
   "version": "3.8.5"
  }
 },
 "nbformat": 4,
 "nbformat_minor": 2
}
