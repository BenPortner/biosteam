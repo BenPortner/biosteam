{
 "cells": [
  {
   "cell_type": "markdown",
   "metadata": {},
   "source": [
    "# Managing flowsheets"
   ]
  },
  {
   "cell_type": "markdown",
   "metadata": {},
   "source": [
    "### Retrieve any Unit, Stream or System object by ID"
   ]
  },
  {
   "cell_type": "markdown",
   "metadata": {},
   "source": [
    "All BioSTEAM objects are registered in the main flowsheet. When BioSTEAM is first imported, the main flowsheet defaults to the 'default' flowsheet:"
   ]
  },
  {
   "cell_type": "code",
   "execution_count": 1,
   "metadata": {},
   "outputs": [
    {
     "data": {
      "text/plain": [
       "<MainFlowsheet: default>"
      ]
     },
     "execution_count": 1,
     "metadata": {},
     "output_type": "execute_result"
    }
   ],
   "source": [
    "from biosteam import main_flowsheet, settings, units\n",
    "main_flowsheet"
   ]
  },
  {
   "cell_type": "markdown",
   "metadata": {},
   "source": [
    "Find a Unit object:"
   ]
  },
  {
   "cell_type": "code",
   "execution_count": 2,
   "metadata": {},
   "outputs": [
    {
     "data": {
      "image/png": "[encoded data removed]",
      "text/plain": [
       "<IPython.core.display.Image object>"
      ]
     },
     "metadata": {},
     "output_type": "display_data"
    },
    {
     "name": "stdout",
     "output_type": "stream",
     "text": [
      "Mixer: M1\n",
      "ins...\n",
      "[0] missing stream\n",
      "[1] missing stream\n",
      "outs...\n",
      "[0] s1\n",
      "    phase: 'l', T: 298.15 K, P: 101325 Pa\n",
      "    flow: 0\n"
     ]
    }
   ],
   "source": [
    "settings.set_thermo(['Water', 'Ethanol'])\n",
    "unit = units.Mixer('M1')\n",
    "main_flowsheet('M1')"
   ]
  },
  {
   "cell_type": "markdown",
   "metadata": {},
   "source": [
    "Find a Stream object:"
   ]
  },
  {
   "cell_type": "code",
   "execution_count": 3,
   "metadata": {},
   "outputs": [
    {
     "name": "stdout",
     "output_type": "stream",
     "text": [
      "Stream: s1 from <Mixer: M1>\n",
      " phase: 'l', T: 298.15 K, P: 101325 Pa\n",
      " flow: 0\n"
     ]
    }
   ],
   "source": [
    "main_flowsheet('s1')"
   ]
  },
  {
   "cell_type": "markdown",
   "metadata": {},
   "source": [
    "All Unit objects can be viewed as a diagram:"
   ]
  },
  {
   "cell_type": "code",
   "execution_count": 4,
   "metadata": {},
   "outputs": [
    {
     "data": {
      "image/svg+xml": [
       "<svg xmlns=\"http://www.w3.org/2000/svg\" xmlns:xlink=\"http://www.w3.org/1999/xlink\" width=\"226pt\" height=\"233pt\" viewBox=\"0.00 0.00 225.59 233.48\">\n",
       "<g id=\"graph0\" class=\"graph\" transform=\"scale(1 1) rotate(0) translate(4 229.48)\">\n",
       "<polygon fill=\"white\" stroke=\"transparent\" points=\"-4,4 -4,-229.48 221.59,-229.48 221.59,4 -4,4\"/>\n",
       "<!-- M1\n",
       "Mixer&#45;&gt;s1 -->\n",
       "<g id=\"edge2\" class=\"edge\">\n",
       "<title>M1\n",
       "Mixer:e-&gt;s1:w</title>\n",
       "<path fill=\"none\" stroke=\"black\" d=\"M138.59,-53.74C154.59,-53.74 158.59,-53.74 174.59,-53.74\"/>\n",
       "</g>\n",
       "<!-- M2\n",
       "Mixer&#45;&gt;s2 -->\n",
       "<g id=\"edge1\" class=\"edge\">\n",
       "<title>M2\n",
       "Mixer:e-&gt;s2:w</title>\n",
       "<path fill=\"none\" stroke=\"black\" d=\"M138.59,-171.74C154.59,-171.74 158.59,-171.74 174.59,-171.74\"/>\n",
       "</g>\n",
       "<!-- M1\n",
       "Mixer -->\n",
       "<g id=\"node1\" class=\"node\">\n",
       "<title>M1\n",
       "Mixer</title>\n",
       "<defs>\n",
       "<linearGradient id=\"l_0\" gradientUnits=\"userSpaceOnUse\" x1=\"34.75\" y1=\"-53.74\" x2=\"138.39\" y2=\"-53.74\">\n",
       "<stop offset=\"0\" style=\"stop-color:white;stop-opacity:1.;\"/>\n",
       "<stop offset=\"1\" style=\"stop-color:#cdcdcd;stop-opacity:1.;\"/>\n",
       "</linearGradient>\n",
       "</defs>\n",
       "<polygon fill=\"url(#l_0)\" stroke=\"black\" points=\"138.39,-53.74 34.75,-107.72 34.75,0.24 138.39,-53.74\"/>\n",
       "<text text-anchor=\"middle\" x=\"69.3\" y=\"-57.54\" font-family=\"Times New Roman,serif\" font-size=\"14.00\">M1</text>\n",
       "<text text-anchor=\"middle\" x=\"69.3\" y=\"-42.54\" font-family=\"Times New Roman,serif\" font-size=\"14.00\">Mixer</text>\n",
       "</g>\n",
       "<!-- M2\n",
       "Mixer -->\n",
       "<g id=\"node2\" class=\"node\">\n",
       "<title>M2\n",
       "Mixer</title>\n",
       "<defs>\n",
       "<linearGradient id=\"l_1\" gradientUnits=\"userSpaceOnUse\" x1=\"34.75\" y1=\"-171.74\" x2=\"138.39\" y2=\"-171.74\">\n",
       "<stop offset=\"0\" style=\"stop-color:white;stop-opacity:1.;\"/>\n",
       "<stop offset=\"1\" style=\"stop-color:#cdcdcd;stop-opacity:1.;\"/>\n",
       "</linearGradient>\n",
       "</defs>\n",
       "<polygon fill=\"url(#l_1)\" stroke=\"black\" points=\"138.39,-171.74 34.75,-225.72 34.75,-117.76 138.39,-171.74\"/>\n",
       "<text text-anchor=\"middle\" x=\"69.3\" y=\"-175.54\" font-family=\"Times New Roman,serif\" font-size=\"14.00\">M2</text>\n",
       "<text text-anchor=\"middle\" x=\"69.3\" y=\"-160.54\" font-family=\"Times New Roman,serif\" font-size=\"14.00\">Mixer</text>\n",
       "</g>\n",
       "<!-- s2 -->\n",
       "<g id=\"node3\" class=\"node\">\n",
       "<title>s2</title>\n",
       "<polygon fill=\"#79dae8\" stroke=\"black\" points=\"199.59,-187.24 174.59,-187.24 174.59,-156.24 199.59,-156.24 199.59,-150.24 217.59,-171.74 199.59,-193.24 199.59,-187.24\"/>\n",
       "<text text-anchor=\"middle\" x=\"196.09\" y=\"-168.04\" font-family=\"Times New Roman,serif\" font-size=\"14.00\">s2</text>\n",
       "</g>\n",
       "<!-- s1 -->\n",
       "<g id=\"node4\" class=\"node\">\n",
       "<title>s1</title>\n",
       "<polygon fill=\"#79dae8\" stroke=\"black\" points=\"199.59,-69.24 174.59,-69.24 174.59,-38.24 199.59,-38.24 199.59,-32.24 217.59,-53.74 199.59,-75.24 199.59,-69.24\"/>\n",
       "<text text-anchor=\"middle\" x=\"196.09\" y=\"-50.04\" font-family=\"Times New Roman,serif\" font-size=\"14.00\">s1</text>\n",
       "</g>\n",
       "</g>\n",
       "</svg>"
      ],
      "text/plain": [
       "<IPython.core.display.SVG object>"
      ]
     },
     "metadata": {},
     "output_type": "display_data"
    }
   ],
   "source": [
    "units.Mixer('M2')\n",
    "main_flowsheet.diagram()"
   ]
  },
  {
   "cell_type": "markdown",
   "metadata": {},
   "source": [
    "All Stream, Unit, and System objects are stored as Register objects in the `main_flowsheet`:"
   ]
  },
  {
   "cell_type": "code",
   "execution_count": 5,
   "metadata": {},
   "outputs": [
    {
     "data": {
      "text/plain": [
       "Register:\n",
       " <Stream: s1>\n",
       " <Stream: s2>"
      ]
     },
     "execution_count": 5,
     "metadata": {},
     "output_type": "execute_result"
    }
   ],
   "source": [
    "main_flowsheet.stream"
   ]
  },
  {
   "cell_type": "code",
   "execution_count": 6,
   "metadata": {},
   "outputs": [
    {
     "data": {
      "text/plain": [
       "Register:\n",
       " <Mixer: M1>\n",
       " <Mixer: M2>"
      ]
     },
     "execution_count": 6,
     "metadata": {},
     "output_type": "execute_result"
    }
   ],
   "source": [
    "main_flowsheet.unit"
   ]
  },
  {
   "cell_type": "code",
   "execution_count": 7,
   "metadata": {},
   "outputs": [
    {
     "data": {
      "text/plain": [
       "Register: (Empty)"
      ]
     },
     "execution_count": 7,
     "metadata": {},
     "output_type": "execute_result"
    }
   ],
   "source": [
    "main_flowsheet.system"
   ]
  },
  {
   "cell_type": "markdown",
   "metadata": {},
   "source": [
    "Access items in a register:"
   ]
  },
  {
   "cell_type": "code",
   "execution_count": 8,
   "metadata": {},
   "outputs": [
    {
     "data": {
      "image/png": "[encoded data removed]",
      "text/plain": [
       "<IPython.core.display.Image object>"
      ]
     },
     "metadata": {},
     "output_type": "display_data"
    },
    {
     "name": "stdout",
     "output_type": "stream",
     "text": [
      "Mixer: M1\n",
      "ins...\n",
      "[0] missing stream\n",
      "[1] missing stream\n",
      "outs...\n",
      "[0] s1\n",
      "    phase: 'l', T: 298.15 K, P: 101325 Pa\n",
      "    flow: 0\n"
     ]
    }
   ],
   "source": [
    "main_flowsheet.unit.M1"
   ]
  },
  {
   "cell_type": "markdown",
   "metadata": {},
   "source": [
    "### Switch between flowsheets"
   ]
  },
  {
   "cell_type": "markdown",
   "metadata": {},
   "source": [
    "A new flowsheet may be created and set as the main flowsheet:"
   ]
  },
  {
   "cell_type": "code",
   "execution_count": 9,
   "metadata": {},
   "outputs": [
    {
     "data": {
      "text/plain": [
       "<MainFlowsheet: new_flowsheet>"
      ]
     },
     "execution_count": 9,
     "metadata": {},
     "output_type": "execute_result"
    }
   ],
   "source": [
    "main_flowsheet.set_flowsheet('new_flowsheet')\n",
    "main_flowsheet"
   ]
  },
  {
   "cell_type": "markdown",
   "metadata": {},
   "source": [
    "Now all new objects will be registered in the new flowsheet:"
   ]
  },
  {
   "cell_type": "code",
   "execution_count": 10,
   "metadata": {},
   "outputs": [
    {
     "data": {
      "image/svg+xml": [
       "<svg xmlns=\"http://www.w3.org/2000/svg\" xmlns:xlink=\"http://www.w3.org/1999/xlink\" width=\"226pt\" height=\"115pt\" viewBox=\"0.00 0.00 225.59 115.48\">\n",
       "<g id=\"graph0\" class=\"graph\" transform=\"scale(1 1) rotate(0) translate(4 111.48)\">\n",
       "<polygon fill=\"white\" stroke=\"transparent\" points=\"-4,4 -4,-111.48 221.59,-111.48 221.59,4 -4,4\"/>\n",
       "<!-- M3\n",
       "Mixer&#45;&gt;s3 -->\n",
       "<g id=\"edge1\" class=\"edge\">\n",
       "<title>M3\n",
       "Mixer:e-&gt;s3:w</title>\n",
       "<path fill=\"none\" stroke=\"black\" d=\"M138.59,-53.74C154.59,-53.74 158.59,-53.74 174.59,-53.74\"/>\n",
       "</g>\n",
       "<!-- M3\n",
       "Mixer -->\n",
       "<g id=\"node1\" class=\"node\">\n",
       "<title>M3\n",
       "Mixer</title>\n",
       "<defs>\n",
       "<linearGradient id=\"l_0\" gradientUnits=\"userSpaceOnUse\" x1=\"34.75\" y1=\"-53.74\" x2=\"138.39\" y2=\"-53.74\">\n",
       "<stop offset=\"0\" style=\"stop-color:white;stop-opacity:1.;\"/>\n",
       "<stop offset=\"1\" style=\"stop-color:#cdcdcd;stop-opacity:1.;\"/>\n",
       "</linearGradient>\n",
       "</defs>\n",
       "<polygon fill=\"url(#l_0)\" stroke=\"black\" points=\"138.39,-53.74 34.75,-107.72 34.75,0.24 138.39,-53.74\"/>\n",
       "<text text-anchor=\"middle\" x=\"69.3\" y=\"-57.54\" font-family=\"Times New Roman,serif\" font-size=\"14.00\">M3</text>\n",
       "<text text-anchor=\"middle\" x=\"69.3\" y=\"-42.54\" font-family=\"Times New Roman,serif\" font-size=\"14.00\">Mixer</text>\n",
       "</g>\n",
       "<!-- s3 -->\n",
       "<g id=\"node2\" class=\"node\">\n",
       "<title>s3</title>\n",
       "<polygon fill=\"#79dae8\" stroke=\"black\" points=\"199.59,-69.24 174.59,-69.24 174.59,-38.24 199.59,-38.24 199.59,-32.24 217.59,-53.74 199.59,-75.24 199.59,-69.24\"/>\n",
       "<text text-anchor=\"middle\" x=\"196.09\" y=\"-50.04\" font-family=\"Times New Roman,serif\" font-size=\"14.00\">s3</text>\n",
       "</g>\n",
       "</g>\n",
       "</svg>"
      ],
      "text/plain": [
       "<IPython.core.display.SVG object>"
      ]
     },
     "metadata": {},
     "output_type": "display_data"
    }
   ],
   "source": [
    "unit = units.Mixer('M3')\n",
    "main_flowsheet.diagram()"
   ]
  },
  {
   "cell_type": "markdown",
   "metadata": {},
   "source": [
    "Note that objects in the original flowsheet are not defined anymore and searching them would raise an error:"
   ]
  },
  {
   "cell_type": "code",
   "execution_count": 11,
   "metadata": {},
   "outputs": [
    {
     "ename": "LookupError",
     "evalue": "no registered item 'M1'",
     "output_type": "error",
     "traceback": [
      "\u001b[1;31m---------------------------------------------------------------------------\u001b[0m",
      "\u001b[1;31mLookupError\u001b[0m                               Traceback (most recent call last)",
      "\u001b[1;32m<ipython-input-11-48b9bbf4ed05>\u001b[0m in \u001b[0;36m<module>\u001b[1;34m\u001b[0m\n\u001b[1;32m----> 1\u001b[1;33m \u001b[0mmain_flowsheet\u001b[0m\u001b[1;33m(\u001b[0m\u001b[1;34m'M1'\u001b[0m\u001b[1;33m)\u001b[0m\u001b[1;33m\u001b[0m\u001b[1;33m\u001b[0m\u001b[0m\n\u001b[0m",
      "\u001b[1;32m~\\OneDrive\\Code\\biosteam\\biosteam\\_flowsheet.py\u001b[0m in \u001b[0;36m__call__\u001b[1;34m(self, ID)\u001b[0m\n\u001b[0;32m    225\u001b[0m                \u001b[1;32mor\u001b[0m \u001b[0mself\u001b[0m\u001b[1;33m.\u001b[0m\u001b[0munit\u001b[0m\u001b[1;33m.\u001b[0m\u001b[0msearch\u001b[0m\u001b[1;33m(\u001b[0m\u001b[0mID\u001b[0m\u001b[1;33m)\u001b[0m\u001b[1;33m\u001b[0m\u001b[1;33m\u001b[0m\u001b[0m\n\u001b[0;32m    226\u001b[0m                or self.system.search(ID))\n\u001b[1;32m--> 227\u001b[1;33m         \u001b[1;32mif\u001b[0m \u001b[1;32mnot\u001b[0m \u001b[0mobj\u001b[0m\u001b[1;33m:\u001b[0m \u001b[1;32mraise\u001b[0m \u001b[0mLookupError\u001b[0m\u001b[1;33m(\u001b[0m\u001b[1;34mf\"no registered item '{ID}'\"\u001b[0m\u001b[1;33m)\u001b[0m\u001b[1;33m\u001b[0m\u001b[1;33m\u001b[0m\u001b[0m\n\u001b[0m\u001b[0;32m    228\u001b[0m         \u001b[1;32mreturn\u001b[0m \u001b[0mobj\u001b[0m\u001b[1;33m\u001b[0m\u001b[1;33m\u001b[0m\u001b[0m\n\u001b[0;32m    229\u001b[0m \u001b[1;33m\u001b[0m\u001b[0m\n",
      "\u001b[1;31mLookupError\u001b[0m: no registered item 'M1'"
     ]
    }
   ],
   "source": [
    "main_flowsheet('M1')"
   ]
  },
  {
   "cell_type": "markdown",
   "metadata": {},
   "source": [
    "All Flowsheet objects are added to the `flowsheet` registry. Switching between flowsheets is easy:"
   ]
  },
  {
   "cell_type": "code",
   "execution_count": null,
   "metadata": {},
   "outputs": [],
   "source": [
    "main_flowsheet.set_flowsheet('default') # Switch back to default flowsheet\n",
    "main_flowsheet"
   ]
  },
  {
   "cell_type": "markdown",
   "metadata": {},
   "source": [
    "As an example, the `lipidcane` biorefinery defines its own flowsheet when you import it:"
   ]
  },
  {
   "cell_type": "code",
   "execution_count": null,
   "metadata": {},
   "outputs": [],
   "source": [
    "from biorefineries.lipidcane import lipidcane_sys\n",
    "main_flowsheet.diagram()"
   ]
  }
 ],
 "metadata": {
  "kernelspec": {
   "display_name": "Python 3",
   "language": "python",
   "name": "python3"
  },
  "language_info": {
   "codemirror_mode": {
    "name": "ipython",
    "version": 3
   },
   "file_extension": ".py",
   "mimetype": "text/x-python",
   "name": "python",
   "nbconvert_exporter": "python",
   "pygments_lexer": "ipython3",
   "version": "3.8.5"
  }
 },
 "nbformat": 4,
 "nbformat_minor": 2
}
