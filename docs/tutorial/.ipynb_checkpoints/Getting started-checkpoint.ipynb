{
 "cells": [
  {
   "cell_type": "markdown",
   "metadata": {},
   "source": [
    "# Getting started"
   ]
  },
  {
   "cell_type": "markdown",
   "metadata": {},
   "source": [
    "### Process settings"
   ]
  },
  {
   "cell_type": "markdown",
   "metadata": {},
   "source": [
    "**Process settings include price of feeds and products, conditions of utilities, and the chemical engineering plant cost index. These should be set before simulating a system.**"
   ]
  },
  {
   "cell_type": "markdown",
   "metadata": {},
   "source": [
    "Set the chemical engineering plant cost index:"
   ]
  },
  {
   "cell_type": "code",
   "execution_count": 1,
   "metadata": {},
   "outputs": [
    {
     "data": {
      "text/plain": [
       "567.5"
      ]
     },
     "execution_count": 1,
     "metadata": {},
     "output_type": "execute_result"
    }
   ],
   "source": [
    "import biosteam as bst\n",
    "bst.CE # Default year is 2017"
   ]
  },
  {
   "cell_type": "code",
   "execution_count": 2,
   "metadata": {},
   "outputs": [],
   "source": [
    "bst.CE = 603.1 # To year 2018"
   ]
  },
  {
   "cell_type": "markdown",
   "metadata": {},
   "source": [
    "Set [PowerUtility](https://biosteam.readthedocs.io/en/latest/PowerUtility.html) options:"
   ]
  },
  {
   "cell_type": "code",
   "execution_count": 3,
   "metadata": {},
   "outputs": [
    {
     "data": {
      "text/plain": [
       "0.0782"
      ]
     },
     "execution_count": 3,
     "metadata": {},
     "output_type": "execute_result"
    }
   ],
   "source": [
    "bst.PowerUtility.price # Default price"
   ]
  },
  {
   "cell_type": "code",
   "execution_count": 4,
   "metadata": {},
   "outputs": [],
   "source": [
    "bst.PowerUtility.price = 0.065 # Adjust price"
   ]
  },
  {
   "cell_type": "markdown",
   "metadata": {},
   "source": [
    "Set [HeatUtility](https://biosteam.readthedocs.io/en/latest/HeatUtility.html) options:"
   ]
  },
  {
   "cell_type": "code",
   "execution_count": 5,
   "metadata": {},
   "outputs": [
    {
     "data": {
      "text/plain": [
       "CoolingAgents({'Cooling water': <UtilityAgent: T=305.372 K>, 'Chilled water': <UtilityAgent: T=280.372 K>, 'Chilled Brine': <UtilityAgent: T=255.372 K>})"
      ]
     },
     "execution_count": 5,
     "metadata": {},
     "output_type": "execute_result"
    }
   ],
   "source": [
    "bst.HeatUtility.cooling_agents # Functions as a dictionary of available cooling agents"
   ]
  },
  {
   "cell_type": "code",
   "execution_count": 6,
   "metadata": {},
   "outputs": [
    {
     "name": "stdout",
     "output_type": "stream",
     "text": [
      "UtilityAgent:\n",
      " thermo                Thermo(CompiledChemicals([Water]), ...)\n",
      " z_mol                 (1.00,)\n",
      " T           K         305.37\n",
      " P           Pa        101,325\n",
      " phase                 'l'\n",
      " Hvap        kJ/kmol   None\n",
      " T_limit     K         324.82\n",
      " price_kJ    USD/kJ    0\n",
      " price_kmol  USD/kmol  0.0004879\n",
      " efficiency            1.00\n"
     ]
    }
   ],
   "source": [
    "cw = bst.HeatUtility.cooling_agents['Cooling water']\n",
    "cw # A UtilityAgent\n"
   ]
  },
  {
   "cell_type": "code",
   "execution_count": 7,
   "metadata": {},
   "outputs": [
    {
     "data": {
      "text/plain": [
       "(Thermo(chemicals=CompiledChemicals([Water]), mixture=Mixture('ideal mixing rules', ..., rigorous_energy_balance=True, include_excess_energies=False), Gamma=DortmundActivityCoefficients, Phi=IdealFugacityCoefficients, PCF=IdealPoyintingCorrectionFactors),\n",
       " (1,),\n",
       " 305.372,\n",
       " 101325,\n",
       " 'l',\n",
       " 324.817,\n",
       " 0,\n",
       " 0.00048785,\n",
       " 1)"
      ]
     },
     "execution_count": 7,
     "metadata": {},
     "output_type": "execute_result"
    }
   ],
   "source": [
    "# Data is stored as attributes\n",
    "(cw.thermo, cw.z_mol, cw.T, cw.P, cw.phase, cw.T_limit, cw.price_kJ, cw.price_kmol, cw.efficiency)"
   ]
  },
  {
   "cell_type": "code",
   "execution_count": 8,
   "metadata": {},
   "outputs": [],
   "source": [
    "cw.T = 302 # Change temperature (K)"
   ]
  },
  {
   "cell_type": "code",
   "execution_count": 9,
   "metadata": {},
   "outputs": [
    {
     "data": {
      "text/plain": [
       "HeatingAgents({'Low pressure steam': <UtilityAgent: T=411.494 K>, 'Medium pressure steam': <UtilityAgent: T=454.484 K>, 'High pressure steam': <UtilityAgent: T=508.858 K>})"
      ]
     },
     "execution_count": 9,
     "metadata": {},
     "output_type": "execute_result"
    }
   ],
   "source": [
    "bst.HeatUtility.heating_agents # Functions as a dictionary of available heating agents"
   ]
  },
  {
   "cell_type": "code",
   "execution_count": 10,
   "metadata": {},
   "outputs": [
    {
     "name": "stdout",
     "output_type": "stream",
     "text": [
      "UtilityAgent:\n",
      " thermo                Thermo(CompiledChemicals([Water]), ...)\n",
      " z_mol                 (1.00,)\n",
      " T           K         411.49\n",
      " P           Pa        344,738\n",
      " phase                 'g'\n",
      " Hvap        kJ/kmol   3.886e+04\n",
      " T_limit     K         None\n",
      " price_kJ    USD/kJ    0\n",
      " price_kmol  USD/kmol  0.2378\n",
      " efficiency            0.95\n"
     ]
    }
   ],
   "source": [
    "bst.HeatUtility.heating_agents['Low pressure steam'] # A UtilityAgent"
   ]
  },
  {
   "cell_type": "code",
   "execution_count": 11,
   "metadata": {},
   "outputs": [],
   "source": [
    "bst.HeatUtility.heating_agents['Low pressure steam'].price_kmol = 0.20 # Change price (USD/kmol)"
   ]
  },
  {
   "cell_type": "markdown",
   "metadata": {},
   "source": [
    "### Initialize streams"
   ]
  },
  {
   "cell_type": "markdown",
   "metadata": {},
   "source": [
    "[Stream](https://thermosteam.readthedocs.io/en/latest/Stream.html) objects define material flow rates along with its thermodynamic state. Before creating streams, a thermo property package must be defined through a [Thermo](https://thermosteam.readthedocs.io/en/latest/Thermo.html) object. Please visit [Thermosteam's documentation](https://thermosteam.readthedocs.io/en/latest/index.html) for a complete tutorial on `Stream` objects and BioSTEAM's thermodynamic engine. In this example, a simple feed stream with a few common chemicals will be initialized:"
   ]
  },
  {
   "cell_type": "code",
   "execution_count": 13,
   "metadata": {},
   "outputs": [
    {
     "name": "stdout",
     "output_type": "stream",
     "text": [
      "Stream: s1\n",
      " phase: 'l', T: 298.15 K, P: 101325 Pa\n",
      " flow (kmol/hr): Water     20\n",
      "                 Glycerol  10\n"
     ]
    }
   ],
   "source": [
    "import thermosteam as tmo\n",
    "chemicals = tmo.Chemicals(['Water', 'Methanol', 'Glycerol'])\n",
    "tmo.settings.set_thermo(chemicals)\n",
    "feed = tmo.Stream(Water=20, Glycerol=10)\n",
    "feed.show()"
   ]
  },
  {
   "cell_type": "markdown",
   "metadata": {},
   "source": [
    "### Find design requirements and cost with Unit objects"
   ]
  },
  {
   "cell_type": "markdown",
   "metadata": {},
   "source": [
    "[Creating a Unit](https://biosteam.readthedocs.io/en/latest/Creating a Unit.html) can be flexible. But in summary, a [Unit](https://biosteam.readthedocs.io/en/latest/Unit.html) object is initialized with an ID, and unit specific arguments:"
   ]
  },
  {
   "cell_type": "code",
   "execution_count": 14,
   "metadata": {},
   "outputs": [
    {
     "data": {
      "image/png": "[encoded data removed]",
      "text/plain": [
       "<IPython.core.display.Image object>"
      ]
     },
     "metadata": {},
     "output_type": "display_data"
    },
    {
     "name": "stdout",
     "output_type": "stream",
     "text": [
      "Flash: F1\n",
      "ins...\n",
      "[0] missing stream\n",
      "outs...\n",
      "[0] s2\n",
      "    phase: 'l', T: 298.15 K, P: 101325 Pa\n",
      "    flow: 0\n",
      "[1] s3\n",
      "    phase: 'l', T: 298.15 K, P: 101325 Pa\n",
      "    flow: 0\n"
     ]
    }
   ],
   "source": [
    "import biosteam as bst\n",
    "from biosteam import units\n",
    "\n",
    "# Specify vapor fraction and isobaric conditions\n",
    "F1 = units.Flash('F1', V=0.5, P=101325)\n",
    "F1"
   ]
  },
  {
   "cell_type": "markdown",
   "metadata": {},
   "source": [
    "Note that, by default, Missing Stream objects are given to inputs, `ins`, and empty streams to outputs, `outs`:"
   ]
  },
  {
   "cell_type": "code",
   "execution_count": 15,
   "metadata": {},
   "outputs": [
    {
     "data": {
      "text/plain": [
       "[<MissingStream>]"
      ]
     },
     "execution_count": 15,
     "metadata": {},
     "output_type": "execute_result"
    }
   ],
   "source": [
    "F1.ins"
   ]
  },
  {
   "cell_type": "code",
   "execution_count": 16,
   "metadata": {},
   "outputs": [
    {
     "data": {
      "text/plain": [
       "[<Stream: s2>, <Stream: s3>]"
      ]
     },
     "execution_count": 16,
     "metadata": {},
     "output_type": "execute_result"
    }
   ],
   "source": [
    "F1.outs"
   ]
  },
  {
   "cell_type": "markdown",
   "metadata": {},
   "source": [
    "You can connect streams by setting the `ins` and `outs`:"
   ]
  },
  {
   "cell_type": "code",
   "execution_count": 17,
   "metadata": {},
   "outputs": [
    {
     "data": {
      "image/png": "[encoded data removed]",
      "text/plain": [
       "<IPython.core.display.Image object>"
      ]
     },
     "metadata": {},
     "output_type": "display_data"
    },
    {
     "name": "stdout",
     "output_type": "stream",
     "text": [
      "Flash: F1\n",
      "ins...\n",
      "[0] s1\n",
      "    phase: 'l', T: 298.15 K, P: 101325 Pa\n",
      "    flow (kmol/hr): Water     20\n",
      "                    Glycerol  10\n",
      "outs...\n",
      "[0] s2\n",
      "    phase: 'l', T: 298.15 K, P: 101325 Pa\n",
      "    flow: 0\n",
      "[1] s3\n",
      "    phase: 'l', T: 298.15 K, P: 101325 Pa\n",
      "    flow: 0\n"
     ]
    }
   ],
   "source": [
    "F1.ins[0] = feed\n",
    "F1"
   ]
  },
  {
   "cell_type": "markdown",
   "metadata": {},
   "source": [
    "To simulate the flash, use the `simulate` method:"
   ]
  },
  {
   "cell_type": "code",
   "execution_count": 18,
   "metadata": {},
   "outputs": [
    {
     "name": "stdout",
     "output_type": "stream",
     "text": [
      "Flash: F1\n",
      "ins...\n",
      "[0] s1\n",
      "    phase: 'l', T: 298.15 K, P: 101325 Pa\n",
      "    flow (kmol/hr): Water     20\n",
      "                    Glycerol  10\n",
      "outs...\n",
      "[0] s2\n",
      "    phase: 'g', T: 382.91 K, P: 101325 Pa\n",
      "    flow (kmol/hr): Water     15\n",
      "                    Glycerol  0.00534\n",
      "[1] s3\n",
      "    phase: 'l', T: 382.91 K, P: 101325 Pa\n",
      "    flow (kmol/hr): Water     5.01\n",
      "                    Glycerol  9.99\n"
     ]
    }
   ],
   "source": [
    "F1.simulate()\n",
    "F1.show()"
   ]
  },
  {
   "cell_type": "markdown",
   "metadata": {},
   "source": [
    "The `results` method returns simulation results:"
   ]
  },
  {
   "cell_type": "code",
   "execution_count": 19,
   "metadata": {},
   "outputs": [
    {
     "data": {
      "text/html": [
       "<div>\n",
       "<style scoped>\n",
       "    .dataframe tbody tr th:only-of-type {\n",
       "        vertical-align: middle;\n",
       "    }\n",
       "\n",
       "    .dataframe tbody tr th {\n",
       "        vertical-align: top;\n",
       "    }\n",
       "\n",
       "    .dataframe thead th {\n",
       "        text-align: right;\n",
       "    }\n",
       "</style>\n",
       "<table border=\"1\" class=\"dataframe\">\n",
       "  <thead>\n",
       "    <tr style=\"text-align: right;\">\n",
       "      <th></th>\n",
       "      <th>Flash</th>\n",
       "      <th>Units</th>\n",
       "      <th>F1</th>\n",
       "    </tr>\n",
       "  </thead>\n",
       "  <tbody>\n",
       "    <tr>\n",
       "      <th rowspan=\"2\" valign=\"top\">Power</th>\n",
       "      <th>Rate</th>\n",
       "      <td>kW</td>\n",
       "      <td>0</td>\n",
       "    </tr>\n",
       "    <tr>\n",
       "      <th>Cost</th>\n",
       "      <td>USD/hr</td>\n",
       "      <td>0</td>\n",
       "    </tr>\n",
       "    <tr>\n",
       "      <th rowspan=\"3\" valign=\"top\">Low pressure steam</th>\n",
       "      <th>Duty</th>\n",
       "      <td>kJ/hr</td>\n",
       "      <td>1.03e+06</td>\n",
       "    </tr>\n",
       "    <tr>\n",
       "      <th>Flow</th>\n",
       "      <td>kmol/hr</td>\n",
       "      <td>26.4</td>\n",
       "    </tr>\n",
       "    <tr>\n",
       "      <th>Cost</th>\n",
       "      <td>USD/hr</td>\n",
       "      <td>5.28</td>\n",
       "    </tr>\n",
       "    <tr>\n",
       "      <th rowspan=\"6\" valign=\"top\">Design</th>\n",
       "      <th>SepType</th>\n",
       "      <td></td>\n",
       "      <td>Vertical</td>\n",
       "    </tr>\n",
       "    <tr>\n",
       "      <th>Length</th>\n",
       "      <td>ft</td>\n",
       "      <td>37.5</td>\n",
       "    </tr>\n",
       "    <tr>\n",
       "      <th>Diameter</th>\n",
       "      <td>ft</td>\n",
       "      <td>6.5</td>\n",
       "    </tr>\n",
       "    <tr>\n",
       "      <th>Weight</th>\n",
       "      <td>lb</td>\n",
       "      <td>1.28e+04</td>\n",
       "    </tr>\n",
       "    <tr>\n",
       "      <th>Wall thickness</th>\n",
       "      <td>in</td>\n",
       "      <td>0.375</td>\n",
       "    </tr>\n",
       "    <tr>\n",
       "      <th>Material</th>\n",
       "      <td></td>\n",
       "      <td>Carbon steel</td>\n",
       "    </tr>\n",
       "    <tr>\n",
       "      <th rowspan=\"2\" valign=\"top\">Purchase cost</th>\n",
       "      <th>Flash</th>\n",
       "      <td>USD</td>\n",
       "      <td>8.14e+04</td>\n",
       "    </tr>\n",
       "    <tr>\n",
       "      <th>Heat exchanger</th>\n",
       "      <td>USD</td>\n",
       "      <td>4.89e+03</td>\n",
       "    </tr>\n",
       "    <tr>\n",
       "      <th>Total purchase cost</th>\n",
       "      <th></th>\n",
       "      <td>USD</td>\n",
       "      <td>8.63e+04</td>\n",
       "    </tr>\n",
       "    <tr>\n",
       "      <th>Utility cost</th>\n",
       "      <th></th>\n",
       "      <td>USD/hr</td>\n",
       "      <td>5.28</td>\n",
       "    </tr>\n",
       "  </tbody>\n",
       "</table>\n",
       "</div>"
      ],
      "text/plain": [
       "Flash                                 Units            F1\n",
       "Power               Rate                 kW             0\n",
       "                    Cost             USD/hr             0\n",
       "Low pressure steam  Duty              kJ/hr      1.03e+06\n",
       "                    Flow            kmol/hr          26.4\n",
       "                    Cost             USD/hr          5.28\n",
       "Design              SepType                      Vertical\n",
       "                    Length               ft          37.5\n",
       "                    Diameter             ft           6.5\n",
       "                    Weight               lb      1.28e+04\n",
       "                    Wall thickness       in         0.375\n",
       "                    Material                 Carbon steel\n",
       "Purchase cost       Flash               USD      8.14e+04\n",
       "                    Heat exchanger      USD      4.89e+03\n",
       "Total purchase cost                     USD      8.63e+04\n",
       "Utility cost                         USD/hr          5.28"
      ]
     },
     "execution_count": 19,
     "metadata": {},
     "output_type": "execute_result"
    }
   ],
   "source": [
    "F1.results() # Default returns DataFrame object with units"
   ]
  },
  {
   "cell_type": "code",
   "execution_count": 20,
   "metadata": {},
   "outputs": [
    {
     "data": {
      "text/plain": [
       "Power                Rate                         0\n",
       "                     Cost                         0\n",
       "Low pressure steam   Duty                  1.03e+06\n",
       "                     Flow                      26.4\n",
       "                     Cost                      5.28\n",
       "Design               SepType               Vertical\n",
       "                     Length                    37.5\n",
       "                     Diameter                   6.5\n",
       "                     Weight                1.28e+04\n",
       "                     Wall thickness           0.375\n",
       "                     Material          Carbon steel\n",
       "Purchase cost        Flash                 8.14e+04\n",
       "                     Heat exchanger        4.89e+03\n",
       "Total purchase cost                        8.63e+04\n",
       "Utility cost                                   5.28\n",
       "Name: F1, dtype: object"
      ]
     },
     "execution_count": 20,
     "metadata": {},
     "output_type": "execute_result"
    }
   ],
   "source": [
    "F1.results(with_units=False) # Returns Series object without units"
   ]
  },
  {
   "cell_type": "markdown",
   "metadata": {},
   "source": [
    "### Solve recycle loops and process specifications with System objects"
   ]
  },
  {
   "cell_type": "markdown",
   "metadata": {},
   "source": [
    "**Designing a chemical process is no easy task. A simple recycle process consisting of a flash with a partial liquid recycle is presented here.**"
   ]
  },
  {
   "cell_type": "markdown",
   "metadata": {},
   "source": [
    "Create a [Mixer](https://biosteam.readthedocs.io/en/latest/Mixer.html) object and a [Splitter](https://biosteam.readthedocs.io/en/latest/Splitter.html) object:"
   ]
  },
  {
   "cell_type": "code",
   "execution_count": 21,
   "metadata": {
    "scrolled": true
   },
   "outputs": [],
   "source": [
    "M1 = units.Mixer('M1')\n",
    "S1 = units.Splitter('S1', split=0.5) # Split to 0th output stream\n",
    "F1.outs[0].ID = 'product'"
   ]
  },
  {
   "cell_type": "markdown",
   "metadata": {},
   "source": [
    "You can [find unit operations and manage flowsheets](https://biosteam.readthedocs.io/en/master/tutorial/Managing%20flowsheets.html) with `find`:"
   ]
  },
  {
   "cell_type": "code",
   "execution_count": 22,
   "metadata": {},
   "outputs": [
    {
     "data": {
      "image/svg+xml": [
       "<svg height=\"307pt\" viewBox=\"0.00 0.00 371.39 307.48\" width=\"371pt\" xmlns=\"http://www.w3.org/2000/svg\" xmlns:xlink=\"http://www.w3.org/1999/xlink\">\n",
       "<g class=\"graph\" id=\"graph0\" transform=\"scale(1 1) rotate(0) translate(4 303.48)\">\n",
       "<title>%3</title>\n",
       "<polygon fill=\"white\" points=\"-4,4 -4,-303.48 367.392,-303.48 367.392,4 -4,4\" stroke=\"none\"/>\n",
       "<!-- S1\n",
       "Splitter&#45;&gt;s5 -->\n",
       "<g class=\"edge\" id=\"edge2\"><title>S1\n",
       "Splitter:c-&gt;s5:w</title>\n",
       "<path d=\"M119.015,-69.7445C143.847,-78.5631 176.991,-87.7401 207.392,-87.7401\" fill=\"none\" stroke=\"black\"/>\n",
       "</g>\n",
       "<!-- S1\n",
       "Splitter&#45;&gt;s6 -->\n",
       "<g class=\"edge\" id=\"edge6\"><title>S1\n",
       "Splitter:c-&gt;s6:w</title>\n",
       "<path d=\"M118.917,-44.4427C143.992,-39.2199 177.438,-33.7401 207.392,-33.7401\" fill=\"none\" stroke=\"black\"/>\n",
       "</g>\n",
       "<!-- F1\n",
       "Flash&#45;&gt;product -->\n",
       "<g class=\"edge\" id=\"edge4\"><title>F1\n",
       "Flash:n-&gt;product:w</title>\n",
       "<path d=\"M230.392,-200.74C230.392,-232.743 270.389,-199.74 302.392,-199.74\" fill=\"none\" stroke=\"black\"/>\n",
       "</g>\n",
       "<!-- F1\n",
       "Flash&#45;&gt;s3 -->\n",
       "<g class=\"edge\" id=\"edge5\"><title>F1\n",
       "Flash:s-&gt;s3:w</title>\n",
       "<path d=\"M230.392,-118.74C230.392,-109.906 301.058,-119.74 309.892,-119.74\" fill=\"none\" stroke=\"black\"/>\n",
       "</g>\n",
       "<!-- M1\n",
       "Mixer&#45;&gt;s4 -->\n",
       "<g class=\"edge\" id=\"edge1\"><title>M1\n",
       "Mixer:e-&gt;s4:w</title>\n",
       "<path d=\"M149.196,-245.74C175.061,-245.74 181.527,-245.74 207.392,-245.74\" fill=\"none\" stroke=\"black\"/>\n",
       "</g>\n",
       "<!-- s1&#45;&gt;F1\n",
       "Flash -->\n",
       "<g class=\"edge\" id=\"edge3\"><title>s1:e-&gt;F1\n",
       "Flash:c</title>\n",
       "<path d=\"M102.196,-159.74C133.332,-159.74 168.756,-159.74 194.299,-159.74\" fill=\"none\" stroke=\"black\"/>\n",
       "</g>\n",
       "<!-- S1\n",
       "Splitter -->\n",
       "<g class=\"node\" id=\"node1\"><title>S1\n",
       "Splitter</title>\n",
       "<defs>\n",
       "<linearGradient gradientUnits=\"userSpaceOnUse\" id=\"l_0\" x1=\"-0.196446\" x2=\"118.892\" y1=\"-53.7401\" y2=\"-53.7401\">\n",
       "<stop offset=\"0\" style=\"stop-color:#bfbfbf;stop-opacity:1.;\"/>\n",
       "<stop offset=\"1\" style=\"stop-color:white;stop-opacity:1.;\"/>\n",
       "</linearGradient>\n",
       "</defs>\n",
       "<polygon fill=\"url(#l_0)\" points=\"-0.196446,-53.7401 118.892,0.241193 118.892,-107.721 -0.196446,-53.7401\" stroke=\"black\"/>\n",
       "<text font-family=\"Times New Roman,serif\" font-size=\"14.00\" text-anchor=\"middle\" x=\"79.196\" y=\"-57.5401\">S1</text>\n",
       "<text font-family=\"Times New Roman,serif\" font-size=\"14.00\" text-anchor=\"middle\" x=\"79.196\" y=\"-42.5401\">Splitter</text>\n",
       "</g>\n",
       "<!-- F1\n",
       "Flash -->\n",
       "<g class=\"node\" id=\"node2\"><title>F1\n",
       "Flash</title>\n",
       "<defs>\n",
       "<linearGradient gradientUnits=\"userSpaceOnUse\" id=\"l_1\" x1=\"194.392\" x2=\"266.392\" y1=\"-159.74\" y2=\"-159.74\">\n",
       "<stop offset=\"0\" style=\"stop-color:white;stop-opacity:1.;\"/>\n",
       "<stop offset=\"1\" style=\"stop-color:#cdcdcd;stop-opacity:1.;\"/>\n",
       "</linearGradient>\n",
       "</defs>\n",
       "<polygon fill=\"url(#l_1)\" points=\"266.392,-199.24 194.392,-199.24 194.392,-120.24 266.392,-120.24 266.392,-199.24\" stroke=\"black\"/>\n",
       "<text font-family=\"Times New Roman,serif\" font-size=\"14.00\" text-anchor=\"middle\" x=\"230.392\" y=\"-163.54\">F1</text>\n",
       "<text font-family=\"Times New Roman,serif\" font-size=\"14.00\" text-anchor=\"middle\" x=\"230.392\" y=\"-148.54\">Flash</text>\n",
       "</g>\n",
       "<!-- M1\n",
       "Mixer -->\n",
       "<g class=\"node\" id=\"node3\"><title>M1\n",
       "Mixer</title>\n",
       "<defs>\n",
       "<linearGradient gradientUnits=\"userSpaceOnUse\" id=\"l_2\" x1=\"44.6492\" x2=\"148.289\" y1=\"-245.74\" y2=\"-245.74\">\n",
       "<stop offset=\"0\" style=\"stop-color:white;stop-opacity:1.;\"/>\n",
       "<stop offset=\"1\" style=\"stop-color:#cdcdcd;stop-opacity:1.;\"/>\n",
       "</linearGradient>\n",
       "</defs>\n",
       "<polygon fill=\"url(#l_2)\" points=\"148.289,-245.74 44.6492,-299.721 44.6492,-191.759 148.289,-245.74\" stroke=\"black\"/>\n",
       "<text font-family=\"Times New Roman,serif\" font-size=\"14.00\" text-anchor=\"middle\" x=\"79.196\" y=\"-249.54\">M1</text>\n",
       "<text font-family=\"Times New Roman,serif\" font-size=\"14.00\" text-anchor=\"middle\" x=\"79.196\" y=\"-234.54\">Mixer</text>\n",
       "</g>\n",
       "<!-- s4 -->\n",
       "<g class=\"node\" id=\"node4\"><title>s4</title>\n",
       "<polygon fill=\"#79dae8\" points=\"233.892,-261.24 208.892,-261.24 208.892,-230.24 233.892,-230.24 233.892,-224.24 251.892,-245.74 233.892,-267.24 233.892,-261.24\" stroke=\"black\"/>\n",
       "<text font-family=\"Times New Roman,serif\" font-size=\"14.00\" text-anchor=\"middle\" x=\"230.392\" y=\"-242.04\">s4</text>\n",
       "</g>\n",
       "<!-- s5 -->\n",
       "<g class=\"node\" id=\"node5\"><title>s5</title>\n",
       "<polygon fill=\"#79dae8\" points=\"233.892,-103.24 208.892,-103.24 208.892,-72.2401 233.892,-72.2401 233.892,-66.2401 251.892,-87.7401 233.892,-109.24 233.892,-103.24\" stroke=\"black\"/>\n",
       "<text font-family=\"Times New Roman,serif\" font-size=\"14.00\" text-anchor=\"middle\" x=\"230.392\" y=\"-84.0401\">s5</text>\n",
       "</g>\n",
       "<!-- s1 -->\n",
       "<g class=\"node\" id=\"node6\"><title>s1</title>\n",
       "<polygon fill=\"#79dae8\" points=\"82.696,-175.24 57.696,-175.24 57.696,-144.24 82.696,-144.24 82.696,-138.24 100.696,-159.74 82.696,-181.24 82.696,-175.24\" stroke=\"black\"/>\n",
       "<text font-family=\"Times New Roman,serif\" font-size=\"14.00\" text-anchor=\"middle\" x=\"79.196\" y=\"-156.04\">s1</text>\n",
       "</g>\n",
       "<!-- product -->\n",
       "<g class=\"node\" id=\"node7\"><title>product</title>\n",
       "<polygon fill=\"#79dae8\" points=\"345.392,-215.24 302.392,-215.24 302.392,-184.24 345.392,-184.24 345.392,-178.24 363.392,-199.74 345.392,-221.24 345.392,-215.24\" stroke=\"black\"/>\n",
       "<text font-family=\"Times New Roman,serif\" font-size=\"14.00\" text-anchor=\"middle\" x=\"332.892\" y=\"-196.04\">product</text>\n",
       "</g>\n",
       "<!-- s3 -->\n",
       "<g class=\"node\" id=\"node8\"><title>s3</title>\n",
       "<polygon fill=\"#79dae8\" points=\"336.392,-135.24 311.392,-135.24 311.392,-104.24 336.392,-104.24 336.392,-98.2401 354.392,-119.74 336.392,-141.24 336.392,-135.24\" stroke=\"black\"/>\n",
       "<text font-family=\"Times New Roman,serif\" font-size=\"14.00\" text-anchor=\"middle\" x=\"332.892\" y=\"-116.04\">s3</text>\n",
       "</g>\n",
       "<!-- s6 -->\n",
       "<g class=\"node\" id=\"node9\"><title>s6</title>\n",
       "<polygon fill=\"#79dae8\" points=\"233.892,-49.2401 208.892,-49.2401 208.892,-18.2401 233.892,-18.2401 233.892,-12.2401 251.892,-33.7401 233.892,-55.2401 233.892,-49.2401\" stroke=\"black\"/>\n",
       "<text font-family=\"Times New Roman,serif\" font-size=\"14.00\" text-anchor=\"middle\" x=\"230.392\" y=\"-30.0401\">s6</text>\n",
       "</g>\n",
       "</g>\n",
       "</svg>"
      ],
      "text/plain": [
       "<IPython.core.display.SVG object>"
      ]
     },
     "metadata": {},
     "output_type": "display_data"
    }
   ],
   "source": [
    "bst.find.diagram()"
   ]
  },
  {
   "cell_type": "markdown",
   "metadata": {},
   "source": [
    "Connect streams and make a recycle loop using [-pipe- notation](https://biosteam.readthedocs.io/en/latest/Using -pipe- notation.html):"
   ]
  },
  {
   "cell_type": "code",
   "execution_count": 24,
   "metadata": {},
   "outputs": [],
   "source": [
    "feed = tmo.Stream('feed', Glycerol=100, Water=450)\n",
    "\n",
    "# Broken down -pipe- notation\n",
    "[S1-0, feed]-M1     # M1.ins[:] = [S1.outs[0], feed]\n",
    "M1-F1               # F1.ins[:] = M1.outs\n",
    "F1-1-S1             # S1.ins[:] = [F1.outs[1]]\n",
    "\n",
    "# All together\n",
    "[S1-0, feed]-M1-F1-1-S1;"
   ]
  },
  {
   "cell_type": "markdown",
   "metadata": {},
   "source": [
    "Create [System](https://biosteam.readthedocs.io/en/latest/System.html) object by specifying an ID, a `recycle` stream and a `network` of units:"
   ]
  },
  {
   "cell_type": "code",
   "execution_count": 25,
   "metadata": {},
   "outputs": [
    {
     "name": "stdout",
     "output_type": "stream",
     "text": [
      "System: sys1\n",
      " recycle: s5\n",
      " network: (M1, F1, S1)\n",
      " convergence error: Flow rate   0.00e+00 kmol/hr\n",
      "                    Temperature 0.00e+00 K\n",
      " iterations: 0\n"
     ]
    }
   ],
   "source": [
    "sys1 = bst.System('sys1', network=(M1, F1, S1), recycle=S1-0) # recycle=S1.outs[0]\n",
    "sys1"
   ]
  },
  {
   "cell_type": "markdown",
   "metadata": {},
   "source": [
    "View the System object as a Graphviz diagram:"
   ]
  },
  {
   "cell_type": "code",
   "execution_count": 26,
   "metadata": {},
   "outputs": [
    {
     "data": {
      "image/png": "[encoded data removed]",
      "text/plain": [
       "<IPython.core.display.Image object>"
      ]
     },
     "metadata": {},
     "output_type": "display_data"
    }
   ],
   "source": [
    "sys1.diagram()"
   ]
  },
  {
   "cell_type": "markdown",
   "metadata": {},
   "source": [
    "Simulate the System object:"
   ]
  },
  {
   "cell_type": "code",
   "execution_count": 27,
   "metadata": {},
   "outputs": [
    {
     "name": "stdout",
     "output_type": "stream",
     "text": [
      "System: sys1\n",
      " recycle: s5\n",
      " network: (M1, F1, S1)\n",
      " convergence error: Flow rate   5.91e-03 kmol/hr\n",
      "                    Temperature 8.44e-02 K\n",
      " iterations: 5\n"
     ]
    }
   ],
   "source": [
    "sys1.simulate()\n",
    "sys1.show()"
   ]
  },
  {
   "cell_type": "code",
   "execution_count": 28,
   "metadata": {},
   "outputs": [
    {
     "name": "stdout",
     "output_type": "stream",
     "text": [
      "Flash: F1\n",
      "ins...\n",
      "[0] s4  from  Mixer-M1\n",
      "    phase: 'l', T: 326.07 K, P: 101325 Pa\n",
      "    flow (kmol/hr): Water     533\n",
      "                    Glycerol  200\n",
      "outs...\n",
      "[0] product\n",
      "    phase: 'g', T: 377.45 K, P: 101325 Pa\n",
      "    flow (kmol/hr): Water     367\n",
      "                    Glycerol  0.0795\n",
      "[1] s3  to  Splitter-S1\n",
      "    phase: 'l', T: 377.45 K, P: 101325 Pa\n",
      "    flow (kmol/hr): Water     167\n",
      "                    Glycerol  200\n"
     ]
    }
   ],
   "source": [
    "F1.show()"
   ]
  },
  {
   "cell_type": "code",
   "execution_count": 29,
   "metadata": {},
   "outputs": [
    {
     "data": {
      "text/html": [
       "<div>\n",
       "<style scoped>\n",
       "    .dataframe tbody tr th:only-of-type {\n",
       "        vertical-align: middle;\n",
       "    }\n",
       "\n",
       "    .dataframe tbody tr th {\n",
       "        vertical-align: top;\n",
       "    }\n",
       "\n",
       "    .dataframe thead th {\n",
       "        text-align: right;\n",
       "    }\n",
       "</style>\n",
       "<table border=\"1\" class=\"dataframe\">\n",
       "  <thead>\n",
       "    <tr style=\"text-align: right;\">\n",
       "      <th></th>\n",
       "      <th>Flash</th>\n",
       "      <th>Units</th>\n",
       "      <th>F1</th>\n",
       "    </tr>\n",
       "  </thead>\n",
       "  <tbody>\n",
       "    <tr>\n",
       "      <th rowspan=\"2\" valign=\"top\">Power</th>\n",
       "      <th>Rate</th>\n",
       "      <td>kW</td>\n",
       "      <td>0</td>\n",
       "    </tr>\n",
       "    <tr>\n",
       "      <th>Cost</th>\n",
       "      <td>USD/hr</td>\n",
       "      <td>0</td>\n",
       "    </tr>\n",
       "    <tr>\n",
       "      <th rowspan=\"3\" valign=\"top\">Low pressure steam</th>\n",
       "      <th>Duty</th>\n",
       "      <td>kJ/hr</td>\n",
       "      <td>2.15e+07</td>\n",
       "    </tr>\n",
       "    <tr>\n",
       "      <th>Flow</th>\n",
       "      <td>kmol/hr</td>\n",
       "      <td>553</td>\n",
       "    </tr>\n",
       "    <tr>\n",
       "      <th>Cost</th>\n",
       "      <td>USD/hr</td>\n",
       "      <td>111</td>\n",
       "    </tr>\n",
       "    <tr>\n",
       "      <th rowspan=\"6\" valign=\"top\">Design</th>\n",
       "      <th>SepType</th>\n",
       "      <td></td>\n",
       "      <td>Vertical</td>\n",
       "    </tr>\n",
       "    <tr>\n",
       "      <th>Length</th>\n",
       "      <td>ft</td>\n",
       "      <td>35.5</td>\n",
       "    </tr>\n",
       "    <tr>\n",
       "      <th>Diameter</th>\n",
       "      <td>ft</td>\n",
       "      <td>6</td>\n",
       "    </tr>\n",
       "    <tr>\n",
       "      <th>Weight</th>\n",
       "      <td>lb</td>\n",
       "      <td>1.12e+04</td>\n",
       "    </tr>\n",
       "    <tr>\n",
       "      <th>Wall thickness</th>\n",
       "      <td>in</td>\n",
       "      <td>0.375</td>\n",
       "    </tr>\n",
       "    <tr>\n",
       "      <th>Material</th>\n",
       "      <td></td>\n",
       "      <td>Carbon steel</td>\n",
       "    </tr>\n",
       "    <tr>\n",
       "      <th rowspan=\"2\" valign=\"top\">Purchase cost</th>\n",
       "      <th>Flash</th>\n",
       "      <td>USD</td>\n",
       "      <td>7.45e+04</td>\n",
       "    </tr>\n",
       "    <tr>\n",
       "      <th>Heat exchanger</th>\n",
       "      <td>USD</td>\n",
       "      <td>4.63e+03</td>\n",
       "    </tr>\n",
       "    <tr>\n",
       "      <th>Total purchase cost</th>\n",
       "      <th></th>\n",
       "      <td>USD</td>\n",
       "      <td>7.92e+04</td>\n",
       "    </tr>\n",
       "    <tr>\n",
       "      <th>Utility cost</th>\n",
       "      <th></th>\n",
       "      <td>USD/hr</td>\n",
       "      <td>111</td>\n",
       "    </tr>\n",
       "  </tbody>\n",
       "</table>\n",
       "</div>"
      ],
      "text/plain": [
       "Flash                                 Units            F1\n",
       "Power               Rate                 kW             0\n",
       "                    Cost             USD/hr             0\n",
       "Low pressure steam  Duty              kJ/hr      2.15e+07\n",
       "                    Flow            kmol/hr           553\n",
       "                    Cost             USD/hr           111\n",
       "Design              SepType                      Vertical\n",
       "                    Length               ft          35.5\n",
       "                    Diameter             ft             6\n",
       "                    Weight               lb      1.12e+04\n",
       "                    Wall thickness       in         0.375\n",
       "                    Material                 Carbon steel\n",
       "Purchase cost       Flash               USD      7.45e+04\n",
       "                    Heat exchanger      USD      4.63e+03\n",
       "Total purchase cost                     USD      7.92e+04\n",
       "Utility cost                         USD/hr           111"
      ]
     },
     "execution_count": 29,
     "metadata": {},
     "output_type": "execute_result"
    }
   ],
   "source": [
    "F1.results()"
   ]
  },
  {
   "cell_type": "markdown",
   "metadata": {},
   "source": [
    "Save a system report:"
   ]
  },
  {
   "cell_type": "code",
   "execution_count": null,
   "metadata": {},
   "outputs": [],
   "source": [
    "sys1.save_report('Example.xlsx') # Try this on your computer and open excel"
   ]
  },
  {
   "cell_type": "markdown",
   "metadata": {},
   "source": [
    "Once process settings are set and the system is simulated, it is possible to perform [techno-economic analysis](https://biosteam.readthedocs.io/en/latest/Techno-economic analysis.html). If a [TEA](https://biosteam.readthedocs.io/en/latest/TEA.html) object of the system was initialized, TEA results would also appear in the report."
   ]
  },
  {
   "cell_type": "markdown",
   "metadata": {},
   "source": [
    "### Join the community!"
   ]
  },
  {
   "cell_type": "markdown",
   "metadata": {},
   "source": [
    "BioSTEAM will become more relevant with communitity involvement. It is strongly encouraged to share designs and new [Unit subclasses](https://biosteam.readthedocs.io/en/latest/Inheriting from Unit.html), no matter how preliminary or rigorous they are."
   ]
  }
 ],
 "metadata": {
  "kernelspec": {
   "display_name": "Python 3",
   "language": "python",
   "name": "python3"
  },
  "language_info": {
   "codemirror_mode": {
    "name": "ipython",
    "version": 3
   },
   "file_extension": ".py",
   "mimetype": "text/x-python",
   "name": "python",
   "nbconvert_exporter": "python",
   "pygments_lexer": "ipython3",
   "version": "3.6.5"
  }
 },
 "nbformat": 4,
 "nbformat_minor": 2
}
