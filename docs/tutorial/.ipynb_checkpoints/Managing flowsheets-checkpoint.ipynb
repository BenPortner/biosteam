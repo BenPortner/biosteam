{
 "cells": [
  {
   "cell_type": "markdown",
   "metadata": {},
   "source": [
    "# Managing flowsheets"
   ]
  },
  {
   "cell_type": "markdown",
   "metadata": {},
   "source": [
    "### Retrieve any Unit, Stream or System object by ID"
   ]
  },
  {
   "cell_type": "markdown",
   "metadata": {},
   "source": [
    "`find` has access to Flowsheet objects where all BioSTEAM objects are registered. The main flowsheet defaults to the 'Default' flowsheet:"
   ]
  },
  {
   "cell_type": "code",
   "execution_count": 1,
   "metadata": {},
   "outputs": [
    {
     "data": {
      "text/plain": [
       "<MainFlowsheet: default>"
      ]
     },
     "execution_count": 1,
     "metadata": {},
     "output_type": "execute_result"
    }
   ],
   "source": [
    "import biosteam as bst\n",
    "bst.find"
   ]
  },
  {
   "cell_type": "markdown",
   "metadata": {},
   "source": [
    "Find a Unit object:"
   ]
  },
  {
   "cell_type": "code",
   "execution_count": 2,
   "metadata": {},
   "outputs": [
    {
     "data": {
      "image/png": "[encoded data removed]",
      "text/plain": [
       "<IPython.core.display.Image object>"
      ]
     },
     "metadata": {},
     "output_type": "display_data"
    },
    {
     "name": "stdout",
     "output_type": "stream",
     "text": [
      "Mixer: M1\n",
      "ins...\n",
      "[0] missing stream\n",
      "[1] missing stream\n",
      "outs...\n",
      "[0] d1\n",
      "    phase: 'l', T: 298.15 K, P: 101325 Pa\n",
      "    flow: 0\n"
     ]
    }
   ],
   "source": [
    "bst.Stream.species = bst.Species('Water', 'Ethanol')\n",
    "unit = bst.units.Mixer('M1')\n",
    "bst.find('M1')"
   ]
  },
  {
   "cell_type": "markdown",
   "metadata": {},
   "source": [
    "Find a Stream object:"
   ]
  },
  {
   "cell_type": "code",
   "execution_count": 3,
   "metadata": {},
   "outputs": [
    {
     "name": "stdout",
     "output_type": "stream",
     "text": [
      "Stream: d1  from  Mixer-M1\n",
      " phase: 'l', T: 298.15 K, P: 101325 Pa\n",
      " flow: 0\n"
     ]
    }
   ],
   "source": [
    "bst.find('d1')"
   ]
  },
  {
   "cell_type": "markdown",
   "metadata": {},
   "source": [
    "All Unit objects can be viewed as a diagram:"
   ]
  },
  {
   "cell_type": "code",
   "execution_count": 4,
   "metadata": {},
   "outputs": [
    {
     "data": {
      "image/svg+xml": [
       "<svg height=\"233pt\" viewBox=\"0.00 0.00 225.59 233.48\" width=\"226pt\" xmlns=\"http://www.w3.org/2000/svg\" xmlns:xlink=\"http://www.w3.org/1999/xlink\">\n",
       "<g class=\"graph\" id=\"graph0\" transform=\"scale(1 1) rotate(0) translate(4 229.48)\">\n",
       "<title>%3</title>\n",
       "<polygon fill=\"white\" points=\"-4,4 -4,-229.48 221.593,-229.48 221.593,4 -4,4\" stroke=\"none\"/>\n",
       "<!-- M2\n",
       "Mixer&#45;&gt;d2 -->\n",
       "<g class=\"edge\" id=\"edge2\"><title>M2\n",
       "Mixer:e-&gt;d2:w</title>\n",
       "<path d=\"M138.593,-53.7401C154.593,-53.7401 158.593,-53.7401 174.593,-53.7401\" fill=\"none\" stroke=\"black\"/>\n",
       "</g>\n",
       "<!-- M1\n",
       "Mixer&#45;&gt;d1 -->\n",
       "<g class=\"edge\" id=\"edge1\"><title>M1\n",
       "Mixer:e-&gt;d1:w</title>\n",
       "<path d=\"M138.593,-171.74C154.593,-171.74 158.593,-171.74 174.593,-171.74\" fill=\"none\" stroke=\"black\"/>\n",
       "</g>\n",
       "<!-- M2\n",
       "Mixer -->\n",
       "<g class=\"node\" id=\"node1\"><title>M2\n",
       "Mixer</title>\n",
       "<defs>\n",
       "<linearGradient gradientUnits=\"userSpaceOnUse\" id=\"l_0\" x1=\"34.7497\" x2=\"138.39\" y1=\"-53.7401\" y2=\"-53.7401\">\n",
       "<stop offset=\"0\" style=\"stop-color:white;stop-opacity:1.;\"/>\n",
       "<stop offset=\"1\" style=\"stop-color:#cdcdcd;stop-opacity:1.;\"/>\n",
       "</linearGradient>\n",
       "</defs>\n",
       "<polygon fill=\"url(#l_0)\" points=\"138.39,-53.7401 34.7497,-107.721 34.7497,0.241193 138.39,-53.7401\" stroke=\"black\"/>\n",
       "<text font-family=\"Times New Roman,serif\" font-size=\"14.00\" text-anchor=\"middle\" x=\"69.2965\" y=\"-57.5401\">M2</text>\n",
       "<text font-family=\"Times New Roman,serif\" font-size=\"14.00\" text-anchor=\"middle\" x=\"69.2965\" y=\"-42.5401\">Mixer</text>\n",
       "</g>\n",
       "<!-- M1\n",
       "Mixer -->\n",
       "<g class=\"node\" id=\"node2\"><title>M1\n",
       "Mixer</title>\n",
       "<defs>\n",
       "<linearGradient gradientUnits=\"userSpaceOnUse\" id=\"l_1\" x1=\"34.7497\" x2=\"138.39\" y1=\"-171.74\" y2=\"-171.74\">\n",
       "<stop offset=\"0\" style=\"stop-color:white;stop-opacity:1.;\"/>\n",
       "<stop offset=\"1\" style=\"stop-color:#cdcdcd;stop-opacity:1.;\"/>\n",
       "</linearGradient>\n",
       "</defs>\n",
       "<polygon fill=\"url(#l_1)\" points=\"138.39,-171.74 34.7497,-225.721 34.7497,-117.759 138.39,-171.74\" stroke=\"black\"/>\n",
       "<text font-family=\"Times New Roman,serif\" font-size=\"14.00\" text-anchor=\"middle\" x=\"69.2965\" y=\"-175.54\">M1</text>\n",
       "<text font-family=\"Times New Roman,serif\" font-size=\"14.00\" text-anchor=\"middle\" x=\"69.2965\" y=\"-160.54\">Mixer</text>\n",
       "</g>\n",
       "<!-- d1 -->\n",
       "<g class=\"node\" id=\"node3\"><title>d1</title>\n",
       "<polygon fill=\"#79dae8\" points=\"199.593,-187.24 174.593,-187.24 174.593,-156.24 199.593,-156.24 199.593,-150.24 217.593,-171.74 199.593,-193.24 199.593,-187.24\" stroke=\"black\"/>\n",
       "<text font-family=\"Times New Roman,serif\" font-size=\"14.00\" text-anchor=\"middle\" x=\"196.093\" y=\"-168.04\">d1</text>\n",
       "</g>\n",
       "<!-- d2 -->\n",
       "<g class=\"node\" id=\"node4\"><title>d2</title>\n",
       "<polygon fill=\"#79dae8\" points=\"199.593,-69.2401 174.593,-69.2401 174.593,-38.2401 199.593,-38.2401 199.593,-32.2401 217.593,-53.7401 199.593,-75.2401 199.593,-69.2401\" stroke=\"black\"/>\n",
       "<text font-family=\"Times New Roman,serif\" font-size=\"14.00\" text-anchor=\"middle\" x=\"196.093\" y=\"-50.0401\">d2</text>\n",
       "</g>\n",
       "</g>\n",
       "</svg>"
      ],
      "text/plain": [
       "<IPython.core.display.SVG object>"
      ]
     },
     "metadata": {},
     "output_type": "display_data"
    }
   ],
   "source": [
    "bst.units.Mixer('M2')\n",
    "bst.find.diagram()"
   ]
  },
  {
   "cell_type": "markdown",
   "metadata": {},
   "source": [
    "All Stream, Unit, and System objects are stored as Register objects in `find`:"
   ]
  },
  {
   "cell_type": "code",
   "execution_count": 5,
   "metadata": {},
   "outputs": [
    {
     "data": {
      "text/plain": [
       "Register:\n",
       " <Stream: d1>\n",
       " <Stream: d2>"
      ]
     },
     "execution_count": 5,
     "metadata": {},
     "output_type": "execute_result"
    }
   ],
   "source": [
    "bst.find.stream"
   ]
  },
  {
   "cell_type": "code",
   "execution_count": 6,
   "metadata": {},
   "outputs": [
    {
     "data": {
      "text/plain": [
       "Register:\n",
       " <Mixer: M1>\n",
       " <Mixer: M2>"
      ]
     },
     "execution_count": 6,
     "metadata": {},
     "output_type": "execute_result"
    }
   ],
   "source": [
    "bst.find.unit"
   ]
  },
  {
   "cell_type": "code",
   "execution_count": 7,
   "metadata": {},
   "outputs": [
    {
     "data": {
      "text/plain": [
       "Register: (Empty)"
      ]
     },
     "execution_count": 7,
     "metadata": {},
     "output_type": "execute_result"
    }
   ],
   "source": [
    "bst.find.system"
   ]
  },
  {
   "cell_type": "markdown",
   "metadata": {},
   "source": [
    "Access items in a register:"
   ]
  },
  {
   "cell_type": "code",
   "execution_count": 8,
   "metadata": {},
   "outputs": [
    {
     "data": {
      "image/png": "[encoded data removed]",
      "text/plain": [
       "<IPython.core.display.Image object>"
      ]
     },
     "metadata": {},
     "output_type": "display_data"
    },
    {
     "name": "stdout",
     "output_type": "stream",
     "text": [
      "Mixer: M1\n",
      "ins...\n",
      "[0] missing stream\n",
      "[1] missing stream\n",
      "outs...\n",
      "[0] d1\n",
      "    phase: 'l', T: 298.15 K, P: 101325 Pa\n",
      "    flow: 0\n"
     ]
    }
   ],
   "source": [
    "bst.find.unit.M1"
   ]
  },
  {
   "cell_type": "markdown",
   "metadata": {},
   "source": [
    "### Switch between flowsheets"
   ]
  },
  {
   "cell_type": "markdown",
   "metadata": {},
   "source": [
    "A new flowsheet may be created and set as the main flowsheet:"
   ]
  },
  {
   "cell_type": "code",
   "execution_count": 9,
   "metadata": {},
   "outputs": [
    {
     "data": {
      "text/plain": [
       "<MainFlowsheet: new_flowsheet>"
      ]
     },
     "execution_count": 9,
     "metadata": {},
     "output_type": "execute_result"
    }
   ],
   "source": [
    "bst.find.set_flowsheet(bst.Flowsheet('new_flowsheet'))\n",
    "bst.find"
   ]
  },
  {
   "cell_type": "markdown",
   "metadata": {},
   "source": [
    "Now all new objects will be registered in the new flowsheet:"
   ]
  },
  {
   "cell_type": "code",
   "execution_count": 10,
   "metadata": {},
   "outputs": [
    {
     "data": {
      "image/svg+xml": [
       "<svg height=\"115pt\" viewBox=\"0.00 0.00 225.59 115.48\" width=\"226pt\" xmlns=\"http://www.w3.org/2000/svg\" xmlns:xlink=\"http://www.w3.org/1999/xlink\">\n",
       "<g class=\"graph\" id=\"graph0\" transform=\"scale(1 1) rotate(0) translate(4 111.48)\">\n",
       "<title>%3</title>\n",
       "<polygon fill=\"white\" points=\"-4,4 -4,-111.48 221.593,-111.48 221.593,4 -4,4\" stroke=\"none\"/>\n",
       "<!-- M3\n",
       "Mixer&#45;&gt;d3 -->\n",
       "<g class=\"edge\" id=\"edge1\"><title>M3\n",
       "Mixer:e-&gt;d3:w</title>\n",
       "<path d=\"M138.593,-53.7401C154.593,-53.7401 158.593,-53.7401 174.593,-53.7401\" fill=\"none\" stroke=\"black\"/>\n",
       "</g>\n",
       "<!-- M3\n",
       "Mixer -->\n",
       "<g class=\"node\" id=\"node1\"><title>M3\n",
       "Mixer</title>\n",
       "<defs>\n",
       "<linearGradient gradientUnits=\"userSpaceOnUse\" id=\"l_0\" x1=\"34.7497\" x2=\"138.39\" y1=\"-53.7401\" y2=\"-53.7401\">\n",
       "<stop offset=\"0\" style=\"stop-color:white;stop-opacity:1.;\"/>\n",
       "<stop offset=\"1\" style=\"stop-color:#cdcdcd;stop-opacity:1.;\"/>\n",
       "</linearGradient>\n",
       "</defs>\n",
       "<polygon fill=\"url(#l_0)\" points=\"138.39,-53.7401 34.7497,-107.721 34.7497,0.241193 138.39,-53.7401\" stroke=\"black\"/>\n",
       "<text font-family=\"Times New Roman,serif\" font-size=\"14.00\" text-anchor=\"middle\" x=\"69.2965\" y=\"-57.5401\">M3</text>\n",
       "<text font-family=\"Times New Roman,serif\" font-size=\"14.00\" text-anchor=\"middle\" x=\"69.2965\" y=\"-42.5401\">Mixer</text>\n",
       "</g>\n",
       "<!-- d3 -->\n",
       "<g class=\"node\" id=\"node2\"><title>d3</title>\n",
       "<polygon fill=\"#79dae8\" points=\"199.593,-69.2401 174.593,-69.2401 174.593,-38.2401 199.593,-38.2401 199.593,-32.2401 217.593,-53.7401 199.593,-75.2401 199.593,-69.2401\" stroke=\"black\"/>\n",
       "<text font-family=\"Times New Roman,serif\" font-size=\"14.00\" text-anchor=\"middle\" x=\"196.093\" y=\"-50.0401\">d3</text>\n",
       "</g>\n",
       "</g>\n",
       "</svg>"
      ],
      "text/plain": [
       "<IPython.core.display.SVG object>"
      ]
     },
     "metadata": {},
     "output_type": "display_data"
    }
   ],
   "source": [
    "unit = bst.units.Mixer('M3')\n",
    "bst.find.diagram()"
   ]
  },
  {
   "cell_type": "markdown",
   "metadata": {},
   "source": [
    "Note that objects in the original flowsheet are not defined anymore and searching them would raise an error:"
   ]
  },
  {
   "cell_type": "code",
   "execution_count": 11,
   "metadata": {},
   "outputs": [
    {
     "ename": "LookupError",
     "evalue": "no registered item 'M1'",
     "output_type": "error",
     "traceback": [
      "\u001b[1;31m---------------------------------------------------------------------------\u001b[0m",
      "\u001b[1;31mLookupError\u001b[0m                               Traceback (most recent call last)",
      "\u001b[1;32m<ipython-input-11-0658d1dcac4c>\u001b[0m in \u001b[0;36m<module>\u001b[1;34m()\u001b[0m\n\u001b[1;32m----> 1\u001b[1;33m \u001b[0mbst\u001b[0m\u001b[1;33m.\u001b[0m\u001b[0mfind\u001b[0m\u001b[1;33m(\u001b[0m\u001b[1;34m'M1'\u001b[0m\u001b[1;33m)\u001b[0m\u001b[1;33m\u001b[0m\u001b[0m\n\u001b[0m",
      "\u001b[1;32m~\\OneDrive\\Code\\biosteam\\biosteam\\_flowsheet.py\u001b[0m in \u001b[0;36m__call__\u001b[1;34m(self, ID)\u001b[0m\n\u001b[0;32m    254\u001b[0m                 \u001b[1;32mor\u001b[0m \u001b[0msearch_register\u001b[0m\u001b[1;33m(\u001b[0m\u001b[0mself\u001b[0m\u001b[1;33m.\u001b[0m\u001b[0munit\u001b[0m\u001b[1;33m,\u001b[0m \u001b[0mID\u001b[0m\u001b[1;33m)\u001b[0m\u001b[1;33m\u001b[0m\u001b[0m\n\u001b[0;32m    255\u001b[0m                 or search_register(self.system, ID))\n\u001b[1;32m--> 256\u001b[1;33m         \u001b[1;32mif\u001b[0m \u001b[1;32mnot\u001b[0m \u001b[0mobj\u001b[0m\u001b[1;33m:\u001b[0m \u001b[1;32mraise\u001b[0m \u001b[0mLookupError\u001b[0m\u001b[1;33m(\u001b[0m\u001b[1;34mf\"no registered item '{ID}'\"\u001b[0m\u001b[1;33m)\u001b[0m\u001b[1;33m\u001b[0m\u001b[0m\n\u001b[0m\u001b[0;32m    257\u001b[0m         \u001b[1;32mreturn\u001b[0m \u001b[0mobj\u001b[0m\u001b[1;33m\u001b[0m\u001b[0m\n\u001b[0;32m    258\u001b[0m \u001b[1;33m\u001b[0m\u001b[0m\n",
      "\u001b[1;31mLookupError\u001b[0m: no registered item 'M1'"
     ]
    }
   ],
   "source": [
    "bst.find('M1')"
   ]
  },
  {
   "cell_type": "markdown",
   "metadata": {},
   "source": [
    "All Flowsheet objects are added to the `flowsheet` registry. Switching between flowsheets is easy:"
   ]
  },
  {
   "cell_type": "code",
   "execution_count": 12,
   "metadata": {},
   "outputs": [
    {
     "data": {
      "text/plain": [
       "<MainFlowsheet: default>"
      ]
     },
     "execution_count": 12,
     "metadata": {},
     "output_type": "execute_result"
    }
   ],
   "source": [
    "bst.find.set_flowsheet(bst.find.flowsheet['default']) # Switch back to default flowsheet\n",
    "bst.find"
   ]
  },
  {
   "cell_type": "markdown",
   "metadata": {},
   "source": [
    "As an example, the `lipidcane` biorefinery defines its own flowsheet and leaves it as the main flowsheet when you import it:"
   ]
  },
  {
   "cell_type": "code",
   "execution_count": 13,
   "metadata": {},
   "outputs": [
    {
     "ename": "ImportError",
     "evalue": "cannot import name 'DissolvedCompound'",
     "output_type": "error",
     "traceback": [
      "\u001b[1;31m---------------------------------------------------------------------------\u001b[0m",
      "\u001b[1;31mImportError\u001b[0m                               Traceback (most recent call last)",
      "\u001b[1;32m<ipython-input-13-26669b941235>\u001b[0m in \u001b[0;36m<module>\u001b[1;34m()\u001b[0m\n\u001b[1;32m----> 1\u001b[1;33m \u001b[1;32mimport\u001b[0m \u001b[0mlipidcane\u001b[0m \u001b[1;31m# You must pip install lipidcane first\u001b[0m\u001b[1;33m\u001b[0m\u001b[0m\n\u001b[0m\u001b[0;32m      2\u001b[0m \u001b[0mbst\u001b[0m\u001b[1;33m.\u001b[0m\u001b[0mfind\u001b[0m\u001b[1;33m\u001b[0m\u001b[0m\n",
      "\u001b[1;32mC:\\ProgramData\\Anaconda3\\lib\\site-packages\\lipidcane\\__init__.py\u001b[0m in \u001b[0;36m<module>\u001b[1;34m()\u001b[0m\n\u001b[0;32m      6\u001b[0m \"\"\"\n\u001b[0;32m      7\u001b[0m \u001b[1;32mfrom\u001b[0m \u001b[1;33m.\u001b[0m \u001b[1;32mimport\u001b[0m \u001b[0mprocess_settings\u001b[0m\u001b[1;33m\u001b[0m\u001b[0m\n\u001b[1;32m----> 8\u001b[1;33m \u001b[1;32mfrom\u001b[0m \u001b[1;33m.\u001b[0m \u001b[1;32mimport\u001b[0m \u001b[0methanol_species\u001b[0m \u001b[1;32mas\u001b[0m \u001b[0m_esp\u001b[0m\u001b[1;33m\u001b[0m\u001b[0m\n\u001b[0m\u001b[0;32m      9\u001b[0m \u001b[1;32mfrom\u001b[0m \u001b[1;33m.\u001b[0m \u001b[1;32mimport\u001b[0m \u001b[0mpretreatment_species\u001b[0m \u001b[1;32mas\u001b[0m \u001b[0m_psp\u001b[0m\u001b[1;33m\u001b[0m\u001b[0m\n\u001b[0;32m     10\u001b[0m \u001b[1;32mfrom\u001b[0m \u001b[1;33m.\u001b[0m \u001b[1;32mimport\u001b[0m \u001b[0mbiodiesel_species\u001b[0m \u001b[1;32mas\u001b[0m \u001b[0m_bsp\u001b[0m\u001b[1;33m\u001b[0m\u001b[0m\n",
      "\u001b[1;32mC:\\ProgramData\\Anaconda3\\lib\\site-packages\\lipidcane\\ethanol_species.py\u001b[0m in \u001b[0;36m<module>\u001b[1;34m()\u001b[0m\n\u001b[0;32m      8\u001b[0m \u001b[1;33m@\u001b[0m\u001b[0mauthor\u001b[0m\u001b[1;33m:\u001b[0m \u001b[0mYoel\u001b[0m \u001b[0mRene\u001b[0m \u001b[0mCortes\u001b[0m\u001b[1;33m-\u001b[0m\u001b[0mPena\u001b[0m\u001b[1;33m\u001b[0m\u001b[0m\n\u001b[0;32m      9\u001b[0m \"\"\"\n\u001b[1;32m---> 10\u001b[1;33m \u001b[1;32mfrom\u001b[0m \u001b[0mbiosteam\u001b[0m \u001b[1;32mimport\u001b[0m \u001b[0mChemical\u001b[0m\u001b[1;33m,\u001b[0m \u001b[0mSpecies\u001b[0m\u001b[1;33m,\u001b[0m \u001b[0mGas\u001b[0m\u001b[1;33m,\u001b[0m \u001b[0mDissolvedCompound\u001b[0m\u001b[1;33m\u001b[0m\u001b[0m\n\u001b[0m\u001b[0;32m     11\u001b[0m \u001b[1;33m\u001b[0m\u001b[0m\n\u001b[0;32m     12\u001b[0m \u001b[0m__all__\u001b[0m \u001b[1;33m=\u001b[0m \u001b[1;33m[\u001b[0m\u001b[1;34m'ethanol_species'\u001b[0m\u001b[1;33m]\u001b[0m\u001b[1;33m\u001b[0m\u001b[0m\n",
      "\u001b[1;31mImportError\u001b[0m: cannot import name 'DissolvedCompound'"
     ]
    }
   ],
   "source": [
    "from biosteam.biorefineries.lipidcane import system\n",
    "bst.find"
   ]
  },
  {
   "cell_type": "code",
   "execution_count": null,
   "metadata": {},
   "outputs": [],
   "source": [
    "bst.find.diagram()"
   ]
  }
 ],
 "metadata": {
  "kernelspec": {
   "display_name": "Python 3",
   "language": "python",
   "name": "python3"
  },
  "language_info": {
   "codemirror_mode": {
    "name": "ipython",
    "version": 3
   },
   "file_extension": ".py",
   "mimetype": "text/x-python",
   "name": "python",
   "nbconvert_exporter": "python",
   "pygments_lexer": "ipython3",
   "version": "3.6.5"
  }
 },
 "nbformat": 4,
 "nbformat_minor": 2
}
