{
 "cells": [
  {
   "cell_type": "markdown",
   "metadata": {},
   "source": [
    "# Monte Carlo"
   ]
  },
  {
   "cell_type": "markdown",
   "metadata": {},
   "source": [
    "### Model objects"
   ]
  },
  {
   "cell_type": "markdown",
   "metadata": {},
   "source": [
    "BioSTEAM streamlines uncertainty analysis with an object-oriented framework where a Model object samples from parameter distributions and reevaluates biorefinery metrics at each new condition. In essence, a Model object sets parameter values, simulates the biorefinery system, and evaluates metrics across an array of samples."
   ]
  },
  {
   "cell_type": "markdown",
   "metadata": {},
   "source": [
    "![Simple Model](Model_Simple_UML.png \"Model Simple UML\")"
   ]
  },
  {
   "cell_type": "markdown",
   "metadata": {},
   "source": [
    "Model objects are able to cut down simulation time by sorting the samples to minimize perturbations to the system between simulations. This decreases the number of iterations required to solve recycle systems. The following examples show how Model objects can be used.\n"
   ]
  },
  {
   "cell_type": "markdown",
   "metadata": {},
   "source": [
    "### Create parameter distributions"
   ]
  },
  {
   "cell_type": "markdown",
   "metadata": {},
   "source": [
    "**Let's first learn how to create common parameter distributions using [chaospy](https://chaospy.readthedocs.io/en/master/tutorial.html).**"
   ]
  },
  {
   "cell_type": "markdown",
   "metadata": {},
   "source": [
    "A triangular distribution is typically used when the parameter is uncertain within given limits, but is heuristically known to take a particular value. Create a triangular distribution:"
   ]
  },
  {
   "cell_type": "code",
   "execution_count": 1,
   "metadata": {},
   "outputs": [
    {
     "name": "stdout",
     "output_type": "stream",
     "text": [
      "Triangle(lower=0, midpoint=0.5, upper=1)\n"
     ]
    }
   ],
   "source": [
    "from chaospy import distributions as shape\n",
    "lower_bound = 0\n",
    "most_probable = 0.5\n",
    "upper_bound = 1\n",
    "triang = shape.Triangle(lower_bound, most_probable, upper_bound)\n",
    "print(triang)"
   ]
  },
  {
   "cell_type": "markdown",
   "metadata": {},
   "source": [
    "A uniform value is used when the theoretical limits of the parameter is known, but no information is available to discern which values are more probable. Create a uniform distribution:"
   ]
  },
  {
   "cell_type": "code",
   "execution_count": 2,
   "metadata": {},
   "outputs": [
    {
     "name": "stdout",
     "output_type": "stream",
     "text": [
      "Uniform(lower=0, upper=1)\n"
     ]
    }
   ],
   "source": [
    "from chaospy import distributions as shape\n",
    "lower_bound = 0\n",
    "upper_bound = 1\n",
    "unif = shape.Uniform(lower_bound, upper_bound)\n",
    "print(unif)"
   ]
  },
  {
   "cell_type": "markdown",
   "metadata": {},
   "source": [
    "A large set of distributions are available through chaospy, but generally triangular and uniform distributions are the most widely used to describe the uncertainty of parameters in Monte Carlo analyses."
   ]
  },
  {
   "cell_type": "markdown",
   "metadata": {},
   "source": [
    "### Parameter objects"
   ]
  },
  {
   "cell_type": "markdown",
   "metadata": {},
   "source": [
    "**Parameter objects are simply structures BioSTEAM uses to manage parameter values and distributions.**"
   ]
  },
  {
   "cell_type": "markdown",
   "metadata": {},
   "source": [
    "This section is just to get you familiar with Parameter objects. All the fields that a parameter can have are described below. Don't worry if you don't fully understand what each field does. The main idea is that we need to define a `setter` function for the Parameter object to set the value to the `element` (e.g. unit operation, stream, etc.) that the parameter pertains to. We can also pass a `distribution` (i.e. a chaospy distribution) that will be accessible for model objects to sample from. As for the `name`, `units` of measure, and the `baseline` value, these are all for bookkeeping purposes. BioSTEAM incorporates the `name` and `units` when creating a DataFrame of Monte Carlo results and parameter distributions. Parameter objects are created by a Model objects which implicitly pass the `system` affected by the parameter, `simulate` function. So don't worry about these last two fields, they are automatically added by the Model object when creating the parameter."
   ]
  },
  {
   "cell_type": "markdown",
   "metadata": {},
   "source": [
    "**simulate:** [function] Should simulate parameter effects.\n",
    "\n",
    "**system:** [System] System associated to parameter.\n",
    "\n",
    "**name:** [str] Name of parameter.\n",
    "\n",
    "**units:** [str] Units of parameter.\n",
    "\n",
    "**baseline:** [float] Baseline value of parameter.\n",
    "\n",
    "**element:** [object] Element associated to parameter.\n",
    "\n",
    "**setter:** [function] Should set the parameter.\n",
    "\n",
    "**distribution:** [chaospy.Dist] Parameter distribution."
   ]
  },
  {
   "cell_type": "markdown",
   "metadata": {},
   "source": [
    "Hopefully things will be become clearer as we start to create the parameter objects in the sections...\n",
    "    "
   ]
  },
  {
   "cell_type": "markdown",
   "metadata": {},
   "source": [
    "### Create a model object"
   ]
  },
  {
   "cell_type": "markdown",
   "metadata": {},
   "source": [
    "**Model objects are used to evaluate metrics around multiple parameters of a system.**"
   ]
  },
  {
   "cell_type": "markdown",
   "metadata": {},
   "source": [
    "Create a Model object of the lipidcane biorefinery with internal rate of return and utility cost as metrics:"
   ]
  },
  {
   "cell_type": "code",
   "execution_count": 3,
   "metadata": {},
   "outputs": [],
   "source": [
    "from biorefineries import lipidcane as lc\n",
    "import biosteam as bst\n",
    "solve_IRR = lc.lipidcane_tea.solve_IRR\n",
    "total_utility_cost = lambda: lc.lipidcane_tea.utility_cost / 10**6 # In 10^6 USD/yr\n",
    "metrics = (bst.Metric('Internal rate of return', lc.lipidcane_tea.solve_IRR, '%'),\n",
    "           bst.Metric('Utility cost', total_utility_cost, 'USD/yr'))\n",
    "model = bst.Model(lc.lipidcane_sys, metrics)\n"
   ]
  },
  {
   "cell_type": "markdown",
   "metadata": {},
   "source": [
    "The Model object begins with no paramters: "
   ]
  },
  {
   "cell_type": "code",
   "execution_count": 4,
   "metadata": {},
   "outputs": [
    {
     "name": "stdout",
     "output_type": "stream",
     "text": [
      "Model: Biorefinery internal rate of return (%)\n",
      "       Biorefinery utility cost (USD/yr)\n",
      " (No parameters)\n"
     ]
    }
   ],
   "source": [
    "model"
   ]
  },
  {
   "cell_type": "markdown",
   "metadata": {},
   "source": [
    "Note: Here we defined only one metric, but more metrics are possible."
   ]
  },
  {
   "cell_type": "markdown",
   "metadata": {},
   "source": [
    "### Add design parameters"
   ]
  },
  {
   "cell_type": "markdown",
   "metadata": {},
   "source": [
    "**A design parameter is a Unit attribute that changes design requirements but does not affect mass and energy balances.**"
   ]
  },
  {
   "cell_type": "markdown",
   "metadata": {},
   "source": [
    "Add number of fermentation reactors as a \"design\" parameter:"
   ]
  },
  {
   "cell_type": "code",
   "execution_count": 5,
   "metadata": {},
   "outputs": [],
   "source": [
    "R301 = bst.find.unit.R301 # The Fermentation Unit\n",
    "@model.parameter(name='Number of reactors',\n",
    "                 element=R301, kind='design',\n",
    "                 distribution=shape.Uniform(4, 10))\n",
    "def set_N_reactors(N):\n",
    "    R301.N = round(N)"
   ]
  },
  {
   "cell_type": "markdown",
   "metadata": {},
   "source": [
    "The decorator returns a Parameter object and adds it to the model:"
   ]
  },
  {
   "cell_type": "code",
   "execution_count": 6,
   "metadata": {},
   "outputs": [
    {
     "data": {
      "text/plain": [
       "<Parameter: [Fermentation-R301] Number of reactors>"
      ]
     },
     "execution_count": 6,
     "metadata": {},
     "output_type": "execute_result"
    }
   ],
   "source": [
    "set_N_reactors"
   ]
  },
  {
   "cell_type": "markdown",
   "metadata": {},
   "source": [
    "Calling a Parameter object will update the parameter and results:"
   ]
  },
  {
   "cell_type": "code",
   "execution_count": 7,
   "metadata": {},
   "outputs": [
    {
     "name": "stdout",
     "output_type": "stream",
     "text": [
      "Puchase cost at 5 reactors: 2,258,957.1941885357\n",
      "Puchase cost at 8 reactors: 2,715,825.016339626\n"
     ]
    }
   ],
   "source": [
    "set_N_reactors(5)\n",
    "print(f'Puchase cost at 5 reactors: {R301.purchase_cost:,}')\n",
    "set_N_reactors(8)\n",
    "print(f'Puchase cost at 8 reactors: {R301.purchase_cost:,}')"
   ]
  },
  {
   "cell_type": "markdown",
   "metadata": {},
   "source": [
    "The distribution will come into play later, when creating samples for Monte Carlo simulations."
   ]
  },
  {
   "cell_type": "markdown",
   "metadata": {},
   "source": [
    "### Add cost parameters"
   ]
  },
  {
   "cell_type": "markdown",
   "metadata": {},
   "source": [
    "**A cost parameter is a Unit attribute that affects cost but does not change design requirements.**"
   ]
  },
  {
   "cell_type": "markdown",
   "metadata": {},
   "source": [
    "Add the fermentation unit base cost as a \"cost\" parameter with a triangular distribution:"
   ]
  },
  {
   "cell_type": "code",
   "execution_count": 8,
   "metadata": {},
   "outputs": [],
   "source": [
    "reactors_cost_coefficients = R301.cost_items['Reactors']\n",
    "mid = reactors_cost_coefficients.cost # Most probable at baseline value\n",
    "lb = 0.9 * mid # Minimum at -10%\n",
    "ub = 1.1 * mid # Maximum at +10%\n",
    "@model.parameter(element=R301, kind='cost',\n",
    "                 distribution=shape.Triangle(lb, mid, ub))\n",
    "def set_base_cost(cost):\n",
    "    reactors_cost_coefficients.cost = cost"
   ]
  },
  {
   "cell_type": "code",
   "execution_count": 9,
   "metadata": {},
   "outputs": [
    {
     "name": "stdout",
     "output_type": "stream",
     "text": [
      "Purchase cost at 10 million USD: 2,542,154.557552834\n",
      "Purchase cost at 844,000 USD: 2,889,495.4751264183\n"
     ]
    }
   ],
   "source": [
    "# Test\n",
    "original = R301.cost_items['Reactors'].cost\n",
    "set_base_cost(lb)\n",
    "print(f'Purchase cost at 10 million USD: {R301.purchase_cost:,}')\n",
    "set_base_cost(ub)\n",
    "print(f'Purchase cost at 844,000 USD: {R301.purchase_cost:,}')"
   ]
  },
  {
   "cell_type": "markdown",
   "metadata": {},
   "source": [
    "Note that if the name was not defined, it defaults to the setter's signature:"
   ]
  },
  {
   "cell_type": "code",
   "execution_count": 10,
   "metadata": {},
   "outputs": [
    {
     "data": {
      "text/plain": [
       "<Parameter: [Fermentation-R301] Cost>"
      ]
     },
     "execution_count": 10,
     "metadata": {},
     "output_type": "execute_result"
    }
   ],
   "source": [
    "set_base_cost"
   ]
  },
  {
   "cell_type": "markdown",
   "metadata": {},
   "source": [
    "### Add isolated parameters"
   ]
  },
  {
   "cell_type": "markdown",
   "metadata": {},
   "source": [
    "**An isolated parameter should not affect Unit objects in any way.**"
   ]
  },
  {
   "cell_type": "markdown",
   "metadata": {},
   "source": [
    "Add feedstock price as a \"isolated\" parameter:"
   ]
  },
  {
   "cell_type": "code",
   "execution_count": 11,
   "metadata": {
    "scrolled": true
   },
   "outputs": [],
   "source": [
    "lipid_cane = lc.lipid_cane # The feedstock stream\n",
    "lb = lipid_cane.price * 0.9 # Minimum price\n",
    "ub = lipid_cane.price * 1.1 # Maximum price\n",
    "@model.parameter(element=lipid_cane, kind='isolated',\n",
    "                 distribution=shape.Uniform(lb, ub))\n",
    "def set_feed_price(feedstock_price):\n",
    "    lipid_cane.price = feedstock_price"
   ]
  },
  {
   "cell_type": "code",
   "execution_count": 12,
   "metadata": {},
   "outputs": [
    {
     "name": "stdout",
     "output_type": "stream",
     "text": [
      "IRR at 0.0311 USD/kg lipid-cane: 21%\n",
      "IRR at 0.0380 USD/kg lipid-cane: 18%\n"
     ]
    }
   ],
   "source": [
    "# Test\n",
    "set_feed_price(lb)\n",
    "print(f'IRR at {lb:.4f} USD/kg lipid-cane: {solve_IRR():.0%}')\n",
    "set_feed_price(ub)\n",
    "print(f'IRR at {ub:.4f} USD/kg lipid-cane: {solve_IRR():.0%}')"
   ]
  },
  {
   "cell_type": "markdown",
   "metadata": {},
   "source": [
    "### Add coupled parameters"
   ]
  },
  {
   "cell_type": "markdown",
   "metadata": {},
   "source": [
    "**A coupled parameter affects mass and energy balances of the system.**"
   ]
  },
  {
   "cell_type": "markdown",
   "metadata": {},
   "source": [
    "Add lipid fraction as a \"coupled\" parameter:"
   ]
  },
  {
   "cell_type": "code",
   "execution_count": 13,
   "metadata": {},
   "outputs": [],
   "source": [
    "# Note that if the setter function is already made,\n",
    "# you can pass it as the first argument\n",
    "set_lipid_fraction = model.parameter(lc.set_lipid_fraction,\n",
    "                                     element=lipid_cane, kind='coupled',\n",
    "                                     distribution=shape.Uniform(0.2, 0.10))"
   ]
  },
  {
   "cell_type": "code",
   "execution_count": 14,
   "metadata": {},
   "outputs": [
    {
     "name": "stdout",
     "output_type": "stream",
     "text": [
      "IRR at 2% lipid content: 11%\n",
      "IRR at 10% lipid content: 18%\n"
     ]
    }
   ],
   "source": [
    "# Test\n",
    "set_lipid_fraction(0.02)\n",
    "print(f'IRR at 2% lipid content: {solve_IRR():.0%}')\n",
    "set_lipid_fraction(0.10)\n",
    "print(f'IRR at 10% lipid content: {solve_IRR():.0%}')"
   ]
  },
  {
   "cell_type": "markdown",
   "metadata": {},
   "source": [
    "Add fermentation efficiency as a \"coupled\" parameter:"
   ]
  },
  {
   "cell_type": "code",
   "execution_count": 15,
   "metadata": {},
   "outputs": [],
   "source": [
    "@model.parameter(element=R301, kind='coupled',\n",
    "                 distribution=shape.Triangle(0.85, 0.90, 0.95))\n",
    "def set_fermentation_efficiency(efficiency):\n",
    "    R301.efficiency = efficiency"
   ]
  },
  {
   "cell_type": "code",
   "execution_count": 16,
   "metadata": {},
   "outputs": [
    {
     "name": "stdout",
     "output_type": "stream",
     "text": [
      "IRR at 85% fermentation efficiency: 17%\n",
      "IRR at 95% fermentation efficiency: 19%\n"
     ]
    }
   ],
   "source": [
    "# Test\n",
    "set_fermentation_efficiency(0.85)\n",
    "print(f'IRR at 85% fermentation efficiency: {solve_IRR():.0%}')\n",
    "set_fermentation_efficiency(0.95)\n",
    "print(f'IRR at 95% fermentation efficiency: {solve_IRR():.0%}')"
   ]
  },
  {
   "cell_type": "markdown",
   "metadata": {},
   "source": [
    "### Evaluate metric given a sample"
   ]
  },
  {
   "cell_type": "markdown",
   "metadata": {},
   "source": [
    "**The model can be called to evaluate a sample of parameters.**"
   ]
  },
  {
   "cell_type": "markdown",
   "metadata": {},
   "source": [
    "All parameters are stored in the model with highly coupled parameters first:"
   ]
  },
  {
   "cell_type": "code",
   "execution_count": 17,
   "metadata": {},
   "outputs": [
    {
     "name": "stdout",
     "output_type": "stream",
     "text": [
      "Model: Biorefinery internal rate of return (%)\n",
      "       Biorefinery utility cost (USD/yr)\n",
      " Element:           Parameter:\n",
      " Stream-lipid cane  Lipid fraction\n",
      " Fermentation-R301  Efficiency\n",
      "                    Number of reactors\n",
      "                    Cost\n",
      " Stream-lipid cane  Feedstock price\n"
     ]
    }
   ],
   "source": [
    "model"
   ]
  },
  {
   "cell_type": "markdown",
   "metadata": {},
   "source": [
    "Get all parameters as ordered in the model:"
   ]
  },
  {
   "cell_type": "code",
   "execution_count": 18,
   "metadata": {},
   "outputs": [
    {
     "data": {
      "text/plain": [
       "(<Parameter: [Stream-lipid cane] Lipid fraction>,\n",
       " <Parameter: [Fermentation-R301] Efficiency>,\n",
       " <Parameter: [Fermentation-R301] Number of reactors>,\n",
       " <Parameter: [Fermentation-R301] Cost>,\n",
       " <Parameter: [Stream-lipid cane] Feedstock price>)"
      ]
     },
     "execution_count": 18,
     "metadata": {},
     "output_type": "execute_result"
    }
   ],
   "source": [
    "model.get_parameters()"
   ]
  },
  {
   "cell_type": "markdown",
   "metadata": {},
   "source": [
    "Get dictionary that contain DataFrame objects of parameter distributions:"
   ]
  },
  {
   "cell_type": "code",
   "execution_count": 19,
   "metadata": {},
   "outputs": [
    {
     "data": {
      "text/html": [
       "<div>\n",
       "<style scoped>\n",
       "    .dataframe tbody tr th:only-of-type {\n",
       "        vertical-align: middle;\n",
       "    }\n",
       "\n",
       "    .dataframe tbody tr th {\n",
       "        vertical-align: top;\n",
       "    }\n",
       "\n",
       "    .dataframe thead th {\n",
       "        text-align: right;\n",
       "    }\n",
       "</style>\n",
       "<table border=\"1\" class=\"dataframe\">\n",
       "  <thead>\n",
       "    <tr style=\"text-align: right;\">\n",
       "      <th></th>\n",
       "      <th>Element</th>\n",
       "      <th>Name</th>\n",
       "      <th>Units</th>\n",
       "      <th>Shape</th>\n",
       "      <th>lower</th>\n",
       "      <th>upper</th>\n",
       "    </tr>\n",
       "  </thead>\n",
       "  <tbody>\n",
       "    <tr>\n",
       "      <th>0</th>\n",
       "      <td>Stream-lipid cane</td>\n",
       "      <td>Lipid fraction</td>\n",
       "      <td></td>\n",
       "      <td>Uniform</td>\n",
       "      <td>0.2</td>\n",
       "      <td>0.1</td>\n",
       "    </tr>\n",
       "    <tr>\n",
       "      <th>1</th>\n",
       "      <td>Fermentation-R301</td>\n",
       "      <td>Number of reactors</td>\n",
       "      <td></td>\n",
       "      <td>Uniform</td>\n",
       "      <td>4</td>\n",
       "      <td>10</td>\n",
       "    </tr>\n",
       "    <tr>\n",
       "      <th>2</th>\n",
       "      <td>Stream-lipid cane</td>\n",
       "      <td>Feedstock price</td>\n",
       "      <td></td>\n",
       "      <td>Uniform</td>\n",
       "      <td>0.0311</td>\n",
       "      <td>0.038</td>\n",
       "    </tr>\n",
       "  </tbody>\n",
       "</table>\n",
       "</div>"
      ],
      "text/plain": [
       "             Element                Name Units    Shape  lower  upper\n",
       "0  Stream-lipid cane      Lipid fraction        Uniform    0.2    0.1\n",
       "1  Fermentation-R301  Number of reactors        Uniform      4     10\n",
       "2  Stream-lipid cane     Feedstock price        Uniform 0.0311  0.038"
      ]
     },
     "execution_count": 19,
     "metadata": {},
     "output_type": "execute_result"
    }
   ],
   "source": [
    "df_dct = model.get_distribution_summary()\n",
    "df_dct['Uniform']"
   ]
  },
  {
   "cell_type": "code",
   "execution_count": 20,
   "metadata": {},
   "outputs": [
    {
     "data": {
      "text/html": [
       "<div>\n",
       "<style scoped>\n",
       "    .dataframe tbody tr th:only-of-type {\n",
       "        vertical-align: middle;\n",
       "    }\n",
       "\n",
       "    .dataframe tbody tr th {\n",
       "        vertical-align: top;\n",
       "    }\n",
       "\n",
       "    .dataframe thead th {\n",
       "        text-align: right;\n",
       "    }\n",
       "</style>\n",
       "<table border=\"1\" class=\"dataframe\">\n",
       "  <thead>\n",
       "    <tr style=\"text-align: right;\">\n",
       "      <th></th>\n",
       "      <th>Element</th>\n",
       "      <th>Name</th>\n",
       "      <th>Units</th>\n",
       "      <th>Shape</th>\n",
       "      <th>lower</th>\n",
       "      <th>midpoint</th>\n",
       "      <th>upper</th>\n",
       "    </tr>\n",
       "  </thead>\n",
       "  <tbody>\n",
       "    <tr>\n",
       "      <th>0</th>\n",
       "      <td>Fermentation-R301</td>\n",
       "      <td>Efficiency</td>\n",
       "      <td></td>\n",
       "      <td>Triangle</td>\n",
       "      <td>0.85</td>\n",
       "      <td>0.9</td>\n",
       "      <td>0.95</td>\n",
       "    </tr>\n",
       "    <tr>\n",
       "      <th>1</th>\n",
       "      <td>Fermentation-R301</td>\n",
       "      <td>Cost</td>\n",
       "      <td></td>\n",
       "      <td>Triangle</td>\n",
       "      <td>7.6e+05</td>\n",
       "      <td>8.44e+05</td>\n",
       "      <td>9.28e+05</td>\n",
       "    </tr>\n",
       "  </tbody>\n",
       "</table>\n",
       "</div>"
      ],
      "text/plain": [
       "             Element        Name Units     Shape   lower  midpoint    upper\n",
       "0  Fermentation-R301  Efficiency        Triangle    0.85       0.9     0.95\n",
       "1  Fermentation-R301        Cost        Triangle 7.6e+05  8.44e+05 9.28e+05"
      ]
     },
     "execution_count": 20,
     "metadata": {},
     "output_type": "execute_result"
    }
   ],
   "source": [
    "df_dct['Triangle']"
   ]
  },
  {
   "cell_type": "markdown",
   "metadata": {},
   "source": [
    "Evaluate sample:"
   ]
  },
  {
   "cell_type": "code",
   "execution_count": 21,
   "metadata": {},
   "outputs": [
    {
     "data": {
      "text/plain": [
       "[0.11768543789214503, -17.92329058314469]"
      ]
     },
     "execution_count": 21,
     "metadata": {},
     "output_type": "execute_result"
    }
   ],
   "source": [
    "model([0.05, 0.85, 8, 100000, 0.040])"
   ]
  },
  {
   "cell_type": "markdown",
   "metadata": {},
   "source": [
    "### Monte Carlo"
   ]
  },
  {
   "cell_type": "markdown",
   "metadata": {},
   "source": [
    "Sample from a joint distribution, and simulate samples:"
   ]
  },
  {
   "cell_type": "code",
   "execution_count": 22,
   "metadata": {},
   "outputs": [
    {
     "data": {
      "text/html": [
       "<div>\n",
       "<style scoped>\n",
       "    .dataframe tbody tr th:only-of-type {\n",
       "        vertical-align: middle;\n",
       "    }\n",
       "\n",
       "    .dataframe tbody tr th {\n",
       "        vertical-align: top;\n",
       "    }\n",
       "\n",
       "    .dataframe thead tr th {\n",
       "        text-align: left;\n",
       "    }\n",
       "</style>\n",
       "<table border=\"1\" class=\"dataframe\">\n",
       "  <thead>\n",
       "    <tr>\n",
       "      <th>Element</th>\n",
       "      <th>Stream-lipid cane</th>\n",
       "      <th colspan=\"3\" halign=\"left\">Fermentation-R301</th>\n",
       "      <th>Stream-lipid cane</th>\n",
       "      <th colspan=\"2\" halign=\"left\">Biorefinery</th>\n",
       "    </tr>\n",
       "    <tr>\n",
       "      <th>Variable</th>\n",
       "      <th>Lipid fraction</th>\n",
       "      <th>Efficiency</th>\n",
       "      <th>Number of reactors</th>\n",
       "      <th>Cost</th>\n",
       "      <th>Feedstock price</th>\n",
       "      <th>Internal rate of return</th>\n",
       "      <th>Utility cost</th>\n",
       "    </tr>\n",
       "  </thead>\n",
       "  <tbody>\n",
       "    <tr>\n",
       "      <th>0</th>\n",
       "      <td>0.172</td>\n",
       "      <td>0.884</td>\n",
       "      <td>4.26</td>\n",
       "      <td>8.05e+05</td>\n",
       "      <td>0.0337</td>\n",
       "      <td>0.246</td>\n",
       "      <td>-40.9</td>\n",
       "    </tr>\n",
       "    <tr>\n",
       "      <th>1</th>\n",
       "      <td>0.143</td>\n",
       "      <td>0.923</td>\n",
       "      <td>8.87</td>\n",
       "      <td>8.75e+05</td>\n",
       "      <td>0.0363</td>\n",
       "      <td>0.218</td>\n",
       "      <td>-35.4</td>\n",
       "    </tr>\n",
       "    <tr>\n",
       "      <th>2</th>\n",
       "      <td>0.142</td>\n",
       "      <td>0.901</td>\n",
       "      <td>9.2</td>\n",
       "      <td>8.53e+05</td>\n",
       "      <td>0.0374</td>\n",
       "      <td>0.211</td>\n",
       "      <td>-35.3</td>\n",
       "    </tr>\n",
       "    <tr>\n",
       "      <th>3</th>\n",
       "      <td>0.195</td>\n",
       "      <td>0.885</td>\n",
       "      <td>6.8</td>\n",
       "      <td>8.77e+05</td>\n",
       "      <td>0.0356</td>\n",
       "      <td>0.251</td>\n",
       "      <td>-45.4</td>\n",
       "    </tr>\n",
       "    <tr>\n",
       "      <th>4</th>\n",
       "      <td>0.177</td>\n",
       "      <td>0.896</td>\n",
       "      <td>5.79</td>\n",
       "      <td>7.82e+05</td>\n",
       "      <td>0.0367</td>\n",
       "      <td>0.237</td>\n",
       "      <td>-42</td>\n",
       "    </tr>\n",
       "    <tr>\n",
       "      <th>...</th>\n",
       "      <td>...</td>\n",
       "      <td>...</td>\n",
       "      <td>...</td>\n",
       "      <td>...</td>\n",
       "      <td>...</td>\n",
       "      <td>...</td>\n",
       "      <td>...</td>\n",
       "    </tr>\n",
       "    <tr>\n",
       "      <th>95</th>\n",
       "      <td>0.108</td>\n",
       "      <td>0.887</td>\n",
       "      <td>4.44</td>\n",
       "      <td>8.32e+05</td>\n",
       "      <td>0.0364</td>\n",
       "      <td>0.194</td>\n",
       "      <td>-28.8</td>\n",
       "    </tr>\n",
       "    <tr>\n",
       "      <th>96</th>\n",
       "      <td>0.16</td>\n",
       "      <td>0.906</td>\n",
       "      <td>4.87</td>\n",
       "      <td>8.01e+05</td>\n",
       "      <td>0.0373</td>\n",
       "      <td>0.225</td>\n",
       "      <td>-38.6</td>\n",
       "    </tr>\n",
       "    <tr>\n",
       "      <th>97</th>\n",
       "      <td>0.104</td>\n",
       "      <td>0.913</td>\n",
       "      <td>9.22</td>\n",
       "      <td>8.96e+05</td>\n",
       "      <td>0.0346</td>\n",
       "      <td>0.201</td>\n",
       "      <td>-27.9</td>\n",
       "    </tr>\n",
       "    <tr>\n",
       "      <th>98</th>\n",
       "      <td>0.198</td>\n",
       "      <td>0.898</td>\n",
       "      <td>5.43</td>\n",
       "      <td>8.32e+05</td>\n",
       "      <td>0.0331</td>\n",
       "      <td>0.264</td>\n",
       "      <td>-46</td>\n",
       "    </tr>\n",
       "    <tr>\n",
       "      <th>99</th>\n",
       "      <td>0.128</td>\n",
       "      <td>0.898</td>\n",
       "      <td>5.51</td>\n",
       "      <td>8.22e+05</td>\n",
       "      <td>0.036</td>\n",
       "      <td>0.21</td>\n",
       "      <td>-32.6</td>\n",
       "    </tr>\n",
       "  </tbody>\n",
       "</table>\n",
       "<p>100 rows × 7 columns</p>\n",
       "</div>"
      ],
      "text/plain": [
       "Element  Stream-lipid cane Fermentation-R301                              \\\n",
       "Variable    Lipid fraction        Efficiency Number of reactors     Cost   \n",
       "0                    0.172             0.884               4.26 8.05e+05   \n",
       "1                    0.143             0.923               8.87 8.75e+05   \n",
       "2                    0.142             0.901                9.2 8.53e+05   \n",
       "3                    0.195             0.885                6.8 8.77e+05   \n",
       "4                    0.177             0.896               5.79 7.82e+05   \n",
       "..                     ...               ...                ...      ...   \n",
       "95                   0.108             0.887               4.44 8.32e+05   \n",
       "96                    0.16             0.906               4.87 8.01e+05   \n",
       "97                   0.104             0.913               9.22 8.96e+05   \n",
       "98                   0.198             0.898               5.43 8.32e+05   \n",
       "99                   0.128             0.898               5.51 8.22e+05   \n",
       "\n",
       "Element  Stream-lipid cane             Biorefinery               \n",
       "Variable   Feedstock price Internal rate of return Utility cost  \n",
       "0                   0.0337                   0.246        -40.9  \n",
       "1                   0.0363                   0.218        -35.4  \n",
       "2                   0.0374                   0.211        -35.3  \n",
       "3                   0.0356                   0.251        -45.4  \n",
       "4                   0.0367                   0.237          -42  \n",
       "..                     ...                     ...          ...  \n",
       "95                  0.0364                   0.194        -28.8  \n",
       "96                  0.0373                   0.225        -38.6  \n",
       "97                  0.0346                   0.201        -27.9  \n",
       "98                  0.0331                   0.264          -46  \n",
       "99                   0.036                    0.21        -32.6  \n",
       "\n",
       "[100 rows x 7 columns]"
      ]
     },
     "execution_count": 22,
     "metadata": {},
     "output_type": "execute_result"
    }
   ],
   "source": [
    "N_samples = 100\n",
    "rule = 'L' # For Latin-Hypercube sampling\n",
    "samples = model.sample(N_samples, rule)\n",
    "model.load_samples(samples)\n",
    "model.evaluate()\n",
    "model.table # All evaluations are stored as a pandas DataFrame"
   ]
  },
  {
   "cell_type": "markdown",
   "metadata": {},
   "source": [
    "Note that coupled parameters are on the left most columns, and are ordered from upstream to downstream (e.g. <Stream: Lipid cane> is upstream from <Fermentation: R301>)"
   ]
  },
  {
   "cell_type": "markdown",
   "metadata": {},
   "source": [
    "### Behind the scenes"
   ]
  },
  {
   "cell_type": "markdown",
   "metadata": {},
   "source": [
    "![Model UML Diagram](Model_UML.png \"Model UML\")"
   ]
  },
  {
   "cell_type": "markdown",
   "metadata": {},
   "source": [
    "Model objects work with the help of Block and Parameter objects that are able to tell the relative importance of parameters through the `element` it affects and the `kind` (how it affects the system). Before a new parameter is made, if its `kind` is \"coupled\", then the Model object creates a Block object that simulates only the objects affected by the parameter. The Block object, in turn, helps to create a Parameter object by passing its simulation method."
   ]
  }
 ],
 "metadata": {
  "kernelspec": {
   "display_name": "Python 3",
   "language": "python",
   "name": "python3"
  },
  "language_info": {
   "codemirror_mode": {
    "name": "ipython",
    "version": 3
   },
   "file_extension": ".py",
   "mimetype": "text/x-python",
   "name": "python",
   "nbconvert_exporter": "python",
   "pygments_lexer": "ipython3",
   "version": "3.6.5"
  }
 },
 "nbformat": 4,
 "nbformat_minor": 2
}
