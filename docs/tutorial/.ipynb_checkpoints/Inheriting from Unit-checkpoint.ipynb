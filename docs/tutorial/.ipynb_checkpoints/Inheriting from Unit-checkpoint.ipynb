{
 "cells": [
  {
   "cell_type": "markdown",
   "metadata": {},
   "source": [
    "# Inheriting from Unit"
   ]
  },
  {
   "cell_type": "markdown",
   "metadata": {},
   "source": [
    "### Abstract attributes and methods"
   ]
  },
  {
   "cell_type": "markdown",
   "metadata": {},
   "source": [
    "![](./UML_Unit.png \"Unit UML Diagram\")"
   ]
  },
  {
   "cell_type": "markdown",
   "metadata": {},
   "source": [
    "**A Unit subclass has class attributes that dictate how an instance is initialized:**\n",
    "    \n",
    "* `_N_ins`: [int] Expected number of input streams\n",
    "    \n",
    "* `_N_outs`: [int] Expected number of output streams\n",
    "    \n",
    "* `_N_heat_utilities`: [int] Number of heat utility objects in the `_heat_utilities` list.\n",
    "    \n",
    "* `_has_power_utility`: [bool] If True, a PowerUtility object is created for every instance.\n",
    "\n",
    "* `_units`: [dict] Units of measure for `_Design` items\n",
    "\n",
    "**Abstract methods are used to run heat and mass balances, find design requirements, and cost the unit:**\n",
    "\n",
    "* `_run()`: Called during System convergece to specify `outs` streams.\n",
    "\n",
    "* `_design()`: Called after System convergence to find design requirements. \n",
    "\n",
    "* `_cost()`: Called after `_design` to find cost requirements.\n",
    "\n",
    "**These abstract methods will rely on the following instance attributes:**\n",
    "\n",
    "* `_ins`: Ins[Stream] Input streams.\n",
    "\n",
    "* `_outs`: Outs[Stream] Output streams.\n",
    "\n",
    "* `_power_utility`: [PowerUtility] Can find electricity rate requirement.\n",
    "\n",
    "* `_heat_utilities`: list[HeatUtility] Can find cooling and heating requirements.\n",
    "\n",
    "* `_Design`: [dict] Design requirements.\n",
    "\n",
    "* `_Cost`: [dict] Itemized purchase costs."
   ]
  },
  {
   "cell_type": "markdown",
   "metadata": {},
   "source": [
    "### Subclass example"
   ]
  },
  {
   "cell_type": "markdown",
   "metadata": {},
   "source": [
    "The following example depicts inheritance from Unit by creating a new Boiler class:"
   ]
  },
  {
   "cell_type": "code",
   "execution_count": 1,
   "metadata": {},
   "outputs": [],
   "source": [
    "import biosteam as bst\n",
    "from math import ceil\n",
    "\n",
    "class Boiler(bst.Unit):\n",
    "    \"\"\"Create a Boiler object that partially boils feed.\n",
    "    \n",
    "    **Parameters**\n",
    "    \n",
    "        **V:** Vapor fraction\n",
    "        \n",
    "        **P:** Operating pressure (Pascal)\n",
    "    \n",
    "    **ins:**\n",
    "    \n",
    "        [0] feed\n",
    "        \n",
    "    **outs:**\n",
    "    \n",
    "        [0] vapor product\n",
    "        \n",
    "        [1] liquid product\n",
    "    \n",
    "    \"\"\"\n",
    "    _N_ins = 1  \n",
    "    _N_outs = 2\n",
    "    _N_heat_utilities = 1\n",
    "    _has_power_utility = False \n",
    "    _units = {'Area': 'm^2'}\n",
    "    \n",
    "    def __init__(self, ID='', ins=None, outs=(), *, V, P):\n",
    "        bst.Unit.__init__(self, ID, ins, outs)\n",
    "        gas, liq = self.outs\n",
    "        \n",
    "        # Initialize top stream as a gas\n",
    "        gas.phase = 'g'\n",
    "        \n",
    "        # Initialize bottom stream as a liquid\n",
    "        liq.phase = 'l'\n",
    "        \n",
    "        # Initialize MixedStream object to perform vapor-liquid equilibrium later\n",
    "        # NOTE: ID is None to not register it in the flowsheet\n",
    "        self._mixedstream = bst.MixedStream(None)\n",
    "        \n",
    "        self.V = V #: Vapor fraction\n",
    "        self.P = P #: Operating pressure\n",
    "        \n",
    "  \n",
    "    def _run(self):\n",
    "        feed = self.ins[0]\n",
    "        gas, liq = self.outs\n",
    "        \n",
    "        # Perform vapor-liquid equilibrium\n",
    "        ms = self._mixedstream\n",
    "        ms.liquid_mol[:] = feed.mol\n",
    "        ms.VLE(V=self.V, P=self.P)\n",
    "        \n",
    "        # Update output streams\n",
    "        gas.mol[:] = ms.vapor_mol\n",
    "        liq.mol[:] = ms.liquid_mol\n",
    "        gas.T = liq.T = ms.T\n",
    "        gas.P = liq.P = ms.P\n",
    "        \n",
    "        # Reset vapor flow to prevent accumulation in multiple simulations\n",
    "        ms.vapor_mol[:] = 0\n",
    "        \n",
    "        \n",
    "    def _design(self):\n",
    "        # Calculate heat utility requirement (please read docs for HeatUtility objects)\n",
    "        T_operation = self._mixedstream.T\n",
    "        duty = sum(i.H for i in self.outs) - self.ins[0].H\n",
    "        if duty < 0:\n",
    "            raise RuntimeError(f'{repr(self)} is cooling.')\n",
    "        hu = self._heat_utilities[0]\n",
    "        hu(duty, T_operation)\n",
    "        \n",
    "        # Temperature of utility at entrance\n",
    "        T_utility = hu._fresh.T \n",
    "        \n",
    "        # Temeperature gradient\n",
    "        dT = T_utility - T_operation\n",
    "        \n",
    "        # Heat transfer coefficient kJ/(hr*m2*K)\n",
    "        U = 8176.699 \n",
    "        \n",
    "        # Area requirement (m^2)\n",
    "        A = duty/(U*dT)\n",
    "        \n",
    "        # Maximum area per unit\n",
    "        A_max = 743.224\n",
    "        \n",
    "        # Number of units\n",
    "        N = ceil(A/A_max)\n",
    "        \n",
    "        # Design requirements are stored here\n",
    "        self._Design['Area'] = A/N\n",
    "        self._Design['N'] = N\n",
    "        \n",
    "    def _cost(self):\n",
    "        A = self._Design['Area']\n",
    "        N = self._Design['N']\n",
    "        \n",
    "        # Long-tube vertical boiler cost correlation from \n",
    "        # \"Product process and design\". Warren et. al. (2016) Table 22.32, pg 592\n",
    "        purchase_cost = N*bst.CE*3.086*A**0.55\n",
    "        \n",
    "        # Itemized purchase costs are stored here\n",
    "        self._Cost['Boilers'] = purchase_cost\n",
    "        \n",
    "    "
   ]
  },
  {
   "cell_type": "markdown",
   "metadata": {},
   "source": [
    "### Simulation test"
   ]
  },
  {
   "cell_type": "code",
   "execution_count": 2,
   "metadata": {},
   "outputs": [
    {
     "data": {
      "image/svg+xml": [
       "<svg height=\"173pt\" viewBox=\"0.00 0.00 338.00 173.00\" width=\"338pt\" xmlns=\"http://www.w3.org/2000/svg\" xmlns:xlink=\"http://www.w3.org/1999/xlink\">\n",
       "<g class=\"graph\" id=\"graph0\" transform=\"scale(1 1) rotate(0) translate(4 169)\">\n",
       "<title>unit</title>\n",
       "<polygon fill=\"white\" points=\"-4,4 -4,-169 334,-169 334,4 -4,4\" stroke=\"none\"/>\n",
       "<!-- B1\n",
       "Boiler&#45;&gt;gas -->\n",
       "<g class=\"edge\" id=\"edge2\"><title>B1\n",
       "Boiler:c-&gt;gas:w</title>\n",
       "<path d=\"M192.23,-104.178C213.507,-121.711 246.74,-143.5 280.5,-143.5\" fill=\"none\" stroke=\"black\"/>\n",
       "</g>\n",
       "<!-- B1\n",
       "Boiler&#45;&gt;liq -->\n",
       "<g class=\"edge\" id=\"edge3\"><title>B1\n",
       "Boiler:c-&gt;liq:w</title>\n",
       "<path d=\"M192.23,-60.8219C213.507,-43.2888 246.74,-21.5 280.5,-21.5\" fill=\"none\" stroke=\"black\"/>\n",
       "</g>\n",
       "<!-- water&#45;&gt;B1\n",
       "Boiler -->\n",
       "<g class=\"edge\" id=\"edge1\"><title>water:e-&gt;B1\n",
       "Boiler:c</title>\n",
       "<path d=\"M53.5,-82.5C84.2396,-82.5 119.662,-82.5 142.646,-82.5\" fill=\"none\" stroke=\"black\"/>\n",
       "</g>\n",
       "<!-- B1\n",
       "Boiler -->\n",
       "<g class=\"node\" id=\"node1\"><title>B1\n",
       "Boiler</title>\n",
       "<defs>\n",
       "<linearGradient gradientUnits=\"userSpaceOnUse\" id=\"l_0\" x1=\"143\" x2=\"193\" y1=\"-82.5\" y2=\"-82.5\">\n",
       "<stop offset=\"0\" style=\"stop-color:white;stop-opacity:1.;\"/>\n",
       "<stop offset=\"1\" style=\"stop-color:#cdcdcd;stop-opacity:1.;\"/>\n",
       "</linearGradient>\n",
       "</defs>\n",
       "<polygon fill=\"url(#l_0)\" points=\"193,-104 143,-104 143,-61 193,-61 193,-104\" stroke=\"black\"/>\n",
       "<text font-family=\"Times New Roman,serif\" font-size=\"14.00\" text-anchor=\"middle\" x=\"168\" y=\"-86.3\">B1</text>\n",
       "<text font-family=\"Times New Roman,serif\" font-size=\"14.00\" text-anchor=\"middle\" x=\"168\" y=\"-71.3\">Boiler</text>\n",
       "</g>\n",
       "<!-- water -->\n",
       "<g class=\"node\" id=\"node2\"><title>water</title>\n",
       "<polygon fill=\"#79dae8\" points=\"35.5,-98 6.5,-98 6.5,-67 35.5,-67 35.5,-61 53.5,-82.5 35.5,-104 35.5,-98\" stroke=\"black\"/>\n",
       "<text font-family=\"Times New Roman,serif\" font-size=\"14.00\" text-anchor=\"middle\" x=\"30\" y=\"-78.8\">water</text>\n",
       "</g>\n",
       "<!-- gas -->\n",
       "<g class=\"node\" id=\"node3\"><title>gas</title>\n",
       "<polygon fill=\"#79dae8\" points=\"305.5,-159 280.5,-159 280.5,-128 305.5,-128 305.5,-122 323.5,-143.5 305.5,-165 305.5,-159\" stroke=\"black\"/>\n",
       "<text font-family=\"Times New Roman,serif\" font-size=\"14.00\" text-anchor=\"middle\" x=\"302\" y=\"-139.8\">gas</text>\n",
       "</g>\n",
       "<!-- liq -->\n",
       "<g class=\"node\" id=\"node4\"><title>liq</title>\n",
       "<polygon fill=\"#79dae8\" points=\"305.5,-37 280.5,-37 280.5,-6 305.5,-6 305.5,-0 323.5,-21.5 305.5,-43 305.5,-37\" stroke=\"black\"/>\n",
       "<text font-family=\"Times New Roman,serif\" font-size=\"14.00\" text-anchor=\"middle\" x=\"302\" y=\"-17.8\">liq</text>\n",
       "</g>\n",
       "</g>\n",
       "</svg>"
      ],
      "text/plain": [
       "<IPython.core.display.SVG object>"
      ]
     },
     "metadata": {},
     "output_type": "display_data"
    },
    {
     "name": "stdout",
     "output_type": "stream",
     "text": [
      "Boiler: B1\n",
      "ins...\n",
      "[0] water\n",
      "    phase: 'l', T: 298.15 K, P: 101325 Pa\n",
      "    flow (kmol/hr): Water  300\n",
      "outs...\n",
      "[0] gas\n",
      "    phase: 'g', T: 298.15 K, P: 101325 Pa\n",
      "    flow: 0\n",
      "[1] liq\n",
      "    phase: 'l', T: 298.15 K, P: 101325 Pa\n",
      "    flow: 0\n"
     ]
    }
   ],
   "source": [
    "bst.Stream.species = bst.Species('Water')\n",
    "water = bst.Stream('water', Water=300)\n",
    "B1 = Boiler('B1', ins=water, outs=('gas', 'liq'),\n",
    "            V=0.5, P=101325)\n",
    "B1.diagram()\n",
    "B1.show()"
   ]
  },
  {
   "cell_type": "code",
   "execution_count": 3,
   "metadata": {},
   "outputs": [
    {
     "name": "stdout",
     "output_type": "stream",
     "text": [
      "Boiler: B1\n",
      "ins...\n",
      "[0] water\n",
      "    phase: 'l', T: 298.15 K, P: 101325 Pa\n",
      "    flow (kmol/hr): Water  300\n",
      "outs...\n",
      "[0] gas\n",
      "    phase: 'g', T: 373.16 K, P: 101325 Pa\n",
      "    flow (kmol/hr): Water  150\n",
      "[1] liq\n",
      "    phase: 'l', T: 373.16 K, P: 101325 Pa\n",
      "    flow (kmol/hr): Water  150\n"
     ]
    }
   ],
   "source": [
    "B1.simulate()\n",
    "B1.show()"
   ]
  },
  {
   "cell_type": "code",
   "execution_count": 4,
   "metadata": {},
   "outputs": [
    {
     "data": {
      "text/html": [
       "<div>\n",
       "<style scoped>\n",
       "    .dataframe tbody tr th:only-of-type {\n",
       "        vertical-align: middle;\n",
       "    }\n",
       "\n",
       "    .dataframe tbody tr th {\n",
       "        vertical-align: top;\n",
       "    }\n",
       "\n",
       "    .dataframe thead th {\n",
       "        text-align: right;\n",
       "    }\n",
       "</style>\n",
       "<table border=\"1\" class=\"dataframe\">\n",
       "  <thead>\n",
       "    <tr style=\"text-align: right;\">\n",
       "      <th></th>\n",
       "      <th>Boiler</th>\n",
       "      <th>Units</th>\n",
       "      <th>B1</th>\n",
       "    </tr>\n",
       "  </thead>\n",
       "  <tbody>\n",
       "    <tr>\n",
       "      <th rowspan=\"3\" valign=\"top\">Low pressure steam</th>\n",
       "      <th>Duty</th>\n",
       "      <td>kJ/hr</td>\n",
       "      <td>8.23e+06</td>\n",
       "    </tr>\n",
       "    <tr>\n",
       "      <th>Flow</th>\n",
       "      <td>kmol/hr</td>\n",
       "      <td>212</td>\n",
       "    </tr>\n",
       "    <tr>\n",
       "      <th>Cost</th>\n",
       "      <td>USD/hr</td>\n",
       "      <td>50.3</td>\n",
       "    </tr>\n",
       "    <tr>\n",
       "      <th rowspan=\"2\" valign=\"top\">Design</th>\n",
       "      <th>Area</th>\n",
       "      <td>m^2</td>\n",
       "      <td>24.9</td>\n",
       "    </tr>\n",
       "    <tr>\n",
       "      <th>N</th>\n",
       "      <td></td>\n",
       "      <td>1</td>\n",
       "    </tr>\n",
       "    <tr>\n",
       "      <th>Cost</th>\n",
       "      <th>Boilers</th>\n",
       "      <td>USD</td>\n",
       "      <td>1.03e+04</td>\n",
       "    </tr>\n",
       "    <tr>\n",
       "      <th>Purchase cost</th>\n",
       "      <th></th>\n",
       "      <td>USD</td>\n",
       "      <td>1.03e+04</td>\n",
       "    </tr>\n",
       "    <tr>\n",
       "      <th>Utility cost</th>\n",
       "      <th></th>\n",
       "      <td>USD/hr</td>\n",
       "      <td>50.3</td>\n",
       "    </tr>\n",
       "  </tbody>\n",
       "</table>\n",
       "</div>"
      ],
      "text/plain": [
       "Boiler                        Units       B1\n",
       "Low pressure steam Duty       kJ/hr 8.23e+06\n",
       "                   Flow     kmol/hr      212\n",
       "                   Cost      USD/hr     50.3\n",
       "Design             Area         m^2     24.9\n",
       "                   N                       1\n",
       "Cost               Boilers      USD 1.03e+04\n",
       "Purchase cost                   USD 1.03e+04\n",
       "Utility cost                 USD/hr     50.3"
      ]
     },
     "execution_count": 4,
     "metadata": {},
     "output_type": "execute_result"
    }
   ],
   "source": [
    "B1.results()"
   ]
  },
  {
   "cell_type": "markdown",
   "metadata": {},
   "source": [
    "### Graphviz attributes"
   ]
  },
  {
   "cell_type": "markdown",
   "metadata": {},
   "source": [
    "All [graphviz](https://graphviz.readthedocs.io/en/stable/manual.html) attributes for generating a diagram are stored in `_graphics` as a Graphics object. One Graphics object is generated for each Unit subclass:"
   ]
  },
  {
   "cell_type": "code",
   "execution_count": 5,
   "metadata": {},
   "outputs": [],
   "source": [
    "graphics = Boiler._graphics\n",
    "edge_in = graphics.edge_in\n",
    "edge_out = graphics.edge_out\n",
    "node = graphics.node"
   ]
  },
  {
   "cell_type": "code",
   "execution_count": 6,
   "metadata": {},
   "outputs": [
    {
     "data": {
      "text/plain": [
       "[{'headport': 'c'}, {'headport': 'c'}, {'headport': 'c'}]"
      ]
     },
     "execution_count": 6,
     "metadata": {},
     "output_type": "execute_result"
    }
   ],
   "source": [
    "# Attributes correspond to each ins stream respectively\n",
    "# For example: Attributes for B1.ins[0] would correspond to edge_in[0]\n",
    "edge_in "
   ]
  },
  {
   "cell_type": "code",
   "execution_count": 7,
   "metadata": {},
   "outputs": [
    {
     "data": {
      "text/plain": [
       "[{'tailport': 'c'}, {'tailport': 'c'}, {'tailport': 'c'}]"
      ]
     },
     "execution_count": 7,
     "metadata": {},
     "output_type": "execute_result"
    }
   ],
   "source": [
    "# Attributes correspond to each outs stream respectively\n",
    "# For example: Attributes for B1.outs[0] would correspond to edge_out[0]\n",
    "edge_out"
   ]
  },
  {
   "cell_type": "code",
   "execution_count": 8,
   "metadata": {},
   "outputs": [
    {
     "data": {
      "text/plain": [
       "{'shape': 'box',\n",
       " 'fillcolor': 'white:#CDCDCD',\n",
       " 'style': 'filled',\n",
       " 'gradientangle': '0',\n",
       " 'width': '0.6',\n",
       " 'height': '0.6',\n",
       " 'orientation': '0.0',\n",
       " 'color': 'black',\n",
       " 'peripheries': '1',\n",
       " 'margin': 'default'}"
      ]
     },
     "execution_count": 8,
     "metadata": {},
     "output_type": "execute_result"
    }
   ],
   "source": [
    "node # The node is the actuall unit"
   ]
  },
  {
   "cell_type": "markdown",
   "metadata": {},
   "source": [
    "These attributes can be changed to the user's liking:"
   ]
  },
  {
   "cell_type": "code",
   "execution_count": 9,
   "metadata": {},
   "outputs": [],
   "source": [
    "edge_out[0]['tailport'] = 'n'\n",
    "edge_out[1]['tailport'] = 's'\n",
    "node['width'] = '1'\n",
    "node['height'] = '1.2'"
   ]
  },
  {
   "cell_type": "code",
   "execution_count": 10,
   "metadata": {},
   "outputs": [
    {
     "data": {
      "image/svg+xml": [
       "<svg height=\"173pt\" viewBox=\"0.00 0.00 338.00 173.00\" width=\"338pt\" xmlns=\"http://www.w3.org/2000/svg\" xmlns:xlink=\"http://www.w3.org/1999/xlink\">\n",
       "<g class=\"graph\" id=\"graph0\" transform=\"scale(1 1) rotate(0) translate(4 169)\">\n",
       "<title>unit</title>\n",
       "<polygon fill=\"white\" points=\"-4,4 -4,-169 334,-169 334,4 -4,4\" stroke=\"none\"/>\n",
       "<!-- B1\n",
       "Boiler&#45;&gt;gas -->\n",
       "<g class=\"edge\" id=\"edge2\"><title>B1\n",
       "Boiler:n-&gt;gas:w</title>\n",
       "<path d=\"M167,-126.5C167,-178.386 230.614,-143.5 282.5,-143.5\" fill=\"none\" stroke=\"black\"/>\n",
       "</g>\n",
       "<!-- B1\n",
       "Boiler&#45;&gt;liq -->\n",
       "<g class=\"edge\" id=\"edge3\"><title>B1\n",
       "Boiler:s-&gt;liq:w</title>\n",
       "<path d=\"M167,-38.5C167,13.3864 230.614,-21.5 282.5,-21.5\" fill=\"none\" stroke=\"black\"/>\n",
       "</g>\n",
       "<!-- water&#45;&gt;B1\n",
       "Boiler -->\n",
       "<g class=\"edge\" id=\"edge1\"><title>water:e-&gt;B1\n",
       "Boiler:c</title>\n",
       "<path d=\"M51.5,-82.5C78.1372,-82.5 108.26,-82.5 130.921,-82.5\" fill=\"none\" stroke=\"black\"/>\n",
       "</g>\n",
       "<!-- B1\n",
       "Boiler -->\n",
       "<g class=\"node\" id=\"node1\"><title>B1\n",
       "Boiler</title>\n",
       "<defs>\n",
       "<linearGradient gradientUnits=\"userSpaceOnUse\" id=\"l_0\" x1=\"131\" x2=\"203\" y1=\"-82.5\" y2=\"-82.5\">\n",
       "<stop offset=\"0\" style=\"stop-color:white;stop-opacity:1.;\"/>\n",
       "<stop offset=\"1\" style=\"stop-color:#cdcdcd;stop-opacity:1.;\"/>\n",
       "</linearGradient>\n",
       "</defs>\n",
       "<polygon fill=\"url(#l_0)\" points=\"203,-125.5 131,-125.5 131,-39.5 203,-39.5 203,-125.5\" stroke=\"black\"/>\n",
       "<text font-family=\"Times New Roman,serif\" font-size=\"14.00\" text-anchor=\"middle\" x=\"167\" y=\"-86.3\">B1</text>\n",
       "<text font-family=\"Times New Roman,serif\" font-size=\"14.00\" text-anchor=\"middle\" x=\"167\" y=\"-71.3\">Boiler</text>\n",
       "</g>\n",
       "<!-- water -->\n",
       "<g class=\"node\" id=\"node2\"><title>water</title>\n",
       "<polygon fill=\"#79dae8\" points=\"33.5,-98 4.5,-98 4.5,-67 33.5,-67 33.5,-61 51.5,-82.5 33.5,-104 33.5,-98\" stroke=\"black\"/>\n",
       "<text font-family=\"Times New Roman,serif\" font-size=\"14.00\" text-anchor=\"middle\" x=\"28\" y=\"-78.8\">water</text>\n",
       "</g>\n",
       "<!-- gas -->\n",
       "<g class=\"node\" id=\"node3\"><title>gas</title>\n",
       "<polygon fill=\"#79dae8\" points=\"307.5,-159 282.5,-159 282.5,-128 307.5,-128 307.5,-122 325.5,-143.5 307.5,-165 307.5,-159\" stroke=\"black\"/>\n",
       "<text font-family=\"Times New Roman,serif\" font-size=\"14.00\" text-anchor=\"middle\" x=\"304\" y=\"-139.8\">gas</text>\n",
       "</g>\n",
       "<!-- liq -->\n",
       "<g class=\"node\" id=\"node4\"><title>liq</title>\n",
       "<polygon fill=\"#79dae8\" points=\"307.5,-37 282.5,-37 282.5,-6 307.5,-6 307.5,-0 325.5,-21.5 307.5,-43 307.5,-37\" stroke=\"black\"/>\n",
       "<text font-family=\"Times New Roman,serif\" font-size=\"14.00\" text-anchor=\"middle\" x=\"304\" y=\"-17.8\">liq</text>\n",
       "</g>\n",
       "</g>\n",
       "</svg>"
      ],
      "text/plain": [
       "<IPython.core.display.SVG object>"
      ]
     },
     "metadata": {},
     "output_type": "display_data"
    }
   ],
   "source": [
    "B1.diagram()"
   ]
  },
  {
   "cell_type": "markdown",
   "metadata": {},
   "source": [
    "It is also possible to dynamically adjust node and edge attributes by adding a node_function:"
   ]
  },
  {
   "cell_type": "code",
   "execution_count": 11,
   "metadata": {},
   "outputs": [],
   "source": [
    "def boiler_node_function(unit):\n",
    "    graphics = unit._graphics\n",
    "    feed = unit.ins[0]\n",
    "    gas, liq = unit.outs\n",
    "    if gas.T > feed.T or gas.molnet:\n",
    "        graphics.node['fillcolor'] = 'white:#fad6d8'\n",
    "        unit_op_name = 'Active boiler'\n",
    "    else:\n",
    "        graphics.node['fillcolor'] = 'white:#CDCDCD'\n",
    "        unit_op_name = 'Inactive boiler'\n",
    "    return unit_op_name # If a string is returned, it will replace the Unit operation name\n",
    "\n",
    "graphics.node_function = boiler_node_function"
   ]
  },
  {
   "cell_type": "code",
   "execution_count": 12,
   "metadata": {},
   "outputs": [
    {
     "data": {
      "image/svg+xml": [
       "<svg height=\"173pt\" viewBox=\"0.00 0.00 338.00 173.00\" width=\"338pt\" xmlns=\"http://www.w3.org/2000/svg\" xmlns:xlink=\"http://www.w3.org/1999/xlink\">\n",
       "<g class=\"graph\" id=\"graph0\" transform=\"scale(1 1) rotate(0) translate(4 169)\">\n",
       "<title>unit</title>\n",
       "<polygon fill=\"white\" points=\"-4,4 -4,-169 334,-169 334,4 -4,4\" stroke=\"none\"/>\n",
       "<!-- B1\n",
       "Active boiler&#45;&gt;gas -->\n",
       "<g class=\"edge\" id=\"edge2\"><title>B1\n",
       "Active boiler:n-&gt;gas:w</title>\n",
       "<path d=\"M167,-126.5C167,-179.266 231.734,-143.5 284.5,-143.5\" fill=\"none\" stroke=\"black\"/>\n",
       "</g>\n",
       "<!-- B1\n",
       "Active boiler&#45;&gt;liq -->\n",
       "<g class=\"edge\" id=\"edge3\"><title>B1\n",
       "Active boiler:s-&gt;liq:w</title>\n",
       "<path d=\"M167,-38.5C167,14.266 231.734,-21.5 284.5,-21.5\" fill=\"none\" stroke=\"black\"/>\n",
       "</g>\n",
       "<!-- water&#45;&gt;B1\n",
       "Active boiler -->\n",
       "<g class=\"edge\" id=\"edge1\"><title>water:e-&gt;B1\n",
       "Active boiler:c</title>\n",
       "<path d=\"M49.5,-82.5C73.7708,-82.5 100.886,-82.5 122.846,-82.5\" fill=\"none\" stroke=\"black\"/>\n",
       "</g>\n",
       "<!-- B1\n",
       "Active boiler -->\n",
       "<g class=\"node\" id=\"node1\"><title>B1\n",
       "Active boiler</title>\n",
       "<defs>\n",
       "<linearGradient gradientUnits=\"userSpaceOnUse\" id=\"l_0\" x1=\"123\" x2=\"211\" y1=\"-82.5\" y2=\"-82.5\">\n",
       "<stop offset=\"0\" style=\"stop-color:white;stop-opacity:1.;\"/>\n",
       "<stop offset=\"1\" style=\"stop-color:#fad6d8;stop-opacity:1.;\"/>\n",
       "</linearGradient>\n",
       "</defs>\n",
       "<polygon fill=\"url(#l_0)\" points=\"211,-125.5 123,-125.5 123,-39.5 211,-39.5 211,-125.5\" stroke=\"black\"/>\n",
       "<text font-family=\"Times New Roman,serif\" font-size=\"14.00\" text-anchor=\"middle\" x=\"167\" y=\"-86.3\">B1</text>\n",
       "<text font-family=\"Times New Roman,serif\" font-size=\"14.00\" text-anchor=\"middle\" x=\"167\" y=\"-71.3\">Active boiler</text>\n",
       "</g>\n",
       "<!-- water -->\n",
       "<g class=\"node\" id=\"node2\"><title>water</title>\n",
       "<polygon fill=\"#79dae8\" points=\"31.5,-98 2.5,-98 2.5,-67 31.5,-67 31.5,-61 49.5,-82.5 31.5,-104 31.5,-98\" stroke=\"black\"/>\n",
       "<text font-family=\"Times New Roman,serif\" font-size=\"14.00\" text-anchor=\"middle\" x=\"26\" y=\"-78.8\">water</text>\n",
       "</g>\n",
       "<!-- gas -->\n",
       "<g class=\"node\" id=\"node3\"><title>gas</title>\n",
       "<polygon fill=\"#79dae8\" points=\"309.5,-159 284.5,-159 284.5,-128 309.5,-128 309.5,-122 327.5,-143.5 309.5,-165 309.5,-159\" stroke=\"black\"/>\n",
       "<text font-family=\"Times New Roman,serif\" font-size=\"14.00\" text-anchor=\"middle\" x=\"306\" y=\"-139.8\">gas</text>\n",
       "</g>\n",
       "<!-- liq -->\n",
       "<g class=\"node\" id=\"node4\"><title>liq</title>\n",
       "<polygon fill=\"#79dae8\" points=\"309.5,-37 284.5,-37 284.5,-6 309.5,-6 309.5,-0 327.5,-21.5 309.5,-43 309.5,-37\" stroke=\"black\"/>\n",
       "<text font-family=\"Times New Roman,serif\" font-size=\"14.00\" text-anchor=\"middle\" x=\"306\" y=\"-17.8\">liq</text>\n",
       "</g>\n",
       "</g>\n",
       "</svg>"
      ],
      "text/plain": [
       "<IPython.core.display.SVG object>"
      ]
     },
     "metadata": {},
     "output_type": "display_data"
    }
   ],
   "source": [
    "B1.diagram()"
   ]
  },
  {
   "cell_type": "markdown",
   "metadata": {},
   "source": [
    "**NOTE: The example implementation of the node_function is not suggested; best to keep diagrams simple.**"
   ]
  }
 ],
 "metadata": {
  "kernelspec": {
   "display_name": "Python 3",
   "language": "python",
   "name": "python3"
  },
  "language_info": {
   "codemirror_mode": {
    "name": "ipython",
    "version": 3
   },
   "file_extension": ".py",
   "mimetype": "text/x-python",
   "name": "python",
   "nbconvert_exporter": "python",
   "pygments_lexer": "ipython3",
   "version": "3.6.5"
  }
 },
 "nbformat": 4,
 "nbformat_minor": 2
}
