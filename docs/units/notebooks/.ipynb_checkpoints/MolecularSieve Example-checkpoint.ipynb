{
 "cells": [
  {
   "cell_type": "markdown",
   "metadata": {},
   "source": [
    "# MolecularSieve"
   ]
  },
  {
   "cell_type": "markdown",
   "metadata": {},
   "source": [
    "### The MolecularSieve class is based on bioethanol plant molecular sieves. Cost based on scaling factor from NREL report."
   ]
  },
  {
   "cell_type": "code",
   "execution_count": 3,
   "metadata": {},
   "outputs": [
    {
     "data": {
      "image/png": "[encoded data removed]",
      "text/plain": [
       "<IPython.core.display.Image object>"
      ]
     },
     "metadata": {},
     "output_type": "display_data"
    },
    {
     "name": "stdout",
     "output_type": "stream",
     "text": [
      "MolecularSieve: MS1\n",
      "ins...\n",
      "[0] s3\n",
      "    phase: 'g', T: 25 degC, P: 1 atm\n",
      "    composition: Water    0.209\n",
      "                 Ethanol  0.791\n",
      "                 -------  362 kmol/hr\n",
      "outs...\n",
      "[0] s4\n",
      "    phase: 'g', T: 25 degC, P: 1 atm\n",
      "    composition: Water    0.0438\n",
      "                 Ethanol  0.956\n",
      "                 -------  277 kmol/hr\n",
      "[1] s5\n",
      "    phase: 'g', T: 25 degC, P: 1 atm\n",
      "    composition: Water    0.748\n",
      "                 Ethanol  0.252\n",
      "                 -------  85 kmol/hr\n"
     ]
    }
   ],
   "source": [
    "from thermosteam import Chemicals, Stream, settings\n",
    "from biosteam.units import MolecularSieve\n",
    "\n",
    "chemicals = Chemicals(['Water', 'Ethanol'])\n",
    "settings.set_thermo(chemicals)\n",
    "\n",
    "# Set up stream\n",
    "feed = Stream(flow=(75.7, 286), phase='g')\n",
    "bp = feed.bubble_point_at_T()\n",
    "feed.T = bp.T\n",
    "\n",
    "# Set up column\n",
    "MS1 = MolecularSieve('MS1', ins=feed, split=(0.160, 0.925))\n",
    "\n",
    "# Run all methods\n",
    "MS1.simulate()\n",
    "\n",
    "# See all results\n",
    "MS1.diagram()\n",
    "MS1.show(T='degC', P='atm', composition= True)"
   ]
  },
  {
   "cell_type": "code",
   "execution_count": 4,
   "metadata": {},
   "outputs": [
    {
     "data": {
      "text/html": [
       "<div>\n",
       "<style scoped>\n",
       "    .dataframe tbody tr th:only-of-type {\n",
       "        vertical-align: middle;\n",
       "    }\n",
       "\n",
       "    .dataframe tbody tr th {\n",
       "        vertical-align: top;\n",
       "    }\n",
       "\n",
       "    .dataframe thead th {\n",
       "        text-align: right;\n",
       "    }\n",
       "</style>\n",
       "<table border=\"1\" class=\"dataframe\">\n",
       "  <thead>\n",
       "    <tr style=\"text-align: right;\">\n",
       "      <th></th>\n",
       "      <th>Molecular sieve</th>\n",
       "      <th>Units</th>\n",
       "      <th>MS1</th>\n",
       "    </tr>\n",
       "  </thead>\n",
       "  <tbody>\n",
       "    <tr>\n",
       "      <th rowspan=\"2\" valign=\"top\">Power</th>\n",
       "      <th>Rate</th>\n",
       "      <td>kW</td>\n",
       "      <td>14.2</td>\n",
       "    </tr>\n",
       "    <tr>\n",
       "      <th>Cost</th>\n",
       "      <td>USD/hr</td>\n",
       "      <td>1.11</td>\n",
       "    </tr>\n",
       "    <tr>\n",
       "      <th rowspan=\"3\" valign=\"top\">Low pressure steam</th>\n",
       "      <th>Duty</th>\n",
       "      <td>kJ/hr</td>\n",
       "      <td>3.21e+06</td>\n",
       "    </tr>\n",
       "    <tr>\n",
       "      <th>Flow</th>\n",
       "      <td>kmol/hr</td>\n",
       "      <td>82.6</td>\n",
       "    </tr>\n",
       "    <tr>\n",
       "      <th>Cost</th>\n",
       "      <td>USD/hr</td>\n",
       "      <td>19.7</td>\n",
       "    </tr>\n",
       "    <tr>\n",
       "      <th rowspan=\"3\" valign=\"top\">Chilled water</th>\n",
       "      <th>Duty</th>\n",
       "      <td>kJ/hr</td>\n",
       "      <td>-1.18e+05</td>\n",
       "    </tr>\n",
       "    <tr>\n",
       "      <th>Flow</th>\n",
       "      <td>kmol/hr</td>\n",
       "      <td>123</td>\n",
       "    </tr>\n",
       "    <tr>\n",
       "      <th>Cost</th>\n",
       "      <td>USD/hr</td>\n",
       "      <td>0.592</td>\n",
       "    </tr>\n",
       "    <tr>\n",
       "      <th>Design</th>\n",
       "      <th>Flow rate</th>\n",
       "      <td>kg/hr</td>\n",
       "      <td>2.13e+03</td>\n",
       "    </tr>\n",
       "    <tr>\n",
       "      <th>Purchase cost</th>\n",
       "      <th>Column</th>\n",
       "      <td>USD</td>\n",
       "      <td>6.85e+05</td>\n",
       "    </tr>\n",
       "    <tr>\n",
       "      <th>Total purchase cost</th>\n",
       "      <th></th>\n",
       "      <td>USD</td>\n",
       "      <td>6.85e+05</td>\n",
       "    </tr>\n",
       "    <tr>\n",
       "      <th>Utility cost</th>\n",
       "      <th></th>\n",
       "      <td>USD/hr</td>\n",
       "      <td>21.4</td>\n",
       "    </tr>\n",
       "  </tbody>\n",
       "</table>\n",
       "</div>"
      ],
      "text/plain": [
       "Molecular sieve                  Units       MS1\n",
       "Power               Rate            kW      14.2\n",
       "                    Cost        USD/hr      1.11\n",
       "Low pressure steam  Duty         kJ/hr  3.21e+06\n",
       "                    Flow       kmol/hr      82.6\n",
       "                    Cost        USD/hr      19.7\n",
       "Chilled water       Duty         kJ/hr -1.18e+05\n",
       "                    Flow       kmol/hr       123\n",
       "                    Cost        USD/hr     0.592\n",
       "Design              Flow rate    kg/hr  2.13e+03\n",
       "Purchase cost       Column         USD  6.85e+05\n",
       "Total purchase cost                USD  6.85e+05\n",
       "Utility cost                    USD/hr      21.4"
      ]
     },
     "execution_count": 4,
     "metadata": {},
     "output_type": "execute_result"
    }
   ],
   "source": [
    "MS1.results()"
   ]
  }
 ],
 "metadata": {
  "kernelspec": {
   "display_name": "Python 3",
   "language": "python",
   "name": "python3"
  },
  "language_info": {
   "codemirror_mode": {
    "name": "ipython",
    "version": 3
   },
   "file_extension": ".py",
   "mimetype": "text/x-python",
   "name": "python",
   "nbconvert_exporter": "python",
   "pygments_lexer": "ipython3",
   "version": "3.6.5"
  }
 },
 "nbformat": 4,
 "nbformat_minor": 2
}
