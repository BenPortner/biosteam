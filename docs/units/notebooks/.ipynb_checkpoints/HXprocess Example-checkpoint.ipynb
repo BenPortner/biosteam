{
 "cells": [
  {
   "cell_type": "markdown",
   "metadata": {},
   "source": [
    "# HXprocess"
   ]
  },
  {
   "cell_type": "markdown",
   "metadata": {},
   "source": [
    "### Sensible fluids case:"
   ]
  },
  {
   "cell_type": "code",
   "execution_count": 1,
   "metadata": {},
   "outputs": [
    {
     "data": {
      "image/png": "[encoded data removed]",
      "text/plain": [
       "<IPython.core.display.Image object>"
      ]
     },
     "metadata": {},
     "output_type": "display_data"
    },
    {
     "name": "stdout",
     "output_type": "stream",
     "text": [
      "HXprocess: hx\n",
      "ins...\n",
      "[0] in1\n",
      "    phase: 'l', T: 350 K, P: 101325 Pa\n",
      "    flow (kmol/hr): Water  200\n",
      "[1] in2\n",
      "    phase: 'l', T: 298.15 K, P: 101325 Pa\n",
      "    flow (kmol/hr): Ethanol  200\n",
      "outs...\n",
      "[0] out1\n",
      "    phase: 'l', T: 303.15 K, P: 101325 Pa\n",
      "    flow (kmol/hr): Water  200\n",
      "[1] out2\n",
      "    phase: 'l', T: 329.64 K, P: 101325 Pa\n",
      "    flow (kmol/hr): Ethanol  200\n"
     ]
    }
   ],
   "source": [
    "from biosteam.units import HXprocess\n",
    "from thermosteam import Chemicals, Stream, settings\n",
    "\n",
    "chemicals = Chemicals(['Water', 'Ethanol'])\n",
    "settings.set_thermo(chemicals)\n",
    "\n",
    "# Simulate counter-current heat exchanger\n",
    "in1 = Stream('in1', Water=200, T=350)\n",
    "in2 = Stream('in2', Ethanol=200)\n",
    "hx = HXprocess('hx', ins=(in1, in2), outs=('out1', 'out2'),\n",
    "               fluid_type='ss')\n",
    "hx.simulate()\n",
    "\n",
    "# Show results\n",
    "hx.diagram()\n",
    "hx.show()"
   ]
  },
  {
   "cell_type": "code",
   "execution_count": 2,
   "metadata": {},
   "outputs": [
    {
     "data": {
      "text/html": [
       "<div>\n",
       "<style scoped>\n",
       "    .dataframe tbody tr th:only-of-type {\n",
       "        vertical-align: middle;\n",
       "    }\n",
       "\n",
       "    .dataframe tbody tr th {\n",
       "        vertical-align: top;\n",
       "    }\n",
       "\n",
       "    .dataframe thead th {\n",
       "        text-align: right;\n",
       "    }\n",
       "</style>\n",
       "<table border=\"1\" class=\"dataframe\">\n",
       "  <thead>\n",
       "    <tr style=\"text-align: right;\">\n",
       "      <th></th>\n",
       "      <th>Heat Exchanger</th>\n",
       "      <th>Units</th>\n",
       "      <th>hx</th>\n",
       "    </tr>\n",
       "  </thead>\n",
       "  <tbody>\n",
       "    <tr>\n",
       "      <th rowspan=\"2\" valign=\"top\">Power</th>\n",
       "      <th>Rate</th>\n",
       "      <td>kW</td>\n",
       "      <td>0</td>\n",
       "    </tr>\n",
       "    <tr>\n",
       "      <th>Cost</th>\n",
       "      <td>USD/hr</td>\n",
       "      <td>0</td>\n",
       "    </tr>\n",
       "    <tr>\n",
       "      <th rowspan=\"7\" valign=\"top\">Design</th>\n",
       "      <th>Area</th>\n",
       "      <td>ft^2</td>\n",
       "      <td>207</td>\n",
       "    </tr>\n",
       "    <tr>\n",
       "      <th>Overall heat transfer coefficient</th>\n",
       "      <td>kW/m^2/K</td>\n",
       "      <td>0.5</td>\n",
       "    </tr>\n",
       "    <tr>\n",
       "      <th>Fouling correction factor</th>\n",
       "      <td></td>\n",
       "      <td>1</td>\n",
       "    </tr>\n",
       "    <tr>\n",
       "      <th>Tube side pressure drop</th>\n",
       "      <td>psi</td>\n",
       "      <td>5</td>\n",
       "    </tr>\n",
       "    <tr>\n",
       "      <th>Shell side pressure drop</th>\n",
       "      <td>psi</td>\n",
       "      <td>5</td>\n",
       "    </tr>\n",
       "    <tr>\n",
       "      <th>Operating pressure</th>\n",
       "      <td>psi</td>\n",
       "      <td>14.7</td>\n",
       "    </tr>\n",
       "    <tr>\n",
       "      <th>Total tube length</th>\n",
       "      <td>ft</td>\n",
       "      <td>20</td>\n",
       "    </tr>\n",
       "    <tr>\n",
       "      <th>Purchase cost</th>\n",
       "      <th>Heat exchanger</th>\n",
       "      <td>USD</td>\n",
       "      <td>2.05e+04</td>\n",
       "    </tr>\n",
       "    <tr>\n",
       "      <th>Total purchase cost</th>\n",
       "      <th></th>\n",
       "      <td>USD</td>\n",
       "      <td>2.05e+04</td>\n",
       "    </tr>\n",
       "    <tr>\n",
       "      <th>Utility cost</th>\n",
       "      <th></th>\n",
       "      <td>USD/hr</td>\n",
       "      <td>0</td>\n",
       "    </tr>\n",
       "  </tbody>\n",
       "</table>\n",
       "</div>"
      ],
      "text/plain": [
       "Heat Exchanger                                            Units       hx\n",
       "Power               Rate                                     kW        0\n",
       "                    Cost                                 USD/hr        0\n",
       "Design              Area                                   ft^2      207\n",
       "                    Overall heat transfer coefficient  kW/m^2/K      0.5\n",
       "                    Fouling correction factor                          1\n",
       "                    Tube side pressure drop                 psi        5\n",
       "                    Shell side pressure drop                psi        5\n",
       "                    Operating pressure                      psi     14.7\n",
       "                    Total tube length                        ft       20\n",
       "Purchase cost       Heat exchanger                          USD 2.05e+04\n",
       "Total purchase cost                                         USD 2.05e+04\n",
       "Utility cost                                             USD/hr        0"
      ]
     },
     "execution_count": 2,
     "metadata": {},
     "output_type": "execute_result"
    }
   ],
   "source": [
    "hx.results()"
   ]
  },
  {
   "cell_type": "markdown",
   "metadata": {},
   "source": [
    "### One latent fluid and one sensible fluid case:"
   ]
  },
  {
   "cell_type": "code",
   "execution_count": 3,
   "metadata": {},
   "outputs": [
    {
     "data": {
      "image/png": "[encoded data removed]",
      "text/plain": [
       "<IPython.core.display.Image object>"
      ]
     },
     "metadata": {},
     "output_type": "display_data"
    },
    {
     "name": "stdout",
     "output_type": "stream",
     "text": [
      "HXprocess: hx\n",
      "ins...\n",
      "[0] in1\n",
      "    phase: 'g', T: 351.43 K, P: 101325 Pa\n",
      "    flow (kmol/hr): Ethanol  50\n",
      "[1] in2\n",
      "    phase: 'l', T: 298.15 K, P: 101325 Pa\n",
      "    flow (kmol/hr): Water  200\n",
      "outs...\n",
      "[0] out1\n",
      "    phases: ('g', 'l'), T: 351.39 K, P: 101325 Pa\n",
      "    flow (kmol/hr): (g) Ethanol  32.94\n",
      "                    (l) Ethanol  17.06\n",
      "[1] out2\n",
      "    phase: 'l', T: 346.43 K, P: 101325 Pa\n",
      "    flow (kmol/hr): Water  200\n"
     ]
    }
   ],
   "source": [
    "# Simulate counter-current heat exchanger\n",
    "in1 = Stream('in1', Ethanol=50, T=351.43, phase='g')\n",
    "in2 = Stream('in2', Water=200)\n",
    "hx = HXprocess('hx', ins=(in1, in2), outs=('out1', 'out2'),\n",
    "               fluid_type='ls')\n",
    "hx.simulate()\n",
    "\n",
    "# Show results\n",
    "hx.diagram()\n",
    "hx.show()"
   ]
  },
  {
   "cell_type": "code",
   "execution_count": 4,
   "metadata": {},
   "outputs": [
    {
     "data": {
      "text/html": [
       "<div>\n",
       "<style scoped>\n",
       "    .dataframe tbody tr th:only-of-type {\n",
       "        vertical-align: middle;\n",
       "    }\n",
       "\n",
       "    .dataframe tbody tr th {\n",
       "        vertical-align: top;\n",
       "    }\n",
       "\n",
       "    .dataframe thead th {\n",
       "        text-align: right;\n",
       "    }\n",
       "</style>\n",
       "<table border=\"1\" class=\"dataframe\">\n",
       "  <thead>\n",
       "    <tr style=\"text-align: right;\">\n",
       "      <th></th>\n",
       "      <th>Heat Exchanger</th>\n",
       "      <th>Units</th>\n",
       "      <th>hx</th>\n",
       "    </tr>\n",
       "  </thead>\n",
       "  <tbody>\n",
       "    <tr>\n",
       "      <th rowspan=\"2\" valign=\"top\">Power</th>\n",
       "      <th>Rate</th>\n",
       "      <td>kW</td>\n",
       "      <td>0</td>\n",
       "    </tr>\n",
       "    <tr>\n",
       "      <th>Cost</th>\n",
       "      <td>USD/hr</td>\n",
       "      <td>0</td>\n",
       "    </tr>\n",
       "    <tr>\n",
       "      <th rowspan=\"7\" valign=\"top\">Design</th>\n",
       "      <th>Area</th>\n",
       "      <td>ft^2</td>\n",
       "      <td>625</td>\n",
       "    </tr>\n",
       "    <tr>\n",
       "      <th>Overall heat transfer coefficient</th>\n",
       "      <td>kW/m^2/K</td>\n",
       "      <td>0.5</td>\n",
       "    </tr>\n",
       "    <tr>\n",
       "      <th>Fouling correction factor</th>\n",
       "      <td></td>\n",
       "      <td>1</td>\n",
       "    </tr>\n",
       "    <tr>\n",
       "      <th>Tube side pressure drop</th>\n",
       "      <td>psi</td>\n",
       "      <td>5</td>\n",
       "    </tr>\n",
       "    <tr>\n",
       "      <th>Shell side pressure drop</th>\n",
       "      <td>psi</td>\n",
       "      <td>1.5</td>\n",
       "    </tr>\n",
       "    <tr>\n",
       "      <th>Operating pressure</th>\n",
       "      <td>psi</td>\n",
       "      <td>14.7</td>\n",
       "    </tr>\n",
       "    <tr>\n",
       "      <th>Total tube length</th>\n",
       "      <td>ft</td>\n",
       "      <td>20</td>\n",
       "    </tr>\n",
       "    <tr>\n",
       "      <th>Purchase cost</th>\n",
       "      <th>Heat exchanger</th>\n",
       "      <td>USD</td>\n",
       "      <td>2.53e+04</td>\n",
       "    </tr>\n",
       "    <tr>\n",
       "      <th>Total purchase cost</th>\n",
       "      <th></th>\n",
       "      <td>USD</td>\n",
       "      <td>2.53e+04</td>\n",
       "    </tr>\n",
       "    <tr>\n",
       "      <th>Utility cost</th>\n",
       "      <th></th>\n",
       "      <td>USD/hr</td>\n",
       "      <td>0</td>\n",
       "    </tr>\n",
       "  </tbody>\n",
       "</table>\n",
       "</div>"
      ],
      "text/plain": [
       "Heat Exchanger                                            Units       hx\n",
       "Power               Rate                                     kW        0\n",
       "                    Cost                                 USD/hr        0\n",
       "Design              Area                                   ft^2      625\n",
       "                    Overall heat transfer coefficient  kW/m^2/K      0.5\n",
       "                    Fouling correction factor                          1\n",
       "                    Tube side pressure drop                 psi        5\n",
       "                    Shell side pressure drop                psi      1.5\n",
       "                    Operating pressure                      psi     14.7\n",
       "                    Total tube length                        ft       20\n",
       "Purchase cost       Heat exchanger                          USD 2.53e+04\n",
       "Total purchase cost                                         USD 2.53e+04\n",
       "Utility cost                                             USD/hr        0"
      ]
     },
     "execution_count": 4,
     "metadata": {},
     "output_type": "execute_result"
    }
   ],
   "source": [
    "hx.results()"
   ]
  },
  {
   "cell_type": "markdown",
   "metadata": {},
   "source": [
    "### Latent fluids case:"
   ]
  },
  {
   "cell_type": "code",
   "execution_count": 5,
   "metadata": {},
   "outputs": [
    {
     "data": {
      "image/png": "[encoded data removed]",
      "text/plain": [
       "<IPython.core.display.Image object>"
      ]
     },
     "metadata": {},
     "output_type": "display_data"
    },
    {
     "name": "stdout",
     "output_type": "stream",
     "text": [
      "HXprocess: hx\n",
      "ins...\n",
      "[0] in1\n",
      "    phase: 'l', T: 351.43 K, P: 101325 Pa\n",
      "    flow (kmol/hr): Ethanol  50\n",
      "[1] in2\n",
      "    phase: 'g', T: 373.15 K, P: 101325 Pa\n",
      "    flow (kmol/hr): Water  200\n",
      "outs...\n",
      "[0] out1\n",
      "    phase: 'g', T: 351.43 K, P: 101325 Pa\n",
      "    flow (kmol/hr): Ethanol  50\n",
      "[1] out2\n",
      "    phases: ('g', 'l'), T: 373.12 K, P: 101325 Pa\n",
      "    flow (kmol/hr): (g) Water  150.8\n",
      "                    (l) Water  49.19\n"
     ]
    }
   ],
   "source": [
    "# Simulate counter-current heat exchanger\n",
    "in1 = Stream('in1', Ethanol=50, T=351.43, phase='l')\n",
    "in2 = Stream('in2', Water=200, T=373.15, phase='g')\n",
    "hx = HXprocess('hx', ins=(in1, in2), outs=('out1', 'out2'),\n",
    "               fluid_type='ll')\n",
    "hx.simulate()\n",
    "\n",
    "# Show results\n",
    "hx.diagram()\n",
    "hx.show()"
   ]
  },
  {
   "cell_type": "code",
   "execution_count": 6,
   "metadata": {},
   "outputs": [
    {
     "data": {
      "text/html": [
       "<div>\n",
       "<style scoped>\n",
       "    .dataframe tbody tr th:only-of-type {\n",
       "        vertical-align: middle;\n",
       "    }\n",
       "\n",
       "    .dataframe tbody tr th {\n",
       "        vertical-align: top;\n",
       "    }\n",
       "\n",
       "    .dataframe thead th {\n",
       "        text-align: right;\n",
       "    }\n",
       "</style>\n",
       "<table border=\"1\" class=\"dataframe\">\n",
       "  <thead>\n",
       "    <tr style=\"text-align: right;\">\n",
       "      <th></th>\n",
       "      <th>Heat Exchanger</th>\n",
       "      <th>Units</th>\n",
       "      <th>hx</th>\n",
       "    </tr>\n",
       "  </thead>\n",
       "  <tbody>\n",
       "    <tr>\n",
       "      <th rowspan=\"2\" valign=\"top\">Power</th>\n",
       "      <th>Rate</th>\n",
       "      <td>kW</td>\n",
       "      <td>0</td>\n",
       "    </tr>\n",
       "    <tr>\n",
       "      <th>Cost</th>\n",
       "      <td>USD/hr</td>\n",
       "      <td>0</td>\n",
       "    </tr>\n",
       "    <tr>\n",
       "      <th rowspan=\"7\" valign=\"top\">Design</th>\n",
       "      <th>Area</th>\n",
       "      <td>ft^2</td>\n",
       "      <td>293</td>\n",
       "    </tr>\n",
       "    <tr>\n",
       "      <th>Overall heat transfer coefficient</th>\n",
       "      <td>kW/m^2/K</td>\n",
       "      <td>1</td>\n",
       "    </tr>\n",
       "    <tr>\n",
       "      <th>Fouling correction factor</th>\n",
       "      <td></td>\n",
       "      <td>1</td>\n",
       "    </tr>\n",
       "    <tr>\n",
       "      <th>Tube side pressure drop</th>\n",
       "      <td>psi</td>\n",
       "      <td>1.5</td>\n",
       "    </tr>\n",
       "    <tr>\n",
       "      <th>Shell side pressure drop</th>\n",
       "      <td>psi</td>\n",
       "      <td>1.5</td>\n",
       "    </tr>\n",
       "    <tr>\n",
       "      <th>Operating pressure</th>\n",
       "      <td>psi</td>\n",
       "      <td>14.7</td>\n",
       "    </tr>\n",
       "    <tr>\n",
       "      <th>Total tube length</th>\n",
       "      <td>ft</td>\n",
       "      <td>20</td>\n",
       "    </tr>\n",
       "    <tr>\n",
       "      <th>Purchase cost</th>\n",
       "      <th>Heat exchanger</th>\n",
       "      <td>USD</td>\n",
       "      <td>2.14e+04</td>\n",
       "    </tr>\n",
       "    <tr>\n",
       "      <th>Total purchase cost</th>\n",
       "      <th></th>\n",
       "      <td>USD</td>\n",
       "      <td>2.14e+04</td>\n",
       "    </tr>\n",
       "    <tr>\n",
       "      <th>Utility cost</th>\n",
       "      <th></th>\n",
       "      <td>USD/hr</td>\n",
       "      <td>0</td>\n",
       "    </tr>\n",
       "  </tbody>\n",
       "</table>\n",
       "</div>"
      ],
      "text/plain": [
       "Heat Exchanger                                            Units       hx\n",
       "Power               Rate                                     kW        0\n",
       "                    Cost                                 USD/hr        0\n",
       "Design              Area                                   ft^2      293\n",
       "                    Overall heat transfer coefficient  kW/m^2/K        1\n",
       "                    Fouling correction factor                          1\n",
       "                    Tube side pressure drop                 psi      1.5\n",
       "                    Shell side pressure drop                psi      1.5\n",
       "                    Operating pressure                      psi     14.7\n",
       "                    Total tube length                        ft       20\n",
       "Purchase cost       Heat exchanger                          USD 2.14e+04\n",
       "Total purchase cost                                         USD 2.14e+04\n",
       "Utility cost                                             USD/hr        0"
      ]
     },
     "execution_count": 6,
     "metadata": {},
     "output_type": "execute_result"
    }
   ],
   "source": [
    "hx.results()"
   ]
  }
 ],
 "metadata": {
  "kernelspec": {
   "display_name": "Python 3",
   "language": "python",
   "name": "python3"
  },
  "language_info": {
   "codemirror_mode": {
    "name": "ipython",
    "version": 3
   },
   "file_extension": ".py",
   "mimetype": "text/x-python",
   "name": "python",
   "nbconvert_exporter": "python",
   "pygments_lexer": "ipython3",
   "version": "3.6.5"
  }
 },
 "nbformat": 4,
 "nbformat_minor": 2
}
