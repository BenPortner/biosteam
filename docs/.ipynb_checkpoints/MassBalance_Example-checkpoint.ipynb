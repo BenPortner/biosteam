{
 "cells": [
  {
   "cell_type": "code",
   "execution_count": 1,
   "metadata": {},
   "outputs": [],
   "source": [
    "from biosteam import LookUp, Species, Stream, System, MassBalance\n",
    "from Units import Mixer, Splitter, Tank, Pump, Flash"
   ]
  },
  {
   "cell_type": "code",
   "execution_count": 2,
   "metadata": {},
   "outputs": [],
   "source": [
    "Stream.Settings.species_library = Species(['Ethanol', 'Water'])\n",
    "LookUp.empty()"
   ]
  },
  {
   "cell_type": "code",
   "execution_count": 3,
   "metadata": {},
   "outputs": [
    {
     "name": "stdout",
     "output_type": "stream",
     "text": [
      "Stream: water\n",
      " phase: 'l', T: 350.00 K, P: 101325 Pa\n",
      " mol (kmol/hr): [Water, 90.6]\n"
     ]
    }
   ],
   "source": [
    "water = Stream('water',\n",
    "               flow = [1],\n",
    "               species = ['Water'],\n",
    "               units = 'lb/s',\n",
    "               T = 350, P = 101325)\n",
    "water.show()"
   ]
  },
  {
   "cell_type": "code",
   "execution_count": 4,
   "metadata": {},
   "outputs": [
    {
     "name": "stdout",
     "output_type": "stream",
     "text": [
      "Stream: ethanol\n",
      " phase: 'l', T: 300.00 K, P: 101325 Pa\n",
      " mol (kmol/hr): [Ethanol, 90]\n",
      "                [Water,   10]\n"
     ]
    }
   ],
   "source": [
    "ethanol = Stream('ethanol',\n",
    "                 flow = [90, 10],\n",
    "                 T = 300, P = 101325)\n",
    "ethanol.show()"
   ]
  },
  {
   "cell_type": "code",
   "execution_count": 5,
   "metadata": {},
   "outputs": [
    {
     "name": "stdout",
     "output_type": "stream",
     "text": [
      "Stream: target\n",
      " phase: 'l', T: 298.15 K, P: 101325 Pa\n",
      " mol (kmol/hr): [Ethanol, 50]\n",
      "                [Water,   50]\n"
     ]
    }
   ],
   "source": [
    "target = Stream('target', flow = [50, 50])\n",
    "target.show()"
   ]
  },
  {
   "cell_type": "code",
   "execution_count": 6,
   "metadata": {},
   "outputs": [],
   "source": [
    "T1 = Tank('T1'); T2 = Tank('T2')"
   ]
  },
  {
   "cell_type": "code",
   "execution_count": 7,
   "metadata": {},
   "outputs": [],
   "source": [
    "P1 = Pump('P1', P = 101325); P2 = Pump('P2', P = 101325)"
   ]
  },
  {
   "cell_type": "code",
   "execution_count": 8,
   "metadata": {},
   "outputs": [],
   "source": [
    "M1 = Mixer('M1'); S1 = Splitter('S1', split = 0.5)"
   ]
  },
  {
   "cell_type": "code",
   "execution_count": 9,
   "metadata": {},
   "outputs": [],
   "source": [
    "F1 = Flash('F1',\n",
    "           species_ID = ['Ethanol', 'Water'],\n",
    "           V = 0.5, P  = 101325)"
   ]
  },
  {
   "cell_type": "code",
   "execution_count": 10,
   "metadata": {},
   "outputs": [],
   "source": [
    "MB1 = MassBalance('MB1', bal_streams = [0,1], bal_species = ['Ethanol', 'Water'])\n",
    "MB1.ins = water|ethanol|S1-0\n",
    "MB1.outs = [target]"
   ]
  },
  {
   "cell_type": "code",
   "execution_count": 11,
   "metadata": {},
   "outputs": [],
   "source": [
    "mixSys = System('mixSys',\n",
    "               recycle = S1-0,\n",
    "               net = [[MB1],\n",
    "                      [water, T1, P1],\n",
    "                      [ethanol, T2, P2],\n",
    "                      [P1-0|P2-0|S1-0, M1],\n",
    "                      [M1, F1, 1, S1]])"
   ]
  },
  {
   "cell_type": "code",
   "execution_count": 12,
   "metadata": {},
   "outputs": [
    {
     "data": {
      "image/svg+xml": [
       "<svg height=\"195pt\" viewBox=\"0.00 0.00 382.00 195.00\" width=\"382pt\" xmlns=\"http://www.w3.org/2000/svg\" xmlns:xlink=\"http://www.w3.org/1999/xlink\">\n",
       "<g class=\"graph\" id=\"graph0\" transform=\"scale(1 1) rotate(0) translate(4 191)\">\n",
       "<title>unit</title>\n",
       "<polygon fill=\"white\" points=\"-4,4 -4,-191 378,-191 378,4 -4,4\" stroke=\"none\"/>\n",
       "<!-- MB1\n",
       "MassBalance&#45;&gt;target -->\n",
       "<g class=\"edge\" id=\"edge4\"><title>MB1\n",
       "MassBalance:c-&gt;target:w</title>\n",
       "<path d=\"M237.055,-93.5C262.106,-93.5 294.059,-93.5 322.5,-93.5\" fill=\"none\" stroke=\"black\"/>\n",
       "</g>\n",
       "<!-- water&#45;&gt;MB1\n",
       "MassBalance -->\n",
       "<g class=\"edge\" id=\"edge1\"><title>water:e-&gt;MB1\n",
       "MassBalance:c</title>\n",
       "<path d=\"M59,-165.5C101.55,-165.5 143.429,-136.31 168.242,-115.102\" fill=\"none\" stroke=\"black\"/>\n",
       "</g>\n",
       "<!-- ethanol&#45;&gt;MB1\n",
       "MassBalance -->\n",
       "<g class=\"edge\" id=\"edge2\"><title>ethanol:e-&gt;MB1\n",
       "MassBalance:c</title>\n",
       "<path d=\"M62,-93.5C90.2188,-93.5 121.91,-93.5 146.819,-93.5\" fill=\"none\" stroke=\"black\"/>\n",
       "</g>\n",
       "<!-- s5&#45;&gt;MB1\n",
       "MassBalance -->\n",
       "<g class=\"edge\" id=\"edge3\"><title>s5:e-&gt;MB1\n",
       "MassBalance:c</title>\n",
       "<path d=\"M57,-21.5C100.047,-21.5 142.602,-50.6896 167.839,-71.8976\" fill=\"none\" stroke=\"black\"/>\n",
       "</g>\n",
       "<!-- MB1\n",
       "MassBalance -->\n",
       "<g class=\"node\" id=\"node1\"><title>MB1\n",
       "MassBalance</title>\n",
       "<polygon fill=\"#f0f0f0\" points=\"231,-115 147,-115 147,-72 237,-72 237,-109 231,-115\" stroke=\"black\"/>\n",
       "<polyline fill=\"none\" points=\"231,-115 231,-109 \" stroke=\"black\"/>\n",
       "<polyline fill=\"none\" points=\"237,-109 231,-109 \" stroke=\"black\"/>\n",
       "<text font-family=\"Times New Roman,serif\" font-size=\"14.00\" text-anchor=\"middle\" x=\"192\" y=\"-97.3\">MB1</text>\n",
       "<text font-family=\"Times New Roman,serif\" font-size=\"14.00\" text-anchor=\"middle\" x=\"192\" y=\"-82.3\">MassBalance</text>\n",
       "</g>\n",
       "<!-- water -->\n",
       "<g class=\"node\" id=\"node2\"><title>water</title>\n",
       "<polygon fill=\"#79dae8\" points=\"39.5,-181 10.5,-181 10.5,-150 39.5,-150 39.5,-144 57.5,-165.5 39.5,-187 39.5,-181\" stroke=\"black\"/>\n",
       "<text font-family=\"Times New Roman,serif\" font-size=\"14.00\" text-anchor=\"middle\" x=\"34\" y=\"-161.8\">water</text>\n",
       "</g>\n",
       "<!-- ethanol -->\n",
       "<g class=\"node\" id=\"node3\"><title>ethanol</title>\n",
       "<polygon fill=\"#79dae8\" points=\"44,-109 6,-109 6,-78 44,-78 44,-72 62,-93.5 44,-115 44,-109\" stroke=\"black\"/>\n",
       "<text font-family=\"Times New Roman,serif\" font-size=\"14.00\" text-anchor=\"middle\" x=\"34\" y=\"-89.8\">ethanol</text>\n",
       "</g>\n",
       "<!-- s5 -->\n",
       "<g class=\"node\" id=\"node4\"><title>s5</title>\n",
       "<polygon fill=\"#79dae8\" points=\"37.5,-37 12.5,-37 12.5,-6 37.5,-6 37.5,-0 55.5,-21.5 37.5,-43 37.5,-37\" stroke=\"black\"/>\n",
       "<text font-family=\"Times New Roman,serif\" font-size=\"14.00\" text-anchor=\"middle\" x=\"34\" y=\"-17.8\">s5</text>\n",
       "</g>\n",
       "<!-- target -->\n",
       "<g class=\"node\" id=\"node5\"><title>target</title>\n",
       "<polygon fill=\"#79dae8\" points=\"351.5,-109 322.5,-109 322.5,-78 351.5,-78 351.5,-72 369.5,-93.5 351.5,-115 351.5,-109\" stroke=\"black\"/>\n",
       "<text font-family=\"Times New Roman,serif\" font-size=\"14.00\" text-anchor=\"middle\" x=\"346\" y=\"-89.8\">target</text>\n",
       "</g>\n",
       "</g>\n",
       "</svg>"
      ],
      "text/plain": [
       "<IPython.core.display.SVG object>"
      ]
     },
     "metadata": {},
     "output_type": "display_data"
    },
    {
     "data": {
      "image/svg+xml": [
       "<svg height=\"190pt\" viewBox=\"0.00 0.00 840.98 189.67\" width=\"841pt\" xmlns=\"http://www.w3.org/2000/svg\" xmlns:xlink=\"http://www.w3.org/1999/xlink\">\n",
       "<g class=\"graph\" id=\"graph0\" transform=\"scale(1 1) rotate(0) translate(4 185.673)\">\n",
       "<title>diagram</title>\n",
       "<polygon fill=\"white\" points=\"-4,4 -4,-185.673 836.985,-185.673 836.985,4 -4,4\" stroke=\"none\"/>\n",
       "<!-- T2\n",
       "Tank&#45;&gt;P2\n",
       "Pump -->\n",
       "<g class=\"edge\" id=\"edge3\"><title>T2\n",
       "Tank:c-&gt;P2\n",
       "Pump:c</title>\n",
       "<path d=\"M138.418,-25.7401C149.748,-25.7401 163.839,-25.7401 176.582,-25.7401\" fill=\"none\" stroke=\"black\"/>\n",
       "<polygon fill=\"black\" points=\"176.879,-29.2402 186.879,-25.7401 176.878,-22.2402 176.879,-29.2402\" stroke=\"black\"/>\n",
       "<text font-family=\"Times New Roman,serif\" font-size=\"14.00\" text-anchor=\"middle\" x=\"162.5\" y=\"-29.5401\">s1</text>\n",
       "</g>\n",
       "<!-- P1\n",
       "Pump&#45;&gt;M1\n",
       "Mixer -->\n",
       "<g class=\"edge\" id=\"edge4\"><title>P1\n",
       "Pump:c-&gt;M1\n",
       "Mixer:c</title>\n",
       "<path d=\"M237.29,-78.2706C257.381,-74.5736 286.427,-69.2288 310.552,-64.7895\" fill=\"none\" stroke=\"black\"/>\n",
       "<polygon fill=\"black\" points=\"311.348,-68.2018 320.55,-62.9498 310.082,-61.3174 311.348,-68.2018\" stroke=\"black\"/>\n",
       "<text font-family=\"Times New Roman,serif\" font-size=\"14.00\" text-anchor=\"middle\" x=\"261.5\" y=\"-78.5401\">s2</text>\n",
       "</g>\n",
       "<!-- F1\n",
       "Flash&#45;&gt;S1\n",
       "Splitter -->\n",
       "<g class=\"edge\" id=\"edge10\"><title>F1\n",
       "Flash:s-&gt;S1\n",
       "Splitter:w</title>\n",
       "<path d=\"M509.593,-71.7401C509.593,-67.8371 562.012,-58.4772 584.631,-55.0371\" fill=\"none\" stroke=\"black\"/>\n",
       "<polygon fill=\"black\" points=\"585.128,-58.5019 594.593,-53.7401 584.225,-51.5604 585.128,-58.5019\" stroke=\"black\"/>\n",
       "<text font-family=\"Times New Roman,serif\" font-size=\"14.00\" text-anchor=\"middle\" x=\"570.093\" y=\"-62.5401\">s8</text>\n",
       "</g>\n",
       "<!-- F1\n",
       "Flash&#45;&gt;s7 -->\n",
       "<g class=\"edge\" id=\"edge9\"><title>F1\n",
       "Flash:n-&gt;s7:w</title>\n",
       "<path d=\"M509.593,-153.74C509.593,-216.495 588.034,-152.74 650.789,-152.74\" fill=\"none\" stroke=\"black\"/>\n",
       "</g>\n",
       "<!-- S1\n",
       "Splitter&#45;&gt;M1\n",
       "Mixer -->\n",
       "<g class=\"edge\" id=\"edge7\"><title>S1\n",
       "Splitter:c-&gt;M1\n",
       "Mixer:c</title>\n",
       "<path d=\"M599.932,-51.2251C562.218,-50.2825 515.429,-49.6708 473.593,-50.7401 458.77,-51.119 442.904,-51.7667 427.783,-52.5001\" fill=\"none\" stroke=\"black\"/>\n",
       "<polygon fill=\"black\" points=\"427.267,-49.0215 417.456,-53.0192 427.619,-56.0126 427.267,-49.0215\" stroke=\"black\"/>\n",
       "<text font-family=\"Times New Roman,serif\" font-size=\"14.00\" text-anchor=\"middle\" x=\"509.593\" y=\"-54.5401\">s5</text>\n",
       "</g>\n",
       "<!-- S1\n",
       "Splitter&#45;&gt;s6 -->\n",
       "<g class=\"edge\" id=\"edge8\"><title>S1\n",
       "Splitter:c-&gt;s6:w</title>\n",
       "<path d=\"M713.714,-53.7401C736.037,-53.7401 764.586,-53.7401 789.985,-53.7401\" fill=\"none\" stroke=\"black\"/>\n",
       "</g>\n",
       "<!-- P2\n",
       "Pump&#45;&gt;M1\n",
       "Mixer -->\n",
       "<g class=\"edge\" id=\"edge5\"><title>P2\n",
       "Pump:c-&gt;M1\n",
       "Mixer:c</title>\n",
       "<path d=\"M237.29,-31.0692C257.381,-35.4771 286.427,-41.8497 310.552,-47.1428\" fill=\"none\" stroke=\"black\"/>\n",
       "<polygon fill=\"black\" points=\"310.032,-50.6118 320.55,-49.3362 311.532,-43.7745 310.032,-50.6118\" stroke=\"black\"/>\n",
       "<text font-family=\"Times New Roman,serif\" font-size=\"14.00\" text-anchor=\"middle\" x=\"261.5\" y=\"-41.5401\">s3</text>\n",
       "</g>\n",
       "<!-- T1\n",
       "Tank&#45;&gt;P1\n",
       "Pump -->\n",
       "<g class=\"edge\" id=\"edge2\"><title>T1\n",
       "Tank:c-&gt;P1\n",
       "Pump:c</title>\n",
       "<path d=\"M138.418,-82.7401C149.748,-82.7401 163.839,-82.7401 176.582,-82.7401\" fill=\"none\" stroke=\"black\"/>\n",
       "<polygon fill=\"black\" points=\"176.879,-86.2402 186.879,-82.7401 176.878,-79.2402 176.879,-86.2402\" stroke=\"black\"/>\n",
       "<text font-family=\"Times New Roman,serif\" font-size=\"14.00\" text-anchor=\"middle\" x=\"162.5\" y=\"-86.5401\">s0</text>\n",
       "</g>\n",
       "<!-- M1\n",
       "Mixer&#45;&gt;F1\n",
       "Flash -->\n",
       "<g class=\"edge\" id=\"edge6\"><title>M1\n",
       "Mixer:e-&gt;F1\n",
       "Flash:c</title>\n",
       "<path d=\"M424.593,-56.7401C438.979,-56.7401 452.775,-62.4967 464.88,-70.3185\" fill=\"none\" stroke=\"black\"/>\n",
       "<polygon fill=\"black\" points=\"463.194,-73.4127 473.38,-76.3262 467.234,-67.6963 463.194,-73.4127\" stroke=\"black\"/>\n",
       "<text font-family=\"Times New Roman,serif\" font-size=\"14.00\" text-anchor=\"middle\" x=\"449.093\" y=\"-69.5401\">s4</text>\n",
       "</g>\n",
       "<!-- ethanol&#45;&gt;T2\n",
       "Tank -->\n",
       "<g class=\"edge\" id=\"edge1\"><title>ethanol:e-&gt;T2\n",
       "Tank:c</title>\n",
       "<path d=\"M56,-25.7401C68.1875,-25.7401 81.8032,-25.7401 92.8303,-25.7401\" fill=\"none\" stroke=\"black\"/>\n",
       "</g>\n",
       "<!-- water&#45;&gt;T1\n",
       "Tank -->\n",
       "<g class=\"edge\" id=\"edge11\"><title>water:e-&gt;T1\n",
       "Tank:c</title>\n",
       "<path d=\"M53,-82.7401C66.2396,-82.7401 81.0824,-82.7401 92.8691,-82.7401\" fill=\"none\" stroke=\"black\"/>\n",
       "</g>\n",
       "<!-- T2\n",
       "Tank -->\n",
       "<g class=\"node\" id=\"node1\"><title>T2\n",
       "Tank</title>\n",
       "<defs>\n",
       "<linearGradient gradientUnits=\"userSpaceOnUse\" id=\"l_0\" x1=\"93\" x2=\"138\" y1=\"-25.7401\" y2=\"-25.7401\">\n",
       "<stop offset=\"0\" style=\"stop-color:white;stop-opacity:1.;\"/>\n",
       "<stop offset=\"1\" style=\"stop-color:#cdcdcd;stop-opacity:1.;\"/>\n",
       "</linearGradient>\n",
       "</defs>\n",
       "<polygon fill=\"url(#l_0)\" points=\"138,-47.2401 93,-47.2401 93,-4.24012 138,-4.24012 138,-47.2401\" stroke=\"black\"/>\n",
       "<text font-family=\"Times New Roman,serif\" font-size=\"14.00\" text-anchor=\"middle\" x=\"115.5\" y=\"-29.5401\">T2</text>\n",
       "<text font-family=\"Times New Roman,serif\" font-size=\"14.00\" text-anchor=\"middle\" x=\"115.5\" y=\"-14.5401\">Tank</text>\n",
       "</g>\n",
       "<!-- P1\n",
       "Pump -->\n",
       "<g class=\"node\" id=\"node2\"><title>P1\n",
       "Pump</title>\n",
       "<defs>\n",
       "<linearGradient gradientUnits=\"userSpaceOnUse\" id=\"l_1\" x1=\"187\" x2=\"237\" y1=\"-82.7401\" y2=\"-82.7401\">\n",
       "<stop offset=\"0\" style=\"stop-color:white;stop-opacity:1.;\"/>\n",
       "<stop offset=\"1\" style=\"stop-color:#cdcdcd;stop-opacity:1.;\"/>\n",
       "</linearGradient>\n",
       "</defs>\n",
       "<polygon fill=\"url(#l_1)\" points=\"237,-104.24 187,-104.24 187,-61.2401 237,-61.2401 237,-104.24\" stroke=\"black\"/>\n",
       "<text font-family=\"Times New Roman,serif\" font-size=\"14.00\" text-anchor=\"middle\" x=\"212\" y=\"-86.5401\">P1</text>\n",
       "<text font-family=\"Times New Roman,serif\" font-size=\"14.00\" text-anchor=\"middle\" x=\"212\" y=\"-71.5401\">Pump</text>\n",
       "</g>\n",
       "<!-- F1\n",
       "Flash -->\n",
       "<g class=\"node\" id=\"node3\"><title>F1\n",
       "Flash</title>\n",
       "<defs>\n",
       "<linearGradient gradientUnits=\"userSpaceOnUse\" id=\"l_2\" x1=\"473.593\" x2=\"545.593\" y1=\"-112.74\" y2=\"-112.74\">\n",
       "<stop offset=\"0\" style=\"stop-color:white;stop-opacity:1.;\"/>\n",
       "<stop offset=\"1\" style=\"stop-color:#cdcdcd;stop-opacity:1.;\"/>\n",
       "</linearGradient>\n",
       "</defs>\n",
       "<polygon fill=\"url(#l_2)\" points=\"545.593,-152.24 473.593,-152.24 473.593,-73.2401 545.593,-73.2401 545.593,-152.24\" stroke=\"black\"/>\n",
       "<text font-family=\"Times New Roman,serif\" font-size=\"14.00\" text-anchor=\"middle\" x=\"509.593\" y=\"-116.54\">F1</text>\n",
       "<text font-family=\"Times New Roman,serif\" font-size=\"14.00\" text-anchor=\"middle\" x=\"509.593\" y=\"-101.54\">Flash</text>\n",
       "</g>\n",
       "<!-- S1\n",
       "Splitter -->\n",
       "<g class=\"node\" id=\"node4\"><title>S1\n",
       "Splitter</title>\n",
       "<defs>\n",
       "<linearGradient gradientUnits=\"userSpaceOnUse\" id=\"l_3\" x1=\"594.396\" x2=\"713.485\" y1=\"-53.7401\" y2=\"-53.7401\">\n",
       "<stop offset=\"0\" style=\"stop-color:#bfbfbf;stop-opacity:1.;\"/>\n",
       "<stop offset=\"1\" style=\"stop-color:white;stop-opacity:1.;\"/>\n",
       "</linearGradient>\n",
       "</defs>\n",
       "<polygon fill=\"url(#l_3)\" points=\"594.396,-53.7401 713.485,0.241193 713.485,-107.721 594.396,-53.7401\" stroke=\"black\"/>\n",
       "<text font-family=\"Times New Roman,serif\" font-size=\"14.00\" text-anchor=\"middle\" x=\"673.789\" y=\"-57.5401\">S1</text>\n",
       "<text font-family=\"Times New Roman,serif\" font-size=\"14.00\" text-anchor=\"middle\" x=\"673.789\" y=\"-42.5401\">Splitter</text>\n",
       "</g>\n",
       "<!-- P2\n",
       "Pump -->\n",
       "<g class=\"node\" id=\"node5\"><title>P2\n",
       "Pump</title>\n",
       "<defs>\n",
       "<linearGradient gradientUnits=\"userSpaceOnUse\" id=\"l_4\" x1=\"187\" x2=\"237\" y1=\"-25.7401\" y2=\"-25.7401\">\n",
       "<stop offset=\"0\" style=\"stop-color:white;stop-opacity:1.;\"/>\n",
       "<stop offset=\"1\" style=\"stop-color:#cdcdcd;stop-opacity:1.;\"/>\n",
       "</linearGradient>\n",
       "</defs>\n",
       "<polygon fill=\"url(#l_4)\" points=\"237,-47.2401 187,-47.2401 187,-4.24012 237,-4.24012 237,-47.2401\" stroke=\"black\"/>\n",
       "<text font-family=\"Times New Roman,serif\" font-size=\"14.00\" text-anchor=\"middle\" x=\"212\" y=\"-29.5401\">P2</text>\n",
       "<text font-family=\"Times New Roman,serif\" font-size=\"14.00\" text-anchor=\"middle\" x=\"212\" y=\"-14.5401\">Pump</text>\n",
       "</g>\n",
       "<!-- T1\n",
       "Tank -->\n",
       "<g class=\"node\" id=\"node6\"><title>T1\n",
       "Tank</title>\n",
       "<defs>\n",
       "<linearGradient gradientUnits=\"userSpaceOnUse\" id=\"l_5\" x1=\"93\" x2=\"138\" y1=\"-82.7401\" y2=\"-82.7401\">\n",
       "<stop offset=\"0\" style=\"stop-color:white;stop-opacity:1.;\"/>\n",
       "<stop offset=\"1\" style=\"stop-color:#cdcdcd;stop-opacity:1.;\"/>\n",
       "</linearGradient>\n",
       "</defs>\n",
       "<polygon fill=\"url(#l_5)\" points=\"138,-104.24 93,-104.24 93,-61.2401 138,-61.2401 138,-104.24\" stroke=\"black\"/>\n",
       "<text font-family=\"Times New Roman,serif\" font-size=\"14.00\" text-anchor=\"middle\" x=\"115.5\" y=\"-86.5401\">T1</text>\n",
       "<text font-family=\"Times New Roman,serif\" font-size=\"14.00\" text-anchor=\"middle\" x=\"115.5\" y=\"-71.5401\">Tank</text>\n",
       "</g>\n",
       "<!-- M1\n",
       "Mixer -->\n",
       "<g class=\"node\" id=\"node7\"><title>M1\n",
       "Mixer</title>\n",
       "<defs>\n",
       "<linearGradient gradientUnits=\"userSpaceOnUse\" id=\"l_6\" x1=\"320.75\" x2=\"424.39\" y1=\"-56.7401\" y2=\"-56.7401\">\n",
       "<stop offset=\"0\" style=\"stop-color:white;stop-opacity:1.;\"/>\n",
       "<stop offset=\"1\" style=\"stop-color:#cdcdcd;stop-opacity:1.;\"/>\n",
       "</linearGradient>\n",
       "</defs>\n",
       "<polygon fill=\"url(#l_6)\" points=\"424.39,-56.7401 320.75,-110.721 320.75,-2.75881 424.39,-56.7401\" stroke=\"black\"/>\n",
       "<text font-family=\"Times New Roman,serif\" font-size=\"14.00\" text-anchor=\"middle\" x=\"355.296\" y=\"-60.5401\">M1</text>\n",
       "<text font-family=\"Times New Roman,serif\" font-size=\"14.00\" text-anchor=\"middle\" x=\"355.296\" y=\"-45.5401\">Mixer</text>\n",
       "</g>\n",
       "<!-- ethanol -->\n",
       "<g class=\"node\" id=\"node8\"><title>ethanol</title>\n",
       "<polygon fill=\"#79dae8\" points=\"38,-41.2401 3.55271e-015,-41.2401 3.55271e-015,-10.2401 38,-10.2401 38,-4.24012 56,-25.7401 38,-47.2401 38,-41.2401\" stroke=\"black\"/>\n",
       "<text font-family=\"Times New Roman,serif\" font-size=\"14.00\" text-anchor=\"middle\" x=\"28\" y=\"-22.0401\">ethanol</text>\n",
       "</g>\n",
       "<!-- s6 -->\n",
       "<g class=\"node\" id=\"node9\"><title>s6</title>\n",
       "<polygon fill=\"#79dae8\" points=\"814.985,-69.2401 789.985,-69.2401 789.985,-38.2401 814.985,-38.2401 814.985,-32.2401 832.985,-53.7401 814.985,-75.2401 814.985,-69.2401\" stroke=\"black\"/>\n",
       "<text font-family=\"Times New Roman,serif\" font-size=\"14.00\" text-anchor=\"middle\" x=\"811.485\" y=\"-50.0401\">s6</text>\n",
       "</g>\n",
       "<!-- s7 -->\n",
       "<g class=\"node\" id=\"node10\"><title>s7</title>\n",
       "<polygon fill=\"#79dae8\" points=\"677.289,-168.24 652.289,-168.24 652.289,-137.24 677.289,-137.24 677.289,-131.24 695.289,-152.74 677.289,-174.24 677.289,-168.24\" stroke=\"black\"/>\n",
       "<text font-family=\"Times New Roman,serif\" font-size=\"14.00\" text-anchor=\"middle\" x=\"673.789\" y=\"-149.04\">s7</text>\n",
       "</g>\n",
       "<!-- water -->\n",
       "<g class=\"node\" id=\"node11\"><title>water</title>\n",
       "<polygon fill=\"#79dae8\" points=\"33.5,-98.2401 4.5,-98.2401 4.5,-67.2401 33.5,-67.2401 33.5,-61.2401 51.5,-82.7401 33.5,-104.24 33.5,-98.2401\" stroke=\"black\"/>\n",
       "<text font-family=\"Times New Roman,serif\" font-size=\"14.00\" text-anchor=\"middle\" x=\"28\" y=\"-79.0401\">water</text>\n",
       "</g>\n",
       "</g>\n",
       "</svg>"
      ],
      "text/plain": [
       "<IPython.core.display.SVG object>"
      ]
     },
     "metadata": {},
     "output_type": "display_data"
    }
   ],
   "source": [
    "mixSys.diagram"
   ]
  },
  {
   "cell_type": "code",
   "execution_count": 13,
   "metadata": {},
   "outputs": [
    {
     "name": "stderr",
     "output_type": "stream",
     "text": [
      "C:\\ProgramData\\Anaconda3\\lib\\site-packages\\scipy\\optimize\\zeros.py:195: RuntimeWarning: Tolerance of 0.031885489245723875 reached\n",
      "  warnings.warn(msg, RuntimeWarning)\n",
      "C:\\ProgramData\\Anaconda3\\lib\\site-packages\\scipy\\optimize\\zeros.py:195: RuntimeWarning: Tolerance of 0.031845055460678395 reached\n",
      "  warnings.warn(msg, RuntimeWarning)\n",
      "C:\\ProgramData\\Anaconda3\\lib\\site-packages\\scipy\\optimize\\zeros.py:195: RuntimeWarning: Tolerance of 0.032591151152473685 reached\n",
      "  warnings.warn(msg, RuntimeWarning)\n",
      "C:\\ProgramData\\Anaconda3\\lib\\site-packages\\scipy\\optimize\\zeros.py:195: RuntimeWarning: Tolerance of 0.03259115440505411 reached\n",
      "  warnings.warn(msg, RuntimeWarning)\n"
     ]
    }
   ],
   "source": [
    "mixSys.converge()"
   ]
  },
  {
   "cell_type": "code",
   "execution_count": 17,
   "metadata": {},
   "outputs": [
    {
     "name": "stdout",
     "output_type": "stream",
     "text": [
      "System: mixSys\n",
      " Recycle: S1-0\n",
      " Network: MB1\n",
      "          water-T1-P1\n",
      "          ethanol-T2-P2\n",
      "          [s2, s3, s5]-M1\n",
      "          M1-F1-1-S1\n",
      " Error:   mol = 1.24e-14, T = 0.00e+00\n",
      " iter:    rigorous = 2, simple = 1\n"
     ]
    }
   ],
   "source": [
    "mixSys.show()"
   ]
  },
  {
   "cell_type": "code",
   "execution_count": 15,
   "metadata": {},
   "outputs": [
    {
     "data": {
      "text/plain": [
       "array([7.105e-15, 0.000e+00])"
      ]
     },
     "execution_count": 15,
     "metadata": {},
     "output_type": "execute_result"
    }
   ],
   "source": [
    "MB1.mol_in - MB1.mol_out\n"
   ]
  },
  {
   "cell_type": "code",
   "execution_count": 16,
   "metadata": {},
   "outputs": [
    {
     "name": "stdout",
     "output_type": "stream",
     "text": [
      "Flash: F1 Flash\n",
      "\n",
      "\u001b[37m\u001b[2mins...\u001b[0m\n",
      "[0] s4 from M1-0\n",
      " phase: 'l', T: 324.93 K, P: 101325 Pa\n",
      " mol (kmol/hr): [Ethanol, 50]\n",
      "                [Water,   50]\n",
      "\u001b[37m\u001b[2mouts...\u001b[0m\n",
      "[0] s7\n",
      " phase: 'g', T: 353.88 K, P: 101325 Pa\n",
      " mol (kmol/hr): [Ethanol, 30.7]\n",
      "                [Water,   19.3]\n",
      "[1] s8 to S1-0\n",
      " phase: 'l', T: 353.88 K, P: 101325 Pa\n",
      " mol (kmol/hr): [Ethanol, 19.3]\n",
      "                [Water,   30.7]\n"
     ]
    }
   ],
   "source": [
    "F1.show()"
   ]
  },
  {
   "cell_type": "code",
   "execution_count": null,
   "metadata": {},
   "outputs": [],
   "source": []
  },
  {
   "cell_type": "code",
   "execution_count": null,
   "metadata": {},
   "outputs": [],
   "source": []
  }
 ],
 "metadata": {
  "kernelspec": {
   "display_name": "Python 3",
   "language": "python",
   "name": "python3"
  },
  "language_info": {
   "codemirror_mode": {
    "name": "ipython",
    "version": 3
   },
   "file_extension": ".py",
   "mimetype": "text/x-python",
   "name": "python",
   "nbconvert_exporter": "python",
   "pygments_lexer": "ipython3",
   "version": "3.6.5"
  }
 },
 "nbformat": 4,
 "nbformat_minor": 2
}
