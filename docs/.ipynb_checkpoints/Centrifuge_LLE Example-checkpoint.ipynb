{
 "cells": [
  {
   "cell_type": "markdown",
   "metadata": {},
   "source": [
    "# Centrifuge_LLE"
   ]
  },
  {
   "cell_type": "code",
   "execution_count": 1,
   "metadata": {},
   "outputs": [
    {
     "data": {
      "image/png": "[encoded data removed]",
      "text/plain": [
       "<IPython.core.display.Image object>"
      ]
     },
     "metadata": {},
     "output_type": "display_data"
    },
    {
     "name": "stdout",
     "output_type": "stream",
     "text": [
      "Centrifuge_LLE: C1\n",
      "ins...\n",
      "[0] d105\n",
      "    phase: 'l', T: 60 degC, P: 1 atm\n",
      "    flow: Lipid      0.0114\n",
      "          Methanol   0.58\n",
      "          Glycerol   0.102\n",
      "          Biodiesel  0.307\n",
      "          net        88 kmol/hr \n",
      "outs...\n",
      "[0] light\n",
      "    phase: 'l', T: 60 degC, P: 1 atm\n",
      "    flow: Lipid      0.022\n",
      "          Methanol   0.374\n",
      "          Glycerol   0.00991\n",
      "          Biodiesel  0.594\n",
      "          net        45.4 kmol/hr \n",
      "[1] heavy\n",
      "    phase: 'l', T: 60 degC, P: 1 atm\n",
      "    flow: Lipid      2.61e-18\n",
      "          Methanol   0.799\n",
      "          Glycerol   0.201\n",
      "          Biodiesel  0.000228\n",
      "          net        42.6 kmol/hr \n"
     ]
    }
   ],
   "source": [
    "from biosteam import Stream\n",
    "from biosteam.units import Centrifuge_LLE\n",
    "from lipidcane import biodiesel_species\n",
    "\n",
    "# Set up stream\n",
    "Stream.species = biodiesel_species\n",
    "feed = Stream(Lipid=1, Methanol=51, Glycerol= 9, Biodiesel=27, T=333.15)\n",
    "\n",
    "# Set up centrifuge\n",
    "C1 = Centrifuge_LLE('C1',\n",
    "                    ins = feed,\n",
    "                    outs = ('light', 'heavy'),\n",
    "                    species_IDs=('Lipid', 'Methanol', 'Biodiesel'),\n",
    "                    split=(1, 0.5, 1),\n",
    "                    solvents=('Glycerol',),\n",
    "                    solvent_split=(0.05,))\n",
    "\n",
    "# Run all methods\n",
    "C1.simulate()\n",
    "\n",
    "# See all results\n",
    "C1.diagram()\n",
    "C1.show(T='degC', P='atm', fraction= True)"
   ]
  },
  {
   "cell_type": "code",
   "execution_count": 2,
   "metadata": {},
   "outputs": [
    {
     "data": {
      "text/html": [
       "<div>\n",
       "<style scoped>\n",
       "    .dataframe tbody tr th:only-of-type {\n",
       "        vertical-align: middle;\n",
       "    }\n",
       "\n",
       "    .dataframe tbody tr th {\n",
       "        vertical-align: top;\n",
       "    }\n",
       "\n",
       "    .dataframe thead th {\n",
       "        text-align: right;\n",
       "    }\n",
       "</style>\n",
       "<table border=\"1\" class=\"dataframe\">\n",
       "  <thead>\n",
       "    <tr style=\"text-align: right;\">\n",
       "      <th></th>\n",
       "      <th>Liquids centrifuge</th>\n",
       "      <th>Units</th>\n",
       "      <th>C1</th>\n",
       "    </tr>\n",
       "  </thead>\n",
       "  <tbody>\n",
       "    <tr>\n",
       "      <th rowspan=\"2\" valign=\"top\">Power</th>\n",
       "      <th>Rate</th>\n",
       "      <td>kW</td>\n",
       "      <td>47.5</td>\n",
       "    </tr>\n",
       "    <tr>\n",
       "      <th>Cost</th>\n",
       "      <td>USD/hr</td>\n",
       "      <td>3.09</td>\n",
       "    </tr>\n",
       "    <tr>\n",
       "      <th>Design</th>\n",
       "      <th>Flow rate</th>\n",
       "      <td>m^3/hr</td>\n",
       "      <td>13</td>\n",
       "    </tr>\n",
       "    <tr>\n",
       "      <th>Cost</th>\n",
       "      <th>Liquids centrifuge</th>\n",
       "      <td>USD</td>\n",
       "      <td>1.32e+05</td>\n",
       "    </tr>\n",
       "    <tr>\n",
       "      <th>Purchase cost</th>\n",
       "      <th></th>\n",
       "      <td>USD</td>\n",
       "      <td>1.32e+05</td>\n",
       "    </tr>\n",
       "    <tr>\n",
       "      <th>Utility cost</th>\n",
       "      <th></th>\n",
       "      <td>USD/hr</td>\n",
       "      <td>3.09</td>\n",
       "    </tr>\n",
       "  </tbody>\n",
       "</table>\n",
       "</div>"
      ],
      "text/plain": [
       "Liquids centrifuge                 Units       C1\n",
       "Power         Rate                    kW     47.5\n",
       "              Cost                USD/hr     3.09\n",
       "Design        Flow rate           m^3/hr       13\n",
       "Cost          Liquids centrifuge     USD 1.32e+05\n",
       "Purchase cost                        USD 1.32e+05\n",
       "Utility cost                      USD/hr     3.09"
      ]
     },
     "execution_count": 2,
     "metadata": {},
     "output_type": "execute_result"
    }
   ],
   "source": [
    "C1.results()"
   ]
  }
 ],
 "metadata": {
  "kernelspec": {
   "display_name": "Python 3",
   "language": "python",
   "name": "python3"
  },
  "language_info": {
   "codemirror_mode": {
    "name": "ipython",
    "version": 3
   },
   "file_extension": ".py",
   "mimetype": "text/x-python",
   "name": "python",
   "nbconvert_exporter": "python",
   "pygments_lexer": "ipython3",
   "version": "3.6.5"
  }
 },
 "nbformat": 4,
 "nbformat_minor": 2
}
